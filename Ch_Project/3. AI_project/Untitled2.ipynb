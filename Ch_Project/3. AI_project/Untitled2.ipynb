{
 "cells": [
  {
   "cell_type": "code",
   "execution_count": 1,
   "metadata": {},
   "outputs": [],
   "source": [
    "import numpy as np\n",
    "import matplotlib.pyplot as plt\n",
    "import pandas as pd\n",
    "%matplotlib inline\n",
    "from sklearn import datasets\n",
    "from sklearn.cluster import KMeans\n",
    "from sklearn.model_selection import train_test_split\n",
    "import seaborn as sns\n",
    "import warnings\n",
    "warnings.filterwarnings('ignore')"
   ]
  },
  {
   "cell_type": "code",
   "execution_count": 23,
   "metadata": {},
   "outputs": [],
   "source": [
    "#red = pd.read_csv(\"D:/python3/data/winequality-red.csv\")\n",
    "\n",
    "red = pd.read_csv(\"D:/python3/data/Star39552_balanced.csv\")"
   ]
  },
  {
   "cell_type": "code",
   "execution_count": 24,
   "metadata": {},
   "outputs": [
    {
     "name": "stdout",
     "output_type": "stream",
     "text": [
      "<class 'pandas.core.frame.DataFrame'>\n",
      "RangeIndex: 39552 entries, 0 to 39551\n",
      "Data columns (total 7 columns):\n",
      "Vmag           39552 non-null float64\n",
      "Plx            39552 non-null float64\n",
      "e_Plx          39552 non-null float64\n",
      "B-V            39552 non-null float64\n",
      "SpType         39552 non-null object\n",
      "Amag           39552 non-null float64\n",
      "TargetClass    39552 non-null int64\n",
      "dtypes: float64(5), int64(1), object(1)\n",
      "memory usage: 2.1+ MB\n"
     ]
    }
   ],
   "source": [
    "red.info()"
   ]
  },
  {
   "cell_type": "code",
   "execution_count": 25,
   "metadata": {},
   "outputs": [],
   "source": [
    "red['TargetClass'].value_counts()\n",
    "red.shape\n",
    "X = red[red.columns.difference(['SpType'])]"
   ]
  },
  {
   "cell_type": "code",
   "execution_count": 26,
   "metadata": {},
   "outputs": [],
   "source": [
    "from tensorflow import keras\n",
    "from sklearn.model_selection import train_test_split\n",
    "\n",
    "# 데이터 로딩\n",
    "#X_data = red[red.columns[:-1]].values\n",
    "X_data = X.values\n",
    "y_data = red['TargetClass'].values\n",
    "\n",
    "# train_test_split\n",
    "X_train, X_test, y_train, y_test = \\\n",
    "train_test_split(X_data, y_data, test_size=0.2, stratify=y_data, random_state = 42)"
   ]
  },
  {
   "cell_type": "code",
   "execution_count": 27,
   "metadata": {},
   "outputs": [],
   "source": [
    "from tensorflow import keras\n",
    "train_scaled, val_scaled, train_target, val_target = train_test_split(X_train, y_train,\n",
    "                                                                     test_size = 0.2, random_state = 42)\n",
    "\n",
    "model = keras.Sequential()\n",
    "model.add(keras.layers.Dense(100, activation = 'softmax', input_dim = 6))"
   ]
  },
  {
   "cell_type": "code",
   "execution_count": 28,
   "metadata": {},
   "outputs": [],
   "source": [
    "model.compile(optimizer = 'adam', \n",
    "              loss = 'sparse_categorical_crossentropy',\n",
    "              #loss = 'MAE',\n",
    "              metrics = ['accuracy'])\n",
    "\n",
    "checkpoint_cb = keras.callbacks.ModelCheckpoint('best-simplernn-model2.h5')\n",
    "\n",
    "early_stopping_cb = keras.callbacks.EarlyStopping(patience=3, \n",
    "                                                  restore_best_weights=True)"
   ]
  },
  {
   "cell_type": "code",
   "execution_count": 29,
   "metadata": {},
   "outputs": [
    {
     "name": "stdout",
     "output_type": "stream",
     "text": [
      "Train on 25312 samples, validate on 6329 samples\n",
      "Epoch 1/100\n",
      "25312/25312 [==============================] - 1s 47us/sample - loss: 1.6672 - accuracy: 0.7478 - val_loss: 0.3167 - val_accuracy: 0.9817\n",
      "Epoch 2/100\n",
      "25312/25312 [==============================] - 1s 38us/sample - loss: 0.2359 - accuracy: 0.9876 - val_loss: 0.1799 - val_accuracy: 0.9916\n",
      "Epoch 3/100\n",
      "25312/25312 [==============================] - 1s 37us/sample - loss: 0.1429 - accuracy: 0.9948 - val_loss: 0.1171 - val_accuracy: 0.9948\n",
      "Epoch 4/100\n",
      "25312/25312 [==============================] - 1s 38us/sample - loss: 0.0956 - accuracy: 0.9981 - val_loss: 0.0810 - val_accuracy: 0.9967\n",
      "Epoch 5/100\n",
      "25312/25312 [==============================] - 1s 45us/sample - loss: 0.0667 - accuracy: 0.9990 - val_loss: 0.0574 - val_accuracy: 0.9989\n",
      "Epoch 6/100\n",
      "25312/25312 [==============================] - 1s 41us/sample - loss: 0.0475 - accuracy: 0.9993 - val_loss: 0.0413 - val_accuracy: 0.9991\n",
      "Epoch 7/100\n",
      "25312/25312 [==============================] - 1s 42us/sample - loss: 0.0340 - accuracy: 0.9996 - val_loss: 0.0298 - val_accuracy: 0.9992\n",
      "Epoch 8/100\n",
      "25312/25312 [==============================] - 1s 42us/sample - loss: 0.0245 - accuracy: 0.9998 - val_loss: 0.0218 - val_accuracy: 0.9992\n",
      "Epoch 9/100\n",
      "25312/25312 [==============================] - 1s 38us/sample - loss: 0.0176 - accuracy: 0.9998 - val_loss: 0.0154 - val_accuracy: 0.9997\n",
      "Epoch 10/100\n",
      "25312/25312 [==============================] - 1s 36us/sample - loss: 0.0128 - accuracy: 1.0000 - val_loss: 0.0111 - val_accuracy: 0.9995\n",
      "Epoch 11/100\n",
      "25312/25312 [==============================] - 1s 36us/sample - loss: 0.0093 - accuracy: 1.0000 - val_loss: 0.0085 - val_accuracy: 0.9995\n",
      "Epoch 12/100\n",
      "25312/25312 [==============================] - 1s 37us/sample - loss: 0.0068 - accuracy: 1.0000 - val_loss: 0.0057 - val_accuracy: 1.0000\n",
      "Epoch 13/100\n",
      "25312/25312 [==============================] - 1s 37us/sample - loss: 0.0049 - accuracy: 1.0000 - val_loss: 0.0042 - val_accuracy: 1.0000\n",
      "Epoch 14/100\n",
      "25312/25312 [==============================] - 1s 37us/sample - loss: 0.0036 - accuracy: 1.0000 - val_loss: 0.0030 - val_accuracy: 1.0000\n",
      "Epoch 15/100\n",
      "25312/25312 [==============================] - 1s 42us/sample - loss: 0.0026 - accuracy: 1.0000 - val_loss: 0.0021 - val_accuracy: 1.0000\n",
      "Epoch 16/100\n",
      "25312/25312 [==============================] - 1s 44us/sample - loss: 0.0019 - accuracy: 1.0000 - val_loss: 0.0016 - val_accuracy: 1.0000\n",
      "Epoch 17/100\n",
      "25312/25312 [==============================] - 1s 43us/sample - loss: 0.0013 - accuracy: 1.0000 - val_loss: 0.0012 - val_accuracy: 1.0000\n",
      "Epoch 18/100\n",
      "25312/25312 [==============================] - 1s 39us/sample - loss: 0.0010 - accuracy: 1.0000 - val_loss: 8.5266e-04 - val_accuracy: 1.0000\n",
      "Epoch 19/100\n",
      "25312/25312 [==============================] - 1s 37us/sample - loss: 7.0357e-04 - accuracy: 1.0000 - val_loss: 5.9995e-04 - val_accuracy: 1.0000\n",
      "Epoch 20/100\n",
      "25312/25312 [==============================] - 1s 38us/sample - loss: 5.1368e-04 - accuracy: 1.0000 - val_loss: 4.4086e-04 - val_accuracy: 1.0000\n",
      "Epoch 21/100\n",
      "25312/25312 [==============================] - 1s 37us/sample - loss: 3.8050e-04 - accuracy: 1.0000 - val_loss: 3.2153e-04 - val_accuracy: 1.0000\n",
      "Epoch 22/100\n",
      "25312/25312 [==============================] - 1s 38us/sample - loss: 2.7870e-04 - accuracy: 1.0000 - val_loss: 2.4338e-04 - val_accuracy: 1.0000\n",
      "Epoch 23/100\n",
      "25312/25312 [==============================] - 1s 39us/sample - loss: 2.0047e-04 - accuracy: 1.0000 - val_loss: 1.7160e-04 - val_accuracy: 1.0000\n",
      "Epoch 24/100\n",
      "25312/25312 [==============================] - 1s 37us/sample - loss: 1.4572e-04 - accuracy: 1.0000 - val_loss: 1.2611e-04 - val_accuracy: 1.0000\n",
      "Epoch 25/100\n",
      "25312/25312 [==============================] - 1s 37us/sample - loss: 1.1047e-04 - accuracy: 1.0000 - val_loss: 9.2294e-05 - val_accuracy: 1.0000\n",
      "Epoch 26/100\n",
      "25312/25312 [==============================] - 1s 37us/sample - loss: 7.7497e-05 - accuracy: 1.0000 - val_loss: 6.7186e-05 - val_accuracy: 1.0000\n",
      "Epoch 27/100\n",
      "25312/25312 [==============================] - 1s 42us/sample - loss: 5.8407e-05 - accuracy: 1.0000 - val_loss: 5.9845e-05 - val_accuracy: 1.0000\n",
      "Epoch 28/100\n",
      "25312/25312 [==============================] - 1s 42us/sample - loss: 4.2468e-05 - accuracy: 1.0000 - val_loss: 3.5712e-05 - val_accuracy: 1.0000\n",
      "Epoch 29/100\n",
      "25312/25312 [==============================] - 1s 39us/sample - loss: 3.0464e-05 - accuracy: 1.0000 - val_loss: 2.6462e-05 - val_accuracy: 1.0000\n",
      "Epoch 30/100\n",
      "25312/25312 [==============================] - 1s 44us/sample - loss: 2.2442e-05 - accuracy: 1.0000 - val_loss: 1.9339e-05 - val_accuracy: 1.0000\n",
      "Epoch 31/100\n",
      "25312/25312 [==============================] - 1s 45us/sample - loss: 1.6414e-05 - accuracy: 1.0000 - val_loss: 1.4103e-05 - val_accuracy: 1.0000\n",
      "Epoch 32/100\n",
      "25312/25312 [==============================] - 1s 38us/sample - loss: 1.2003e-05 - accuracy: 1.0000 - val_loss: 1.0481e-05 - val_accuracy: 1.0000\n",
      "Epoch 33/100\n",
      "25312/25312 [==============================] - 1s 38us/sample - loss: 9.2480e-06 - accuracy: 1.0000 - val_loss: 7.7017e-06 - val_accuracy: 1.0000\n",
      "Epoch 34/100\n",
      "25312/25312 [==============================] - 1s 37us/sample - loss: 6.5213e-06 - accuracy: 1.0000 - val_loss: 5.5061e-06 - val_accuracy: 1.0000\n",
      "Epoch 35/100\n",
      "25312/25312 [==============================] - 1s 38us/sample - loss: 4.7758e-06 - accuracy: 1.0000 - val_loss: 4.0638e-06 - val_accuracy: 1.0000\n",
      "Epoch 36/100\n",
      "25312/25312 [==============================] - 1s 38us/sample - loss: 3.5311e-06 - accuracy: 1.0000 - val_loss: 3.0018e-06 - val_accuracy: 1.0000\n",
      "Epoch 37/100\n",
      "25312/25312 [==============================] - 1s 38us/sample - loss: 2.5855e-06 - accuracy: 1.0000 - val_loss: 2.2562e-06 - val_accuracy: 1.0000\n",
      "Epoch 38/100\n",
      "25312/25312 [==============================] - 1s 38us/sample - loss: 1.9734e-06 - accuracy: 1.0000 - val_loss: 1.6352e-06 - val_accuracy: 1.0000\n",
      "Epoch 39/100\n",
      "25312/25312 [==============================] - 1s 41us/sample - loss: 1.4401e-06 - accuracy: 1.0000 - val_loss: 1.2057e-06 - val_accuracy: 1.0000\n",
      "Epoch 40/100\n",
      "25312/25312 [==============================] - 1s 43us/sample - loss: 1.0758e-06 - accuracy: 1.0000 - val_loss: 9.0547e-07 - val_accuracy: 1.0000\n",
      "Epoch 41/100\n",
      "25312/25312 [==============================] - 1s 45us/sample - loss: 7.9920e-07 - accuracy: 1.0000 - val_loss: 6.7847e-07 - val_accuracy: 1.0000\n",
      "Epoch 42/100\n",
      "25312/25312 [==============================] - 1s 42us/sample - loss: 6.0845e-07 - accuracy: 1.0000 - val_loss: 5.1189e-07 - val_accuracy: 1.0000\n",
      "Epoch 43/100\n",
      "25312/25312 [==============================] - 1s 38us/sample - loss: 4.6055e-07 - accuracy: 1.0000 - val_loss: 3.9699e-07 - val_accuracy: 1.0000\n",
      "Epoch 44/100\n",
      "25312/25312 [==============================] - 1s 36us/sample - loss: 4.1096e-07 - accuracy: 1.0000 - val_loss: 4.3006e-07 - val_accuracy: 1.0000\n",
      "Epoch 45/100\n",
      "25312/25312 [==============================] - 1s 38us/sample - loss: 4.0727e-07 - accuracy: 1.0000 - val_loss: 2.4166e-07 - val_accuracy: 1.0000\n",
      "Epoch 46/100\n",
      "25312/25312 [==============================] - 1s 37us/sample - loss: 2.3792e-07 - accuracy: 1.0000 - val_loss: 2.0384e-07 - val_accuracy: 1.0000\n",
      "Epoch 47/100\n",
      "25312/25312 [==============================] - 1s 38us/sample - loss: 1.9880e-07 - accuracy: 1.0000 - val_loss: 1.6939e-07 - val_accuracy: 1.0000\n",
      "Epoch 48/100\n",
      "25312/25312 [==============================] - 1s 38us/sample - loss: 1.6499e-07 - accuracy: 1.0000 - val_loss: 1.3959e-07 - val_accuracy: 1.0000\n",
      "Epoch 49/100\n",
      "25312/25312 [==============================] - 1s 37us/sample - loss: 1.3695e-07 - accuracy: 1.0000 - val_loss: 1.1635e-07 - val_accuracy: 1.0000\n",
      "Epoch 50/100\n",
      "25312/25312 [==============================] - 1s 37us/sample - loss: 1.1458e-07 - accuracy: 1.0000 - val_loss: 9.7322e-08 - val_accuracy: 1.0000\n",
      "Epoch 51/100\n",
      "25312/25312 [==============================] - 1s 38us/sample - loss: 9.5840e-08 - accuracy: 1.0000 - val_loss: 8.1482e-08 - val_accuracy: 1.0000\n",
      "Epoch 52/100\n",
      "25312/25312 [==============================] - 1s 38us/sample - loss: 8.2733e-08 - accuracy: 1.0000 - val_loss: 6.6545e-08 - val_accuracy: 1.0000\n",
      "Epoch 53/100\n",
      "25312/25312 [==============================] - 1s 41us/sample - loss: 7.1142e-08 - accuracy: 1.0000 - val_loss: 5.8201e-08 - val_accuracy: 1.0000\n",
      "Epoch 54/100\n",
      "25312/25312 [==============================] - 1s 42us/sample - loss: 6.3819e-08 - accuracy: 1.0000 - val_loss: 4.8237e-08 - val_accuracy: 1.0000\n",
      "Epoch 55/100\n",
      "25312/25312 [==============================] - 1s 39us/sample - loss: 5.7376e-08 - accuracy: 1.0000 - val_loss: 4.2945e-08 - val_accuracy: 1.0000\n",
      "Epoch 56/100\n",
      "25312/25312 [==============================] - 1s 37us/sample - loss: 5.5139e-08 - accuracy: 1.0000 - val_loss: 3.7558e-08 - val_accuracy: 1.0000\n",
      "Epoch 57/100\n",
      "25312/25312 [==============================] - 1s 37us/sample - loss: 5.2473e-08 - accuracy: 1.0000 - val_loss: 3.4167e-08 - val_accuracy: 1.0000\n",
      "Epoch 58/100\n",
      "25312/25312 [==============================] - 1s 36us/sample - loss: 5.2138e-08 - accuracy: 1.0000 - val_loss: 3.3301e-08 - val_accuracy: 1.0000\n",
      "Epoch 59/100\n",
      "25312/25312 [==============================] - 1s 36us/sample - loss: 4.7358e-08 - accuracy: 1.0000 - val_loss: 3.8047e-08 - val_accuracy: 1.0000\n",
      "Epoch 60/100\n",
      "25312/25312 [==============================] - 1s 37us/sample - loss: 5.6961e-08 - accuracy: 1.0000 - val_loss: 4.8332e-08 - val_accuracy: 1.0000\n",
      "Epoch 61/100\n",
      "25312/25312 [==============================] - 1s 42us/sample - loss: 4.6072e-08 - accuracy: 1.0000 - val_loss: 2.5108e-08 - val_accuracy: 1.0000\n",
      "Epoch 62/100\n",
      "25312/25312 [==============================] - 1s 39us/sample - loss: 4.1843e-08 - accuracy: 1.0000 - val_loss: 2.3695e-08 - val_accuracy: 1.0000\n",
      "Epoch 63/100\n",
      "25312/25312 [==============================] - 1s 44us/sample - loss: 4.0948e-08 - accuracy: 1.0000 - val_loss: 2.5296e-08 - val_accuracy: 1.0000\n",
      "Epoch 64/100\n",
      "25312/25312 [==============================] - 1s 43us/sample - loss: 3.9300e-08 - accuracy: 1.0000 - val_loss: 2.1548e-08 - val_accuracy: 1.0000\n",
      "Epoch 65/100\n",
      "25312/25312 [==============================] - 1s 43us/sample - loss: 4.0595e-08 - accuracy: 1.0000 - val_loss: 2.0229e-08 - val_accuracy: 1.0000\n",
      "Epoch 66/100\n",
      "25312/25312 [==============================] - 1s 42us/sample - loss: 3.7393e-08 - accuracy: 1.0000 - val_loss: 2.2131e-08 - val_accuracy: 1.0000\n",
      "Epoch 67/100\n",
      "25312/25312 [==============================] - 1s 44us/sample - loss: 4.2225e-08 - accuracy: 1.0000 - val_loss: 1.7799e-08 - val_accuracy: 1.0000\n",
      "Epoch 68/100\n",
      "25312/25312 [==============================] - 1s 45us/sample - loss: 3.4520e-08 - accuracy: 1.0000 - val_loss: 1.7310e-08 - val_accuracy: 1.0000\n",
      "Epoch 69/100\n",
      "25312/25312 [==============================] - 1s 37us/sample - loss: 3.3922e-08 - accuracy: 1.0000 - val_loss: 2.0173e-08 - val_accuracy: 1.0000\n",
      "Epoch 70/100\n",
      "25312/25312 [==============================] - 1s 37us/sample - loss: 3.3470e-08 - accuracy: 1.0000 - val_loss: 1.6349e-08 - val_accuracy: 1.0000\n",
      "Epoch 71/100\n",
      "25312/25312 [==============================] - 1s 38us/sample - loss: 3.2462e-08 - accuracy: 1.0000 - val_loss: 1.5614e-08 - val_accuracy: 1.0000\n",
      "Epoch 72/100\n",
      "25312/25312 [==============================] - 1s 37us/sample - loss: 3.0880e-08 - accuracy: 1.0000 - val_loss: 1.7743e-08 - val_accuracy: 1.0000\n",
      "Epoch 73/100\n",
      "25312/25312 [==============================] - 1s 38us/sample - loss: 3.3837e-08 - accuracy: 1.0000 - val_loss: 1.4578e-08 - val_accuracy: 1.0000\n",
      "Epoch 74/100\n",
      "25312/25312 [==============================] - 1s 38us/sample - loss: 2.9942e-08 - accuracy: 1.0000 - val_loss: 1.5671e-08 - val_accuracy: 1.0000\n",
      "Epoch 75/100\n",
      "25312/25312 [==============================] - 1s 47us/sample - loss: 2.9034e-08 - accuracy: 1.0000 - val_loss: 1.7686e-08 - val_accuracy: 1.0000\n",
      "Epoch 76/100\n",
      "25312/25312 [==============================] - 1s 47us/sample - loss: 3.3187e-08 - accuracy: 1.0000 - val_loss: 1.3486e-08 - val_accuracy: 1.0000\n",
      "Epoch 77/100\n",
      "25312/25312 [==============================] - 1s 37us/sample - loss: 2.8219e-08 - accuracy: 1.0000 - val_loss: 1.3128e-08 - val_accuracy: 1.0000\n",
      "Epoch 78/100\n",
      "25312/25312 [==============================] - 1s 38us/sample - loss: 2.8859e-08 - accuracy: 1.0000 - val_loss: 1.3147e-08 - val_accuracy: 1.0000\n",
      "Epoch 79/100\n",
      "25312/25312 [==============================] - 1s 43us/sample - loss: 2.6740e-08 - accuracy: 1.0000 - val_loss: 1.4258e-08 - val_accuracy: 1.0000\n",
      "Epoch 80/100\n",
      "25312/25312 [==============================] - 1s 43us/sample - loss: 2.6302e-08 - accuracy: 1.0000 - val_loss: 1.3543e-08 - val_accuracy: 1.0000\n"
     ]
    }
   ],
   "source": [
    "history = model.fit(train_scaled, train_target, epochs= 100, batch_size = 32,\n",
    "                    callbacks= [checkpoint_cb, early_stopping_cb],\n",
    "                    validation_data=(val_scaled, val_target))"
   ]
  },
  {
   "cell_type": "code",
   "execution_count": 30,
   "metadata": {},
   "outputs": [
    {
     "data": {
      "text/plain": [
       "[1.1678262424345356e-08, 1.0]"
      ]
     },
     "execution_count": 30,
     "metadata": {},
     "output_type": "execute_result"
    }
   ],
   "source": [
    "model.evaluate(X_test, y_test, verbose=0)"
   ]
  },
  {
   "cell_type": "code",
   "execution_count": 31,
   "metadata": {},
   "outputs": [
    {
     "data": {
      "image/png": "[encoded data removed]",
      "text/plain": [
       "<Figure size 432x288 with 1 Axes>"
      ]
     },
     "metadata": {
      "needs_background": "light"
     },
     "output_type": "display_data"
    }
   ],
   "source": [
    "# 훈련소실과 검증손실 시각화\n",
    "plt.plot(history.history['loss'])\n",
    "plt.plot(history.history['val_loss'])\n",
    "plt.xlabel('epoch')\n",
    "plt.ylabel('loss')\n",
    "plt.legend(['train', 'val'])\n",
    "plt.show()"
   ]
  },
  {
   "cell_type": "code",
   "execution_count": 41,
   "metadata": {},
   "outputs": [
    {
     "name": "stdout",
     "output_type": "stream",
     "text": [
      "SVM test accuracy: 0.4850\n",
      "SVM test accuracy: 0.5375\n",
      "SVM test accuracy: 0.5575\n",
      "SVM test accuracy: 0.5875\n",
      "SVM test accuracy: 0.5900\n",
      "SVM test accuracy: 0.6050\n",
      "SVM test accuracy: 0.5925\n"
     ]
    },
    {
     "data": {
      "image/png": "[encoded data removed]",
      "text/plain": [
       "<Figure size 432x288 with 1 Axes>"
      ]
     },
     "metadata": {
      "needs_background": "light"
     },
     "output_type": "display_data"
    }
   ],
   "source": [
    "X = red[red.columns[:-1]].values\n",
    "y = red['quality'].values\n",
    "\n",
    "X_train, X_test, y_train, y_test = train_test_split(X, y, stratify=y, random_state=42)\n",
    "\n",
    "training_accuracy = []\n",
    "test_accuracy = []\n",
    "setting = range(7)\n",
    "for c in setting:\n",
    "    penalty=10**c\n",
    "    \n",
    "    svm = SVC(C=penalty)\n",
    "    # learning an SVM on the scaled training data\n",
    "    svm.fit(X_train, y_train)\n",
    "       \n",
    "    # 훈련데이터 정확도\n",
    "    training_accuracy.append(svm.score(X_train, y_train))\n",
    "    # 일반화 정확도\n",
    "    test_accuracy.append(svm.score(X_test, y_test))\n",
    "    print(\"SVM test accuracy: {:.4f}\".format(svm.score(X_test, y_test)))\n",
    "  \n",
    "plt.plot(setting, training_accuracy, label=\"훈련 정확도\")\n",
    "plt.plot(setting, test_accuracy, label=\"테스트 정확도\")\n",
    "plt.ylabel(\"정확도\")\n",
    "plt.xticks(range(6), [10**c for c in range(6)])\n",
    "plt.xlabel('SVM')\n",
    "plt.ylabel('accuracy')\n",
    "plt.legend()\n",
    "plt.show()"
   ]
  },
  {
   "cell_type": "code",
   "execution_count": 34,
   "metadata": {},
   "outputs": [],
   "source": [
    "# 시각화 한글 처리\n",
    "import matplotlib as mpl\n",
    "\n",
    "# 폰트 설정\n",
    "mpl.rc('font', family = 'NanumGothic')\n",
    "\n",
    "# 유니코드에서 음수 부호 설정\n",
    "mpl.rc('axes', unicode_minus = False)"
   ]
  },
  {
   "cell_type": "code",
   "execution_count": 36,
   "metadata": {},
   "outputs": [
    {
     "ename": "ValueError",
     "evalue": "could not convert string to float: 'B9V'",
     "output_type": "error",
     "traceback": [
      "\u001b[1;31m---------------------------------------------------------------------------\u001b[0m",
      "\u001b[1;31mValueError\u001b[0m                                Traceback (most recent call last)",
      "\u001b[1;32m<ipython-input-36-6d04b8ed46ac>\u001b[0m in \u001b[0;36m<module>\u001b[1;34m\u001b[0m\n\u001b[0;32m     14\u001b[0m     \u001b[0msvm\u001b[0m \u001b[1;33m=\u001b[0m \u001b[0mSVC\u001b[0m\u001b[1;33m(\u001b[0m\u001b[0mC\u001b[0m\u001b[1;33m=\u001b[0m\u001b[0mpenalty\u001b[0m\u001b[1;33m,\u001b[0m \u001b[0mkernel\u001b[0m \u001b[1;33m=\u001b[0m \u001b[1;34m\"rbf\"\u001b[0m\u001b[1;33m,\u001b[0m \u001b[0mgamma\u001b[0m \u001b[1;33m=\u001b[0m \u001b[1;36m0.7\u001b[0m\u001b[1;33m)\u001b[0m\u001b[1;33m\u001b[0m\u001b[1;33m\u001b[0m\u001b[0m\n\u001b[0;32m     15\u001b[0m     \u001b[0mscaler\u001b[0m \u001b[1;33m=\u001b[0m \u001b[0mStandardScaler\u001b[0m\u001b[1;33m(\u001b[0m\u001b[1;33m)\u001b[0m\u001b[1;33m\u001b[0m\u001b[1;33m\u001b[0m\u001b[0m\n\u001b[1;32m---> 16\u001b[1;33m     \u001b[0mscaler\u001b[0m\u001b[1;33m.\u001b[0m\u001b[0mfit\u001b[0m\u001b[1;33m(\u001b[0m\u001b[0mX_train\u001b[0m\u001b[1;33m)\u001b[0m\u001b[1;33m\u001b[0m\u001b[1;33m\u001b[0m\u001b[0m\n\u001b[0m\u001b[0;32m     17\u001b[0m     \u001b[0mX_train_scaled\u001b[0m \u001b[1;33m=\u001b[0m \u001b[0mscaler\u001b[0m\u001b[1;33m.\u001b[0m\u001b[0mtransform\u001b[0m\u001b[1;33m(\u001b[0m\u001b[0mX_train\u001b[0m\u001b[1;33m)\u001b[0m\u001b[1;33m\u001b[0m\u001b[1;33m\u001b[0m\u001b[0m\n\u001b[0;32m     18\u001b[0m     \u001b[0mX_test_scaled\u001b[0m \u001b[1;33m=\u001b[0m \u001b[0mscaler\u001b[0m\u001b[1;33m.\u001b[0m\u001b[0mtransform\u001b[0m\u001b[1;33m(\u001b[0m\u001b[0mX_test\u001b[0m\u001b[1;33m)\u001b[0m\u001b[1;33m\u001b[0m\u001b[1;33m\u001b[0m\u001b[0m\n",
      "\u001b[1;32mC:\\anaconda3\\lib\\site-packages\\sklearn\\preprocessing\\_data.py\u001b[0m in \u001b[0;36mfit\u001b[1;34m(self, X, y, sample_weight)\u001b[0m\n\u001b[0;32m    728\u001b[0m         \u001b[1;31m# Reset internal state before fitting\u001b[0m\u001b[1;33m\u001b[0m\u001b[1;33m\u001b[0m\u001b[1;33m\u001b[0m\u001b[0m\n\u001b[0;32m    729\u001b[0m         \u001b[0mself\u001b[0m\u001b[1;33m.\u001b[0m\u001b[0m_reset\u001b[0m\u001b[1;33m(\u001b[0m\u001b[1;33m)\u001b[0m\u001b[1;33m\u001b[0m\u001b[1;33m\u001b[0m\u001b[0m\n\u001b[1;32m--> 730\u001b[1;33m         \u001b[1;32mreturn\u001b[0m \u001b[0mself\u001b[0m\u001b[1;33m.\u001b[0m\u001b[0mpartial_fit\u001b[0m\u001b[1;33m(\u001b[0m\u001b[0mX\u001b[0m\u001b[1;33m,\u001b[0m \u001b[0my\u001b[0m\u001b[1;33m,\u001b[0m \u001b[0msample_weight\u001b[0m\u001b[1;33m)\u001b[0m\u001b[1;33m\u001b[0m\u001b[1;33m\u001b[0m\u001b[0m\n\u001b[0m\u001b[0;32m    731\u001b[0m \u001b[1;33m\u001b[0m\u001b[0m\n\u001b[0;32m    732\u001b[0m     \u001b[1;32mdef\u001b[0m \u001b[0mpartial_fit\u001b[0m\u001b[1;33m(\u001b[0m\u001b[0mself\u001b[0m\u001b[1;33m,\u001b[0m \u001b[0mX\u001b[0m\u001b[1;33m,\u001b[0m \u001b[0my\u001b[0m\u001b[1;33m=\u001b[0m\u001b[1;32mNone\u001b[0m\u001b[1;33m,\u001b[0m \u001b[0msample_weight\u001b[0m\u001b[1;33m=\u001b[0m\u001b[1;32mNone\u001b[0m\u001b[1;33m)\u001b[0m\u001b[1;33m:\u001b[0m\u001b[1;33m\u001b[0m\u001b[1;33m\u001b[0m\u001b[0m\n",
      "\u001b[1;32mC:\\anaconda3\\lib\\site-packages\\sklearn\\preprocessing\\_data.py\u001b[0m in \u001b[0;36mpartial_fit\u001b[1;34m(self, X, y, sample_weight)\u001b[0m\n\u001b[0;32m    766\u001b[0m         X = self._validate_data(X, accept_sparse=('csr', 'csc'),\n\u001b[0;32m    767\u001b[0m                                 \u001b[0mestimator\u001b[0m\u001b[1;33m=\u001b[0m\u001b[0mself\u001b[0m\u001b[1;33m,\u001b[0m \u001b[0mdtype\u001b[0m\u001b[1;33m=\u001b[0m\u001b[0mFLOAT_DTYPES\u001b[0m\u001b[1;33m,\u001b[0m\u001b[1;33m\u001b[0m\u001b[1;33m\u001b[0m\u001b[0m\n\u001b[1;32m--> 768\u001b[1;33m                                 force_all_finite='allow-nan', reset=first_call)\n\u001b[0m\u001b[0;32m    769\u001b[0m         \u001b[0mn_features\u001b[0m \u001b[1;33m=\u001b[0m \u001b[0mX\u001b[0m\u001b[1;33m.\u001b[0m\u001b[0mshape\u001b[0m\u001b[1;33m[\u001b[0m\u001b[1;36m1\u001b[0m\u001b[1;33m]\u001b[0m\u001b[1;33m\u001b[0m\u001b[1;33m\u001b[0m\u001b[0m\n\u001b[0;32m    770\u001b[0m \u001b[1;33m\u001b[0m\u001b[0m\n",
      "\u001b[1;32mC:\\anaconda3\\lib\\site-packages\\sklearn\\base.py\u001b[0m in \u001b[0;36m_validate_data\u001b[1;34m(self, X, y, reset, validate_separately, **check_params)\u001b[0m\n\u001b[0;32m    419\u001b[0m             \u001b[0mout\u001b[0m \u001b[1;33m=\u001b[0m \u001b[0mX\u001b[0m\u001b[1;33m\u001b[0m\u001b[1;33m\u001b[0m\u001b[0m\n\u001b[0;32m    420\u001b[0m         \u001b[1;32melif\u001b[0m \u001b[0misinstance\u001b[0m\u001b[1;33m(\u001b[0m\u001b[0my\u001b[0m\u001b[1;33m,\u001b[0m \u001b[0mstr\u001b[0m\u001b[1;33m)\u001b[0m \u001b[1;32mand\u001b[0m \u001b[0my\u001b[0m \u001b[1;33m==\u001b[0m \u001b[1;34m'no_validation'\u001b[0m\u001b[1;33m:\u001b[0m\u001b[1;33m\u001b[0m\u001b[1;33m\u001b[0m\u001b[0m\n\u001b[1;32m--> 421\u001b[1;33m             \u001b[0mX\u001b[0m \u001b[1;33m=\u001b[0m \u001b[0mcheck_array\u001b[0m\u001b[1;33m(\u001b[0m\u001b[0mX\u001b[0m\u001b[1;33m,\u001b[0m \u001b[1;33m**\u001b[0m\u001b[0mcheck_params\u001b[0m\u001b[1;33m)\u001b[0m\u001b[1;33m\u001b[0m\u001b[1;33m\u001b[0m\u001b[0m\n\u001b[0m\u001b[0;32m    422\u001b[0m             \u001b[0mout\u001b[0m \u001b[1;33m=\u001b[0m \u001b[0mX\u001b[0m\u001b[1;33m\u001b[0m\u001b[1;33m\u001b[0m\u001b[0m\n\u001b[0;32m    423\u001b[0m         \u001b[1;32melse\u001b[0m\u001b[1;33m:\u001b[0m\u001b[1;33m\u001b[0m\u001b[1;33m\u001b[0m\u001b[0m\n",
      "\u001b[1;32mC:\\anaconda3\\lib\\site-packages\\sklearn\\utils\\validation.py\u001b[0m in \u001b[0;36minner_f\u001b[1;34m(*args, **kwargs)\u001b[0m\n\u001b[0;32m     61\u001b[0m             \u001b[0mextra_args\u001b[0m \u001b[1;33m=\u001b[0m \u001b[0mlen\u001b[0m\u001b[1;33m(\u001b[0m\u001b[0margs\u001b[0m\u001b[1;33m)\u001b[0m \u001b[1;33m-\u001b[0m \u001b[0mlen\u001b[0m\u001b[1;33m(\u001b[0m\u001b[0mall_args\u001b[0m\u001b[1;33m)\u001b[0m\u001b[1;33m\u001b[0m\u001b[1;33m\u001b[0m\u001b[0m\n\u001b[0;32m     62\u001b[0m             \u001b[1;32mif\u001b[0m \u001b[0mextra_args\u001b[0m \u001b[1;33m<=\u001b[0m \u001b[1;36m0\u001b[0m\u001b[1;33m:\u001b[0m\u001b[1;33m\u001b[0m\u001b[1;33m\u001b[0m\u001b[0m\n\u001b[1;32m---> 63\u001b[1;33m                 \u001b[1;32mreturn\u001b[0m \u001b[0mf\u001b[0m\u001b[1;33m(\u001b[0m\u001b[1;33m*\u001b[0m\u001b[0margs\u001b[0m\u001b[1;33m,\u001b[0m \u001b[1;33m**\u001b[0m\u001b[0mkwargs\u001b[0m\u001b[1;33m)\u001b[0m\u001b[1;33m\u001b[0m\u001b[1;33m\u001b[0m\u001b[0m\n\u001b[0m\u001b[0;32m     64\u001b[0m \u001b[1;33m\u001b[0m\u001b[0m\n\u001b[0;32m     65\u001b[0m             \u001b[1;31m# extra_args > 0\u001b[0m\u001b[1;33m\u001b[0m\u001b[1;33m\u001b[0m\u001b[1;33m\u001b[0m\u001b[0m\n",
      "\u001b[1;32mC:\\anaconda3\\lib\\site-packages\\sklearn\\utils\\validation.py\u001b[0m in \u001b[0;36mcheck_array\u001b[1;34m(array, accept_sparse, accept_large_sparse, dtype, order, copy, force_all_finite, ensure_2d, allow_nd, ensure_min_samples, ensure_min_features, estimator)\u001b[0m\n\u001b[0;32m    671\u001b[0m                     \u001b[0marray\u001b[0m \u001b[1;33m=\u001b[0m \u001b[0marray\u001b[0m\u001b[1;33m.\u001b[0m\u001b[0mastype\u001b[0m\u001b[1;33m(\u001b[0m\u001b[0mdtype\u001b[0m\u001b[1;33m,\u001b[0m \u001b[0mcasting\u001b[0m\u001b[1;33m=\u001b[0m\u001b[1;34m\"unsafe\"\u001b[0m\u001b[1;33m,\u001b[0m \u001b[0mcopy\u001b[0m\u001b[1;33m=\u001b[0m\u001b[1;32mFalse\u001b[0m\u001b[1;33m)\u001b[0m\u001b[1;33m\u001b[0m\u001b[1;33m\u001b[0m\u001b[0m\n\u001b[0;32m    672\u001b[0m                 \u001b[1;32melse\u001b[0m\u001b[1;33m:\u001b[0m\u001b[1;33m\u001b[0m\u001b[1;33m\u001b[0m\u001b[0m\n\u001b[1;32m--> 673\u001b[1;33m                     \u001b[0marray\u001b[0m \u001b[1;33m=\u001b[0m \u001b[0mnp\u001b[0m\u001b[1;33m.\u001b[0m\u001b[0masarray\u001b[0m\u001b[1;33m(\u001b[0m\u001b[0marray\u001b[0m\u001b[1;33m,\u001b[0m \u001b[0morder\u001b[0m\u001b[1;33m=\u001b[0m\u001b[0morder\u001b[0m\u001b[1;33m,\u001b[0m \u001b[0mdtype\u001b[0m\u001b[1;33m=\u001b[0m\u001b[0mdtype\u001b[0m\u001b[1;33m)\u001b[0m\u001b[1;33m\u001b[0m\u001b[1;33m\u001b[0m\u001b[0m\n\u001b[0m\u001b[0;32m    674\u001b[0m             \u001b[1;32mexcept\u001b[0m \u001b[0mComplexWarning\u001b[0m \u001b[1;32mas\u001b[0m \u001b[0mcomplex_warning\u001b[0m\u001b[1;33m:\u001b[0m\u001b[1;33m\u001b[0m\u001b[1;33m\u001b[0m\u001b[0m\n\u001b[0;32m    675\u001b[0m                 raise ValueError(\"Complex data not supported\\n\"\n",
      "\u001b[1;32mC:\\anaconda3\\lib\\site-packages\\numpy\\core\\_asarray.py\u001b[0m in \u001b[0;36masarray\u001b[1;34m(a, dtype, order)\u001b[0m\n\u001b[0;32m     81\u001b[0m \u001b[1;33m\u001b[0m\u001b[0m\n\u001b[0;32m     82\u001b[0m     \"\"\"\n\u001b[1;32m---> 83\u001b[1;33m     \u001b[1;32mreturn\u001b[0m \u001b[0marray\u001b[0m\u001b[1;33m(\u001b[0m\u001b[0ma\u001b[0m\u001b[1;33m,\u001b[0m \u001b[0mdtype\u001b[0m\u001b[1;33m,\u001b[0m \u001b[0mcopy\u001b[0m\u001b[1;33m=\u001b[0m\u001b[1;32mFalse\u001b[0m\u001b[1;33m,\u001b[0m \u001b[0morder\u001b[0m\u001b[1;33m=\u001b[0m\u001b[0morder\u001b[0m\u001b[1;33m)\u001b[0m\u001b[1;33m\u001b[0m\u001b[1;33m\u001b[0m\u001b[0m\n\u001b[0m\u001b[0;32m     84\u001b[0m \u001b[1;33m\u001b[0m\u001b[0m\n\u001b[0;32m     85\u001b[0m \u001b[1;33m\u001b[0m\u001b[0m\n",
      "\u001b[1;31mValueError\u001b[0m: could not convert string to float: 'B9V'"
     ]
    }
   ],
   "source": [
    "from sklearn.svm import SVC\n",
    "from sklearn.preprocessing import StandardScaler\n",
    "X = red[red.columns[:-1]].values\n",
    "y = red['TargetClass'].values\n",
    "\n",
    "X_train, X_test, y_train, y_test = train_test_split(X, y, stratify=y, random_state=42)\n",
    "\n",
    "training_accuracy = []\n",
    "test_accuracy = []\n",
    "setting = range(6)\n",
    "for c in setting:\n",
    "    penalty=10**c\n",
    "    \n",
    "    svm = SVC(C=penalty, kernel = \"rbf\", gamma = 0.7)\n",
    "    scaler = StandardScaler()\n",
    "    scaler.fit(X_train)\n",
    "    X_train_scaled = scaler.transform(X_train)\n",
    "    X_test_scaled = scaler.transform(X_test)\n",
    "\n",
    "    # learning an SVM on the scaled training data\n",
    "    svm.fit(X_train_scaled, y_train)\n",
    "    pred = svm.predict(X_test_scaled)\n",
    "    \n",
    "    # 훈련데이터 정확도\n",
    "    training_accuracy.append(svm.score(X_train_scaled, y_train))\n",
    "    # 일반화 정확도\n",
    "    test_accuracy.append(svm.score(X_test_scaled, y_test))\n",
    "    print(\"SVM test accuracy: {:.4f}\".format(svm.score(X_test_scaled, y_test)))\n",
    "  \n",
    "plt.plot(setting, training_accuracy, label=\"훈련 정확도\")\n",
    "plt.plot(setting, test_accuracy, label=\"테스트 정확도\")\n",
    "plt.ylabel(\"정확도\")\n",
    "plt.xticks(range(6), [10**c for c in range(6)])\n",
    "plt.xlabel('SVM')\n",
    "plt.ylabel('accuracy')\n",
    "plt.legend()\n",
    "plt.show()"
   ]
  },
  {
   "cell_type": "code",
   "execution_count": 66,
   "metadata": {},
   "outputs": [
    {
     "ename": "TypeError",
     "evalue": "Cannot clone object. You should provide an instance of scikit-learn estimator instead of a class.",
     "output_type": "error",
     "traceback": [
      "\u001b[1;31m---------------------------------------------------------------------------\u001b[0m",
      "\u001b[1;31mTypeError\u001b[0m                                 Traceback (most recent call last)",
      "\u001b[1;32m<ipython-input-66-92626495b959>\u001b[0m in \u001b[0;36m<module>\u001b[1;34m\u001b[0m\n\u001b[0;32m     11\u001b[0m \u001b[0mgrid_search\u001b[0m \u001b[1;33m=\u001b[0m \u001b[0mGridSearchCV\u001b[0m \u001b[1;33m(\u001b[0m \u001b[0mestimator\u001b[0m \u001b[1;33m=\u001b[0m \u001b[0mSVC\u001b[0m\u001b[1;33m,\u001b[0m \u001b[0mparam_grid\u001b[0m \u001b[1;33m=\u001b[0m \u001b[0mparameters\u001b[0m\u001b[1;33m,\u001b[0m \u001b[0mcv\u001b[0m \u001b[1;33m=\u001b[0m \u001b[1;36m10\u001b[0m \u001b[1;33m)\u001b[0m\u001b[1;33m\u001b[0m\u001b[1;33m\u001b[0m\u001b[0m\n\u001b[0;32m     12\u001b[0m \u001b[1;33m\u001b[0m\u001b[0m\n\u001b[1;32m---> 13\u001b[1;33m \u001b[0mgrid_search\u001b[0m \u001b[1;33m=\u001b[0m \u001b[0mgrid_search\u001b[0m\u001b[1;33m.\u001b[0m\u001b[0mfit\u001b[0m\u001b[1;33m(\u001b[0m\u001b[0mX_train\u001b[0m\u001b[1;33m,\u001b[0m \u001b[0my_train\u001b[0m\u001b[1;33m)\u001b[0m\u001b[1;33m\u001b[0m\u001b[1;33m\u001b[0m\u001b[0m\n\u001b[0m\u001b[0;32m     14\u001b[0m \u001b[1;33m\u001b[0m\u001b[0m\n\u001b[0;32m     15\u001b[0m \u001b[0mbest_accuracy\u001b[0m \u001b[1;33m=\u001b[0m \u001b[0mgrid_search\u001b[0m\u001b[1;33m.\u001b[0m \u001b[0mbest_score_\u001b[0m\u001b[1;33m\u001b[0m\u001b[1;33m\u001b[0m\u001b[0m\n",
      "\u001b[1;32mC:\\anaconda3\\lib\\site-packages\\sklearn\\utils\\validation.py\u001b[0m in \u001b[0;36minner_f\u001b[1;34m(*args, **kwargs)\u001b[0m\n\u001b[0;32m     61\u001b[0m             \u001b[0mextra_args\u001b[0m \u001b[1;33m=\u001b[0m \u001b[0mlen\u001b[0m\u001b[1;33m(\u001b[0m\u001b[0margs\u001b[0m\u001b[1;33m)\u001b[0m \u001b[1;33m-\u001b[0m \u001b[0mlen\u001b[0m\u001b[1;33m(\u001b[0m\u001b[0mall_args\u001b[0m\u001b[1;33m)\u001b[0m\u001b[1;33m\u001b[0m\u001b[1;33m\u001b[0m\u001b[0m\n\u001b[0;32m     62\u001b[0m             \u001b[1;32mif\u001b[0m \u001b[0mextra_args\u001b[0m \u001b[1;33m<=\u001b[0m \u001b[1;36m0\u001b[0m\u001b[1;33m:\u001b[0m\u001b[1;33m\u001b[0m\u001b[1;33m\u001b[0m\u001b[0m\n\u001b[1;32m---> 63\u001b[1;33m                 \u001b[1;32mreturn\u001b[0m \u001b[0mf\u001b[0m\u001b[1;33m(\u001b[0m\u001b[1;33m*\u001b[0m\u001b[0margs\u001b[0m\u001b[1;33m,\u001b[0m \u001b[1;33m**\u001b[0m\u001b[0mkwargs\u001b[0m\u001b[1;33m)\u001b[0m\u001b[1;33m\u001b[0m\u001b[1;33m\u001b[0m\u001b[0m\n\u001b[0m\u001b[0;32m     64\u001b[0m \u001b[1;33m\u001b[0m\u001b[0m\n\u001b[0;32m     65\u001b[0m             \u001b[1;31m# extra_args > 0\u001b[0m\u001b[1;33m\u001b[0m\u001b[1;33m\u001b[0m\u001b[1;33m\u001b[0m\u001b[0m\n",
      "\u001b[1;32mC:\\anaconda3\\lib\\site-packages\\sklearn\\model_selection\\_search.py\u001b[0m in \u001b[0;36mfit\u001b[1;34m(self, X, y, groups, **fit_params)\u001b[0m\n\u001b[0;32m    763\u001b[0m         \u001b[0mn_splits\u001b[0m \u001b[1;33m=\u001b[0m \u001b[0mcv_orig\u001b[0m\u001b[1;33m.\u001b[0m\u001b[0mget_n_splits\u001b[0m\u001b[1;33m(\u001b[0m\u001b[0mX\u001b[0m\u001b[1;33m,\u001b[0m \u001b[0my\u001b[0m\u001b[1;33m,\u001b[0m \u001b[0mgroups\u001b[0m\u001b[1;33m)\u001b[0m\u001b[1;33m\u001b[0m\u001b[1;33m\u001b[0m\u001b[0m\n\u001b[0;32m    764\u001b[0m \u001b[1;33m\u001b[0m\u001b[0m\n\u001b[1;32m--> 765\u001b[1;33m         \u001b[0mbase_estimator\u001b[0m \u001b[1;33m=\u001b[0m \u001b[0mclone\u001b[0m\u001b[1;33m(\u001b[0m\u001b[0mself\u001b[0m\u001b[1;33m.\u001b[0m\u001b[0mestimator\u001b[0m\u001b[1;33m)\u001b[0m\u001b[1;33m\u001b[0m\u001b[1;33m\u001b[0m\u001b[0m\n\u001b[0m\u001b[0;32m    766\u001b[0m \u001b[1;33m\u001b[0m\u001b[0m\n\u001b[0;32m    767\u001b[0m         parallel = Parallel(n_jobs=self.n_jobs,\n",
      "\u001b[1;32mC:\\anaconda3\\lib\\site-packages\\sklearn\\utils\\validation.py\u001b[0m in \u001b[0;36minner_f\u001b[1;34m(*args, **kwargs)\u001b[0m\n\u001b[0;32m     61\u001b[0m             \u001b[0mextra_args\u001b[0m \u001b[1;33m=\u001b[0m \u001b[0mlen\u001b[0m\u001b[1;33m(\u001b[0m\u001b[0margs\u001b[0m\u001b[1;33m)\u001b[0m \u001b[1;33m-\u001b[0m \u001b[0mlen\u001b[0m\u001b[1;33m(\u001b[0m\u001b[0mall_args\u001b[0m\u001b[1;33m)\u001b[0m\u001b[1;33m\u001b[0m\u001b[1;33m\u001b[0m\u001b[0m\n\u001b[0;32m     62\u001b[0m             \u001b[1;32mif\u001b[0m \u001b[0mextra_args\u001b[0m \u001b[1;33m<=\u001b[0m \u001b[1;36m0\u001b[0m\u001b[1;33m:\u001b[0m\u001b[1;33m\u001b[0m\u001b[1;33m\u001b[0m\u001b[0m\n\u001b[1;32m---> 63\u001b[1;33m                 \u001b[1;32mreturn\u001b[0m \u001b[0mf\u001b[0m\u001b[1;33m(\u001b[0m\u001b[1;33m*\u001b[0m\u001b[0margs\u001b[0m\u001b[1;33m,\u001b[0m \u001b[1;33m**\u001b[0m\u001b[0mkwargs\u001b[0m\u001b[1;33m)\u001b[0m\u001b[1;33m\u001b[0m\u001b[1;33m\u001b[0m\u001b[0m\n\u001b[0m\u001b[0;32m     64\u001b[0m \u001b[1;33m\u001b[0m\u001b[0m\n\u001b[0;32m     65\u001b[0m             \u001b[1;31m# extra_args > 0\u001b[0m\u001b[1;33m\u001b[0m\u001b[1;33m\u001b[0m\u001b[1;33m\u001b[0m\u001b[0m\n",
      "\u001b[1;32mC:\\anaconda3\\lib\\site-packages\\sklearn\\base.py\u001b[0m in \u001b[0;36mclone\u001b[1;34m(estimator, safe)\u001b[0m\n\u001b[0;32m     62\u001b[0m             \u001b[1;32mif\u001b[0m \u001b[0misinstance\u001b[0m\u001b[1;33m(\u001b[0m\u001b[0mestimator\u001b[0m\u001b[1;33m,\u001b[0m \u001b[0mtype\u001b[0m\u001b[1;33m)\u001b[0m\u001b[1;33m:\u001b[0m\u001b[1;33m\u001b[0m\u001b[1;33m\u001b[0m\u001b[0m\n\u001b[0;32m     63\u001b[0m                 raise TypeError(\"Cannot clone object. \" +\n\u001b[1;32m---> 64\u001b[1;33m                                 \u001b[1;34m\"You should provide an instance of \"\u001b[0m \u001b[1;33m+\u001b[0m\u001b[1;33m\u001b[0m\u001b[1;33m\u001b[0m\u001b[0m\n\u001b[0m\u001b[0;32m     65\u001b[0m                                 \"scikit-learn estimator instead of a class.\")\n\u001b[0;32m     66\u001b[0m             \u001b[1;32melse\u001b[0m\u001b[1;33m:\u001b[0m\u001b[1;33m\u001b[0m\u001b[1;33m\u001b[0m\u001b[0m\n",
      "\u001b[1;31mTypeError\u001b[0m: Cannot clone object. You should provide an instance of scikit-learn estimator instead of a class."
     ]
    }
   ],
   "source": [
    "from sklearn.model_selection import GridSearchCV\n",
    "X = red[red.columns[:-1]].values\n",
    "y = red['quality'].values\n",
    "\n",
    "X_train, X_test, y_train, y_test = train_test_split(X, y, stratify=y, random_state=42)\n",
    "\n",
    "\n",
    "parameters = [ { 'C' : [ 1, 10, 100, 1000 ] , 'kernel': [ 'linear' ]},\n",
    "               { 'C' : [ 1, 10, 100, 1000 ], 'kernel': [ 'rbf' ], 'gamma' : [ 10, 1, 0.1,0.7,0.01,0.001 ]} ]\n",
    "\n",
    "grid_search = GridSearchCV ( estimator = SVC, param_grid = parameters, cv = 10 )\n",
    "\n",
    "grid_search = grid_search.fit(X_train, y_train)\n",
    "\n",
    "best_accuracy = grid_search. best_score_\n",
    "\n",
    "best_parameters = grid_search. best_params_\n"
   ]
  },
  {
   "cell_type": "code",
   "execution_count": null,
   "metadata": {},
   "outputs": [],
   "source": []
  }
 ],
 "metadata": {
  "kernelspec": {
   "display_name": "Python 3",
   "language": "python",
   "name": "python3"
  },
  "language_info": {
   "codemirror_mode": {
    "name": "ipython",
    "version": 3
   },
   "file_extension": ".py",
   "mimetype": "text/x-python",
   "name": "python",
   "nbconvert_exporter": "python",
   "pygments_lexer": "ipython3",
   "version": "3.7.3"
  }
 },
 "nbformat": 4,
 "nbformat_minor": 2
}
