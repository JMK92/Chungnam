{
 "cells": [
  {
   "cell_type": "markdown",
   "metadata": {},
   "source": [
    "#### 0. 들여쓰기와 제어문\n",
    "- 파이썬은 들여쓰기를 강제하여 코드의 가독성을 높인다.\n",
    "- 블록({}) 내부에 있는 문장들은 반드시 들여쓰기가 일치해야 한다.\n",
    "- 블록의 시작은 콜론(:)이고, 블록의 끝은 들여쓰기가 끝나는 부분이다."
   ]
  },
  {
   "cell_type": "markdown",
   "metadata": {},
   "source": [
    "#### 1. 조건문 or 선택문 or 비교판단문\n",
    "- 조건식을 가지고 있는 문장\n",
    "- 주어진 조건식이 참일때만 해당 문장을 수행한다.\n",
    "- if문 : 만약 ~ 라면 ( ~ -> 참 거짓 식)\n",
    "- if 논리조건식:"
   ]
  },
  {
   "cell_type": "code",
   "execution_count": 1,
   "metadata": {},
   "outputs": [
    {
     "name": "stdout",
     "output_type": "stream",
     "text": [
      "숫자 = 1\n",
      "<class 'int'>\n",
      "양수\n",
      "프로그램 종료합니다.\n"
     ]
    }
   ],
   "source": [
    "# 하나의 숫자를 입력받아 양수인지를 판단하는 문장\n",
    "# 해당 숫자가 양수라면 '양수'라는 문구가 출력\n",
    "num = int(input(\"숫자 = \")) #int 안 붙이면 문자임\n",
    "print(type(num))\n",
    "\n",
    "#이숫자가 참인지 판단한다. if 논리조건식 -> 비교할 대상\n",
    "if num > 0:    # 논리조건식 -> num > 0, 비교할 대상 -> 0\n",
    "    print(\"양수\")\n",
    "   #print(\"프로그램 종료합니다.\") #양수일 때만 실행된다. 같은라인o\n",
    "print(\"프로그램 종료합니다.\") # 양수, 음수 상관없이 실행"
   ]
  },
  {
   "cell_type": "code",
   "execution_count": 8,
   "metadata": {},
   "outputs": [
    {
     "name": "stdout",
     "output_type": "stream",
     "text": [
      "숫자 = 0\n",
      "음수입니다.\n",
      "프로그램 종료합니다.\n"
     ]
    }
   ],
   "source": [
    "# 양수와 음수를 판정하는 프로그램\n",
    "num = int(input(\"숫자 = \"))\n",
    "\n",
    "if num > 0:    \n",
    "    print(\"양수입니다.\")\n",
    "else:      # 그렇지 않을 때는  num < 0 or num == 0\n",
    "    print(\"음수입니다.\") # 조건식이 num>0-> 0을 음수로 파악\n",
    "    \n",
    "print(\"프로그램 종료합니다.\") "
   ]
  },
  {
   "cell_type": "code",
   "execution_count": 11,
   "metadata": {},
   "outputs": [
    {
     "name": "stdout",
     "output_type": "stream",
     "text": [
      "숫자 = -1\n",
      "음수\n",
      "프로그램을 종료합니다.\n"
     ]
    }
   ],
   "source": [
    "# 다중 if문\n",
    "num = int(input(\"숫자 = \"))\n",
    "\n",
    "if num > 0:\n",
    "    print(\"양수\")\n",
    "elif num < 0:\n",
    "    print(\"음수\")\n",
    "else:\n",
    "    print(\"제로\")\n",
    "\n",
    "print(\"프로그램을 종료합니다.\")\n",
    " "
   ]
  },
  {
   "cell_type": "code",
   "execution_count": 4,
   "metadata": {},
   "outputs": [
    {
     "name": "stdout",
     "output_type": "stream",
     "text": [
      "숫자 = 7\n",
      "소수입니다.\n",
      "종료합니다.\n"
     ]
    }
   ],
   "source": [
    "# 2의 배수 인지 3의 배수인지\n",
    "num = int(input(\"숫자 = \"))\n",
    "\n",
    "if num % 2 == 0: # '=' -> 이게 이거다 라는 의미, '==' -> 같다라는 의미\n",
    "    print(\"2의 배수\")\n",
    "elif num % 3 == 0:\n",
    "    print(\"3의 배수\")\n",
    "else:\n",
    "    print(\"소수입니다.\")\n",
    "print(\"종료합니다.\")"
   ]
  },
  {
   "cell_type": "code",
   "execution_count": 18,
   "metadata": {},
   "outputs": [
    {
     "name": "stdout",
     "output_type": "stream",
     "text": [
      "숫자 = 1\n",
      "홀수\n"
     ]
    }
   ],
   "source": [
    "# 하나의 숫자를 입력받아 짝수인지 홀수인지 판단\n",
    "num = int(input(\"숫자 = \"))\n",
    "\n",
    "if num % 2 == 0: # '=' -> 이게 이거다 라는 의미, '==' -> 같다라는 의미\n",
    "    print(\"짝수\")\n",
    "else:\n",
    "    print(\"홀수\")"
   ]
  },
  {
   "cell_type": "code",
   "execution_count": 5,
   "metadata": {},
   "outputs": [
    {
     "data": {
      "text/plain": [
       "True"
      ]
     },
     "execution_count": 5,
     "metadata": {},
     "output_type": "execute_result"
    }
   ],
   "source": [
    "# bool 자료형 : True와 False를 처리하는 자료형\n",
    "3 > 2"
   ]
  },
  {
   "cell_type": "code",
   "execution_count": 6,
   "metadata": {},
   "outputs": [
    {
     "data": {
      "text/plain": [
       "False"
      ]
     },
     "execution_count": 6,
     "metadata": {},
     "output_type": "execute_result"
    }
   ],
   "source": [
    "# 논리 연산자 : 하나이사의 대소관계를 묶어서 연산\n",
    "# 논리값을 처리하기 위한 연산자\n",
    "# 논리값(and, or, not)\n",
    "# not - 논리부정 -> 단합연산\n",
    "not True"
   ]
  },
  {
   "cell_type": "code",
   "execution_count": 7,
   "metadata": {},
   "outputs": [
    {
     "data": {
      "text/plain": [
       "True"
      ]
     },
     "execution_count": 7,
     "metadata": {},
     "output_type": "execute_result"
    }
   ],
   "source": [
    "not 0 # -> 컴퓨터는 0은 False, not 0 -> True => 좋은 코딩X"
   ]
  },
  {
   "cell_type": "code",
   "execution_count": 8,
   "metadata": {},
   "outputs": [
    {
     "data": {
      "text/plain": [
       "False"
      ]
     },
     "execution_count": 8,
     "metadata": {},
     "output_type": "execute_result"
    }
   ],
   "source": [
    "not -1 # 좋은 코딩X 예) 컴퓨터는 0이 아닌 숫자는 참(True)으로 간주"
   ]
  },
  {
   "cell_type": "code",
   "execution_count": 9,
   "metadata": {},
   "outputs": [
    {
     "data": {
      "text/plain": [
       "True"
      ]
     },
     "execution_count": 9,
     "metadata": {},
     "output_type": "execute_result"
    }
   ],
   "source": [
    "not None # None은 거짓(false)으로 간주 -> 좋은 표현X"
   ]
  },
  {
   "cell_type": "code",
   "execution_count": 10,
   "metadata": {},
   "outputs": [
    {
     "data": {
      "text/plain": [
       "False"
      ]
     },
     "execution_count": 10,
     "metadata": {},
     "output_type": "execute_result"
    }
   ],
   "source": [
    "# tuple, list, dic 문자열을 만났을 때의 root연산자 \n",
    "not 'ABC'"
   ]
  },
  {
   "cell_type": "code",
   "execution_count": 12,
   "metadata": {},
   "outputs": [
    {
     "data": {
      "text/plain": [
       "True"
      ]
     },
     "execution_count": 12,
     "metadata": {},
     "output_type": "execute_result"
    }
   ],
   "source": [
    "not '' # '' -> 빈문자열은 False로 간주"
   ]
  },
  {
   "cell_type": "code",
   "execution_count": 14,
   "metadata": {},
   "outputs": [
    {
     "data": {
      "text/plain": [
       "False"
      ]
     },
     "execution_count": 14,
     "metadata": {},
     "output_type": "execute_result"
    }
   ],
   "source": [
    "not (1, 2, 3)  # tuple"
   ]
  },
  {
   "cell_type": "code",
   "execution_count": 16,
   "metadata": {},
   "outputs": [
    {
     "data": {
      "text/plain": [
       "True"
      ]
     },
     "execution_count": 16,
     "metadata": {},
     "output_type": "execute_result"
    }
   ],
   "source": [
    "not () # 비어있는 tuple은 False로 간주"
   ]
  },
  {
   "cell_type": "code",
   "execution_count": 17,
   "metadata": {},
   "outputs": [
    {
     "data": {
      "text/plain": [
       "True"
      ]
     },
     "execution_count": 17,
     "metadata": {},
     "output_type": "execute_result"
    }
   ],
   "source": [
    "not [] # 비어있는 list은 False로 간주"
   ]
  },
  {
   "cell_type": "code",
   "execution_count": 18,
   "metadata": {},
   "outputs": [
    {
     "data": {
      "text/plain": [
       "True"
      ]
     },
     "execution_count": 18,
     "metadata": {},
     "output_type": "execute_result"
    }
   ],
   "source": [
    "not {} # 비어있는 dic은 False로 간주"
   ]
  },
  {
   "cell_type": "code",
   "execution_count": 19,
   "metadata": {},
   "outputs": [
    {
     "data": {
      "text/plain": [
       "False"
      ]
     },
     "execution_count": 19,
     "metadata": {},
     "output_type": "execute_result"
    }
   ],
   "source": [
    "# 관계연산자 or 비교연산자\n",
    "# 연산자 : >, >=, <, <=, ==, !=(같지 않다)\n",
    "100 < 10"
   ]
  },
  {
   "cell_type": "code",
   "execution_count": 20,
   "metadata": {},
   "outputs": [],
   "source": [
    "# 10 > 2 and 100 < 10\n",
    "# True   *   Flase  = False\n",
    "# 10 > 2 or 100 < 10\n",
    "# True   +   Flase  = True"
   ]
  },
  {
   "cell_type": "markdown",
   "metadata": {},
   "source": [
    "#### 2. 반복문(for,while)\n",
    "- 동일하거나 유사한 성격을 가지고 있는 문장\n",
    "- 조건이 참일때 반복을 수행\n",
    "- 반복 횟수을 제어할 때 사용\n",
    "- 형식\n",
    "- for 개별변수 in 집합변수: - 집합변수 : dic, tuple, list등\n",
    "- while 논리조건식: "
   ]
  },
  {
   "cell_type": "code",
   "execution_count": 21,
   "metadata": {},
   "outputs": [
    {
     "name": "stdout",
     "output_type": "stream",
     "text": [
      "1\n",
      "1\n",
      "1\n",
      "1\n",
      "1\n"
     ]
    }
   ],
   "source": [
    "# 반복할려면 횟수를 알아야 한다. -> 동일한 문장 , 유사한 성격 => 반복문\n",
    "print(1)\n",
    "print(1)\n",
    "print(1)\n",
    "print(1)\n",
    "print(1)  "
   ]
  },
  {
   "cell_type": "code",
   "execution_count": 22,
   "metadata": {},
   "outputs": [
    {
     "name": "stdout",
     "output_type": "stream",
     "text": [
      "1\n",
      "1\n",
      "1\n",
      "1\n",
      "1\n"
     ]
    }
   ],
   "source": [
    "for i in range(5): # 5개의 숫자를 가지고 있으니 집합변수\n",
    "    print(1)"
   ]
  },
  {
   "cell_type": "code",
   "execution_count": 27,
   "metadata": {},
   "outputs": [
    {
     "name": "stdout",
     "output_type": "stream",
     "text": [
      "1\n",
      "2\n",
      "3\n",
      "4\n",
      "5\n"
     ]
    }
   ],
   "source": [
    "print(1) # 동일한 행위, 유사한 성격 문장 -> 반복문\n",
    "print(2)\n",
    "print(3)\n",
    "print(4)\n",
    "print(5)  "
   ]
  },
  {
   "cell_type": "code",
   "execution_count": 26,
   "metadata": {},
   "outputs": [
    {
     "name": "stdout",
     "output_type": "stream",
     "text": [
      "1\n",
      "2\n",
      "3\n",
      "4\n",
      "5\n"
     ]
    }
   ],
   "source": [
    "for i in range(1,6): # range(처음값, 마지막값, 증가값)\n",
    "    print(i)"
   ]
  },
  {
   "cell_type": "code",
   "execution_count": 28,
   "metadata": {},
   "outputs": [],
   "source": [
    "# while 논리조건식: -> 논리조건식  : 참 또는 거짓 \n",
    "#     반복할문장"
   ]
  },
  {
   "cell_type": "code",
   "execution_count": 29,
   "metadata": {},
   "outputs": [
    {
     "name": "stdout",
     "output_type": "stream",
     "text": [
      "1\n",
      "2\n",
      "3\n",
      "4\n",
      "5\n"
     ]
    }
   ],
   "source": [
    "i = 1   \n",
    "while i < 6:  #1\n",
    "    print(i)  #2 이상태로만 실행 큰일남 while은 무한루프\n",
    "    i = i + 1 #3 끝나게 끔 해야 함 1->2->3->1->..반복  "
   ]
  },
  {
   "cell_type": "code",
   "execution_count": 30,
   "metadata": {},
   "outputs": [
    {
     "name": "stdout",
     "output_type": "stream",
     "text": [
      "1\n",
      "2\n",
      "3\n",
      "4\n",
      "5\n"
     ]
    }
   ],
   "source": [
    "i = 0        # 1 부터 시작할려고 하면 이렇게 해야함\n",
    "while i < 5: # 제어문이 바뀔 수 있다. \n",
    "    i = i + 1 \n",
    "    print(i)         "
   ]
  },
  {
   "cell_type": "code",
   "execution_count": 31,
   "metadata": {},
   "outputs": [
    {
     "name": "stdout",
     "output_type": "stream",
     "text": [
      "1\n",
      "2\n",
      "3\n",
      "4\n",
      "5\n"
     ]
    }
   ],
   "source": [
    "i = 1\n",
    "while True:   # 무한Loop, 계속참이면\n",
    "    print(i)\n",
    "    i = i + 1 \n",
    "    if i == 6: \n",
    "        break # break는 컴터 continue 건너띄기\n",
    "              # 가까운 반복문 벗어나기"
   ]
  },
  {
   "cell_type": "code",
   "execution_count": 34,
   "metadata": {},
   "outputs": [
    {
     "name": "stdout",
     "output_type": "stream",
     "text": [
      "세상입력(red or blue)=yellow\n",
      "기다리세요\n"
     ]
    }
   ],
   "source": [
    "color = input(\"세상입력(red or blue)=\")\n",
    "\n",
    "if color == 'blue':\n",
    "    print('건너가세요')\n",
    "else:\n",
    "    print('기다리세요')"
   ]
  },
  {
   "cell_type": "code",
   "execution_count": 39,
   "metadata": {},
   "outputs": [
    {
     "name": "stdout",
     "output_type": "stream",
     "text": [
      "세상입력(red or blue)=black\n",
      "잘못입력되셨습니다\n"
     ]
    }
   ],
   "source": [
    "color = input(\"세상입력(red or blue)=\")\n",
    "\n",
    "if color == 'blue':\n",
    "    print('건너가세요')\n",
    "elif  color == 'red':\n",
    "    print('기다리세요')\n",
    "else: \n",
    "    print('잘못입력되셨습니다')"
   ]
  },
  {
   "cell_type": "code",
   "execution_count": 40,
   "metadata": {},
   "outputs": [
    {
     "name": "stdout",
     "output_type": "stream",
     "text": [
      "1\n",
      "2\n",
      "3\n",
      "4\n",
      "5\n"
     ]
    }
   ],
   "source": [
    "# for 개별변수 in 집합변수 :\n",
    "# 집합변수(collection) : 리스트, 튜플, 집합, 딕셔너리\n",
    "for i in [1, 2, 3, 4, 5]:\n",
    "    print(i)"
   ]
  },
  {
   "cell_type": "code",
   "execution_count": 45,
   "metadata": {},
   "outputs": [
    {
     "name": "stdout",
     "output_type": "stream",
     "text": [
      "1 2 3 4 5 "
     ]
    }
   ],
   "source": [
    "numbers = [1, 2, 3, 4, 5]\n",
    "for i in numbers:\n",
    "    print(i, end = ' ') # end = '' -> 이어서 찍어라\n",
    "                        # end = '\\t' -> 8번 띄어서 "
   ]
  },
  {
   "cell_type": "code",
   "execution_count": 50,
   "metadata": {},
   "outputs": [
    {
     "name": "stdout",
     "output_type": "stream",
     "text": [
      "range(0, 10)\n",
      "[0, 1, 2, 3, 4, 5, 6, 7, 8, 9]\n",
      "range(1, 11)\n",
      "[1, 2, 3, 4, 5, 6, 7, 8, 9, 10]\n",
      "range(1, 11, 2)\n",
      "[1, 3, 5, 7, 9]\n"
     ]
    }
   ],
   "source": [
    "#range(k)-> 순열함수, 순차적으로 숫자를 만들어 내는 한수\n",
    "a = range(10) # 2번 0 ~ 9, k->매개변수\n",
    "print(a)  # range(0, 10)이됨 리스트로 남겨야만 2번됨\n",
    "a = list(range(10)) # 이렇게 해야 0 ~ 9까지 됨\n",
    "print(a)\n",
    "\n",
    "b = range(1,11) # range(start, end), end-1\n",
    "print(b)\n",
    "b = list(range(1,11))\n",
    "print(b)\n",
    "\n",
    "c = range(1,11,2) # 1 ~ 10, step 2\n",
    "print(c)\n",
    "c = list(range(1,11,2))\n",
    "print(c)"
   ]
  },
  {
   "cell_type": "code",
   "execution_count": 51,
   "metadata": {},
   "outputs": [
    {
     "name": "stdout",
     "output_type": "stream",
     "text": [
      "55\n"
     ]
    }
   ],
   "source": [
    "sum = 0 # 유산한 성격을 가짐\n",
    "sum = sum + 1\n",
    "sum = sum + 2\n",
    "sum = sum + 3\n",
    "sum = sum + 4\n",
    "sum = sum + 5\n",
    "sum = sum + 6\n",
    "sum = sum + 7\n",
    "sum = sum + 8\n",
    "sum = sum + 9\n",
    "sum = sum + 10\n",
    "print(sum)"
   ]
  },
  {
   "cell_type": "code",
   "execution_count": 54,
   "metadata": {},
   "outputs": [
    {
     "name": "stdout",
     "output_type": "stream",
     "text": [
      "55\n"
     ]
    }
   ],
   "source": [
    "sum = 0\n",
    "\n",
    "for i in range(1, 11):\n",
    "    #sum = sum + i\n",
    "    sum += i \n",
    "print(sum)"
   ]
  },
  {
   "cell_type": "code",
   "execution_count": 63,
   "metadata": {},
   "outputs": [
    {
     "name": "stdout",
     "output_type": "stream",
     "text": [
      "마지막 숫자:1\n",
      "1부터 2까지의 합은 1입니다\n"
     ]
    }
   ],
   "source": [
    "# Question 1. 키보드를 통해 하나의 숫자를 입력받아\n",
    "# 1부터 입력받은 수까지의 자연수들의 합을 계산하여\n",
    "# 출력하는 프로개름을 구현하시요.\n",
    "# 내가 한 것\n",
    "end = int(input('마지막 숫자:'))\n",
    "i = 1\n",
    "sum = 0\n",
    "\n",
    "for i in range(i, end+1):\n",
    "    sum += i\n",
    "print(sum)"
   ]
  },
  {
   "cell_type": "code",
   "execution_count": 64,
   "metadata": {},
   "outputs": [
    {
     "name": "stdout",
     "output_type": "stream",
     "text": [
      "숫자 =100\n",
      "5050\n"
     ]
    }
   ],
   "source": [
    "# Question 1. 키보드를 통해 하나의 숫자를 입력받아\n",
    "# 1부터 입력받은 수까지의 자연수들의 합을 계산하여\n",
    "# 출력하는 프로개름을 구현하시요.\n",
    "# 강사님 -> while 문보다 낫다 횟수가 정해져 있으니깐\n",
    "num = int(input('숫자 ='))\n",
    "#누적변수\n",
    "sum = 0\n",
    "\n",
    "for i in range(1, num+1):\n",
    "    sum += i\n",
    "    \n",
    "print(sum)"
   ]
  },
  {
   "cell_type": "code",
   "execution_count": 68,
   "metadata": {},
   "outputs": [
    {
     "name": "stdout",
     "output_type": "stream",
     "text": [
      "====2단\n",
      "2 x 1 =   2\n",
      "2 x 2 =   4\n",
      "2 x 3 =   6\n",
      "2 x 4 =   8\n",
      "2 x 5 =  10\n",
      "2 x 6 =  12\n",
      "2 x 7 =  14\n",
      "2 x 8 =  16\n",
      "2 x 9 =  18\n",
      "\n",
      "====3단\n",
      "3 x 1 =   3\n",
      "3 x 2 =   6\n",
      "3 x 3 =   9\n",
      "3 x 4 =  12\n",
      "3 x 5 =  15\n",
      "3 x 6 =  18\n",
      "3 x 7 =  21\n",
      "3 x 8 =  24\n",
      "3 x 9 =  27\n",
      "\n",
      "====4단\n",
      "4 x 1 =   4\n",
      "4 x 2 =   8\n",
      "4 x 3 =  12\n",
      "4 x 4 =  16\n",
      "4 x 5 =  20\n",
      "4 x 6 =  24\n",
      "4 x 7 =  28\n",
      "4 x 8 =  32\n",
      "4 x 9 =  36\n",
      "\n",
      "====5단\n",
      "5 x 1 =   5\n",
      "5 x 2 =  10\n",
      "5 x 3 =  15\n",
      "5 x 4 =  20\n",
      "5 x 5 =  25\n",
      "5 x 6 =  30\n",
      "5 x 7 =  35\n",
      "5 x 8 =  40\n",
      "5 x 9 =  45\n",
      "\n",
      "====6단\n",
      "6 x 1 =   6\n",
      "6 x 2 =  12\n",
      "6 x 3 =  18\n",
      "6 x 4 =  24\n",
      "6 x 5 =  30\n",
      "6 x 6 =  36\n",
      "6 x 7 =  42\n",
      "6 x 8 =  48\n",
      "6 x 9 =  54\n",
      "\n",
      "====7단\n",
      "7 x 1 =   7\n",
      "7 x 2 =  14\n",
      "7 x 3 =  21\n",
      "7 x 4 =  28\n",
      "7 x 5 =  35\n",
      "7 x 6 =  42\n",
      "7 x 7 =  49\n",
      "7 x 8 =  56\n",
      "7 x 9 =  63\n",
      "\n",
      "====8단\n",
      "8 x 1 =   8\n",
      "8 x 2 =  16\n",
      "8 x 3 =  24\n",
      "8 x 4 =  32\n",
      "8 x 5 =  40\n",
      "8 x 6 =  48\n",
      "8 x 7 =  56\n",
      "8 x 8 =  64\n",
      "8 x 9 =  72\n",
      "\n",
      "====9단\n",
      "9 x 1 =   9\n",
      "9 x 2 =  18\n",
      "9 x 3 =  27\n",
      "9 x 4 =  36\n",
      "9 x 5 =  45\n",
      "9 x 6 =  54\n",
      "9 x 7 =  63\n",
      "9 x 8 =  72\n",
      "9 x 9 =  81\n",
      "\n"
     ]
    }
   ],
   "source": [
    "# 구구단 출력 : 단(2~9) * 자연수(1~9) -> 다중 포문\n",
    "for x in range(2, 10):\n",
    "    print(\"===={0}단\".format(x))\n",
    "    for y in range(1, 10):\n",
    "        print(\"{0} x {1} = {2:3d}\".format(x,y,x*y))\n",
    "    print()  # 개행의 의미 (한칸 뛰우기) "
   ]
  },
  {
   "cell_type": "code",
   "execution_count": 69,
   "metadata": {},
   "outputs": [
    {
     "name": "stdout",
     "output_type": "stream",
     "text": [
      "1\n",
      "2\n",
      "3\n",
      "\n",
      "(1, 2) 1 2\n",
      "(3, 4) 3 4\n",
      "(5, 6) 5 6\n",
      "1 + 2 = 3\n",
      "3 + 4 = 7\n",
      "5 + 6 = 11\n"
     ]
    }
   ],
   "source": [
    "a = [(1, 2), (3, 4), (5, 6)] # 리스트 안에 tuple\n",
    "b = [1, 2, 3]\n",
    "\n",
    "for i in b:\n",
    "    print(i)\n",
    "print()\n",
    "\n",
    "for aa in a:\n",
    "    a1 = aa[0]\n",
    "    a2 = aa[1]\n",
    "    print(aa, a1, a2)\n",
    "    \n",
    "for (first, second) in a:\n",
    "    print(\"{0} + {1} = {2}\".format(first, second, first+second))"
   ]
  },
  {
   "cell_type": "code",
   "execution_count": 75,
   "metadata": {},
   "outputs": [
    {
     "name": "stdout",
     "output_type": "stream",
     "text": [
      "1번 학생 : 90점, 합격입니다\n",
      "2번 학생 : 25점, 불합격입니다\n",
      "3번 학생 : 67점, 합격입니다\n",
      "4번 학생 : 45점, 불합격입니다\n",
      "5번 학생 : 80점, 합격입니다\n"
     ]
    }
   ],
   "source": [
    "# 5명의 점수\n",
    "points = [90, 25, 67, 45, 80]\n",
    "\n",
    "# 각 학생의 점수를 이용하여 합격을 판단하는 작업\n",
    "# 점수가 60점이면 \"합격\" 그렇지 않으면 '불합격'\n",
    "numbers = 0\n",
    "for point in points:\n",
    "    numbers += 1\n",
    "    result = '' # result은 문자열을 담겠다.\n",
    "    if point >= 60:\n",
    "        result = '합격'\n",
    "    else:\n",
    "        result ='불합격'\n",
    "    \n",
    "    print('%d번 학생 : %d점, %s입니다' %(numbers, point, result))    "
   ]
  },
  {
   "cell_type": "code",
   "execution_count": 79,
   "metadata": {},
   "outputs": [
    {
     "name": "stdout",
     "output_type": "stream",
     "text": [
      "0이면 작업 종료:1\n",
      "0이면 작업 종료:2\n",
      "0이면 작업 종료:0\n",
      "누적합 = 3\n"
     ]
    }
   ],
   "source": [
    "# 숫자를 입력받아 누적합을 계산하는 프로그램\n",
    "# 단, 입력받은 수가 0이면 프로그램 종료합니다.\n",
    "# 몇번 끝낼지 모르니 while문\n",
    "\n",
    "\n",
    "#누적 변수는 초기화를 주고 시작한다.\n",
    "tot = 0\n",
    "\n",
    "while True: # 무한루프(사용자에 의해 반복을 제어)\n",
    "    n = int(input('0이면 작업 종료:'))\n",
    "    \n",
    "    if n == 0: break # 그렇지 않으면 딱히 쓰지 않아도 됨\n",
    "    tot += n\n",
    "    \n",
    "print(\"누적합 =\", tot)"
   ]
  },
  {
   "cell_type": "code",
   "execution_count": 1,
   "metadata": {},
   "outputs": [
    {
     "name": "stdout",
     "output_type": "stream",
     "text": [
      "투입금액=5000\n",
      "커피를 드립니다.\n",
      "남은 커피는 9잔, 잔액은 2000원입니다.\n"
     ]
    }
   ],
   "source": [
    "# coffee 가격은 3000원입니다.\n",
    "# 커피머신에 돈을 입력한 후 커피를 추출하는 작업물\n",
    "# 반복 수행합니다. 단, 금액이 부족하거나, 커피가\n",
    "# 부족하여 작업을 종료하도록 프로그램하시오.\n",
    "\n",
    "coffee = 10\n",
    "money = int(input('투입금액='))\n",
    "\n",
    "while True:\n",
    "    coffee -= 1\n",
    "    money -= 3000\n",
    "    if money < 0: break # 3000이 아니라 0가 되어야 함\n",
    "    if coffee <= 0:\n",
    "        print(\"커피가 모자랍니다.\")\n",
    "        break\n",
    "   \n",
    "    print('커피를 드립니다.')\n",
    "    print(\"남은 커피는 {0}잔, 잔액은 {1}원입니다.\".format(coffee,money))"
   ]
  },
  {
   "cell_type": "code",
   "execution_count": 94,
   "metadata": {},
   "outputs": [
    {
     "name": "stdout",
     "output_type": "stream",
     "text": [
      "투입금액=5000\n",
      "커피를 드립니다.\n",
      "남은 커피는 9잔, 잔액은 2000원 입니다.\n",
      "커피를 드립니다.\n",
      "잔액이 부족합니다.판매를 중지합니다.\n"
     ]
    }
   ],
   "source": [
    "# coffee 가격은 3000원입니다.\n",
    "# 커피머신에 돈을 입력한 후 커피를 추출하는 작업물\n",
    "# 반복 수행합니다. 단, 금액이 부족하거나, 커피가\n",
    "# 부족하여 작업을 종료하도록 프로그램하시오.\n",
    "# 비효율적\n",
    "coffee = 10\n",
    "money = int(input('투입금액='))\n",
    "\n",
    "while money:  #논리조건문이 True일동안만 반복수행\n",
    "    print(\"커피를 드립니다.\")\n",
    "    coffee -= 1\n",
    "    money -= 3000\n",
    "    if money < 0:\n",
    "        print(\"잔액이 부족합니다.판매를 중지합니다.\")\n",
    "        break\n",
    "    print(\"남은 커피는 %d잔, 잔액은 %d원 입니다.\"%(coffee, money))\n",
    "    \n",
    "    if not coffee: # 0이면 False, 1이면 True\n",
    "        print(\"커피가 다 떨어 졌습니다. 판매를 중지합니다.\")\n",
    "    "
   ]
  },
  {
   "cell_type": "code",
   "execution_count": 22,
   "metadata": {},
   "outputs": [
    {
     "name": "stdout",
     "output_type": "stream",
     "text": [
      "2\n",
      "4\n",
      "6\n",
      "8\n",
      "10\n"
     ]
    }
   ],
   "source": [
    "# 기타 제어문 : break와 continue\n",
    "a = 0\n",
    "\n",
    "while a < 10:\n",
    "    a = a + 1   # a += 1\n",
    "    if a % 2 != 0:\n",
    "        continue # skip해라 밑에 있는 문장 출력X\n",
    "    print(a)"
   ]
  },
  {
   "cell_type": "code",
   "execution_count": null,
   "metadata": {},
   "outputs": [
    {
     "name": "stdout",
     "output_type": "stream",
     "text": [
      "년도 입력:100\n",
      "다시 작성하시오\n",
      "년도 입력:1000\n",
      "다시 작성하시오\n",
      "년도 입력:10000\n",
      "평년\n",
      "윤년\n",
      "년도 입력:0\n",
      "평년\n",
      "윤년\n",
      "년도 입력:0\n",
      "평년\n",
      "윤년\n",
      "년도 입력:0\n",
      "평년\n",
      "윤년\n",
      "년도 입력:0\n",
      "평년\n",
      "윤년\n",
      "년도 입력:0\n",
      "평년\n",
      "윤년\n"
     ]
    }
   ],
   "source": [
    "# 년도를 입력받아 평년인지, 윤년인지 판단하는 프로그램\n",
    "# 단, 년도를 0이 입력되면 프로그램을 종료하시요.\n",
    "# 윤년은 4년마다 돌아오는데 100으로 나누어 떨어지는\n",
    "# 연도는 평년 하지만 400으로 나누어 떨어지는 연도는 윤년\n",
    "\n",
    "while True:\n",
    "    n = int(input('연도 입력:'))\n",
    "    if n == 0: \n",
    "        print('프로그램 종료')\n",
    "        break\n",
    "    \n",
    "    if n%4==0 and n % 100 != 0 or n % 400 == 0:\n",
    "        print('윤년')      \n",
    "    else:\n",
    "        print(\"평년\")"
   ]
  },
  {
   "cell_type": "code",
   "execution_count": 7,
   "metadata": {},
   "outputs": [
    {
     "name": "stdout",
     "output_type": "stream",
     "text": [
      "연도(종료 0):0\n",
      "0년도는 윤년입니다.\n",
      "프로그램을 종료합니다.\n"
     ]
    }
   ],
   "source": [
    "# 년도를 입력받아 평년인지, 윤년인지 판단하는 프로그램\n",
    "# 단, 년도를 0이 입력되면 프로그램을 종료하시요.\n",
    "# 윤년은 4년마다 돌아오는데 100으로 나누어 떨어지는\n",
    "# 연도는 평년 하지만 400으로 나누어 떨어지는 연도는 윤년\n",
    "# 강사님\n",
    "\n",
    "while True:\n",
    "    year = int(input('연도(종료 0):'))\n",
    "    \n",
    "    if year == 0:\n",
    "        print('프로그램을 종료합니다.')\n",
    "        break\n",
    "    #else:    \n",
    "    #        반드시 참                      얘는 거짓  = 참\n",
    "    if year % 4 == 0 & year % 100 != 0 or year % 400 == 0:\n",
    "        print(\"{0}년도는 윤년입니다.\".format(year))\n",
    "    else:\n",
    "        print(\"{0}년도는 평년입니다.\".format(year))"
   ]
  },
  {
   "cell_type": "code",
   "execution_count": 4,
   "metadata": {},
   "outputs": [
    {
     "name": "stdout",
     "output_type": "stream",
     "text": [
      "결과 : 불합격\n"
     ]
    }
   ],
   "source": [
    "# pass : 추후에 기술하는 영역으로 설정할 때 사용한다.\n",
    "score = 65\n",
    "result = '불합격'\n",
    "\n",
    "if score >= 60:\n",
    "    pass    #나중에 할께\n",
    "\n",
    "print('결과 : '+ result)"
   ]
  },
  {
   "cell_type": "code",
   "execution_count": 9,
   "metadata": {},
   "outputs": [
    {
     "data": {
      "text/plain": [
       "1"
      ]
     },
     "execution_count": 9,
     "metadata": {},
     "output_type": "execute_result"
    }
   ],
   "source": [
    "a = [[1,2], [3,4]]\n",
    "a[0][0]"
   ]
  },
  {
   "cell_type": "code",
   "execution_count": null,
   "metadata": {},
   "outputs": [],
   "source": []
  }
 ],
 "metadata": {
  "kernelspec": {
   "display_name": "Python 3",
   "language": "python",
   "name": "python3"
  },
  "language_info": {
   "codemirror_mode": {
    "name": "ipython",
    "version": 3
   },
   "file_extension": ".py",
   "mimetype": "text/x-python",
   "name": "python",
   "nbconvert_exporter": "python",
   "pygments_lexer": "ipython3",
   "version": "3.7.3"
  }
 },
 "nbformat": 4,
 "nbformat_minor": 2
}
