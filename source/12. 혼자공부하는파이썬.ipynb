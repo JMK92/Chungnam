{
 "cells": [
  {
   "cell_type": "markdown",
   "metadata": {},
   "source": [
    "#### 0. 표현식( v = c ) #c ->varialbe, fuction, constant...\n",
    "- 생성규칙 : 명령법(변수명, 함수명, 클래스명, 모듈....)"
   ]
  },
  {
   "cell_type": "code",
   "execution_count": 1,
   "metadata": {},
   "outputs": [
    {
     "name": "stdout",
     "output_type": "stream",
     "text": [
      "['False', 'None', 'True', 'and', 'as', 'assert', 'async', 'await', 'break', 'class', 'continue', 'def', 'del', 'elif', 'else', 'except', 'finally', 'for', 'from', 'global', 'if', 'import', 'in', 'is', 'lambda', 'nonlocal', 'not', 'or', 'pass', 'raise', 'return', 'try', 'while', 'with', 'yield']\n",
      "35\n"
     ]
    }
   ],
   "source": [
    "import keyword\n",
    "# 모듈명.함수 or 모듈명.변수\n",
    "print(keyword.kwlist)\n",
    "print(len(keyword.kwlist))"
   ]
  },
  {
   "cell_type": "code",
   "execution_count": 2,
   "metadata": {},
   "outputs": [
    {
     "data": {
      "text/plain": [
       "True"
      ]
     },
     "execution_count": 2,
     "metadata": {},
     "output_type": "execute_result"
    }
   ],
   "source": [
    "10>6 or "
   ]
  },
  {
   "cell_type": "code",
   "execution_count": 3,
   "metadata": {},
   "outputs": [],
   "source": [
    "# 다중주석 : 영역지정 후 ctrl + '/'\n",
    "# print, : JAVA => println 해야 줄 바꿔지는데 python은 print에 기본적으로 가지고 있음.\n",
    "# end = end of line"
   ]
  },
  {
   "cell_type": "code",
   "execution_count": 6,
   "metadata": {},
   "outputs": [
    {
     "name": "stdout",
     "output_type": "stream",
     "text": [
      "3\n",
      "123456789\n",
      "123456789123456789123456789123456789123456789123456789123456789123456789\n"
     ]
    }
   ],
   "source": [
    "# 정수의 표현 범위가 크다 (다른 언어 보다 더)\n",
    "# 정수 : 양의 정수, 0, 음의정수\n",
    "a = 3\n",
    "b = 123456789\n",
    "c = 123456789123456789123456789123456789123456789123456789123456789123456789\n",
    "print(a)\n",
    "print(b)\n",
    "print(c)"
   ]
  },
  {
   "cell_type": "code",
   "execution_count": 7,
   "metadata": {},
   "outputs": [
    {
     "name": "stdout",
     "output_type": "stream",
     "text": [
      "-3\n",
      "-123456789\n",
      "-123456789123456789123456789123456789123456789123456789123456789123456789\n"
     ]
    }
   ],
   "source": [
    "a = -3\n",
    "b = -123456789\n",
    "c = -123456789123456789123456789123456789123456789123456789123456789123456789\n",
    "print(a)\n",
    "print(b)\n",
    "print(c)"
   ]
  },
  {
   "cell_type": "code",
   "execution_count": 8,
   "metadata": {},
   "outputs": [
    {
     "data": {
      "text/plain": [
       "int"
      ]
     },
     "execution_count": 8,
     "metadata": {},
     "output_type": "execute_result"
    }
   ],
   "source": [
    "# 자료형 확인 : type()\n",
    "f = -3\n",
    "type(-3)"
   ]
  },
  {
   "cell_type": "code",
   "execution_count": null,
   "metadata": {},
   "outputs": [],
   "source": [
    "# [] 조건식, start : end(end -1) => 슬라이싱, [:] 전체 뜻 -> 얕은복사"
   ]
  },
  {
   "cell_type": "code",
   "execution_count": 11,
   "metadata": {},
   "outputs": [],
   "source": [
    "# 배정대입연산자 = 복합대입연산자, a = a+1 == a+=1 != a++ or ++a(python에는 존재X)\n",
    "a = 10\n",
    "a = a+1 # a += 1\n",
    "a = a-2 # a -= 2\n",
    "a = a*3 # a *= 3\n",
    "a = a/5 # a /= 5"
   ]
  },
  {
   "cell_type": "code",
   "execution_count": 12,
   "metadata": {},
   "outputs": [],
   "source": [
    "# eval()"
   ]
  },
  {
   "cell_type": "code",
   "execution_count": 17,
   "metadata": {},
   "outputs": [
    {
     "name": "stdout",
     "output_type": "stream",
     "text": [
      "첫번째수 =10\n",
      "첫번째수 =2\n",
      "<class 'int'>\n",
      "10 + 2 = 12\n",
      "10 - 2 = 8\n",
      "10 * 2 = 20\n",
      "10 / 2 = 5.0\n"
     ]
    }
   ],
   "source": [
    "# 계산기 프로그램\n",
    "# 두 개의 정수를 입력받아 사칙연산을 수행한 후 결과를 출력하는 프로그램을 구현하시오\n",
    "# 출력양식\n",
    "# 첫번째수 =\n",
    "# 두번째수 =\n",
    "\n",
    "first = int(input(\"첫번째수 =\"))\n",
    "second = int(input(\"첫번째수 =\"))\n",
    "\n",
    "print(type(first))\n",
    "add = first + second\n",
    "sub = first - second\n",
    "mul = first * second\n",
    "div = first / second #정수 몫 //, 나머지 %, 거듭제곱 **\n",
    "\n",
    "print(\"{0} + {1} = {2}\".format(first, second, add))\n",
    "print(\"{0} - {1} = {2}\".format(first, second, sub))\n",
    "print(\"{0} * {1} = {2}\".format(first, second, mul))\n",
    "print(\"{0} / {1} = {2}\".format(first, second, div))"
   ]
  },
  {
   "cell_type": "code",
   "execution_count": 32,
   "metadata": {},
   "outputs": [],
   "source": [
    "# 함수 선언과 정의\n",
    "def adder(a, b):\n",
    "    return a + b\n",
    "    \n",
    "def substr(a, b):\n",
    "    return a - b\n",
    "\n",
    "def multi(a, b):\n",
    "    return a * b\n",
    "\n",
    "def divide(a, b):\n",
    "    return a / b"
   ]
  },
  {
   "cell_type": "code",
   "execution_count": 59,
   "metadata": {},
   "outputs": [],
   "source": [
    "class Calculator:\n",
    "    #프로퍼티 or 멤버필드 or 멤버변수\n",
    "    \n",
    "    # 생성자(Constructor) 메서드 : 객체가 생성시 자동호출\n",
    "    def __init__(self):\n",
    "        self.a = int(input(\"첫번째수 = \"))\n",
    "        self.op = input(\"연산자(+, -, *, /) = \")\n",
    "        self.b = int(input(\"두번째수 = \"))\n",
    "        self.compute() # 클래스 내부에서 자신의 메서드 호출시\n",
    "                       # 자신과 자신 중복이라 self는 생략 \n",
    "                       # 입력 뒤 바로 계산 할거라서\n",
    "        \n",
    "    # 멤버메서드 or 멤버함수\n",
    "#     def init(self): # def adder(self, a, b):와 self.a = a, self.b =b을 다 줄여줌\n",
    "#         self.a = int(input(\"첫번째수 = \"))\n",
    "#         self.op = input(\"연산자(+, -, *, /) = \")\n",
    "#         self.b = int(input(\"두번째수 = \"))\n",
    "#         self.compute() # 클래스 내부에서 자신의 메서드 호출시\n",
    "#                        # 자신과 자신 중복이라 self는 생략 \n",
    "#                        # 입력 뒤 바로 계산 할거라서\n",
    "    def compute(self):\n",
    "        if self.op == \"+\":\n",
    "            self.result = self.adder()  \n",
    "        elif self.op == \"-\":\n",
    "            self.result = self.substr()    \n",
    "        elif self.op == '*':\n",
    "            self.result = self.multi()   \n",
    "        elif self.op == '/':\n",
    "            self.result = self.divide()    \n",
    "        else:\n",
    "            print(\"올바른 연산자가 아닙니다.\")\n",
    "        \n",
    "    def adder(self):\n",
    "        #self.a = a\n",
    "        #self.b = b\n",
    "        return self.a + self.b\n",
    "    \n",
    "    def substr(self):\n",
    "        #self.a = a\n",
    "        #self.b = b\n",
    "        return self.a - self.b\n",
    "\n",
    "    def multi(self):\n",
    "        #self.a = a\n",
    "        #self.b = b\n",
    "        return self.a * self.b\n",
    "\n",
    "    def divide(self):\n",
    "        #self.a = a\n",
    "        #self.b = b\n",
    "        return self.a / self.b\n",
    "    \n",
    "    def disp(self):\n",
    "        print(\"{0} {1} {2} = {3}\".format(self.a, self.op, self.b, self.result)) "
   ]
  },
  {
   "cell_type": "code",
   "execution_count": 35,
   "metadata": {},
   "outputs": [
    {
     "name": "stdout",
     "output_type": "stream",
     "text": [
      "첫번째수 = 500\n",
      "연산자(+, -, *, /) = *\n",
      "두번째수 = 30\n",
      "500 * 30 = 15000\n",
      "프로그램을 종료 합니다.\n"
     ]
    }
   ],
   "source": [
    "# 첫번째수 =\n",
    "# 연산자(+, -, *, /) =\n",
    "# 두번째수 = \n",
    "\n",
    "first = int(input(\"첫번째수 = \"))\n",
    "opper = input(\"연산자(+, -, *, /) = \")\n",
    "second = int(input(\"두번째수 = \"))\n",
    "\n",
    "if opper == \"+\":\n",
    "    result = adder(first, second) # 함수 호출\n",
    "    #print(\"{0} + {1} = {2}\".format(first, second, add))\n",
    "elif opper == \"-\":\n",
    "    result = substr(first, second)\n",
    "    #print(\"{0} - {1} = {2}\".format(first, second, sub))\n",
    "elif opper == '*':\n",
    "    result = multi(first, second)\n",
    "    #print(\"{0} * {1} = {2}\".format(first, second, mul))\n",
    "elif opper == '/':\n",
    "    result = divide(first, second)\n",
    "    #print(\"{0} / {1} = {2}\".format(first, second, div))\n",
    "else:\n",
    "    print(\"올바른 연산자가 아닙니다.\")\n",
    "\n",
    "print(\"{0} {1} {2} = {3}\".format(first, opper, second, result))    \n",
    "\n",
    "print(\"프로그램을 종료 합니다.\")"
   ]
  },
  {
   "cell_type": "code",
   "execution_count": 54,
   "metadata": {},
   "outputs": [
    {
     "name": "stdout",
     "output_type": "stream",
     "text": [
      "첫번째수 = 10\n",
      "연산자(+, -, *, /) = -\n",
      "두번째수 = 3\n",
      "10 - 3 = 7\n",
      "프로그램을 종료 합니다.\n"
     ]
    }
   ],
   "source": [
    "# 클래스로 받아들이기\n",
    "# first = int(input(\"첫번째수 = \"))\n",
    "# opper = input(\"연산자(+, -, *, /) = \")\n",
    "# second = int(input(\"두번째수 = \"))\n",
    "\n",
    "# Calculator 클래스의 인스턴스 객체를 생성\n",
    "cal = Calculator()\n",
    "cal.init() # init(first, second)보다 init()에서 받는것이 더 낫다.\n",
    "cal.disp()\n",
    "# if opper == \"+\":\n",
    "#     result = cal.adder()  \n",
    "# elif opper == \"-\":\n",
    "#     result = cal.substr()    \n",
    "# elif opper == '*':\n",
    "#     result = cal.multi()   \n",
    "# elif opper == '/':\n",
    "#     result = cal.divide()    \n",
    "# else:\n",
    "#     print(\"올바른 연산자가 아닙니다.\")\n",
    "\n",
    "# print(\"{0} {1} {2} = {3}\".format(first, opper, second, result))    \n",
    "\n",
    "print(\"프로그램을 종료 합니다.\")"
   ]
  },
  {
   "cell_type": "code",
   "execution_count": 61,
   "metadata": {},
   "outputs": [
    {
     "name": "stdout",
     "output_type": "stream",
     "text": [
      "첫번째수 = 10\n",
      "연산자(+, -, *, /) = -\n",
      "두번째수 = 3\n",
      "10 - 3 = 7\n"
     ]
    }
   ],
   "source": [
    "cal = Calculator() # 객체 instance 생성\n",
    "#cal.init() -> 생성자 생성해서 다시 부를 필요 없음\n",
    "#cal.compute() -> 이것을 def init에 담았음\n",
    "cal.disp()"
   ]
  },
  {
   "cell_type": "code",
   "execution_count": 71,
   "metadata": {},
   "outputs": [
    {
     "name": "stdout",
     "output_type": "stream",
     "text": [
      "<class 'str'>\n",
      "10.35\n"
     ]
    }
   ],
   "source": [
    "a = \"{:.2f}\".format(10.345678) # 하나 밖에 없으면 인덱스 생략 가능.\n",
    "print(type(a))\n",
    "print(a)"
   ]
  },
  {
   "cell_type": "code",
   "execution_count": 72,
   "metadata": {},
   "outputs": [],
   "source": [
    "# is : ~이다\n",
    "# isalnum() - 괄호안에 있는 것이 알파벡벳 숫자 입니까? 답은 True or False."
   ]
  },
  {
   "cell_type": "code",
   "execution_count": 76,
   "metadata": {},
   "outputs": [
    {
     "data": {
      "text/plain": [
       "['10', '20', '30', '40', '50']"
      ]
     },
     "execution_count": 76,
     "metadata": {},
     "output_type": "execute_result"
    }
   ],
   "source": [
    "a = \"10 20 30 40 50\".split(\" \") # 결과가 list로 나옴.\n",
    "a"
   ]
  },
  {
   "cell_type": "code",
   "execution_count": 87,
   "metadata": {},
   "outputs": [
    {
     "name": "stdout",
     "output_type": "stream",
     "text": [
      "수1 =6\n",
      "수2 =5\n",
      "큰수 = 6\n"
     ]
    }
   ],
   "source": [
    "# 입력받은 두 수중 큰 수를 리턴시켜주는 함수큰수를 리턴\n",
    "def large(a, b):\n",
    "    if a > b:\n",
    "        return a\n",
    "    else:\n",
    "        return b  \n",
    "\n",
    "\n",
    "# 두 개의 정수를 입력받아 큰수를 출력하는 프로그램을 구현하시오.\n",
    "num1 = int(input(\"수1 =\"))\n",
    "num2 = int(input(\"수2 =\"))\n",
    "\n",
    "# if num1 > num2:\n",
    "#     # 조건식이 참일 때\n",
    "#     max_ = num1\n",
    "#     print(max_)\n",
    "# else:  #조건식이 거짓일 때\n",
    "#     max_ = num2\n",
    "#     print(max_)\n",
    "\n",
    " \n",
    "\n",
    "# print(\"큰수 = {}\".format(max_))\n",
    "print(\"큰수 = {}\".format(large(num1, num2))) # 함수 호출"
   ]
  },
  {
   "cell_type": "code",
   "execution_count": 97,
   "metadata": {},
   "outputs": [
    {
     "name": "stdout",
     "output_type": "stream",
     "text": [
      "수1 = 3\n",
      "수2 = 2\n",
      "수3 = 1\n",
      "큰수 = 3\n"
     ]
    }
   ],
   "source": [
    "# 세 개의 수를 입력받아 큰 수를 출력하는 프로그램을 구현하시오.\n",
    "def large1(a, b, c):\n",
    "    if a > b and a > c:\n",
    "        return a\n",
    "    elif b > a and b > c:\n",
    "        return b\n",
    "    elif c > a and c > b:\n",
    "        return c \n",
    "    \n",
    "num1 = int(input(\"수1 = \"))\n",
    "num2 = int(input(\"수2 = \"))\n",
    "num3 = int(input(\"수3 = \"))\n",
    "\n",
    "print(\"큰수 = {}\".format(large1(num1, num2, num3))) # 함수 호출"
   ]
  },
  {
   "cell_type": "code",
   "execution_count": 101,
   "metadata": {},
   "outputs": [
    {
     "name": "stdout",
     "output_type": "stream",
     "text": [
      "수1 = 3\n",
      "수2 = 2\n",
      "수3 = 1\n",
      "큰수 = 3\n"
     ]
    }
   ],
   "source": [
    "# 세 개의 수를 입력받아 큰 수를 출력하는 프로그램을 구현하시오.\n",
    "# 강사님\n",
    "\n",
    "num1 = int(input(\"수1 = \"))\n",
    "num2 = int(input(\"수2 = \"))\n",
    "num3 = int(input(\"수3 = \"))\n",
    "\n",
    "# 비교연산자(관계연산자) : >, >=, <, <=, ==, != \n",
    "# 논리연산자 : and, or, not\n",
    "if num1 > num2 and num1 > num3:\n",
    "    max1 = num1\n",
    "elif num2 > num1 and num2 > num3:\n",
    "    max1 = num2\n",
    "elif num3 > num2 and num3 > num1:\n",
    "    max1 = num3\n",
    "    \n",
    "print(\"큰수 = {}\".format(max1)) # 함수 호출"
   ]
  },
  {
   "cell_type": "code",
   "execution_count": 126,
   "metadata": {},
   "outputs": [
    {
     "name": "stdout",
     "output_type": "stream",
     "text": [
      "국어 = 100\n",
      "영어 = 80\n",
      "수학 = 70\n",
      "3과목의 총점은 250점, 평균은 83.33,  학점은 B 입니다.\n"
     ]
    }
   ],
   "source": [
    "# 성적프로그램\n",
    "# 국어, 영어, 수학점수를 입력받아 총점과 평균을 계산한 후 출력하는 프로그램\n",
    "\n",
    "# 성적프로그램 2단계\n",
    "# 평균을 이용하여 학점을 계산하여 출력하는 프로그램을 구현하시오.\n",
    "# 학점은 'A', 'B', 'c', 'D', 'E', 'F'\n",
    "# 90점이상은 'A', 80점이상은 'B', 70점이상은 'C', 60점이상은 'D', 그외 'F'로 처리\n",
    "\n",
    "korean = int(input(\"국어 = \"))\n",
    "english = int(input(\"영어 = \"))\n",
    "math = int(input(\"수학 = \"))\n",
    "\n",
    "total = korean + english + math\n",
    "avg = total / 3\n",
    "\n",
    "if avg >= 90:\n",
    "    grade = \"A\"\n",
    "elif 80 <= avg < 90:\n",
    "    grade = \"B\"\n",
    "elif 70 <= avg < 80:\n",
    "    grade = \"C\"\n",
    "elif 60 <= avg < 70:\n",
    "    grade = \"D\"\n",
    "else:\n",
    "    grade = \"E\"\n",
    "\n",
    "print(\"3과목의 총점은 {0}점, 평균은 {1:.2F},  학점은 {2} 입니다.\".format(total, avg, grade))"
   ]
  },
  {
   "cell_type": "markdown",
   "metadata": {},
   "source": [
    "### 반복문 : 동일하거나 유사한문장 (규칙을 가지고 있는 문장)\n",
    "### while 논리조건식 : 사용자의 행위에 의해 반복을 제어할 때 사용하는 문장\n",
    "### 무한Loop => while True:\n",
    "### for : 횟수를 제어할 때"
   ]
  },
  {
   "cell_type": "code",
   "execution_count": 135,
   "metadata": {},
   "outputs": [
    {
     "name": "stdout",
     "output_type": "stream",
     "text": [
      "1 2 3 4 5 6 7 8 9 10 "
     ]
    }
   ],
   "source": [
    "# 1부터 10까지의 자연수를 출력하는 프로그램\n",
    "for i in range(1, 11):\n",
    "    print(i, end = \" \")"
   ]
  },
  {
   "cell_type": "code",
   "execution_count": 139,
   "metadata": {},
   "outputs": [
    {
     "name": "stdout",
     "output_type": "stream",
     "text": [
      "1 2 3 4 5 6 7 8 9 10 "
     ]
    }
   ],
   "source": [
    "# 1부터 10까지의 자연수를 출력하는 프로그램\n",
    "i = 1\n",
    "while i <= 10:\n",
    "    print(i, end = \" \")\n",
    "    i += 1  "
   ]
  },
  {
   "cell_type": "code",
   "execution_count": 141,
   "metadata": {},
   "outputs": [
    {
     "name": "stdout",
     "output_type": "stream",
     "text": [
      "1 2 3 4 5 6 7 8 9 10 "
     ]
    }
   ],
   "source": [
    "# 기타 제어문 : break, continue\n",
    "i = 1\n",
    "while True:  # 무한루프 break가 있어야 함.\n",
    "    #if i > 10: break -> 상관이 없다.\n",
    "    print(i, end = \" \")\n",
    "   #if i == 10: break -> 여기서는 이미 10을 찍었기 때문에 10해도 된다.\n",
    "    i += 1\n",
    "    if i == 11: break# break거는 if문은 어디에 있든 상관이 없다.\n",
    "   #if i > 10: break -> 이렇게 해도 됨. (다양함 대신 코드의 순서를 보면서 코딩하기.)      "
   ]
  },
  {
   "cell_type": "code",
   "execution_count": 148,
   "metadata": {},
   "outputs": [
    {
     "name": "stdout",
     "output_type": "stream",
     "text": [
      "비밀번호 = 아냐\n",
      "다시 시도하시오 : \n",
      "비밀번호 = 냐ㅓㄴ\n",
      "다시 시도하시오 : \n",
      "비밀번호 = python\n"
     ]
    }
   ],
   "source": [
    "# 비밀번호가 일치하면 프로그램을 종료하도록 구현하시오.\n",
    "password = \"python\"\n",
    "\n",
    "while True:\n",
    "    word = input(\"비밀번호 = \")\n",
    "    if word == password:break\n",
    "    print(\"다시 시도하시오 : \")   "
   ]
  },
  {
   "cell_type": "code",
   "execution_count": 150,
   "metadata": {},
   "outputs": [
    {
     "name": "stdout",
     "output_type": "stream",
     "text": [
      "JAVA C ORACLE R PYTHON "
     ]
    }
   ],
   "source": [
    "# for 개별변수 in 집합변수( list, tuple, dic, set, 문자열 )\n",
    "for word in ['JAVA', 'C', \"ORACLE\", \"R\", \"PYTHON\"]:\n",
    "    print(word, end = \" \")"
   ]
  },
  {
   "cell_type": "code",
   "execution_count": 151,
   "metadata": {},
   "outputs": [
    {
     "name": "stdout",
     "output_type": "stream",
     "text": [
      "JAVA C ORACLE R PYTHON "
     ]
    }
   ],
   "source": [
    "subject = ['JAVA', 'C', \"ORACLE\", \"R\", \"PYTHON\"] #리스트 타입임.\n",
    "for word in subject:\n",
    "    print(word, end = \" \")"
   ]
  },
  {
   "cell_type": "code",
   "execution_count": 155,
   "metadata": {},
   "outputs": [
    {
     "name": "stdout",
     "output_type": "stream",
     "text": [
      "1 2\n",
      "3 4\n",
      "5 6\n"
     ]
    }
   ],
   "source": [
    "#리스트의 요소로 튜플을 가지고 있을 때\n",
    "a = [(1, 2), (3, 4), (5, 6)] # (1,2)가 하나의 리스트 그안에 1, 2 2개의 튜플\n",
    "b = (1, 2, 3, 4, 5)\n",
    "\n",
    "# i, j = (1, 2)\n",
    "for i, j in a:  # 2개로 받으면 나누어 진다.\n",
    "    print(i, j) "
   ]
  },
  {
   "cell_type": "code",
   "execution_count": 171,
   "metadata": {},
   "outputs": [
    {
     "name": "stdout",
     "output_type": "stream",
     "text": [
      "수1 = 8\n",
      "수2 = 0\n",
      "08\n"
     ]
    }
   ],
   "source": [
    "# 두 개의 정수를 입력받아 두 수 사이의 자연수의 합을 누적해서 출력하는 프로그램을 구현하시오.\n",
    "# 첫번째 수 = 1  5\n",
    "# 두번째 수 = 5  1\n",
    "# 사이 합 = 15  15\n",
    "\n",
    "su1 = int(input(\"수1 = \"))\n",
    "su2 = int(input(\"수2 = \"))\n",
    "\n",
    "if su1 > su2:\n",
    "    print(\"{0}{1}\".format(su2, su1))\n",
    "else:\n",
    "    print(\"{0}{1}\".format(su1, su2))    "
   ]
  },
  {
   "cell_type": "code",
   "execution_count": 181,
   "metadata": {},
   "outputs": [
    {
     "name": "stdout",
     "output_type": "stream",
     "text": [
      "수1 = 9\n",
      "수2 = 5\n",
      "두수의 합은 59 입니다\n",
      "두수의 합은 59 입니다\n",
      "두수의 합은 59 입니다\n",
      "두수의 합은 59 입니다\n",
      "두수의 합은 59 입니다\n"
     ]
    }
   ],
   "source": [
    "# 내꺼 -> 문제랑 완전 다름.\n",
    "su1 = int(input(\"수1 = \"))\n",
    "su2 = int(input(\"수2 = \"))\n",
    "\n",
    "if su1 > su2:\n",
    "    su1, su2 = su2, su1\n",
    "\n",
    "for t in range(su1, su2+1):\n",
    "    print(\"두수의 합은 {0}{1} 입니다\".format(su1, su2))"
   ]
  },
  {
   "cell_type": "code",
   "execution_count": 169,
   "metadata": {},
   "outputs": [
    {
     "name": "stdout",
     "output_type": "stream",
     "text": [
      "수1 = 1\n",
      "수2 = 10\n",
      "사이합 = 55\n"
     ]
    }
   ],
   "source": [
    "# 강사님\n",
    "su1 = int(input(\"수1 = \"))\n",
    "su2 = int(input(\"수2 = \"))\n",
    "sum = 0\n",
    "\n",
    "# 입력받은 두 수의 대소관계를 비교\n",
    "if su1 > su2:\n",
    "    su1, su2 = su2, su1\n",
    "\n",
    "for i in range(su1, su2+1): # su1=0, su2=9 -> range(0, 9)가 된다. 0 ~ 8\n",
    "    sum = sum + i\n",
    "    \n",
    "print(\"사이합 = {}\".format(sum))"
   ]
  },
  {
   "cell_type": "code",
   "execution_count": 183,
   "metadata": {},
   "outputs": [
    {
     "name": "stdout",
     "output_type": "stream",
     "text": [
      "[3, 6, 9, 12, 15]\n"
     ]
    }
   ],
   "source": [
    "# 리스트 내포(list comprehension) : 리스트내에 for문을 포함하는 문장\n",
    "a = [1, 2, 3, 4, 5]\n",
    "result = [] # 비어있는 리스트 자료형 생성\n",
    "\n",
    "for i in a:\n",
    "    result.append(i*3) \n",
    "    \n",
    "print(result)"
   ]
  },
  {
   "cell_type": "code",
   "execution_count": 184,
   "metadata": {},
   "outputs": [
    {
     "name": "stdout",
     "output_type": "stream",
     "text": [
      "[3, 6, 9, 12, 15]\n"
     ]
    }
   ],
   "source": [
    "a = [1, 2, 3, 4, 5]\n",
    "\n",
    "result = [i*3 for i in a] # a에 있는 i 을 3 곱해라\n",
    "print(result)"
   ]
  },
  {
   "cell_type": "code",
   "execution_count": 185,
   "metadata": {},
   "outputs": [
    {
     "name": "stdout",
     "output_type": "stream",
     "text": [
      "[6, 12]\n"
     ]
    }
   ],
   "source": [
    "# 리스트 요소중 짝수 값만 3을 곱하여 리스트에 담아서 출력\n",
    "a = [1, 2, 3, 4, 5]\n",
    "result = []\n",
    "\n",
    "for i in a:\n",
    "    if i % 2 == 0:\n",
    "        result.append(i * 3)\n",
    "\n",
    "print(result)"
   ]
  },
  {
   "cell_type": "code",
   "execution_count": 186,
   "metadata": {},
   "outputs": [
    {
     "name": "stdout",
     "output_type": "stream",
     "text": [
      "[6, 12]\n"
     ]
    }
   ],
   "source": [
    "a = [1, 2, 3, 4, 5]\n",
    "\n",
    "#[표현식 for 개별변수 in 집합변수 if 조건식]\n",
    "result = [i*3 for i in a if i % 2 == 0] # :이 생략이 되었다.\n",
    "\n",
    "\n",
    "print(result)"
   ]
  },
  {
   "cell_type": "code",
   "execution_count": 188,
   "metadata": {},
   "outputs": [
    {
     "name": "stdout",
     "output_type": "stream",
     "text": [
      "2 X 2 = 4\n",
      "2 X 3 = 6\n",
      "2 X 4 = 8\n",
      "2 X 5 = 10\n",
      "2 X 6 = 12\n",
      "2 X 7 = 14\n",
      "2 X 8 = 16\n",
      "2 X 9 = 18\n",
      "3 X 2 = 6\n",
      "3 X 3 = 9\n",
      "3 X 4 = 12\n",
      "3 X 5 = 15\n",
      "3 X 6 = 18\n",
      "3 X 7 = 21\n",
      "3 X 8 = 24\n",
      "3 X 9 = 27\n",
      "4 X 2 = 8\n",
      "4 X 3 = 12\n",
      "4 X 4 = 16\n",
      "4 X 5 = 20\n",
      "4 X 6 = 24\n",
      "4 X 7 = 28\n",
      "4 X 8 = 32\n",
      "4 X 9 = 36\n",
      "5 X 2 = 10\n",
      "5 X 3 = 15\n",
      "5 X 4 = 20\n",
      "5 X 5 = 25\n",
      "5 X 6 = 30\n",
      "5 X 7 = 35\n",
      "5 X 8 = 40\n",
      "5 X 9 = 45\n",
      "6 X 2 = 12\n",
      "6 X 3 = 18\n",
      "6 X 4 = 24\n",
      "6 X 5 = 30\n",
      "6 X 6 = 36\n",
      "6 X 7 = 42\n",
      "6 X 8 = 48\n",
      "6 X 9 = 54\n",
      "7 X 2 = 14\n",
      "7 X 3 = 21\n",
      "7 X 4 = 28\n",
      "7 X 5 = 35\n",
      "7 X 6 = 42\n",
      "7 X 7 = 49\n",
      "7 X 8 = 56\n",
      "7 X 9 = 63\n",
      "8 X 2 = 16\n",
      "8 X 3 = 24\n",
      "8 X 4 = 32\n",
      "8 X 5 = 40\n",
      "8 X 6 = 48\n",
      "8 X 7 = 56\n",
      "8 X 8 = 64\n",
      "8 X 9 = 72\n",
      "9 X 2 = 18\n",
      "9 X 3 = 27\n",
      "9 X 4 = 36\n",
      "9 X 5 = 45\n",
      "9 X 6 = 54\n",
      "9 X 7 = 63\n",
      "9 X 8 = 72\n",
      "9 X 9 = 81\n"
     ]
    }
   ],
   "source": [
    "for dan in range(2, 10):\n",
    "    for num in range(2, 10):\n",
    "        print(\"{0} X {1} = {2}\".format(dan, num, dan * num))"
   ]
  },
  {
   "cell_type": "code",
   "execution_count": 193,
   "metadata": {},
   "outputs": [
    {
     "name": "stdout",
     "output_type": "stream",
     "text": [
      "[2, 4, 6, 8, 10, 12, 14, 16, 18, 3, 6, 9, 12, 15, 18, 21, 24, 27, 4, 8, 12, 16, 20, 24, 28, 32, 36, 5, 10, 15, 20, 25, 30, 35, 40, 45, 6, 12, 18, 24, 30, 36, 42, 48, 54, 7, 14, 21, 28, 35, 42, 49, 56, 63, 8, 16, 24, 32, 40, 48, 56, 64, 72, 9, 18, 27, 36, 45, 54, 63, 72, 81]\n"
     ]
    }
   ],
   "source": [
    "result = []\n",
    "\n",
    "for dan in range(2, 10):\n",
    "    for num in range(1, 10):\n",
    "        result.append(dan*num) # append는 뒤에 추가하는 함수\n",
    "print(result)"
   ]
  },
  {
   "cell_type": "code",
   "execution_count": 194,
   "metadata": {},
   "outputs": [
    {
     "name": "stdout",
     "output_type": "stream",
     "text": [
      "[2, 4, 6, 8, 10, 12, 14, 16, 18, 3, 6, 9, 12, 15, 18, 21, 24, 27, 4, 8, 12, 16, 20, 24, 28, 32, 36, 5, 10, 15, 20, 25, 30, 35, 40, 45, 6, 12, 18, 24, 30, 36, 42, 48, 54, 7, 14, 21, 28, 35, 42, 49, 56, 63, 8, 16, 24, 32, 40, 48, 56, 64, 72, 9, 18, 27, 36, 45, 54, 63, 72, 81]\n"
     ]
    }
   ],
   "source": [
    "# 권장 X -> 가독성 떨어짐\n",
    "result = [dan*num for dan in range(2, 10) for num in range(1, 10)]\n",
    "print(result)"
   ]
  },
  {
   "cell_type": "code",
   "execution_count": 200,
   "metadata": {},
   "outputs": [
    {
     "name": "stdout",
     "output_type": "stream",
     "text": [
      "['a', 'b', 'c']\n",
      "b\n"
     ]
    }
   ],
   "source": [
    "a = [1, 2, ['a', 'b', 'c']]\n",
    "# b = list() # b = [] 이렇게 표현 가능.\n",
    "# c = 0 # c는 앞으로 정수형 데이터 담겠다. 대신 c = int() 라고 써도 된다.\n",
    "\n",
    "# indexing : 요소위치 값을 이용해서 특정 요소를 검색\n",
    "print(a[2])    \n",
    "print(a[2][1])  # 리스트 안에 리스트를 담을 수 있다."
   ]
  },
  {
   "cell_type": "code",
   "execution_count": 201,
   "metadata": {},
   "outputs": [
    {
     "data": {
      "text/plain": [
       "{'name ': '장보고'}"
      ]
     },
     "execution_count": 201,
     "metadata": {},
     "output_type": "execute_result"
    }
   ],
   "source": [
    "# 딕셔너리 자료형 \n",
    "# ( key : value ) = item\n",
    "# key는 중복을 허용하지 않는다. => set \n",
    "# value는 중복을 허용한다.\n",
    "# dic객체명.keys(), dic객체명.values(), dic객체명.items()\n",
    "# 생성 : 중괄호 {}을 사용.\n",
    "people = {'name ' : \"장보고\"}\n",
    "people"
   ]
  },
  {
   "cell_type": "code",
   "execution_count": 202,
   "metadata": {},
   "outputs": [
    {
     "data": {
      "text/plain": [
       "{'name ': '장보고', 'age': 13}"
      ]
     },
     "execution_count": 202,
     "metadata": {},
     "output_type": "execute_result"
    }
   ],
   "source": [
    "people['age'] = 13 # 딕셔너리에 추가하기.\n",
    "people"
   ]
  },
  {
   "cell_type": "code",
   "execution_count": 217,
   "metadata": {},
   "outputs": [
    {
     "data": {
      "text/plain": [
       "{'name ': '장보고', 'age': 13, 'hobby': '잠'}"
      ]
     },
     "execution_count": 217,
     "metadata": {},
     "output_type": "execute_result"
    }
   ],
   "source": [
    "people['hobby'] = '잠'\n",
    "people"
   ]
  },
  {
   "cell_type": "code",
   "execution_count": 204,
   "metadata": {},
   "outputs": [
    {
     "data": {
      "text/plain": [
       "dict_keys(['name ', 'age', 'hobby'])"
      ]
     },
     "execution_count": 204,
     "metadata": {},
     "output_type": "execute_result"
    }
   ],
   "source": [
    "people.keys() #리스트에 담겨 있음"
   ]
  },
  {
   "cell_type": "code",
   "execution_count": 205,
   "metadata": {},
   "outputs": [
    {
     "data": {
      "text/plain": [
       "dict_values(['장보고', 13, '잠'])"
      ]
     },
     "execution_count": 205,
     "metadata": {},
     "output_type": "execute_result"
    }
   ],
   "source": [
    "people.values() # 리스트에 담겨 있음"
   ]
  },
  {
   "cell_type": "code",
   "execution_count": 206,
   "metadata": {},
   "outputs": [
    {
     "data": {
      "text/plain": [
       "dict_items([('name ', '장보고'), ('age', 13), ('hobby', '잠')])"
      ]
     },
     "execution_count": 206,
     "metadata": {},
     "output_type": "execute_result"
    }
   ],
   "source": [
    "people.items() # items는 리스트에 담겨 있지만 key와 value는 튜플에 담겨 있음."
   ]
  },
  {
   "cell_type": "code",
   "execution_count": 207,
   "metadata": {},
   "outputs": [
    {
     "name": "stdout",
     "output_type": "stream",
     "text": [
      "name \n",
      "age\n",
      "hobby\n"
     ]
    }
   ],
   "source": [
    "for i in people:\n",
    "    print(i)    # key만 나옴"
   ]
  },
  {
   "cell_type": "code",
   "execution_count": 208,
   "metadata": {},
   "outputs": [
    {
     "name": "stdout",
     "output_type": "stream",
     "text": [
      "장보고\n",
      "13\n",
      "잠\n"
     ]
    }
   ],
   "source": [
    "for i in people:\n",
    "    print(people[i])  #people에 인덱싱 하여 value 값을 가지고 옴.\n",
    "                      # people.get(i) 이렇게도 쓴다."
   ]
  },
  {
   "cell_type": "code",
   "execution_count": 214,
   "metadata": {},
   "outputs": [
    {
     "name": "stdout",
     "output_type": "stream",
     "text": [
      "name  : 장보고\n",
      "age : 13\n",
      "hobby : 잠\n"
     ]
    }
   ],
   "source": [
    "for key, value in people.items():\n",
    "    print(key, \":\", value)"
   ]
  },
  {
   "cell_type": "code",
   "execution_count": 218,
   "metadata": {},
   "outputs": [
    {
     "data": {
      "text/plain": [
       "{'name ': '장보고', 'age': 13}"
      ]
     },
     "execution_count": 218,
     "metadata": {},
     "output_type": "execute_result"
    }
   ],
   "source": [
    "del people['hobby'] # 제거하기\n",
    "people"
   ]
  },
  {
   "cell_type": "code",
   "execution_count": 14,
   "metadata": {},
   "outputs": [
    {
     "name": "stdout",
     "output_type": "stream",
     "text": [
      "국어1 = 30\n",
      "영어1 = 30\n",
      "수학1 = 30\n",
      "국어2 = 40\n",
      "영어2 = 30\n",
      "수학2 = 40\n",
      "국어3 = 40\n",
      "영어3 = 40\n",
      "수학3 = 40\n"
     ]
    },
    {
     "ename": "NameError",
     "evalue": "name 'count' is not defined",
     "output_type": "error",
     "traceback": [
      "\u001b[1;31m---------------------------------------------------------------------------\u001b[0m",
      "\u001b[1;31mNameError\u001b[0m                                 Traceback (most recent call last)",
      "\u001b[1;32m<ipython-input-14-6cc9e95eea96>\u001b[0m in \u001b[0;36m<module>\u001b[1;34m\u001b[0m\n\u001b[0;32m     26\u001b[0m \u001b[0mmat_total\u001b[0m \u001b[1;33m=\u001b[0m \u001b[0mmat1\u001b[0m \u001b[1;33m+\u001b[0m \u001b[0mmat2\u001b[0m \u001b[1;33m+\u001b[0m \u001b[0mmat3\u001b[0m\u001b[1;33m\u001b[0m\u001b[1;33m\u001b[0m\u001b[0m\n\u001b[0;32m     27\u001b[0m \u001b[1;33m\u001b[0m\u001b[0m\n\u001b[1;32m---> 28\u001b[1;33m \u001b[0mavg_kor\u001b[0m \u001b[1;33m=\u001b[0m \u001b[0mkor_total\u001b[0m \u001b[1;33m/\u001b[0m \u001b[0mcount\u001b[0m\u001b[1;33m(\u001b[0m\u001b[0mkor_total\u001b[0m\u001b[1;33m)\u001b[0m\u001b[1;33m\u001b[0m\u001b[1;33m\u001b[0m\u001b[0m\n\u001b[0m\u001b[0;32m     29\u001b[0m \u001b[0mavg_eng\u001b[0m \u001b[1;33m=\u001b[0m \u001b[0meng_total\u001b[0m \u001b[1;33m/\u001b[0m \u001b[0mcount\u001b[0m\u001b[1;33m(\u001b[0m\u001b[0meng_total\u001b[0m\u001b[1;33m)\u001b[0m\u001b[1;33m\u001b[0m\u001b[1;33m\u001b[0m\u001b[0m\n\u001b[0;32m     30\u001b[0m \u001b[0mavg_mat\u001b[0m \u001b[1;33m=\u001b[0m \u001b[0mmat_total\u001b[0m \u001b[1;33m/\u001b[0m \u001b[0mcount\u001b[0m\u001b[1;33m(\u001b[0m\u001b[0mmat_total\u001b[0m\u001b[1;33m)\u001b[0m\u001b[1;33m\u001b[0m\u001b[1;33m\u001b[0m\u001b[0m\n",
      "\u001b[1;31mNameError\u001b[0m: name 'count' is not defined"
     ]
    }
   ],
   "source": [
    "# 성적처리프로그램 3단계\n",
    "# 3명 국어, 영어, 수학 점수를 입력받아 총점과 평균을 출력하는 프로그램을 구현하시오.\n",
    "# 평균은 소숫점이하 둘째자리까지 추출할 것.\n",
    "kor1 = int(input(\"국어1 = \"))\n",
    "eng1 = int(input(\"영어1 = \"))\n",
    "mat1 = int(input(\"수학1 = \"))\n",
    "\n",
    "kor2 = int(input(\"국어2 = \"))\n",
    "eng2 = int(input(\"영어2 = \"))\n",
    "mat2 = int(input(\"수학2 = \"))\n",
    "\n",
    "kor3 = int(input(\"국어3 = \"))\n",
    "eng3 = int(input(\"영어3 = \"))\n",
    "mat3 = int(input(\"수학3 = \"))\n",
    "\n",
    "total1 = kor1 + eng1 + mat1\n",
    "total2 = kor2 + eng2 + mat2\n",
    "total3 = kor3 + eng3 + mat3\n",
    "\n",
    "avg1 = total1 / 3\n",
    "avg2 = total2 / 3\n",
    "avg3 = total3 / 3\n",
    "\n",
    "kor_total = kor1 + kor2 + kor3\n",
    "eng_total = eng1 + eng2 + eng3\n",
    "mat_total = mat1 + mat2 + mat3\n",
    "\n",
    "avg_kor = kor_total / 3\n",
    "avg_eng = eng_total / 3\n",
    "avg_mat = mat_total / 3\n",
    "\n",
    "print(\"3과목에 대한 1번 학생평균은 {0}, 2번학생 평균은 {1}, 3번학생 평균은 {2} 이고\\\n",
    "각 국어 평균은 {3}, 영어 평균은 {4}, 수학 평균은 {5} 입니다.\".format(avg1, avg2, avg3, avg_kor, avg_eng, avg_mat))\n",
    "\n"
   ]
  },
  {
   "cell_type": "code",
   "execution_count": 8,
   "metadata": {},
   "outputs": [
    {
     "name": "stdout",
     "output_type": "stream",
     "text": [
      "국어 : 30\n",
      "영어 : 30\n",
      "수학 : 30\n",
      "{'국어': 30, '영어': 30, '수학': 30}\n",
      "국어 : 30\n",
      "영어 : 30\n",
      "수학 : 30\n",
      "{'국어': 30, '영어': 30, '수학': 30}\n",
      "국어 : 30\n",
      "영어 : 30\n",
      "수학 : 30\n",
      "{'국어': 30, '영어': 30, '수학': 30}\n"
     ]
    },
    {
     "ename": "KeyError",
     "evalue": "0",
     "output_type": "error",
     "traceback": [
      "\u001b[1;31m---------------------------------------------------------------------------\u001b[0m",
      "\u001b[1;31mKeyError\u001b[0m                                  Traceback (most recent call last)",
      "\u001b[1;32m<ipython-input-8-81777d50aa86>\u001b[0m in \u001b[0;36m<module>\u001b[1;34m\u001b[0m\n\u001b[0;32m     16\u001b[0m \u001b[0mstudent3\u001b[0m\u001b[1;33m[\u001b[0m\u001b[1;34m'수학'\u001b[0m\u001b[1;33m]\u001b[0m \u001b[1;33m=\u001b[0m \u001b[0mint\u001b[0m\u001b[1;33m(\u001b[0m\u001b[0minput\u001b[0m\u001b[1;33m(\u001b[0m\u001b[1;34m\"수학 : \"\u001b[0m\u001b[1;33m)\u001b[0m\u001b[1;33m)\u001b[0m\u001b[1;33m\u001b[0m\u001b[1;33m\u001b[0m\u001b[0m\n\u001b[0;32m     17\u001b[0m \u001b[0mprint\u001b[0m\u001b[1;33m(\u001b[0m\u001b[0mstudent3\u001b[0m\u001b[1;33m)\u001b[0m\u001b[1;33m\u001b[0m\u001b[1;33m\u001b[0m\u001b[0m\n\u001b[1;32m---> 18\u001b[1;33m \u001b[0mstudent1\u001b[0m\u001b[1;33m[\u001b[0m\u001b[1;36m0\u001b[0m\u001b[1;33m]\u001b[0m\u001b[1;33m\u001b[0m\u001b[1;33m\u001b[0m\u001b[0m\n\u001b[0m",
      "\u001b[1;31mKeyError\u001b[0m: 0"
     ]
    }
   ],
   "source": [
    "student1 = {}\n",
    "student1['국어'] = int(input(\"국어 : \"))\n",
    "student1['영어'] = int(input(\"영어 : \"))\n",
    "student1['수학'] = int(input(\"수학 : \"))\n",
    "print(student1)\n",
    "\n",
    "student2 = {}\n",
    "student2['국어'] = int(input(\"국어 : \"))\n",
    "student2['영어'] = int(input(\"영어 : \"))\n",
    "student2['수학'] = int(input(\"수학 : \"))\n",
    "print(student2)\n",
    "\n",
    "student3 = {}\n",
    "student3['국어'] = int(input(\"국어 : \"))\n",
    "student3['영어'] = int(input(\"영어 : \"))\n",
    "student3['수학'] = int(input(\"수학 : \"))\n",
    "print(student3)\n",
    "student1[0]\n"
   ]
  },
  {
   "cell_type": "markdown",
   "metadata": {},
   "source": [
    "### "
   ]
  }
 ],
 "metadata": {
  "kernelspec": {
   "display_name": "Python 3",
   "language": "python",
   "name": "python3"
  },
  "language_info": {
   "codemirror_mode": {
    "name": "ipython",
    "version": 3
   },
   "file_extension": ".py",
   "mimetype": "text/x-python",
   "name": "python",
   "nbconvert_exporter": "python",
   "pygments_lexer": "ipython3",
   "version": "3.7.3"
  }
 },
 "nbformat": 4,
 "nbformat_minor": 2
}
