{
 "cells": [
  {
   "cell_type": "markdown",
   "metadata": {},
   "source": [
    "### 00. 함수(Function)\n",
    "- 일정한 작업을 수행하는 명령어들의 집합\n",
    "- 자주 빈번하게 사용되는 기능이나 명령어를 하나의 이름으로 묶어 처리\n",
    "- 코딩 효율성, 기능마다 묶어서 사용 -> 유지 보수 관리 용이\n",
    "- 형식 def(=define) 함수명(매개변수):\n",
    "-                        수행할 문장들....\n",
    "-                        return 리턴값"
   ]
  },
  {
   "cell_type": "code",
   "execution_count": null,
   "metadata": {},
   "outputs": [],
   "source": [
    "def function(): #function -> 함수의 이름 (개발자 마음)\n",
    "    pass # 수행할 문장들....\n",
    "    # return # 생략 되어 잇음 -> 안적어도 자동으로 메인으로 넘어옴"
   ]
  },
  {
   "cell_type": "code",
   "execution_count": 5,
   "metadata": {},
   "outputs": [
    {
     "name": "stdout",
     "output_type": "stream",
     "text": [
      "12345\n",
      "============\n",
      "안녕하세요.\n",
      "============\n",
      "오늘은 월요일입니다.\n",
      "내일은 화요일입니다.\n",
      "============\n",
      "============\n"
     ]
    }
   ],
   "source": [
    "print(12345)\n",
    "#print(\"===========\")\n",
    "disp()\n",
    "print(\"안녕하세요.\")\n",
    "disp()\n",
    "#print(\"===========\")\n",
    "print(\"오늘은 월요일입니다.\")\n",
    "print(\"내일은 화요일입니다.\")\n",
    "#print(\"==========\") # 규칙을 찾기 어려움\n",
    "disp()\n",
    "disp()"
   ]
  },
  {
   "cell_type": "code",
   "execution_count": 4,
   "metadata": {},
   "outputs": [],
   "source": [
    "# 반복문 : 동일하거나 유사한 성격을 가지고 잇는 문장을 반복할 때 \n",
    "# 유사한 문장 : 동일한 행위를 하되 일정한 규칙을 가지고 있는 문장\n",
    "\n",
    "def disp():\n",
    "    print(\"============\") # 동작X, 메모리에는 disp함수 작성 완료"
   ]
  },
  {
   "cell_type": "code",
   "execution_count": 6,
   "metadata": {},
   "outputs": [
    {
     "name": "stdout",
     "output_type": "stream",
     "text": [
      "수1 =10\n",
      "수2 =3\n",
      "덧셈 = 13\n",
      "뺄셈 = 7\n",
      "곱셈 = 30\n",
      "나눗셈 = 3.3333333333333335\n"
     ]
    }
   ],
   "source": [
    "# 계산기 프로그램\n",
    "# 두개의 정수를 입력받아 덧셈과 뺄셈 그리고 곱셈과 나눗셈의 결과를\n",
    "# 출력하는 프로그램\n",
    "\n",
    "\n",
    "adder = su1 + su2\n",
    "sub = su1 - su2\n",
    "multi = su1 * su2\n",
    "div = su1 / su2\n",
    "\n",
    "print(\"덧셈 =\", adder)\n",
    "print(\"뺄셈 =\", sub)\n",
    "print(\"곱셈 =\", multi)\n",
    "print(\"나눗셈 =\", div)"
   ]
  },
  {
   "cell_type": "code",
   "execution_count": 9,
   "metadata": {},
   "outputs": [],
   "source": [
    "# 함수 정의\n",
    "def adder(x, y):\n",
    "    c = x + y   \n",
    "    return c # return 적어 줘야함 C의 값을 보내줘야 하니깐\n",
    "  #  return x+y  # 위에 C 없애고 가능은 하나 return은 두개 보낼 수 없음\n",
    "                 # 한개 값만 보냄 근데 python"
   ]
  },
  {
   "cell_type": "code",
   "execution_count": 10,
   "metadata": {},
   "outputs": [
    {
     "name": "stdout",
     "output_type": "stream",
     "text": [
      "수1 =10\n",
      "수2 =5\n",
      "1.덧셈 2.뺄셈 3.곱셈 4.나눗셈 = 1\n",
      "결과는 = 15\n"
     ]
    }
   ],
   "source": [
    "su1 = int(input('수1 ='))\n",
    "su2 = int(input('수2 ='))\n",
    "oppr = input(\"1.덧셈 2.뺄셈 3.곱셈 4.나눗셈 = \")\n",
    "\n",
    "result = 0\n",
    "\n",
    "if oppr == \"1\":\n",
    "    result = adder(su1, su2) # su1 -> adder x, su2 -> adder y, 함수호출\n",
    "elif oppr =='2':\n",
    "    result = su1 - su2\n",
    "elif oppr =='3':\n",
    "    result = su1 * su2\n",
    "elif oppr =='4':\n",
    "    result = su1 / su2\n",
    "else:\n",
    "    print(\"연산자가 올바르지 않습니다.\")\n",
    "    \n",
    "print(\"결과는 =\", result)"
   ]
  },
  {
   "cell_type": "code",
   "execution_count": 11,
   "metadata": {},
   "outputs": [],
   "source": [
    "def twotimes(x):\n",
    "    y = 2 * x\n",
    "    return y"
   ]
  },
  {
   "cell_type": "code",
   "execution_count": 13,
   "metadata": {},
   "outputs": [
    {
     "data": {
      "text/plain": [
       "4"
      ]
     },
     "execution_count": 13,
     "metadata": {},
     "output_type": "execute_result"
    }
   ],
   "source": [
    "twotimes(2)"
   ]
  },
  {
   "cell_type": "code",
   "execution_count": 26,
   "metadata": {},
   "outputs": [],
   "source": [
    "# 하나의 숫자를 입력받아 짝수인지 홀수인지 판정하는 프로그램\n",
    "# 이때, 짝수와 홀수를 판정하는 식을 함수로 구현할 것\n",
    "# 내 것\n",
    "def esti(x):\n",
    "    if x % 2 == 0:\n",
    "        print(\"짝수\")\n",
    "    else:\n",
    "        print(\"홀수\")\n",
    "    return x"
   ]
  },
  {
   "cell_type": "code",
   "execution_count": 27,
   "metadata": {},
   "outputs": [
    {
     "name": "stdout",
     "output_type": "stream",
     "text": [
      "수 = 5\n",
      "홀수\n",
      "5\n"
     ]
    }
   ],
   "source": [
    "n= int(input('수 = '))\n",
    "\n",
    "print(esti(n))"
   ]
  },
  {
   "cell_type": "code",
   "execution_count": 23,
   "metadata": {},
   "outputs": [],
   "source": [
    "# 하나의 숫자를 입력받아 짝수인지 홀수인지 판정하는 프로그램\n",
    "# 이때, 짝수와 홀수를 판정하는 식을 함수로 구현할 것\n",
    "# 강사님\n",
    "def check(x):\n",
    "    if x % 2 == 0:\n",
    "        return \"짝수\"\n",
    "    else:\n",
    "        return \"홀수\""
   ]
  },
  {
   "cell_type": "code",
   "execution_count": 25,
   "metadata": {},
   "outputs": [
    {
     "name": "stdout",
     "output_type": "stream",
     "text": [
      "수 = 5\n",
      "홀수\n"
     ]
    }
   ],
   "source": [
    "n= int(input('수 = '))\n",
    "\n",
    "print(check(n))"
   ]
  },
  {
   "cell_type": "code",
   "execution_count": 28,
   "metadata": {},
   "outputs": [],
   "source": [
    "# 권장 X 보기만\n",
    "# 람다함수(lambda) : 함수의 이름을 주지않거나 코드를 짧게 줄여서 쓸때\n",
    "def f(x):\n",
    "    return 2 * x"
   ]
  },
  {
   "cell_type": "code",
   "execution_count": 29,
   "metadata": {},
   "outputs": [
    {
     "data": {
      "text/plain": [
       "4"
      ]
     },
     "execution_count": 29,
     "metadata": {},
     "output_type": "execute_result"
    }
   ],
   "source": [
    "f(2)"
   ]
  },
  {
   "cell_type": "code",
   "execution_count": 30,
   "metadata": {},
   "outputs": [],
   "source": [
    "fin = lambda x : 2 * x # x 매개변수 -> 데이터 분석에서 많이 만난다."
   ]
  },
  {
   "cell_type": "code",
   "execution_count": 31,
   "metadata": {},
   "outputs": [
    {
     "data": {
      "text/plain": [
       "4"
      ]
     },
     "execution_count": 31,
     "metadata": {},
     "output_type": "execute_result"
    }
   ],
   "source": [
    "fin(2)"
   ]
  },
  {
   "cell_type": "code",
   "execution_count": 32,
   "metadata": {},
   "outputs": [
    {
     "ename": "NameError",
     "evalue": "name 'a' is not defined",
     "output_type": "error",
     "traceback": [
      "\u001b[1;31m---------------------------------------------------------------------------\u001b[0m",
      "\u001b[1;31mNameError\u001b[0m                                 Traceback (most recent call last)",
      "\u001b[1;32m<ipython-input-32-fca0ad186ad1>\u001b[0m in \u001b[0;36m<module>\u001b[1;34m\u001b[0m\n\u001b[0;32m      1\u001b[0m \u001b[1;31m# 지역변수(local variable)와 전역변수(global variable) 변수 - 하나의 상수 저장\u001b[0m\u001b[1;33m\u001b[0m\u001b[1;33m\u001b[0m\u001b[1;33m\u001b[0m\u001b[0m\n\u001b[1;32m----> 2\u001b[1;33m \u001b[1;32mdel\u001b[0m \u001b[0ma\u001b[0m\u001b[1;33m\u001b[0m\u001b[1;33m\u001b[0m\u001b[0m\n\u001b[0m",
      "\u001b[1;31mNameError\u001b[0m: name 'a' is not defined"
     ]
    }
   ],
   "source": [
    "# 지역변수(local variable)와 전역변수(global variable) 변수 - 하나의 상수 저장\n",
    "del a "
   ]
  },
  {
   "cell_type": "code",
   "execution_count": 39,
   "metadata": {},
   "outputs": [],
   "source": [
    "a = 1\n",
    "def func(x):\n",
    "    a = 10 * x\n",
    "    print(\"a = \", a)\n",
    "    return a"
   ]
  },
  {
   "cell_type": "code",
   "execution_count": 40,
   "metadata": {},
   "outputs": [
    {
     "name": "stdout",
     "output_type": "stream",
     "text": [
      "a =  100\n"
     ]
    },
    {
     "data": {
      "text/plain": [
       "100"
      ]
     },
     "execution_count": 40,
     "metadata": {},
     "output_type": "execute_result"
    }
   ],
   "source": [
    "func(10)"
   ]
  },
  {
   "cell_type": "code",
   "execution_count": 41,
   "metadata": {},
   "outputs": [
    {
     "data": {
      "text/plain": [
       "1"
      ]
     },
     "execution_count": 41,
     "metadata": {},
     "output_type": "execute_result"
    }
   ],
   "source": [
    "a # 여기서 a = 100이라고 출력X -> 특정 함수의 지역변수(sub에 있어서)라서 \n",
    "  # 여기서 1은 위에 있는 특정함수의 변수X 전역변수 라서"
   ]
  },
  {
   "cell_type": "code",
   "execution_count": 44,
   "metadata": {},
   "outputs": [],
   "source": [
    "def sub1(x, y):\n",
    "    return x+y # 매개변수 x, y 결과를 main에 보내라(return) \n",
    "               # 두함수 차이\n",
    "def sub2(x, y):\n",
    "    print(x+y) \n",
    "   # return     # 값을 반환할께 없으면 return뒤에 쓰지 않아도 됨"
   ]
  },
  {
   "cell_type": "code",
   "execution_count": 45,
   "metadata": {},
   "outputs": [
    {
     "name": "stdout",
     "output_type": "stream",
     "text": [
      "30\n"
     ]
    }
   ],
   "source": [
    "print(sub1(10, 20)) # print(30) -> return으로 인해, 꼭 써야 함"
   ]
  },
  {
   "cell_type": "code",
   "execution_count": 46,
   "metadata": {},
   "outputs": [
    {
     "name": "stdout",
     "output_type": "stream",
     "text": [
      "30\n",
      "None\n"
     ]
    }
   ],
   "source": [
    "print(sub2(10, 20)) # print(print(30))\n",
    "                   # None -> print에 print가 되어있어서, 함수에 이미 찍힘\n",
    "                    #     -> 큰 print안에 반환할게 없어서 None이라고 출력 "
   ]
  },
  {
   "cell_type": "code",
   "execution_count": 47,
   "metadata": {},
   "outputs": [
    {
     "data": {
      "text/plain": [
       "100"
      ]
     },
     "execution_count": 47,
     "metadata": {},
     "output_type": "execute_result"
    }
   ],
   "source": [
    "# 사용자 정의 함수와 내장 함수(파이썬에 이미 정의된 함수)\n",
    "abs(-100) # 내장 함수 "
   ]
  },
  {
   "cell_type": "code",
   "execution_count": 48,
   "metadata": {},
   "outputs": [],
   "source": [
    "def my_abs(arg):  # 사용자 정의 함수, arg -> 매개변수\n",
    "    if arg < 0:\n",
    "        return arg * (-1)\n",
    "    else:\n",
    "        return arg"
   ]
  },
  {
   "cell_type": "code",
   "execution_count": 49,
   "metadata": {},
   "outputs": [
    {
     "data": {
      "text/plain": [
       "100"
      ]
     },
     "execution_count": 49,
     "metadata": {},
     "output_type": "execute_result"
    }
   ],
   "source": [
    "my_abs(-100)"
   ]
  },
  {
   "cell_type": "code",
   "execution_count": 50,
   "metadata": {},
   "outputs": [
    {
     "data": {
      "text/plain": [
       "100"
      ]
     },
     "execution_count": 50,
     "metadata": {},
     "output_type": "execute_result"
    }
   ],
   "source": [
    "my_abs(100)"
   ]
  },
  {
   "cell_type": "code",
   "execution_count": 57,
   "metadata": {},
   "outputs": [],
   "source": [
    "# text='감사합니다', count =1 default parameter, 디폴트 매개변수, 매개변수의 초기값, \n",
    "def print_text(text='감사합니다', count=1):\n",
    "    for i in range(count): # 0부터 count 수 까지 적어냄\n",
    "        print(text)"
   ]
  },
  {
   "cell_type": "code",
   "execution_count": 58,
   "metadata": {},
   "outputs": [
    {
     "name": "stdout",
     "output_type": "stream",
     "text": [
      "안녕하세요\n",
      "안녕하세요\n",
      "안녕하세요\n"
     ]
    }
   ],
   "source": [
    "print_text('안녕하세요', 3) # 매개변수 맞춰줘야 함"
   ]
  },
  {
   "cell_type": "code",
   "execution_count": 59,
   "metadata": {},
   "outputs": [
    {
     "name": "stdout",
     "output_type": "stream",
     "text": [
      "안녕하세요\n"
     ]
    }
   ],
   "source": [
    "print_text('안녕하세요') # 안 맞춰주면 초기값으로 출력"
   ]
  },
  {
   "cell_type": "code",
   "execution_count": 61,
   "metadata": {},
   "outputs": [
    {
     "name": "stdout",
     "output_type": "stream",
     "text": [
      "감사합니다\n"
     ]
    }
   ],
   "source": [
    "print_text()"
   ]
  },
  {
   "cell_type": "code",
   "execution_count": 62,
   "metadata": {},
   "outputs": [
    {
     "name": "stdout",
     "output_type": "stream",
     "text": [
      "10\n"
     ]
    }
   ],
   "source": [
    "print_text(10) # 10이라는 것이 text에 들어간다"
   ]
  },
  {
   "cell_type": "code",
   "execution_count": 63,
   "metadata": {},
   "outputs": [
    {
     "name": "stdout",
     "output_type": "stream",
     "text": [
      "True\n",
      "False\n",
      "True\n",
      "False\n"
     ]
    }
   ],
   "source": [
    "# all() : 모든 값이 True인지 검사하는 함수 \n",
    "# any() : 어느거 하나라도 True인지 검사하는 함수\n",
    "print(all([1, 2, 3]))  # True\n",
    "print(all([1, 2, 3, 0])) # 0 이 하나라도 있어서 False\n",
    "\n",
    "print(any([1, 2, 3])) \n",
    "print(any([0, 0, 0, 0])) # 거짓"
   ]
  },
  {
   "cell_type": "code",
   "execution_count": 66,
   "metadata": {},
   "outputs": [
    {
     "name": "stdout",
     "output_type": "stream",
     "text": [
      "True\n"
     ]
    }
   ],
   "source": [
    "a = \"hello\"\n",
    "# 문자열일 경우 빈값이면 'False'로 간주한다.\n",
    "if a:\n",
    "    print(\"True\")\n",
    "else:\n",
    "    print(\"False\")"
   ]
  },
  {
   "cell_type": "code",
   "execution_count": 81,
   "metadata": {},
   "outputs": [],
   "source": [
    "# 가변길이 매개변수 -> 앞에 * 붙인다.\n",
    "def texts(*text): # * 하나 있을때는 tuple 형식으로 들어감 \n",
    "    result = '' # 누적변수는 초기값을 준다.\n",
    "    print(type(text))\n",
    "    \n",
    "    for i in text:\n",
    "        result += i\n",
    "        \n",
    "    return result"
   ]
  },
  {
   "cell_type": "code",
   "execution_count": 82,
   "metadata": {},
   "outputs": [
    {
     "ename": "TypeError",
     "evalue": "texts() takes 0 positional arguments but 1 was given",
     "output_type": "error",
     "traceback": [
      "\u001b[1;31m---------------------------------------------------------------------------\u001b[0m",
      "\u001b[1;31mTypeError\u001b[0m                                 Traceback (most recent call last)",
      "\u001b[1;32m<ipython-input-82-ec3e815ad2af>\u001b[0m in \u001b[0;36m<module>\u001b[1;34m\u001b[0m\n\u001b[0;32m      1\u001b[0m \u001b[1;31m# texts('아버지가','방에','들어가신다') # result없이 그냥 하면 3개가 다 못 들어간다.\u001b[0m\u001b[1;33m\u001b[0m\u001b[1;33m\u001b[0m\u001b[1;33m\u001b[0m\u001b[0m\n\u001b[1;32m----> 2\u001b[1;33m \u001b[0mtexts\u001b[0m\u001b[1;33m(\u001b[0m\u001b[1;34m'아버지가'\u001b[0m\u001b[1;33m)\u001b[0m\u001b[1;33m\u001b[0m\u001b[1;33m\u001b[0m\u001b[0m\n\u001b[0m",
      "\u001b[1;31mTypeError\u001b[0m: texts() takes 0 positional arguments but 1 was given"
     ]
    }
   ],
   "source": [
    "# texts('아버지가','방에','들어가신다') # result없이 그냥 하면 3개가 다 못 들어간다.\n",
    "texts('아버지가')"
   ]
  },
  {
   "cell_type": "code",
   "execution_count": 77,
   "metadata": {},
   "outputs": [
    {
     "data": {
      "text/plain": [
       "'아버지가방에들어가신다'"
      ]
     },
     "execution_count": 77,
     "metadata": {},
     "output_type": "execute_result"
    }
   ],
   "source": [
    "texts('아버지가','방에','들어가신다') # 여러개가 들어 갈 수 있음"
   ]
  },
  {
   "cell_type": "code",
   "execution_count": 88,
   "metadata": {},
   "outputs": [],
   "source": [
    "def player(**players): # ** 두개면 딕셔너리 타입의 가변길이가 된다.\n",
    "                      # 타입인거지 밑에 것이 딕셔너리에 들어가는게 아니다.\n",
    "    print(type(players))\n",
    "    for k in players.keys():\n",
    "        print('{0} = {1}'.format(k, players[k]))"
   ]
  },
  {
   "cell_type": "code",
   "execution_count": 89,
   "metadata": {},
   "outputs": [
    {
     "name": "stdout",
     "output_type": "stream",
     "text": [
      "<class 'dict'>\n",
      "카시야스 = GK\n",
      "호날두 = FW\n",
      "손흥민 = MF\n"
     ]
    }
   ],
   "source": [
    "player(카시야스 = 'GK', 호날두 = 'FW', 손흥민 = 'MF') # 하나하나가 딕셔너리 타입이다. (dic X)"
   ]
  },
  {
   "cell_type": "code",
   "execution_count": 90,
   "metadata": {},
   "outputs": [],
   "source": [
    "# add_sum(1, 2, 3, 4, 5, 6, 7, 8, 9, 10):\n",
    "# add_sum(1, 2, 3):\n",
    "# add_sum(1, 2): -> 함수 하나에 3개 type가 사용하고 싶다.\n",
    "\n",
    "# people(name, age, height):\n",
    "# people(name, age)\n",
    "# people(name)\n",
    "# people() -> 4가지 경우 다 실행하고 싶다."
   ]
  },
  {
   "cell_type": "code",
   "execution_count": 92,
   "metadata": {},
   "outputs": [],
   "source": [
    "def people(name, age, height): # 일반적 함수\n",
    "    print(\"{0}님 : {1}세 : {2}\".format(name, age, height))"
   ]
  },
  {
   "cell_type": "code",
   "execution_count": 100,
   "metadata": {},
   "outputs": [
    {
     "name": "stdout",
     "output_type": "stream",
     "text": [
      "홍길동님 : 19세 : 189.7\n",
      "이순신님 : 19세 : 159.7\n",
      "장보고님 : 33세 : 159.7\n",
      "강감찬님 : 33세 : 159.7\n"
     ]
    }
   ],
   "source": [
    "people('홍길동',19,189.7)\n",
    "people('이순신',19) # 이렇게도 동작하고 싶다. -> 일반적 함수는 에러\n",
    "people('장보고')\n",
    "people()"
   ]
  },
  {
   "cell_type": "code",
   "execution_count": 99,
   "metadata": {},
   "outputs": [],
   "source": [
    "def people(name='강감찬', age=33, height=159.7): # 기본값은 뒤에서 부터 줘야함, heightX -> age (X)\n",
    "    print(\"{0}님 : {1}세 : {2}\".format(name, age, height)) # 하나의 매개변수만 써도 함수 활용 "
   ]
  },
  {
   "cell_type": "code",
   "execution_count": 109,
   "metadata": {},
   "outputs": [],
   "source": [
    "# 초깃값은 한정적 만약 무한개면 못함 그래서 가별길이가 필요\n",
    "def add_sum(*x): \n",
    "    res = 0\n",
    "    \n",
    "    for i in x:\n",
    "        res += i\n",
    "    return res"
   ]
  },
  {
   "cell_type": "code",
   "execution_count": 110,
   "metadata": {},
   "outputs": [
    {
     "name": "stdout",
     "output_type": "stream",
     "text": [
      "<class 'tuple'>\n",
      "3\n",
      "<class 'tuple'>\n",
      "6\n",
      "<class 'tuple'>\n",
      "10\n",
      "<class 'tuple'>\n",
      "15\n"
     ]
    }
   ],
   "source": [
    "print(add_sum(1, 2)) # 이때 사용하는게 가변길이 -> 하나의 변수만 사용해서 만들수 있다면\n",
    "print(add_sum(1, 2, 3))\n",
    "print(add_sum(1, 2, 3, 4))\n",
    "print(add_sum(1, 2, 3, 4, 5))"
   ]
  },
  {
   "cell_type": "code",
   "execution_count": 111,
   "metadata": {},
   "outputs": [],
   "source": [
    "def total(x):  # 왜 튜플이냐? -> *x 는 기본으로 가지고 옴, 파이썬은 기본을 tuple로 지정\n",
    "    res = 0                  # -> 리스트로 들고 와도 수행 가능 \n",
    "    \n",
    "    for i in x:\n",
    "        res += i\n",
    "    return res"
   ]
  },
  {
   "cell_type": "code",
   "execution_count": 112,
   "metadata": {},
   "outputs": [
    {
     "name": "stdout",
     "output_type": "stream",
     "text": [
      "15\n"
     ]
    }
   ],
   "source": [
    "print(total([1, 2, 3, 4, 5]))"
   ]
  },
  {
   "cell_type": "code",
   "execution_count": 113,
   "metadata": {},
   "outputs": [
    {
     "data": {
      "text/plain": [
       "(1, 2, 3, 4, 5)"
      ]
     },
     "execution_count": 113,
     "metadata": {},
     "output_type": "execute_result"
    }
   ],
   "source": [
    "a = 1, 2, 3, 4, 5 # 생략하면 튜플로 간주\n",
    "a"
   ]
  },
  {
   "cell_type": "code",
   "execution_count": 116,
   "metadata": {},
   "outputs": [],
   "source": [
    "def add_mul(choice, *args):\n",
    "    if choice == 'add':\n",
    "        res = 0            # 누적변수는 바뀔 수 있다. \n",
    "        for i in args:\n",
    "            res += i\n",
    "    elif choice == 'mul':  # 또다른 조건을 쓰기 위해\n",
    "        res = 1\n",
    "        for i in args:\n",
    "            res *= i\n",
    "    \n",
    "    return res  # 상수를 반환하기 위하여"
   ]
  },
  {
   "cell_type": "code",
   "execution_count": 121,
   "metadata": {},
   "outputs": [
    {
     "name": "stdout",
     "output_type": "stream",
     "text": [
      "15\n",
      "120\n"
     ]
    }
   ],
   "source": [
    "result = add_mul('add', 1, 2, 3, 4, 5) # 가변길이 데이터로 받을 수 있다.\n",
    "print(result)\n",
    "\n",
    "result = add_mul('mul', 1, 2, 3, 4, 5)\n",
    "print(result)"
   ]
  },
  {
   "cell_type": "code",
   "execution_count": 122,
   "metadata": {},
   "outputs": [],
   "source": [
    "# 구구단을 출력하는 프로그램을 구현하시요.\n",
    "# 키보드를 통해 단을 입력받아 해당 구구단을 출력하는 프로그램을 \n",
    "# 별도의 함수로 구현하시오.(gugudan)"
   ]
  },
  {
   "cell_type": "code",
   "execution_count": 164,
   "metadata": {},
   "outputs": [],
   "source": [
    "def gugudan():\n",
    "    num = int(input('단을 입력하시요 : '))\n",
    "    \n",
    "    print(\"==========={0}=========\".format(num))\n",
    "    for i in range(1, 10):\n",
    "        print(\"{0} X {1} = {2}\".format(num, i, num*i))"
   ]
  },
  {
   "cell_type": "code",
   "execution_count": 165,
   "metadata": {},
   "outputs": [
    {
     "name": "stdout",
     "output_type": "stream",
     "text": [
      "단을 입력하시요 : 5\n",
      "===========5=========\n",
      "5 X 1 = 5\n",
      "5 X 2 = 10\n",
      "5 X 3 = 15\n",
      "5 X 4 = 20\n",
      "5 X 5 = 25\n",
      "5 X 6 = 30\n",
      "5 X 7 = 35\n",
      "5 X 8 = 40\n",
      "5 X 9 = 45\n"
     ]
    }
   ],
   "source": [
    "gugudan()"
   ]
  },
  {
   "cell_type": "code",
   "execution_count": 161,
   "metadata": {},
   "outputs": [],
   "source": [
    "# 구구단을 출력하는 프로그램을 구현하시요.\n",
    "# 키보드를 통해 단을 입력받아 해당 구구단을 출력하는 프로그램을 \n",
    "# 별도의 함수로 구현하시오.(gugudan)\n",
    "# 강사님\n",
    "def gugudan2(dan):\n",
    "    for i in range(1, 10):\n",
    "        print(\"{0} X {1} = {2}\".format(dan, i, dan*i))"
   ]
  },
  {
   "cell_type": "code",
   "execution_count": 163,
   "metadata": {},
   "outputs": [
    {
     "name": "stdout",
     "output_type": "stream",
     "text": [
      "단 = 2\n",
      "2 X 1 = 2\n",
      "2 X 2 = 4\n",
      "2 X 3 = 6\n",
      "2 X 4 = 8\n",
      "2 X 5 = 10\n",
      "2 X 6 = 12\n",
      "2 X 7 = 14\n",
      "2 X 8 = 16\n",
      "2 X 9 = 18\n"
     ]
    }
   ],
   "source": [
    "dan = int(input(\"단 = \"))\n",
    "gugudan2(2)"
   ]
  },
  {
   "cell_type": "code",
   "execution_count": 178,
   "metadata": {},
   "outputs": [],
   "source": [
    "# 함수 선언 or 정의\n",
    "def say():\n",
    "    a = \"안녕하세요\"\n",
    "    print(a)\n",
    "    # return a"
   ]
  },
  {
   "cell_type": "code",
   "execution_count": 179,
   "metadata": {},
   "outputs": [
    {
     "name": "stdout",
     "output_type": "stream",
     "text": [
      "안녕하세요\n",
      "None\n",
      "안녕하세요\n"
     ]
    }
   ],
   "source": [
    "# 함수 호출\n",
    "print(say()) #다른점 파악 해보기\n",
    "say()"
   ]
  },
  {
   "cell_type": "code",
   "execution_count": 180,
   "metadata": {},
   "outputs": [
    {
     "name": "stdout",
     "output_type": "stream",
     "text": [
      "안녕하세요\n"
     ]
    },
    {
     "data": {
      "text/plain": [
       "'안녕하세요'"
      ]
     },
     "execution_count": 180,
     "metadata": {},
     "output_type": "execute_result"
    }
   ],
   "source": [
    "print('안녕하세요')\n",
    "'안녕하세요'"
   ]
  },
  {
   "cell_type": "code",
   "execution_count": 181,
   "metadata": {},
   "outputs": [],
   "source": [
    "def hello(name):\n",
    "    s = \"Hello, {0}\".format(name)\n",
    "    return s\n",
    "   #print(s) # return 을 하거나 print(s) 둘중 하나 하면됨 "
   ]
  },
  {
   "cell_type": "code",
   "execution_count": 183,
   "metadata": {},
   "outputs": [
    {
     "data": {
      "text/plain": [
       "'Hello, JMK'"
      ]
     },
     "execution_count": 183,
     "metadata": {},
     "output_type": "execute_result"
    }
   ],
   "source": [
    "hello(\"JMK\")"
   ]
  },
  {
   "cell_type": "code",
   "execution_count": 186,
   "metadata": {},
   "outputs": [],
   "source": [
    "# 파이썬에서는 없음을 뜻하는 키워드 'None'\n",
    "def hello2(name=None):\n",
    "    if name == None:\n",
    "        print('이름을 입력하시요.')\n",
    "        return  # 제어권만 main에 넘겨준다는 의미\n",
    "    print(\"Hello, \", name)    # return이 위에 잇어서 이건 실행이 안됨"
   ]
  },
  {
   "cell_type": "code",
   "execution_count": 187,
   "metadata": {},
   "outputs": [
    {
     "name": "stdout",
     "output_type": "stream",
     "text": [
      "Hello,  JMK\n"
     ]
    }
   ],
   "source": [
    "hello2(\"JMK\")"
   ]
  },
  {
   "cell_type": "code",
   "execution_count": 188,
   "metadata": {},
   "outputs": [
    {
     "name": "stdout",
     "output_type": "stream",
     "text": [
      "이름을 입력하시요.\n"
     ]
    }
   ],
   "source": [
    "hello2()"
   ]
  },
  {
   "cell_type": "code",
   "execution_count": 189,
   "metadata": {},
   "outputs": [],
   "source": [
    "def hello3(name='Kim'): # default값을 줄 수 있다.\n",
    "    s = \"hello {0}\".format(name)\n",
    "    print(s)"
   ]
  },
  {
   "cell_type": "code",
   "execution_count": 191,
   "metadata": {},
   "outputs": [
    {
     "name": "stdout",
     "output_type": "stream",
     "text": [
      "hello Kim\n",
      "hello lee\n"
     ]
    }
   ],
   "source": [
    "hello3()\n",
    "hello3('lee')"
   ]
  },
  {
   "cell_type": "markdown",
   "metadata": {},
   "source": [
    "#### 함수의 유형\n",
    "- 매개변수도 없고 리턴값도 없는 형태\n",
    "- 매개변수는 없고 리턴값은 있는 형태\n",
    "- 매개변수가 있고 리턴값이 없는 형태\n",
    "- 매개변수가 있고 리턴값도 있는 형태"
   ]
  },
  {
   "cell_type": "code",
   "execution_count": 192,
   "metadata": {},
   "outputs": [
    {
     "name": "stdout",
     "output_type": "stream",
     "text": [
      "hi\n"
     ]
    }
   ],
   "source": [
    "def hi():\n",
    "    print(\"hi\")\n",
    "hi()"
   ]
  },
  {
   "cell_type": "code",
   "execution_count": 193,
   "metadata": {},
   "outputs": [],
   "source": [
    "def hi2():\n",
    "   # s = 'hi'\n",
    "    return 'hi'"
   ]
  },
  {
   "cell_type": "code",
   "execution_count": 195,
   "metadata": {},
   "outputs": [
    {
     "name": "stdout",
     "output_type": "stream",
     "text": [
      "hi\n",
      "hi\n"
     ]
    }
   ],
   "source": [
    "print(hi2())\n",
    "s = hi2()\n",
    "print(s)"
   ]
  },
  {
   "cell_type": "code",
   "execution_count": 196,
   "metadata": {},
   "outputs": [],
   "source": [
    "def add(x, y):\n",
    "    print(\"{0}, {1}\".format(x, y))"
   ]
  },
  {
   "cell_type": "code",
   "execution_count": 197,
   "metadata": {},
   "outputs": [
    {
     "name": "stdout",
     "output_type": "stream",
     "text": [
      "10, 2\n"
     ]
    }
   ],
   "source": [
    "add(10, 2)"
   ]
  },
  {
   "cell_type": "code",
   "execution_count": 198,
   "metadata": {},
   "outputs": [],
   "source": [
    "def add2(x, y):\n",
    "    s = \"{0}, {1}\".format(x, y)\n",
    "    return s"
   ]
  },
  {
   "cell_type": "code",
   "execution_count": 203,
   "metadata": {},
   "outputs": [
    {
     "name": "stdout",
     "output_type": "stream",
     "text": [
      "10, 2\n",
      "10, 2\n"
     ]
    }
   ],
   "source": [
    "print(add2(10, 2))\n",
    "s = add2(10, 2)\n",
    "print(s)"
   ]
  },
  {
   "cell_type": "code",
   "execution_count": 206,
   "metadata": {},
   "outputs": [
    {
     "name": "stdout",
     "output_type": "stream",
     "text": [
      "10 + 2 = 12\n"
     ]
    }
   ],
   "source": [
    "def sum(a, b):\n",
    "    print(\"{0} + {1} = {2}\".format(a, b, a + b))\n",
    "\n",
    "sum(10,2)"
   ]
  },
  {
   "cell_type": "code",
   "execution_count": 207,
   "metadata": {},
   "outputs": [
    {
     "name": "stdout",
     "output_type": "stream",
     "text": [
      "10 + 30 = 40\n"
     ]
    }
   ],
   "source": [
    "def sum2(a=10, b=30): # 초기값\n",
    "    print(\"{0} + {1} = {2}\".format(a, b, a + b))\n",
    "\n",
    "sum2()"
   ]
  },
  {
   "cell_type": "code",
   "execution_count": 211,
   "metadata": {},
   "outputs": [
    {
     "name": "stdout",
     "output_type": "stream",
     "text": [
      "<class 'tuple'> (10, 20)\n",
      "30\n",
      "<class 'tuple'> (1, 2, 3, 4, 5, 6)\n",
      "21\n",
      "<class 'tuple'> (100,)\n",
      "100\n"
     ]
    }
   ],
   "source": [
    "def sum3(*x):\n",
    "    print(type(x), x) # tuple 자료형으로 받아온다.\n",
    "    res = 0 #누적변수\n",
    "    \n",
    "    for i in x:\n",
    "        res += i\n",
    "    \n",
    "    return res\n",
    "\n",
    "n = sum3(10, 20)\n",
    "print(n)\n",
    "\n",
    "n = sum3(1, 2, 3, 4, 5, 6) # 가변길이\n",
    "print(n) \n",
    "\n",
    "n = sum3(100)\n",
    "print(n)"
   ]
  },
  {
   "cell_type": "code",
   "execution_count": 217,
   "metadata": {},
   "outputs": [
    {
     "name": "stdout",
     "output_type": "stream",
     "text": [
      "<class 'tuple'> (1, 2, 3, 4, 5)\n"
     ]
    }
   ],
   "source": [
    "def a():\n",
    "    return 1, 2, 3, 4, 5 #다른 프로그램에서는 에러 하지만 패킹과 언패킹으로 자료형으로 넘어감\n",
    "\n",
    "val = a() # val = 1, 2, 3, 4, 5 -> 같은의미 패킹 시킨거\n",
    "print(type(val), val)\n"
   ]
  },
  {
   "cell_type": "code",
   "execution_count": 218,
   "metadata": {},
   "outputs": [
    {
     "name": "stdout",
     "output_type": "stream",
     "text": [
      "1 2 3 4 5\n"
     ]
    }
   ],
   "source": [
    "a, b, c, d, e = a() # 언 패킹, 변수명과 함수명 다르게\n",
    "print(a, b, c, d, e)  # 변수 수 일치"
   ]
  },
  {
   "cell_type": "code",
   "execution_count": 220,
   "metadata": {},
   "outputs": [
    {
     "name": "stdout",
     "output_type": "stream",
     "text": [
      "지역변수 : 11\n",
      "1\n"
     ]
    }
   ],
   "source": [
    "a = 1  # 전역변수(global variable)\n",
    "\n",
    "def test(a): # 함수 안에 있는 변수 -> 지역변수(local variable)\n",
    "    a = a + 1\n",
    "    print(\"지역변수 : {0}\".format(a))\n",
    "\n",
    "test(10)\n",
    "print(a)   # 전역변수"
   ]
  },
  {
   "cell_type": "code",
   "execution_count": 227,
   "metadata": {},
   "outputs": [
    {
     "name": "stdout",
     "output_type": "stream",
     "text": [
      "a = 2\n",
      "2\n"
     ]
    }
   ],
   "source": [
    "a = 1\n",
    "\n",
    "def test():\n",
    "    global a  # 전역변수를 가져다 쓰고 싶을 때 global이라는 것을 붙인다.\n",
    "    a = a + 1   # global없이 선언 하면 에러 왜냐? 여기서 a가 선언 되어있지 않다\n",
    "    print(\"a =\", a)\n",
    "    \n",
    "test()\n",
    "print(a)"
   ]
  },
  {
   "cell_type": "code",
   "execution_count": 2,
   "metadata": {},
   "outputs": [
    {
     "name": "stdout",
     "output_type": "stream",
     "text": [
      "166833\n"
     ]
    }
   ],
   "source": [
    "res = 0\n",
    "i = 0\n",
    "while i < 1001:\n",
    "    i += 1\n",
    "    if i % 3 == 0:\n",
    "        res += i\n",
    "print(res)    "
   ]
  },
  {
   "cell_type": "code",
   "execution_count": 14,
   "metadata": {},
   "outputs": [
    {
     "name": "stdout",
     "output_type": "stream",
     "text": [
      "*\n",
      "**\n",
      "***\n",
      "****\n",
      "*****\n"
     ]
    }
   ],
   "source": [
    "i = 0\n",
    "while i < 5:\n",
    "    i += 1\n",
    "    print('*'*i)\n",
    "                "
   ]
  },
  {
   "cell_type": "code",
   "execution_count": 15,
   "metadata": {},
   "outputs": [
    {
     "name": "stdout",
     "output_type": "stream",
     "text": [
      "1\n",
      "2\n",
      "3\n",
      "4\n",
      "5\n",
      "6\n",
      "7\n",
      "8\n",
      "9\n",
      "10\n",
      "11\n",
      "12\n",
      "13\n",
      "14\n",
      "15\n",
      "16\n",
      "17\n",
      "18\n",
      "19\n",
      "20\n",
      "21\n",
      "22\n",
      "23\n",
      "24\n",
      "25\n",
      "26\n",
      "27\n",
      "28\n",
      "29\n",
      "30\n",
      "31\n",
      "32\n",
      "33\n",
      "34\n",
      "35\n",
      "36\n",
      "37\n",
      "38\n",
      "39\n",
      "40\n",
      "41\n",
      "42\n",
      "43\n",
      "44\n",
      "45\n",
      "46\n",
      "47\n",
      "48\n",
      "49\n",
      "50\n",
      "51\n",
      "52\n",
      "53\n",
      "54\n",
      "55\n",
      "56\n",
      "57\n",
      "58\n",
      "59\n",
      "60\n",
      "61\n",
      "62\n",
      "63\n",
      "64\n",
      "65\n",
      "66\n",
      "67\n",
      "68\n",
      "69\n",
      "70\n",
      "71\n",
      "72\n",
      "73\n",
      "74\n",
      "75\n",
      "76\n",
      "77\n",
      "78\n",
      "79\n",
      "80\n",
      "81\n",
      "82\n",
      "83\n",
      "84\n",
      "85\n",
      "86\n",
      "87\n",
      "88\n",
      "89\n",
      "90\n",
      "91\n",
      "92\n",
      "93\n",
      "94\n",
      "95\n",
      "96\n",
      "97\n",
      "98\n",
      "99\n",
      "100\n"
     ]
    }
   ],
   "source": [
    "for i in range(1, 101):\n",
    "    print(i)"
   ]
  },
  {
   "cell_type": "code",
   "execution_count": 23,
   "metadata": {},
   "outputs": [
    {
     "name": "stdout",
     "output_type": "stream",
     "text": [
      "79.0\n"
     ]
    }
   ],
   "source": [
    "a = [70, 60, 55, 75, 90, 95, 80, 80, 85, 100]\n",
    "res = 0\n",
    "for i in a:\n",
    "    res += i\n",
    "    \n",
    "print(res/10)\n",
    "    "
   ]
  },
  {
   "cell_type": "code",
   "execution_count": null,
   "metadata": {},
   "outputs": [],
   "source": []
  }
 ],
 "metadata": {
  "kernelspec": {
   "display_name": "Python 3",
   "language": "python",
   "name": "python3"
  },
  "language_info": {
   "codemirror_mode": {
    "name": "ipython",
    "version": 3
   },
   "file_extension": ".py",
   "mimetype": "text/x-python",
   "name": "python",
   "nbconvert_exporter": "python",
   "pygments_lexer": "ipython3",
   "version": "3.7.3"
  }
 },
 "nbformat": 4,
 "nbformat_minor": 2
}
