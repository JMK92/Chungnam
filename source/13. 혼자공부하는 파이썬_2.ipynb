{
 "cells": [
  {
   "cell_type": "code",
   "execution_count": 4,
   "metadata": {},
   "outputs": [],
   "source": [
    "# 하나의 정수를 입력받아 1부터 입력받은 정수까지의 자연수들의 합을 계산 후 반환\n",
    "# 함수는 재 사용에 있다.\n",
    "def sumcount(n): # 10입력 : 1 ~ 10 합 누적\n",
    "    total = 0 # 디폴트 값 0\n",
    "    \n",
    "    while n > 0:\n",
    "        total += n\n",
    "        n -= 1 # 10->9->8....\n",
    "         \n",
    "    return total"
   ]
  },
  {
   "cell_type": "code",
   "execution_count": 6,
   "metadata": {},
   "outputs": [
    {
     "name": "stdout",
     "output_type": "stream",
     "text": [
      "55\n"
     ]
    }
   ],
   "source": [
    "a = sumcount(10)\n",
    "print(a)"
   ]
  },
  {
   "cell_type": "code",
   "execution_count": 8,
   "metadata": {},
   "outputs": [
    {
     "name": "stdout",
     "output_type": "stream",
     "text": [
      "5050\n"
     ]
    }
   ],
   "source": [
    "a = sumcount(100)\n",
    "print(a)"
   ]
  },
  {
   "cell_type": "code",
   "execution_count": 10,
   "metadata": {},
   "outputs": [
    {
     "name": "stdout",
     "output_type": "stream",
     "text": [
      "3.1622776601683795\n"
     ]
    }
   ],
   "source": [
    "import math\n",
    "# 모듈명.변수 or 모듈명.함수()\n",
    "\n",
    "x = math.sqrt(10)\n",
    "print(x)"
   ]
  },
  {
   "cell_type": "code",
   "execution_count": 5,
   "metadata": {},
   "outputs": [
    {
     "name": "stdout",
     "output_type": "stream",
     "text": [
      "[1.정수합 2.사이합 3.최대값 4.계산기 5.종료]1\n",
      "수 1 = 1\n",
      "1부터 1까지 정수의 합은 1 입니다.\n",
      "[1.정수합 2.사이합 3.최대값 4.계산기 5.종료]2\n",
      "수 2 = 1\n",
      "수 3 = 3\n",
      "1에서 3까지 사이 합은 6 입니다.\n",
      "[1.정수합 2.사이합 3.최대값 4.계산기 5.종료]3\n",
      "수 4 = 6\n",
      "수 5 = 4\n",
      "수 6 = 8\n",
      "큰 수는 8 입니다.\n",
      "[1.정수합 2.사이합 3.최대값 4.계산기 5.종료]5\n",
      "프로그램을 종료합니다.\n"
     ]
    }
   ],
   "source": [
    "# 다양한 기능을 수행하는 프로그램을 구현하시오.\n",
    "# 계산기, 사이합, 최대값, 정수합을 수행하는 프로그램을 구현하시오. 단, 사용할 기능을\n",
    "# 사용자가 선택하여 수행할 수 있도록 구현하시오.\n",
    "# 프로그램은 언제든지 종료될 수 있도록 구현하시오.\n",
    "# 각 기능은 별도의 함수로 구현하시오.\n",
    "# [입출력 형식]\n",
    "# 1. 정수합 2. 사이합 3. 최대값, 4. 계산기 5. 종료 = \n",
    "# 정수합은 하나의 정수를 입력받아 1부터 해당 정수까지의 합\n",
    "# 사이합은 두개의 정수를 입력받아 두수 사이의 자연수 합.\n",
    "# 최대값은 세개의 정수를 입력받아 큰수를 추출\n",
    "# 계산기는 두개의 정수와 하나의 연산자를 입력받아 계산결과를 추출\n",
    "\n",
    "while True:\n",
    "    message = \"[1.정수합 2.사이합 3.최대값 4.계산기 5.종료]\"\n",
    "    check = input(message)\n",
    "    \n",
    "    if check == '1':\n",
    "        num1 = int(input(\"수 1 = \"))\n",
    "        sum1 = 0       \n",
    "        for i in range(num1+1):\n",
    "            sum1 += i\n",
    "        print(\"1부터 {0}까지 정수의 합은 {1} 입니다.\".format(num1, sum1))\n",
    "        pass\n",
    "    \n",
    "    elif check == '2':\n",
    "        num2 = int(input(\"수 2 = \"))\n",
    "        num3 = int(input(\"수 3 = \"))\n",
    "        sum2 = 0\n",
    "        if num3 > num2:\n",
    "            a, b = num2, num3\n",
    "        elif num2 > num3:\n",
    "            a, b = num3 , num2\n",
    "        for i in range(a, b+1):\n",
    "            sum2 += i\n",
    "        print(\"{0}에서 {1}까지 사이 합은 {2} 입니다.\".format(a, b, sum2))\n",
    "        pass\n",
    "    \n",
    "    elif check == '3':\n",
    "        num4 = int(input(\"수 4 = \"))\n",
    "        num5 = int(input(\"수 5 = \"))\n",
    "        num6 = int(input(\"수 6 = \"))\n",
    "        \n",
    "        if num4 > num5 and num4 > num6:\n",
    "            print(\"큰 수는 {0} 입니다.\".format(num4))\n",
    "        elif num5 > num6 and num5 > num4:\n",
    "            print(\"큰 수는 {0} 입니다.\".format(num5))\n",
    "        elif num6 > num4 and num6 > num5:\n",
    "            print(\"큰 수는 {0} 입니다.\".format(num6))\n",
    "        pass\n",
    "   \n",
    "    elif check == '4':\n",
    "        num7 = int(input(\"수 7 = \"))\n",
    "        opp = input(\"연산자(+, -, *, /) = \")\n",
    "        num8 = int(input(\"수 8 = \"))\n",
    "        \n",
    "        if opp == '+':\n",
    "            print(\"{0}과 {1}의 합은 {2} 입니다\".format(num7, num8, num7 + num8))\n",
    "        elif opp == '-':\n",
    "            print(\"{0}과 {1}의 차는 {2} 입니다\".format(num7, num8, num7 - num8))\n",
    "        elif opp == '*':\n",
    "            print(\"{0}과 {1}의 곱는 {2} 입니다\".format(num7, num8, num7 * num8))\n",
    "        elif opp == '/':\n",
    "            print(\"{0}과 {1}의 나누기는 {2} 입니다\".format(num7, num8, num7 / num8))\n",
    "        pass\n",
    "   \n",
    "    elif check == '5':\n",
    "        break\n",
    "        pass\n",
    "   \n",
    "    else:\n",
    "        print(\"올바른 선택이 아닙니다.\")\n",
    "        \n",
    "print('프로그램을 종료합니다.')   "
   ]
  },
  {
   "cell_type": "code",
   "execution_count": 4,
   "metadata": {},
   "outputs": [],
   "source": [
    "#  위의 것을 함수로 만들기\n",
    "#  첫번째 꺼\n",
    "def sum1():\n",
    "    num1 = int(input(\"수 1 = \"))\n",
    "    sum1 = 0       \n",
    "    for i in range(num1+1):\n",
    "            sum1 += i\n",
    "    print(\"1부터 {0}까지 정수의 합은 {1} 입니다.\".format(num1, sum1)) "
   ]
  },
  {
   "cell_type": "code",
   "execution_count": 5,
   "metadata": {},
   "outputs": [],
   "source": [
    "# 두번 째 함수\n",
    "def sum2():\n",
    "    num2 = int(input(\"수 2 = \"))\n",
    "    num3 = int(input(\"수 3 = \"))\n",
    "    sum2 = 0\n",
    "    if num3 > num2:\n",
    "        a, b = num2, num3\n",
    "    elif num2 > num3:\n",
    "        a, b = num3 , num2\n",
    "    for i in range(a, b+1):\n",
    "        sum2 += i\n",
    "    print(\"{0}에서 {1}까지 사이 합은 {2} 입니다.\".format(a, b, sum2))   "
   ]
  },
  {
   "cell_type": "code",
   "execution_count": 6,
   "metadata": {},
   "outputs": [],
   "source": [
    "# 세번 째 함수\n",
    "def max1():\n",
    "    num4 = int(input(\"수 4 = \"))\n",
    "    num5 = int(input(\"수 5 = \"))\n",
    "    num6 = int(input(\"수 6 = \"))\n",
    "\n",
    "    if num4 > num5 and num4 > num6:\n",
    "        print(\"큰 수는 {0} 입니다.\".format(num4))\n",
    "    elif num5 > num6 and num5 > num4:\n",
    "        print(\"큰 수는 {0} 입니다.\".format(num5))\n",
    "    elif num6 > num4 and num6 > num5:\n",
    "        print(\"큰 수는 {0} 입니다.\".format(num6))"
   ]
  },
  {
   "cell_type": "code",
   "execution_count": 27,
   "metadata": {},
   "outputs": [],
   "source": [
    "# 네번째 함수\n",
    "def calc():\n",
    "    num7 = int(input(\"수 7 = \"))\n",
    "    opp = input(\"연산자(+, -, *, /) = \")\n",
    "    num8 = int(input(\"수 8 = \"))\n",
    "        \n",
    "    if opp == '+':\n",
    "        print(\"{0}과 {1}의 합은 {2} 입니다\".format(num7, num8, num7 + num8))\n",
    "    elif opp == '-':\n",
    "        print(\"{0}과 {1}의 차는 {2} 입니다\".format(num7, num8, num7 - num8))\n",
    "    elif opp == '*':\n",
    "        print(\"{0}과 {1}의 곱는 {2} 입니다\".format(num7, num8, num7 * num8))\n",
    "    elif opp == '/':\n",
    "        if num8 == 0:\n",
    "            print(\"0으로 나눌 수 없습니다.\")\n",
    "        else:\n",
    "            print(\"{0}과 {1}의 나누기는 {2} 입니다\".format(num7, num8, num7 / num8))"
   ]
  },
  {
   "cell_type": "code",
   "execution_count": 28,
   "metadata": {},
   "outputs": [
    {
     "name": "stdout",
     "output_type": "stream",
     "text": [
      "[1.정수합 2.사이합 3.최대값 4.계산기 5.종료]4\n",
      "수 7 = 1\n",
      "연산자(+, -, *, /) = /\n",
      "수 8 = 0\n",
      "0ㅡ올\n",
      "[1.정수합 2.사이합 3.최대값 4.계산기 5.종료]5\n",
      "프로그램을 종료합니다.\n"
     ]
    }
   ],
   "source": [
    "while True:\n",
    "    message = \"[1.정수합 2.사이합 3.최대값 4.계산기 5.종료]\"\n",
    "    check = input(message)\n",
    "    \n",
    "    if check == '1':\n",
    "        sum1()\n",
    "        \n",
    "    elif check == '2':\n",
    "        sum2()\n",
    "    \n",
    "    elif check == '3':\n",
    "        max1()\n",
    "        \n",
    "    elif check == '4':\n",
    "        calc()\n",
    "\n",
    "    elif check == '5':\n",
    "        break\n",
    "    \n",
    "    else:\n",
    "        print(\"올바른 선택이 아닙니다.\")\n",
    "        \n",
    "print('프로그램을 종료합니다.')       "
   ]
  },
  {
   "cell_type": "code",
   "execution_count": 7,
   "metadata": {},
   "outputs": [],
   "source": [
    "def hello():\n",
    "    print(\"hello\")"
   ]
  },
  {
   "cell_type": "code",
   "execution_count": 8,
   "metadata": {},
   "outputs": [
    {
     "name": "stdout",
     "output_type": "stream",
     "text": [
      "hello\n"
     ]
    }
   ],
   "source": [
    "hello()"
   ]
  },
  {
   "cell_type": "code",
   "execution_count": 9,
   "metadata": {},
   "outputs": [
    {
     "data": {
      "text/plain": [
       "1587053754976"
      ]
     },
     "execution_count": 9,
     "metadata": {},
     "output_type": "execute_result"
    }
   ],
   "source": [
    "# id() : 객체의 주소를 반환해주는 함수\n",
    "id(hello)"
   ]
  },
  {
   "cell_type": "code",
   "execution_count": 16,
   "metadata": {},
   "outputs": [],
   "source": [
    "f = hello"
   ]
  },
  {
   "cell_type": "code",
   "execution_count": 17,
   "metadata": {},
   "outputs": [
    {
     "name": "stdout",
     "output_type": "stream",
     "text": [
      "hello\n"
     ]
    }
   ],
   "source": [
    "f()"
   ]
  },
  {
   "cell_type": "code",
   "execution_count": 18,
   "metadata": {},
   "outputs": [],
   "source": [
    "class Func:\n",
    "    def __init__(self):\n",
    "        print(\"생성됨\")\n",
    "    \n",
    "    def __call__(self):\n",
    "        print(\"호출됨\")"
   ]
  },
  {
   "cell_type": "code",
   "execution_count": 19,
   "metadata": {},
   "outputs": [
    {
     "name": "stdout",
     "output_type": "stream",
     "text": [
      "생성됨\n"
     ]
    }
   ],
   "source": [
    "f = Func()  # init가 바로 작동됨"
   ]
  },
  {
   "cell_type": "code",
   "execution_count": 20,
   "metadata": {},
   "outputs": [
    {
     "name": "stdout",
     "output_type": "stream",
     "text": [
      "호출됨\n"
     ]
    }
   ],
   "source": [
    "f() # __()__ -> 시스템이 지정 되어 있는것, f -> __init__, f() -> __call__ 이 호출됨."
   ]
  },
  {
   "cell_type": "code",
   "execution_count": 21,
   "metadata": {},
   "outputs": [
    {
     "name": "stdout",
     "output_type": "stream",
     "text": [
      "(1,)\n",
      "(1, 2)\n",
      "(1, 2, 3)\n"
     ]
    }
   ],
   "source": [
    "## 가변길이 매개변수 : *args, *변수명 -> 길이가 정해있지 않은 변수를 넣는 거다.\n",
    "                                        # 튜플에 저장 후 반환\n",
    "def aaa(*args):\n",
    "    print(args)\n",
    "\n",
    "aaa(1)\n",
    "aaa(1, 2)\n",
    "aaa(1, 2, 3)"
   ]
  },
  {
   "cell_type": "code",
   "execution_count": 23,
   "metadata": {},
   "outputs": [
    {
     "name": "stdout",
     "output_type": "stream",
     "text": [
      "{'a': 1}\n",
      "{'a': 1, 'b': 2}\n",
      "{'a': 1, 'b': 2, 'c': 3}\n"
     ]
    }
   ],
   "source": [
    "# 키워드 가변길이 매개변수, set은 순서 상관없음., 딕셔너리는 인덱스 저장X, 키를 통해 받아옴.\n",
    "# {key : value}\n",
    "def bbb(**kwargs): # 딕셔너리 형태로 처리하는 매개 변수\n",
    "    print(kwargs)\n",
    "    \n",
    "bbb(a=1) # a =1이라는 형태를 담음 -> 이것도 가변길이, 이것도 딕셔너리 a=키, 1=value가 된다.\n",
    "bbb(a=1, b=2)\n",
    "bbb(a=1, b=2, c=3)"
   ]
  },
  {
   "cell_type": "code",
   "execution_count": 24,
   "metadata": {},
   "outputs": [
    {
     "name": "stdout",
     "output_type": "stream",
     "text": [
      "(1, 2, 3)\n",
      "{'a': 1, 'b': 2, 'c': 3}\n"
     ]
    }
   ],
   "source": [
    "def ccc(*a, **b):\n",
    "    print(a)\n",
    "    print(b)\n",
    "    \n",
    "ccc(1, 2, 3, a=1, b=2, c=3) # 1, 2, 3은 가변길이로 a=1, b=2, c=3 => 딕셔너리로 저장 후 변환."
   ]
  },
  {
   "cell_type": "code",
   "execution_count": 30,
   "metadata": {},
   "outputs": [
    {
     "data": {
      "text/plain": [
       "15"
      ]
     },
     "execution_count": 30,
     "metadata": {},
     "output_type": "execute_result"
    }
   ],
   "source": [
    "# lambda 함수\n",
    "def mul5(x):\n",
    "    return 5 * x\n",
    "\n",
    "a = mul5(3)\n",
    "a"
   ]
  },
  {
   "cell_type": "code",
   "execution_count": 32,
   "metadata": {},
   "outputs": [
    {
     "data": {
      "text/plain": [
       "15"
      ]
     },
     "execution_count": 32,
     "metadata": {},
     "output_type": "execute_result"
    }
   ],
   "source": [
    "# lambda 입력값 : 출력값\n",
    "mul5 = lambda x : 5 * x\n",
    "mul5(3)"
   ]
  },
  {
   "cell_type": "code",
   "execution_count": 36,
   "metadata": {},
   "outputs": [
    {
     "name": "stdout",
     "output_type": "stream",
     "text": [
      "20\n",
      "20\n"
     ]
    }
   ],
   "source": [
    "# 지역변수와 전역변수\n",
    "a = 10 # 전역변수\n",
    "\n",
    "def test():\n",
    "    global a # 전역변수 가져오기\n",
    "    a = 20   # 지역변수, -> 전역변수 가져오면 지역변수X 전역변수가 됨\n",
    "    print(a)\n",
    "\n",
    "test()    # 지역변수 출력\n",
    "print(a)  # 전역변수 출력"
   ]
  },
  {
   "cell_type": "code",
   "execution_count": 37,
   "metadata": {},
   "outputs": [
    {
     "name": "stdout",
     "output_type": "stream",
     "text": [
      "inner\n"
     ]
    }
   ],
   "source": [
    "# 함수 안에 함수\n",
    "def outer():        # outer 함수 주소에 가면 def inner()과 안에 내용물이 있음 \n",
    "    \n",
    "    def inner():\n",
    "        print(\"inner\")\n",
    "    return inner # 함수이름 자체가 그 함수의 주소다. => 그 주소안에는 print(\"inner\")가 있음\n",
    "                 # 그래서 return inner를 하면 def inner() 내용물인 inner가 출력됨.\n",
    "f = outer()  # 복사 -> f 에 들어 있는건 def inner()\n",
    "f()"
   ]
  },
  {
   "cell_type": "code",
   "execution_count": 40,
   "metadata": {},
   "outputs": [
    {
     "name": "stdout",
     "output_type": "stream",
     "text": [
      "3\n"
     ]
    }
   ],
   "source": [
    "def outer():\n",
    "    num = 3\n",
    "    def inner():\n",
    "        print(num)\n",
    "    return inner\n",
    "\n",
    "f = outer()\n",
    "f() # inner함수가 됨"
   ]
  },
  {
   "cell_type": "markdown",
   "metadata": {},
   "source": [
    "#### 재귀함수\n",
    "- 자기 안에서 자신을 호출하는 함수\n",
    "10! = 10 x 9 x 8 x 7 x 6 x 5 x 4 x 3 x 2 x 1 \n",
    "    = 10 x 9!\n",
    "    = 10 x 9 x 8!\n",
    "\n",
    "n! = n x (n-1)! x ........ x 1"
   ]
  },
  {
   "cell_type": "code",
   "execution_count": 47,
   "metadata": {},
   "outputs": [
    {
     "name": "stdout",
     "output_type": "stream",
     "text": [
      "6\n",
      "120\n"
     ]
    }
   ],
   "source": [
    "def fact1(x):  # 5 x 4 x ... x 1\n",
    "    out = 1\n",
    "    \n",
    "    while x > 0:  # x = 5 x 4 x 3 x 2 x 1\n",
    "        out *= x  #  5  20  60 , -> out = out * x so, out = 1\n",
    "        x -= 1    # 4   3   2\n",
    "        \n",
    "    return out\n",
    "\n",
    "print(fact1(3)) # 3 x 2 x 1 = 6\n",
    "print(fact1(5))"
   ]
  },
  {
   "cell_type": "code",
   "execution_count": 49,
   "metadata": {},
   "outputs": [
    {
     "name": "stdout",
     "output_type": "stream",
     "text": [
      "6\n",
      "120\n"
     ]
    }
   ],
   "source": [
    "# 더 줄이기\n",
    "def fact2(x):\n",
    "    if x == 0:\n",
    "        return 1\n",
    "    else:\n",
    "        return x * fact2(x-1) # 자기자신을 호출하는 함수 -> 3 x 2!랑 같은거임. \n",
    "\n",
    "print(fact2(3))\n",
    "print(fact2(5))"
   ]
  },
  {
   "cell_type": "code",
   "execution_count": 55,
   "metadata": {},
   "outputs": [
    {
     "data": {
      "text/plain": [
       "15"
      ]
     },
     "execution_count": 55,
     "metadata": {},
     "output_type": "execute_result"
    }
   ],
   "source": [
    "# 1 부터 10까지의 합을 계산하는 프로그램을 구현하시오.\n",
    "# 단, 재귀함수를 이용하시오.\n",
    "# 10 + 9 + 8 + 7 +....\n",
    "def fact3(x):\n",
    "    if x < 0:\n",
    "        return 0\n",
    "    else:\n",
    "        return x + fact3(x-1)\n",
    "\n",
    "fact3(5)"
   ]
  },
  {
   "cell_type": "code",
   "execution_count": 68,
   "metadata": {},
   "outputs": [
    {
     "name": "stdout",
     "output_type": "stream",
     "text": [
      "r a\n",
      "a\n",
      "aerok\n",
      "ore\n",
      "ko\n",
      "ea\n",
      "korea\n"
     ]
    }
   ],
   "source": [
    "# 한글 한자 -> 2byte\n",
    "a = 'korea' # ['k', 'o', 'r', 'e', 'a'] -> 리스트 형태로 저장\n",
    "print(a[2],a[4])  # 특정부분 읽어오기 인덱싱\n",
    "print(a[-1])\n",
    "print(a[::-1])\n",
    "# [start : end], end-1값만 읽어옴.\n",
    "print(a[1:4]) # 슬라이싱 -> 잘라서 가져옴.\n",
    "print(a[:2])\n",
    "print(a[3:])\n",
    "print(a[:])"
   ]
  },
  {
   "cell_type": "code",
   "execution_count": 69,
   "metadata": {},
   "outputs": [
    {
     "name": "stdout",
     "output_type": "stream",
     "text": [
      "teamlab\n",
      "teamteamteam\n"
     ]
    }
   ],
   "source": [
    "# 문자열연산 : +(연결), *(반복)\n",
    "a = 'team'\n",
    "b = 'lab'\n",
    "print(a+b) # 문자열끼리 연결하라.\n",
    "print(a*3) # a 문자열을 3번 반복하라."
   ]
  },
  {
   "cell_type": "code",
   "execution_count": 86,
   "metadata": {},
   "outputs": [
    {
     "ename": "AttributeError",
     "evalue": "'list' object has no attribute 'capitalize'",
     "output_type": "error",
     "traceback": [
      "\u001b[1;31m---------------------------------------------------------------------------\u001b[0m",
      "\u001b[1;31mAttributeError\u001b[0m                            Traceback (most recent call last)",
      "\u001b[1;32m<ipython-input-86-51c14db1e82c>\u001b[0m in \u001b[0;36m<module>\u001b[1;34m\u001b[0m\n\u001b[0;32m     10\u001b[0m \u001b[1;31m# upper():대문자로 만들기, lower():소문자로 만들기\u001b[0m\u001b[1;33m\u001b[0m\u001b[1;33m\u001b[0m\u001b[1;33m\u001b[0m\u001b[0m\n\u001b[0;32m     11\u001b[0m \u001b[1;31m# count(문자열) : 문자열의 빈도 수\u001b[0m\u001b[1;33m\u001b[0m\u001b[1;33m\u001b[0m\u001b[1;33m\u001b[0m\u001b[0m\n\u001b[1;32m---> 12\u001b[1;33m \u001b[0mprint\u001b[0m\u001b[1;33m(\u001b[0m\u001b[0mcontents\u001b[0m\u001b[1;33m.\u001b[0m\u001b[0mcapitalize\u001b[0m\u001b[1;33m(\u001b[0m\u001b[1;33m)\u001b[0m\u001b[1;33m)\u001b[0m\u001b[1;33m\u001b[0m\u001b[1;33m\u001b[0m\u001b[0m\n\u001b[0m\u001b[0;32m     13\u001b[0m \u001b[0mprint\u001b[0m\u001b[1;33m(\u001b[0m\u001b[0mcontents\u001b[0m\u001b[1;33m.\u001b[0m\u001b[0mcount\u001b[0m\u001b[1;33m(\u001b[0m\u001b[1;34m'yesterday'\u001b[0m\u001b[1;33m)\u001b[0m\u001b[1;33m)\u001b[0m\u001b[1;33m\u001b[0m\u001b[1;33m\u001b[0m\u001b[0m\n\u001b[0;32m     14\u001b[0m \u001b[1;33m\u001b[0m\u001b[0m\n",
      "\u001b[1;31mAttributeError\u001b[0m: 'list' object has no attribute 'capitalize'"
     ]
    }
   ],
   "source": [
    "# 단어카운팅 문제.\n",
    "# 'yesterday'라는 단어가 몇 번 나오는지 추출하는 프로그램.\n",
    "# 단, 파일을 통해 처리 하시오.\n",
    "# f = open(\"filename\", 'mode') -> file name은 file경로, mode : r, w, a\n",
    "f = open(\"D:/python3/study/yesterday.txt\", 'r')\n",
    "\n",
    "# f.readline -> 줄단위로 읽어오는 함수, f.readelines() -> 문장 전체를 다 읽어오는 함수\n",
    "contents = f.readlines()\n",
    "\n",
    "# upper():대문자로 만들기, lower():소문자로 만들기\n",
    "# count(문자열) : 문자열의 빈도 수\n",
    "print(contents.capitalize())\n",
    "print(contents.count('Yesterday'))\n",
    "\n",
    "f.close()"
   ]
  },
  {
   "cell_type": "code",
   "execution_count": 89,
   "metadata": {},
   "outputs": [
    {
     "name": "stdout",
     "output_type": "stream",
     "text": [
      "yesterday의 단어 출현 9\n"
     ]
    }
   ],
   "source": [
    "text = \"\"\n",
    "for line in contents:\n",
    "    text += line.strip() + \"\\n\"\n",
    "    \n",
    "cnt = text.upper().count(\"YESTERDAY\")\n",
    "print(\"yesterday의 단어 출현\", cnt)"
   ]
  },
  {
   "cell_type": "code",
   "execution_count": 90,
   "metadata": {},
   "outputs": [
    {
     "data": {
      "text/plain": [
       "(1, 2, 3, 4, 5)"
      ]
     },
     "execution_count": 90,
     "metadata": {},
     "output_type": "execute_result"
    }
   ],
   "source": [
    "# 튜플의 괄호는 생략 가능\n",
    "a = 1, 2, 3, 4, 5\n",
    "a"
   ]
  },
  {
   "cell_type": "code",
   "execution_count": 91,
   "metadata": {},
   "outputs": [
    {
     "name": "stdout",
     "output_type": "stream",
     "text": [
      "20 10\n"
     ]
    }
   ],
   "source": [
    "a = 10\n",
    "b = 20\n",
    "a, b = b, a\n",
    "print(a, b)"
   ]
  },
  {
   "cell_type": "code",
   "execution_count": 92,
   "metadata": {},
   "outputs": [
    {
     "name": "stdout",
     "output_type": "stream",
     "text": [
      "10 20\n"
     ]
    }
   ],
   "source": [
    "def aaa():\n",
    "    return 10, 20 # 다른 프로그램은 오류, return 값은 한개만, 눈에만 2개 시스템상 (10, 20) 1개\n",
    "\n",
    "a, b = aaa()\n",
    "print(a, b)"
   ]
  },
  {
   "cell_type": "code",
   "execution_count": 97,
   "metadata": {},
   "outputs": [
    {
     "name": "stdout",
     "output_type": "stream",
     "text": [
      "0 1\n",
      "1 2\n",
      "2 3\n",
      "3 4\n",
      "4 5\n"
     ]
    }
   ],
   "source": [
    "a = [1, 2, 3, 4, 5]  # 비율적\n",
    "index = -1\n",
    "for i in a:\n",
    "    print(index+i, i)"
   ]
  },
  {
   "cell_type": "code",
   "execution_count": 98,
   "metadata": {},
   "outputs": [
    {
     "name": "stdout",
     "output_type": "stream",
     "text": [
      "0번째 요소는 1입니다.\n",
      "1번째 요소는 2입니다.\n",
      "2번째 요소는 3입니다.\n",
      "3번째 요소는 4입니다.\n",
      "4번째 요소는 5입니다.\n"
     ]
    }
   ],
   "source": [
    "for i, value in enumerate([1, 2, 3, 4, 5]): # 집합변수를 담을 때\n",
    "    print(\"{}번째 요소는 {}입니다.\".format(i, value))"
   ]
  },
  {
   "cell_type": "code",
   "execution_count": 100,
   "metadata": {},
   "outputs": [
    {
     "data": {
      "text/plain": [
       "[(0, 'a'), (1, 'b')]"
      ]
     },
     "execution_count": 100,
     "metadata": {},
     "output_type": "execute_result"
    }
   ],
   "source": [
    "list(enumerate(['a', 'b'])) # enumerate() -> 튜플 형태(index, 내가 정해준 값)"
   ]
  },
  {
   "cell_type": "code",
   "execution_count": null,
   "metadata": {},
   "outputs": [],
   "source": [
    "# Class -> 함수까지 담을 수 있는 자료형\n",
    "class Car:\n",
    "    name = 'sonata'\n",
    "           # Car의 기억공간이 100번지 주소면 \n",
    "c = Car() # c의 기억공간에 가서 안에 보면 100번지 주소가 있다. -> 원하게 변경 가능.\n",
    "d = Car() # d의 기억공간에 가서 안에 보면 100번지 주소 있음 but, c와 각각 다른 기억공간.\n",
    "c.name = 'sonata' # 직접 접근( direct 연산자 )\n",
    "                  # 실제 메모리 형태는 {'name' : 'sonata'} 이렇게 저장이 된다.(딕셔너리)\n"
   ]
  },
  {
   "cell_type": "code",
   "execution_count": null,
   "metadata": {},
   "outputs": [],
   "source": [
    "# 최대속도는 200을 초과할 수 없다.\n",
    "# 브레이크페달을 밞을 때 -10의 속도가 준다\n",
    "# 악셀페달을 밞을 때 +10의 속도가 증가한다.\n",
    "# 연료는 악셀페달을 밞을 때 소모되며 소모값은 5이다.\n",
    "\n",
    "class Car: # 객체(object)를 표현할 목적으로 구현하는 툴\n",
    "    # 멤버필드(변수, 함수) : 속성이나 특성 => 파이썬에서는 꼭 기술할 필요X 왜냐? state에 기술\n",
    "#     self.name = ''  # 초기값을 이렇게 줘도 됨 근데 인스턴스에서 줘도 되기 땜에 굳이 할 필요X\n",
    "#     self.speed = 0\n",
    "#     self.fuel = 100 \n",
    "    \n",
    "    # 멤버메서드 : 행위나 동작\n",
    "    def carBreak(): # 브레이크 페달 밞는 행위를 제어하는 함수\n",
    "        pass\n",
    "    \n",
    "    def carExcel(): # 악셀 페달을 밞는 행위를 제어하는 함수\n",
    "        pass   \n",
    "    \n",
    "    def carSate(): # 자동차의 상태를 표시하는 행위를 제어하는 함수\n",
    "        print(\"사용자 : \", self.name)\n",
    "        print(\"현재속도 : \", self.speed)\n",
    "        print(\"연료량 : \", self.fuel)"
   ]
  },
  {
   "cell_type": "code",
   "execution_count": 130,
   "metadata": {},
   "outputs": [],
   "source": [
    "class Car: \n",
    "    # 멤버필드(변수, 함수) : 속성이나 특성\n",
    "#     self.name = ''  \n",
    "#     self.speed = 0\n",
    "#     self.fuel = 100 \n",
    "    count =  0 # 클래스 변수-> 클래스가 공통으로 가질 수 있는 변수. , 클래스명으로 접근하는 변수\n",
    "    \n",
    "    \n",
    "    # 생성자 메서드 : 객체가 생성될 때 자동으로 호출 , 멤버필드를 초기화\n",
    "    def __init__(self, name, speed, fuel): # \n",
    "        #self.* : 인스턴스 변수 -> 인스턴스 만들때 마다 개별적으로 기입\n",
    "        self.name = name\n",
    "        self.speed = speed\n",
    "        self.fuel = fuel\n",
    "        Car.count += 1 # 카 클래스을 가지고 만드는 인스턴스 변수가 몇개인지 출력\n",
    "        \n",
    "    # 멤버메서드 : 행위나 동작\n",
    "    def carBreak(self): # 브레이크 페달 밞는 행위를 제어하는 함수\n",
    "        if self.speed < 10:\n",
    "            self.speed = 0 # else안해도 빠져나오니깐 이땐 else값 안 써도 됨.\n",
    "            return         # 제어권만 넘겨줌\n",
    "        \n",
    "        self.speed -= 10\n",
    "        \n",
    "    def carExcel(self): # 악셀 페달을 밞는 행위를 제어하는 함수\n",
    "        if self.fuel < 5:\n",
    "            print(\"연료가 부족합니다.\")\n",
    "        else: # 연료가 충분할 때\n",
    "            self.fuel -= 5\n",
    "            if self.speed > 200:\n",
    "                self.speed = 200\n",
    "            else:\n",
    "                self.speed += 10            \n",
    "    \n",
    "    def carState(self): # 자동차의 상태를 표시하는 행위를 제어하는 함수\n",
    "        print(\"사용자 : \", self.name)\n",
    "        print(\"현재속도 : \", self.speed)\n",
    "        print(\"연료량 : \", self.fuel)"
   ]
  },
  {
   "cell_type": "code",
   "execution_count": 131,
   "metadata": {},
   "outputs": [
    {
     "name": "stdout",
     "output_type": "stream",
     "text": [
      "사용자 :  aaa\n",
      "현재속도 :  0\n",
      "연료량 :  50\n",
      "사용자 :  aaa\n",
      "현재속도 :  0\n",
      "연료량 :  50\n",
      "사용자 :  aaa\n",
      "현재속도 :  10\n",
      "연료량 :  45\n"
     ]
    }
   ],
   "source": [
    "aaa = Car(\"aaa\", 0, 50)\n",
    "# aaa.name = 'aaa'\n",
    "# aaa.speed = 0\n",
    "# aaa.fuel = 50\n",
    "aaa.carState()\n",
    "\n",
    "aaa.carBreak()\n",
    "aaa.carState()\n",
    "\n",
    "aaa.carExcel()\n",
    "aaa.carState()"
   ]
  },
  {
   "cell_type": "code",
   "execution_count": 132,
   "metadata": {},
   "outputs": [
    {
     "name": "stdout",
     "output_type": "stream",
     "text": [
      "사용자 :  aaa\n",
      "현재속도 :  10\n",
      "연료량 :  45\n",
      "사용자 :  bbb\n",
      "현재속도 :  170\n",
      "연료량 :  20\n",
      "사용자 :  bbb\n",
      "현재속도 :  180\n",
      "연료량 :  15\n",
      "사용자 :  bbb\n",
      "현재속도 :  190\n",
      "연료량 :  10\n",
      "사용자 :  bbb\n",
      "현재속도 :  200\n",
      "연료량 :  5\n",
      "사용자 :  bbb\n",
      "현재속도 :  210\n",
      "연료량 :  0\n"
     ]
    }
   ],
   "source": [
    "bbb = Car(\"bbb\", 180, 20)\n",
    "# bbb.name = \"bbb\"\n",
    "# bbb.speed = 180\n",
    "# bbb.fuel = 20\n",
    "aaa.carState()\n",
    "\n",
    "bbb.carBreak()\n",
    "bbb.carState()\n",
    "\n",
    "bbb.carExcel()\n",
    "bbb.carState()\n",
    "\n",
    "bbb.carExcel()\n",
    "bbb.carState()\n",
    "\n",
    "bbb.carExcel()\n",
    "bbb.carState()\n",
    "\n",
    "bbb.carExcel()\n",
    "bbb.carState()"
   ]
  },
  {
   "cell_type": "code",
   "execution_count": 133,
   "metadata": {},
   "outputs": [
    {
     "name": "stdout",
     "output_type": "stream",
     "text": [
      "사용자 :  aaa\n",
      "현재속도 :  10\n",
      "연료량 :  45\n",
      "사용자 :  bbb\n",
      "현재속도 :  210\n",
      "연료량 :  0\n"
     ]
    }
   ],
   "source": [
    "aaa.carState()\n",
    "bbb.carState()"
   ]
  },
  {
   "cell_type": "code",
   "execution_count": null,
   "metadata": {},
   "outputs": [],
   "source": [
    "# 접근제한자 : public, protected, private\n",
    "# private -> 접근을 막는 것 앞에 __ 2개 붙이면 된다.\n",
    "# 파이썬은 모든 멤버가 public이다. "
   ]
  },
  {
   "cell_type": "code",
   "execution_count": 140,
   "metadata": {},
   "outputs": [],
   "source": [
    "# 상속(Inheritance) : 부모클래스와 멤버를 자녀클래스가 물려받는것\n",
    "# 평면위의 한 점을 나타내는 객체를 디자인한 클래스\n",
    "# 이건 상속X\n",
    "class Point:\n",
    "    \n",
    "    def __init__(self):\n",
    "        self.xpos = int(input(\"x = \"))\n",
    "        self.ypos = int(input(\"y = \"))\n",
    "        \n",
    "    def disp(self):\n",
    "        print(\"점(x, y) = ({}, {})\".format(self.xpos, self.ypos))\n",
    "        \n",
    "# 원이라는 객체를 디자인한 클래스 \n",
    "class Circle:\n",
    "    \n",
    "    def __init__ (self):\n",
    "        self.xpos = int(input(\"x = \"))\n",
    "        self.ypos = int(input(\"y = \"))\n",
    "        self.r = float(input(\"r = \"))\n",
    "  \n",
    "    def getArea(self):\n",
    "        return self.r * self.r * 3.14\n",
    "\n",
    "    def disp(self):\n",
    "        print(\"점(x, y) = ({}, {})\".format(self.xpos, self.ypos))\n",
    "        print(\"반지금(r) = {}\".format(self.r))"
   ]
  },
  {
   "cell_type": "code",
   "execution_count": 141,
   "metadata": {},
   "outputs": [
    {
     "name": "stdout",
     "output_type": "stream",
     "text": [
      "x = 5\n",
      "y = 3\n",
      "점(x, y) = (5, 3)\n"
     ]
    }
   ],
   "source": [
    "ap = Point()\n",
    "ap.disp()"
   ]
  },
  {
   "cell_type": "code",
   "execution_count": 142,
   "metadata": {},
   "outputs": [
    {
     "name": "stdout",
     "output_type": "stream",
     "text": [
      "x = 5\n",
      "y = 5\n",
      "r = 10\n",
      "점(x, y) = (5, 5)\n",
      "반지금(r) = 10.0\n"
     ]
    }
   ],
   "source": [
    "cp = Circle()\n",
    "cp.disp()"
   ]
  },
  {
   "cell_type": "code",
   "execution_count": 143,
   "metadata": {},
   "outputs": [],
   "source": [
    "# 상속 한거\n",
    "class Point:\n",
    "    \n",
    "    def __init__(self):\n",
    "        self.xpos = int(input(\"x = \"))\n",
    "        self.ypos = int(input(\"y = \"))\n",
    "        \n",
    "    def disp(self):\n",
    "        print(\"점(x, y) = ({}, {})\".format(self.xpos, self.ypos))\n",
    "        \n",
    "# 원이라는 객체를 디자인한 클래스 \n",
    "class Circle(Point):\n",
    "    \n",
    "    def __init__ (self):\n",
    "        # 상속받은 자녀클래스는 반드시 부모클래스의 멤버를 초기화\n",
    "        Point.__init__(self) # 부모의 생성자 메서드를 호출해야 함.\n",
    "        #self.xpos = int(input(\"x = \")) -> 부모 역활하는 애가 가지고 있음\n",
    "        #self.ypos = int(input(\"y = \"))\n",
    "        self.r = float(input(\"r = \"))\n",
    "  \n",
    "    def getArea(self):\n",
    "        return self.r * self.r * 3.14\n",
    "\n",
    "    def disp(self):  # 오버라이딩(재정의) -> 부모와 자식이 같은 내용을 가지고 있어서 자식껀X\n",
    "        Point.disp(self) # 자식껀 없애는 대신 부모의 것을 가져오기.\n",
    "        #print(\"점(x, y) = ({}, {})\".format(self.xpos, self.ypos))\n",
    "        print(\"반지금(r) = {}\".format(self.r))"
   ]
  },
  {
   "cell_type": "code",
   "execution_count": 144,
   "metadata": {},
   "outputs": [
    {
     "name": "stdout",
     "output_type": "stream",
     "text": [
      "x = 5\n",
      "y = 3\n",
      "점(x, y) = (5, 3)\n"
     ]
    }
   ],
   "source": [
    "ap = Point()\n",
    "ap.disp()"
   ]
  },
  {
   "cell_type": "code",
   "execution_count": 145,
   "metadata": {},
   "outputs": [
    {
     "name": "stdout",
     "output_type": "stream",
     "text": [
      "x = 5\n",
      "y = 5\n",
      "r = 10\n",
      "점(x, y) = (5, 5)\n",
      "반지금(r) = 10.0\n"
     ]
    }
   ],
   "source": [
    "cp = Circle()\n",
    "cp.disp()"
   ]
  },
  {
   "cell_type": "code",
   "execution_count": 151,
   "metadata": {},
   "outputs": [],
   "source": [
    "# 사각형이라는 객체를 클래스로 구현하시오.\n",
    "# 멤버필드는 좌표값(x, y)과 너비와 높이(width, height)를 갖도록 구현\n",
    "# 생성자 메서드와 출력을 나태내는 disp메서드를 구현하시오.\n",
    "\n",
    "# 내가 한거\n",
    "class Point:\n",
    "    def __init__(self):\n",
    "        self.xpos = int(input(\"xpos = \"))\n",
    "        self.ypos = int(input(\"ypos = \"))\n",
    "    \n",
    "    def disp(self):\n",
    "        print(\"좌표값 = ({0}, {1})\".format(self.xpos, self.ypos))\n",
    "    \n",
    "class Rect(Point):\n",
    "    # 생성자 메서드\n",
    "    def __init__ (self):\n",
    "        Point.__init__(self)\n",
    "        self.width = int(input(\"width = \"))\n",
    "        self.height = int(input(\"height = \"))\n",
    "        \n",
    "    def disp(self):\n",
    "        Point.disp(self)\n",
    "        print(\"너비와 높이는 {0}, {1}이다\".format(self.width, self.height))\n",
    "        \n",
    "\n",
    "class Cir(Point):\n",
    "    def __init__(self):\n",
    "        \n",
    "        Point.__init__(self)\n",
    "        self.r = float(input(\"r = \"))    \n",
    "    \n",
    "    def disp(self):\n",
    "        Point.disp(self)\n",
    "        print(\"반지금(r) = {}\".format(self.r))\n"
   ]
  },
  {
   "cell_type": "code",
   "execution_count": 152,
   "metadata": {},
   "outputs": [
    {
     "name": "stdout",
     "output_type": "stream",
     "text": [
      "xpos = 5\n",
      "ypos = 5\n",
      "좌표값 = (5, 5)\n",
      "xpos = 5\n",
      "ypos = 5\n",
      "width = 5\n",
      "height = 5\n",
      "좌표값 = (5, 5)\n",
      "너비와 높이는 5, 5이다\n",
      "xpos = 55\n",
      "ypos = 5\n",
      "r = 5\n",
      "좌표값 = (55, 5)\n",
      "반지금(r) = 5.0\n"
     ]
    }
   ],
   "source": [
    "p = Point()\n",
    "p.disp()\n",
    "\n",
    "rec = Rect()\n",
    "rec.disp()\n",
    "\n",
    "ci = Cir()\n",
    "ci.disp()"
   ]
  },
  {
   "cell_type": "code",
   "execution_count": null,
   "metadata": {},
   "outputs": [],
   "source": [
    "# 도형 생성하기\n",
    "# 사용자가 원하는 도형을 생성하도록 구현한다.\n",
    "# 언제든 프로그램을 종료할 수 있도록 구현한다.\n",
    "# 입출력형식\n",
    "# 도형[1.원, 2.사각형, 3.도형보기 4.종료] = \n",
    "# '원'을 선택하면, 좌표값과 반지름을 입력받도록 구현한다.\n",
    "# '사각형'을 선택하면 좌표값과 너비와 높이를 입력받도록 구현한다.\n",
    "# '도형보기'를 선택하면 이제껏 입력한 도형의 정보가 출력되도록 한다.\n",
    "# '종료'는 프로그램을 종료한다."
   ]
  },
  {
   "cell_type": "code",
   "execution_count": null,
   "metadata": {},
   "outputs": [],
   "source": [
    "while True:\n",
    "    message = \"[1.원 2.사각형 3.도형보기 4.종료]\"\n",
    "    check = input(message)\n",
    "    \n",
    "    if check == 1:\n",
    "        pass\n",
    "    \n",
    "    elif check == 2:\n",
    "        pass\n",
    "    \n",
    "    elif check == 3:\n",
    "        pass\n",
    "    \n",
    "    elif check == 4:\n",
    "        break\n",
    "    else:\n",
    "        print(\"잘못 입력하셨습니다.\")\n",
    "        "
   ]
  },
  {
   "cell_type": "code",
   "execution_count": 5,
   "metadata": {},
   "outputs": [],
   "source": [
    "class Person:\n",
    "    def __init__(self, name, age, address, wallet):\n",
    "        self.greet = \"안녕하세요\"\n",
    "        self.name = name\n",
    "        self.age = age\n",
    "        self.address = address\n",
    "        self.__wallet = wallet # __의 의미 : 비공개라는 뜻이 됨 (Private 속성 가진 멤버)\n",
    "                               # private은 클래스안에서는 접근 가능함\n",
    "        \n",
    "    def pay(self, money):\n",
    "        self.__wallet -= money\n",
    "        print(\"잔액이 {}입니다\".format(self.__wallet))"
   ]
  },
  {
   "cell_type": "code",
   "execution_count": 6,
   "metadata": {},
   "outputs": [
    {
     "data": {
      "text/plain": [
       "'마리아'"
      ]
     },
     "execution_count": 6,
     "metadata": {},
     "output_type": "execute_result"
    }
   ],
   "source": [
    "maria = Person('마리아', 11, \"대전광역시 서구 둔산동\", 10000)\n",
    "maria.name"
   ]
  },
  {
   "cell_type": "code",
   "execution_count": 7,
   "metadata": {},
   "outputs": [
    {
     "name": "stdout",
     "output_type": "stream",
     "text": [
      "잔액이 9000입니다\n"
     ]
    }
   ],
   "source": [
    "#maria.__wallet -= 1000 # 접근도 안되고 바꿀 수도 없다.\n",
    "#maria.__wallet\n",
    "maria.pay(1000) # 이렇게 클래스 안에서 접근 해야 함."
   ]
  },
  {
   "cell_type": "code",
   "execution_count": 69,
   "metadata": {},
   "outputs": [],
   "source": [
    "# 은행계좌관리 프로그램을 구현하시오.\n",
    "# 처리기능 : 고객등록, 입금처리, 출금처리, 잔액조회, 작업종료\n",
    "# 고객등록은 고객이름, 계좌번호, 예금금액을 입력받아 처리한다.\n",
    "# 입금처리는 계좌번호가 일치할 때 해당 고객의 금액을 입금금액 누적\n",
    "# 출금처리는 계좌번호가 일치할 때 해당 고객의 금액이 출금금액 차감\n",
    "# 잔액조회는 해당고객의 현재 잔액을 확인 or 전체 거래고객 잔액 확인\n",
    "# 사용자가 원하는 작업을 선택할 수 있도록 구현한다.\n",
    "# 2명 이상의 고객에 대한 정보를 처리할 수 있도록 구현할 것\n",
    "# 주어진 클래스를 기반으로 할 것\n",
    "\n",
    "class Account:\n",
    "    def __init__(self, name, num, money):\n",
    "        self.name = name\n",
    "        self.num = num\n",
    "        self.money = money\n",
    "    \n",
    "    def mkac(self):\n",
    "        num1 = input(\"원하는 계좌번호 입력하세요 : \")\n",
    "        if num1 == self.num:\n",
    "            print(\"있는 계좌 입니다.\")\n",
    "        else:\n",
    "            print(\"계좌번호는 {} 입니다.\".format(num1))\n",
    "    \n",
    "    def inMoney(self):\n",
    "        # 계좌번호의 일치여부\n",
    "        num = input(\"계좌번호를 쓰시오 : \")\n",
    "        inmoney = int(input(\"임금 금액은 : \"))\n",
    "        if num == self.num:\n",
    "            self.money += inmoney\n",
    "            return #else 쓰면 2번째 사람부터는 else 있는 문장이 계속 뜸\n",
    "        \n",
    "        print(\"임금하신 금액은 {0}, 잔액은 {1} 입니다\".format(inmoney, self.money))\n",
    "        \n",
    "    def outMoney(self):\n",
    "        # 계좌번호의 일치여부\n",
    "        # 예금잔액의 존재여부\n",
    "        num = input(\"계좌번호를 쓰시오 : \")\n",
    "        outmoney = int(input(\"출금 금액은 : \"))\n",
    "        if num == self.num:\n",
    "            if self.money != 0:\n",
    "                self.money -= outmoney\n",
    "            else:\n",
    "                print(\"잔액이 부족합니다.\")\n",
    "        print(\"출금하신 금액은 {0}, 잔액은 {1} 입니다\".format(outmoney, self.money))\n",
    "    \n",
    "    def remainMoney(self):\n",
    "        print(\"현재 잔액은 {}원 입니다.\".format(self.num))\n",
    "    \n",
    "    def disp(self):\n",
    "        print(self.name + \" : \"+ self.num + \" : \"+str(self.money))\n",
    "        \n",
    "        "
   ]
  },
  {
   "cell_type": "code",
   "execution_count": 70,
   "metadata": {},
   "outputs": [],
   "source": [
    "# 함수선언과 정의\n",
    "def mainMenu():\n",
    "    print(\"[1.계좌개설]\")\n",
    "    print(\"[2.입금처리]\")\n",
    "    print(\"[3.출금처리]\")\n",
    "    print(\"[4.계좌잔액]\")\n",
    "    print(\"[5.작업종료]\")\n",
    "    print(\"============\")\n",
    "    menu = int(input(\"메뉴 = \"))\n",
    "    return menu"
   ]
  },
  {
   "cell_type": "code",
   "execution_count": 13,
   "metadata": {},
   "outputs": [
    {
     "name": "stdout",
     "output_type": "stream",
     "text": [
      "==== 은행계좌관리 프로그램 ====\n",
      "[1.계좌개설]\n",
      "[2.입금처리]\n",
      "[3.출금처리]\n",
      "[4.계좌잔액]\n",
      "[5.작업종료]\n",
      "============\n",
      "메뉴 = 3\n",
      "계좌번호를 쓰시오 : 1111\n",
      "출금 금액은 : 50000\n",
      "잔액이 부족합니다.\n",
      "출금하신 금액은 50000, 잔액은 10000 입니다\n",
      "[1.계좌개설]\n",
      "[2.입금처리]\n",
      "[3.출금처리]\n",
      "[4.계좌잔액]\n",
      "[5.작업종료]\n",
      "============\n",
      "메뉴 = 5\n",
      "프로그램을 종료합니다.\n"
     ]
    }
   ],
   "source": [
    "# main\n",
    "# 자료구조를 선언\n",
    "banklist = []\n",
    "\n",
    "print(\"==== 은행계좌관리 프로그램 ====\")\n",
    "\n",
    "while True:\n",
    "    # 메뉴\n",
    "    menu = mainMenu()\n",
    "    \n",
    "    if menu == 1:\n",
    "        p1 = Account('aaa', '1111', 10000)\n",
    "        p1.mkac()        \n",
    "    elif menu == 2:\n",
    "        p1 = Account('aaa', '1111', 10000)\n",
    "        p1.inMoney()\n",
    "    elif menu == 3:\n",
    "        p1 = Account('aaa', '1111', 10000)\n",
    "        p1.outMoney()\n",
    "    elif menu == 4:\n",
    "        p1 = Account('aaa', '1111', 10000)\n",
    "        p1.remainMoney()\n",
    "    elif menu == 5:\n",
    "        break\n",
    "    else:\n",
    "        print(\"다시 선택 하세요.\")\n",
    "\n",
    "print(\"프로그램을 종료합니다.\")\n"
   ]
  },
  {
   "cell_type": "code",
   "execution_count": 39,
   "metadata": {},
   "outputs": [],
   "source": [
    "class AAA:\n",
    "    def __init__(self):\n",
    "        self.a = 0\n",
    "        self.__b = 0\n",
    "        \n",
    "    def getB(self):   # 바깎에서 접근X, 바깎에서 접근 할 수 있는 함수 만듬.\n",
    "        return self.__b\n",
    "    \n",
    "    def setB(self, b):\n",
    "        self.__b = b"
   ]
  },
  {
   "cell_type": "code",
   "execution_count": 42,
   "metadata": {},
   "outputs": [
    {
     "name": "stdout",
     "output_type": "stream",
     "text": [
      "0\n",
      "10\n"
     ]
    }
   ],
   "source": [
    "ap = AAA()\n",
    "\n",
    "print(ap.a)\n",
    "ap.a = 10\n",
    "print(ap.a)\n"
   ]
  },
  {
   "cell_type": "code",
   "execution_count": 47,
   "metadata": {},
   "outputs": [
    {
     "data": {
      "text/plain": [
       "0"
      ]
     },
     "execution_count": 47,
     "metadata": {},
     "output_type": "execute_result"
    }
   ],
   "source": [
    "ap.getB()"
   ]
  },
  {
   "cell_type": "code",
   "execution_count": 49,
   "metadata": {},
   "outputs": [],
   "source": [
    "ap.setB(100)"
   ]
  },
  {
   "cell_type": "code",
   "execution_count": 50,
   "metadata": {},
   "outputs": [
    {
     "data": {
      "text/plain": [
       "100"
      ]
     },
     "execution_count": 50,
     "metadata": {},
     "output_type": "execute_result"
    }
   ],
   "source": [
    "ap.getB()"
   ]
  },
  {
   "cell_type": "code",
   "execution_count": 52,
   "metadata": {},
   "outputs": [
    {
     "name": "stdout",
     "output_type": "stream",
     "text": [
      "안녕하세요\n"
     ]
    },
    {
     "data": {
      "text/plain": [
       "True"
      ]
     },
     "execution_count": 52,
     "metadata": {},
     "output_type": "execute_result"
    }
   ],
   "source": [
    "class Person:\n",
    "    def greeting(self):\n",
    "        print(\"안녕하세요\")\n",
    "        \n",
    "    def hello(self):\n",
    "        #self.메서드()\n",
    "        self.greeting()\n",
    "\n",
    "kk = Person()\n",
    "kk.hello()\n",
    "\n",
    "# is - : ~ 입니까. -> 대답은 : True of False\n",
    "# isinstance(인스턴스이름, 클래스) -> 인스턴스가 클래스로 만들어 진겁니까??\n",
    "isinstance(kk, Person) # -> kk가 Person 클래스의 인스턴스 입니까? => 맞으면 True"
   ]
  },
  {
   "cell_type": "code",
   "execution_count": 53,
   "metadata": {},
   "outputs": [],
   "source": [
    "def factorial(n):\n",
    "    # n이 정수가 아니거나 음수이면 함수를 끝낸다.\n",
    "    if not isinstance(n, int) or n < 0:\n",
    "        return None\n",
    "    \n",
    "    if n == 1:\n",
    "        return 1\n",
    "    else:\n",
    "        return n = factorial(n-1)"
   ]
  },
  {
   "cell_type": "code",
   "execution_count": 65,
   "metadata": {},
   "outputs": [
    {
     "name": "stdout",
     "output_type": "stream",
     "text": [
      "['책', '열쇠']\n",
      "['책', '열쇠']\n"
     ]
    }
   ],
   "source": [
    "# 클래스 변수와 정적(static), 클래스 메서드\n",
    "class Person:                                \n",
    "    # class 변수 : 공통으로 갖는 값\n",
    "    bag = [] # 클래스의 리스트 변수\n",
    "    # Person 클래스면 다 bag 가짐 -> append -> self을 써서 제 가방에 넣는다고 해서 \n",
    "    def put_bag(self, stuff): #        모두 넣는게 아니라 각 가방에 다른것이 들어 갈 수 있다.\n",
    "        #self.bag.append(stuff) # 클래스변수를 셀프로 접근 \n",
    "        Person.bag.append(stuff) # 밑에 설명 있음\n",
    "        \n",
    "aaa = Person() #백을 선물 받음(빈백)\n",
    "aaa.put_bag('책')\n",
    "\n",
    "bbb = Person()\n",
    "bbb.put_bag('열쇠')\n",
    "\n",
    "print(aaa.bag) # 책만 가지고 있어야 하는데 -> 책 열쇠 -> self 보다 클래스가 더 앞선다.\n",
    "print(bbb.bag)"
   ]
  },
  {
   "cell_type": "code",
   "execution_count": 62,
   "metadata": {},
   "outputs": [],
   "source": [
    "class JBank:\n",
    "    rate = 0 # 클래스변수, \n",
    "    \n",
    "    def __init__(self, name, money, rate):\n",
    "        self.name = name\n",
    "        self.money = money\n",
    "        JBank.rate = rate     # 클래스 변수라서 클래스명으로 줘야 한다.\n",
    "                              # self은 인스턴스마다 내꺼 하는데 클래스변수는 클래스꺼다.\n",
    "    def disp(self):\n",
    "        print(self.name, self.money, self.rate)"
   ]
  },
  {
   "cell_type": "code",
   "execution_count": 63,
   "metadata": {},
   "outputs": [
    {
     "name": "stdout",
     "output_type": "stream",
     "text": [
      "aaa 10000 7\n",
      "-----------------------\n",
      "aaa 10000 3\n",
      "bbb 10000 3\n",
      "-----------------------\n",
      "aaa 10000 5\n",
      "bbb 10000 5\n",
      "ccc 10000 5\n"
     ]
    }
   ],
   "source": [
    "# 초기에 은행 7% \n",
    "aaa = JBank(\"aaa\", 10000, 7)\n",
    "aaa.disp()\n",
    "print(\"-----------------------\")\n",
    "# 중기에\n",
    "bbb = JBank('bbb', 10000, 3)\n",
    "aaa.disp()\n",
    "bbb.disp()\n",
    "print(\"-----------------------\")\n",
    "#후기에\n",
    "ccc = JBank('ccc', 10000, 5)\n",
    "aaa.disp()\n",
    "bbb.disp()\n",
    "ccc.disp()"
   ]
  },
  {
   "cell_type": "code",
   "execution_count": 68,
   "metadata": {},
   "outputs": [
    {
     "name": "stdout",
     "output_type": "stream",
     "text": [
      "['책']\n",
      "['열쇠']\n"
     ]
    }
   ],
   "source": [
    "class Person:\n",
    "    \n",
    "    def __init__(self):\n",
    "        self.bag = []\n",
    "        \n",
    "    def put_bag(self, stuff):\n",
    "        self.bag.append(stuff)\n",
    "        \n",
    "aaa = Person()\n",
    "aaa.put_bag('책')\n",
    "\n",
    "bbb = Person()\n",
    "bbb.put_bag('열쇠')\n",
    "\n",
    "print(aaa.bag)\n",
    "print(bbb.bag)"
   ]
  },
  {
   "cell_type": "code",
   "execution_count": null,
   "metadata": {},
   "outputs": [],
   "source": []
  }
 ],
 "metadata": {
  "kernelspec": {
   "display_name": "Python 3",
   "language": "python",
   "name": "python3"
  },
  "language_info": {
   "codemirror_mode": {
    "name": "ipython",
    "version": 3
   },
   "file_extension": ".py",
   "mimetype": "text/x-python",
   "name": "python",
   "nbconvert_exporter": "python",
   "pygments_lexer": "ipython3",
   "version": "3.7.3"
  }
 },
 "nbformat": 4,
 "nbformat_minor": 2
}
