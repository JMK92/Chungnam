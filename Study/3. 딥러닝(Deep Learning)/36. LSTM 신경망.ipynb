{
 "cells": [
  {
   "cell_type": "code",
   "execution_count": 1,
   "metadata": {},
   "outputs": [],
   "source": [
    "import warnings\n",
    "warnings.filterwarnings('ignore')\n",
    "from tensorflow.keras.datasets import imdb\n",
    "\n",
    "# 가장 자주 등장하는 단어 500개만 사용\n",
    "(train_input, train_target), (test_input, test_target) = imdb.load_data(\n",
    "    num_words = 500)\n",
    "\n",
    "from sklearn.model_selection import train_test_split\n",
    "train_input, val_input, train_target, val_target = train_test_split(\n",
    "    train_input, train_target, test_size = 0.2, random_state = 42)"
   ]
  },
  {
   "cell_type": "code",
   "execution_count": 2,
   "metadata": {},
   "outputs": [],
   "source": [
    "# 시퀀스 데이터의 길이를 맞추는 함수 : pad_sequences()\n",
    "from tensorflow.keras.preprocessing.sequence import pad_sequences\n",
    "train_seq = pad_sequences(train_input, maxlen = 100)\n",
    "val_seq = pad_sequences(val_input, maxlen = 100)"
   ]
  },
  {
   "cell_type": "code",
   "execution_count": 3,
   "metadata": {},
   "outputs": [],
   "source": [
    "from tensorflow import keras\n",
    "model = keras.Sequential()\n",
    "\n",
    "model.add(keras.layers.Embedding(500, 16, input_length = 100))\n",
    "model.add(keras.layers.LSTM(8))\n",
    "model.add(keras.layers.Dense(1, activation = 'sigmoid'))"
   ]
  },
  {
   "cell_type": "code",
   "execution_count": 4,
   "metadata": {},
   "outputs": [
    {
     "name": "stdout",
     "output_type": "stream",
     "text": [
      "Model: \"sequential\"\n",
      "_________________________________________________________________\n",
      "Layer (type)                 Output Shape              Param #   \n",
      "=================================================================\n",
      "embedding (Embedding)        (None, 100, 16)           8000      \n",
      "_________________________________________________________________\n",
      "lstm (LSTM)                  (None, 8)                 800       \n",
      "_________________________________________________________________\n",
      "dense (Dense)                (None, 1)                 9         \n",
      "=================================================================\n",
      "Total params: 8,809\n",
      "Trainable params: 8,809\n",
      "Non-trainable params: 0\n",
      "_________________________________________________________________\n"
     ]
    }
   ],
   "source": [
    "model.summary()\n",
    "# 800 : 더 오랜 기억 "
   ]
  },
  {
   "cell_type": "code",
   "execution_count": 5,
   "metadata": {},
   "outputs": [
    {
     "name": "stdout",
     "output_type": "stream",
     "text": [
      "Train on 20000 samples, validate on 5000 samples\n",
      "Epoch 1/100\n",
      "20000/20000 [==============================] - 11s 540us/sample - loss: 0.6923 - accuracy: 0.5394 - val_loss: 0.6912 - val_accuracy: 0.5892\n",
      "Epoch 2/100\n",
      "20000/20000 [==============================] - 9s 425us/sample - loss: 0.6897 - accuracy: 0.5963 - val_loss: 0.6876 - val_accuracy: 0.6298\n",
      "Epoch 3/100\n",
      "20000/20000 [==============================] - 9s 431us/sample - loss: 0.6839 - accuracy: 0.6426 - val_loss: 0.6789 - val_accuracy: 0.6500\n",
      "Epoch 4/100\n",
      "20000/20000 [==============================] - 8s 412us/sample - loss: 0.6683 - accuracy: 0.6673 - val_loss: 0.6512 - val_accuracy: 0.6854\n",
      "Epoch 5/100\n",
      "20000/20000 [==============================] - 9s 438us/sample - loss: 0.6074 - accuracy: 0.7176 - val_loss: 0.5726 - val_accuracy: 0.7188\n",
      "Epoch 6/100\n",
      "20000/20000 [==============================] - 9s 427us/sample - loss: 0.5523 - accuracy: 0.7374 - val_loss: 0.5425 - val_accuracy: 0.7464\n",
      "Epoch 7/100\n",
      "20000/20000 [==============================] - 8s 411us/sample - loss: 0.5267 - accuracy: 0.7573 - val_loss: 0.5220 - val_accuracy: 0.7606\n",
      "Epoch 8/100\n",
      "20000/20000 [==============================] - 8s 405us/sample - loss: 0.5073 - accuracy: 0.7695 - val_loss: 0.5057 - val_accuracy: 0.7724\n",
      "Epoch 9/100\n",
      "20000/20000 [==============================] - 8s 404us/sample - loss: 0.4910 - accuracy: 0.7821 - val_loss: 0.4916 - val_accuracy: 0.7786\n",
      "Epoch 10/100\n",
      "20000/20000 [==============================] - 8s 407us/sample - loss: 0.4774 - accuracy: 0.7883 - val_loss: 0.4804 - val_accuracy: 0.7832\n",
      "Epoch 11/100\n",
      "20000/20000 [==============================] - 8s 402us/sample - loss: 0.4658 - accuracy: 0.7937 - val_loss: 0.4713 - val_accuracy: 0.7900\n",
      "Epoch 12/100\n",
      "20000/20000 [==============================] - 8s 413us/sample - loss: 0.4563 - accuracy: 0.7989 - val_loss: 0.4637 - val_accuracy: 0.7894\n",
      "Epoch 13/100\n",
      "20000/20000 [==============================] - 8s 402us/sample - loss: 0.4484 - accuracy: 0.8024 - val_loss: 0.4581 - val_accuracy: 0.7916\n",
      "Epoch 14/100\n",
      "20000/20000 [==============================] - 8s 407us/sample - loss: 0.4420 - accuracy: 0.8056 - val_loss: 0.4534 - val_accuracy: 0.7950\n",
      "Epoch 15/100\n",
      "20000/20000 [==============================] - 8s 403us/sample - loss: 0.4365 - accuracy: 0.8079 - val_loss: 0.4492 - val_accuracy: 0.7934\n",
      "Epoch 16/100\n",
      "20000/20000 [==============================] - 8s 419us/sample - loss: 0.4324 - accuracy: 0.8090 - val_loss: 0.4483 - val_accuracy: 0.7914\n",
      "Epoch 17/100\n",
      "20000/20000 [==============================] - 8s 412us/sample - loss: 0.4286 - accuracy: 0.8106 - val_loss: 0.4443 - val_accuracy: 0.7938\n",
      "Epoch 18/100\n",
      "20000/20000 [==============================] - 9s 428us/sample - loss: 0.4255 - accuracy: 0.8113 - val_loss: 0.4413 - val_accuracy: 0.7974\n",
      "Epoch 19/100\n",
      "20000/20000 [==============================] - 8s 405us/sample - loss: 0.4229 - accuracy: 0.8112 - val_loss: 0.4395 - val_accuracy: 0.7968\n",
      "Epoch 20/100\n",
      "20000/20000 [==============================] - 8s 415us/sample - loss: 0.4206 - accuracy: 0.8125 - val_loss: 0.4411 - val_accuracy: 0.7966\n",
      "Epoch 21/100\n",
      "20000/20000 [==============================] - 8s 406us/sample - loss: 0.4184 - accuracy: 0.8129 - val_loss: 0.4413 - val_accuracy: 0.7992\n",
      "Epoch 22/100\n",
      "20000/20000 [==============================] - 8s 405us/sample - loss: 0.4173 - accuracy: 0.8150 - val_loss: 0.4364 - val_accuracy: 0.8004\n",
      "Epoch 23/100\n",
      "20000/20000 [==============================] - 8s 417us/sample - loss: 0.4155 - accuracy: 0.8142 - val_loss: 0.4355 - val_accuracy: 0.7968\n",
      "Epoch 24/100\n",
      "20000/20000 [==============================] - 8s 418us/sample - loss: 0.4145 - accuracy: 0.8151 - val_loss: 0.4339 - val_accuracy: 0.7990\n",
      "Epoch 25/100\n",
      "20000/20000 [==============================] - 8s 417us/sample - loss: 0.4132 - accuracy: 0.8151 - val_loss: 0.4338 - val_accuracy: 0.8034\n",
      "Epoch 26/100\n",
      "20000/20000 [==============================] - 8s 417us/sample - loss: 0.4119 - accuracy: 0.8155 - val_loss: 0.4330 - val_accuracy: 0.8024\n",
      "Epoch 27/100\n",
      "20000/20000 [==============================] - 8s 404us/sample - loss: 0.4112 - accuracy: 0.8148 - val_loss: 0.4323 - val_accuracy: 0.8052\n",
      "Epoch 28/100\n",
      "20000/20000 [==============================] - 8s 414us/sample - loss: 0.4101 - accuracy: 0.8154 - val_loss: 0.4323 - val_accuracy: 0.8064\n",
      "Epoch 29/100\n",
      "20000/20000 [==============================] - 8s 403us/sample - loss: 0.4096 - accuracy: 0.8162 - val_loss: 0.4311 - val_accuracy: 0.8058\n",
      "Epoch 30/100\n",
      "20000/20000 [==============================] - 8s 411us/sample - loss: 0.4089 - accuracy: 0.8142 - val_loss: 0.4300 - val_accuracy: 0.8036\n",
      "Epoch 31/100\n",
      "20000/20000 [==============================] - 8s 404us/sample - loss: 0.4081 - accuracy: 0.8156 - val_loss: 0.4302 - val_accuracy: 0.8028\n",
      "Epoch 32/100\n",
      "20000/20000 [==============================] - 8s 417us/sample - loss: 0.4074 - accuracy: 0.8170 - val_loss: 0.4309 - val_accuracy: 0.7984\n",
      "Epoch 33/100\n",
      "20000/20000 [==============================] - 8s 414us/sample - loss: 0.4068 - accuracy: 0.8158 - val_loss: 0.4322 - val_accuracy: 0.7964\n"
     ]
    }
   ],
   "source": [
    "# 모델 설정과 훈련\n",
    "rmsprop = keras.optimizers.RMSprop(learning_rate = 1e-4)\n",
    "model.compile(optimizer = rmsprop, \n",
    "              loss = 'binary_crossentropy',\n",
    "              metrics = ['accuracy'])\n",
    "# 복구점\n",
    "checkpoint_cb = keras.callbacks.ModelCheckpoint('best-simplernn-model.h5')\n",
    "\n",
    "# 조기종료\n",
    "early_stopping_cb = keras.callbacks.EarlyStopping(patience=3, \n",
    "                                                  restore_best_weights=True)\n",
    "\n",
    "history = model.fit(train_seq, train_target, epochs=100, batch_size = 64, \n",
    "                    validation_data=(val_seq, val_target), \n",
    "                    callbacks=[checkpoint_cb, early_stopping_cb])"
   ]
  },
  {
   "cell_type": "code",
   "execution_count": 6,
   "metadata": {},
   "outputs": [
    {
     "data": {
      "image/png": "[encoded data removed]",
      "text/plain": [
       "<Figure size 432x288 with 1 Axes>"
      ]
     },
     "metadata": {
      "needs_background": "light"
     },
     "output_type": "display_data"
    }
   ],
   "source": [
    "# 훈련소실과 검증손실 시각화\n",
    "import matplotlib.pyplot as plt\n",
    "%matplotlib inline\n",
    "plt.plot(history.history['loss'])\n",
    "plt.plot(history.history['val_loss'])\n",
    "plt.xlabel('epoch')\n",
    "plt.ylabel('loss')\n",
    "plt.legend(['train', 'val'])\n",
    "plt.show()"
   ]
  },
  {
   "cell_type": "code",
   "execution_count": 7,
   "metadata": {},
   "outputs": [],
   "source": [
    "model2 = keras.Sequential()\n",
    "\n",
    "model2.add(keras.layers.Embedding(500, 16, input_length = 100))\n",
    "model2.add(keras.layers.LSTM(8, dropout = 0.3))\n",
    "model2.add(keras.layers.Dense(1, activation = 'sigmoid'))"
   ]
  },
  {
   "cell_type": "code",
   "execution_count": 8,
   "metadata": {},
   "outputs": [
    {
     "name": "stdout",
     "output_type": "stream",
     "text": [
      "Train on 20000 samples, validate on 5000 samples\n",
      "Epoch 1/100\n",
      "20000/20000 [==============================] - 11s 529us/sample - loss: 0.6920 - accuracy: 0.5436 - val_loss: 0.6907 - val_accuracy: 0.6022\n",
      "Epoch 2/100\n",
      "20000/20000 [==============================] - 9s 430us/sample - loss: 0.6877 - accuracy: 0.6179 - val_loss: 0.6837 - val_accuracy: 0.6568\n",
      "Epoch 3/100\n",
      "20000/20000 [==============================] - 8s 422us/sample - loss: 0.6618 - accuracy: 0.6360 - val_loss: 0.6321 - val_accuracy: 0.6440\n",
      "Epoch 4/100\n",
      "20000/20000 [==============================] - 8s 423us/sample - loss: 0.6107 - accuracy: 0.7132 - val_loss: 0.5982 - val_accuracy: 0.7300\n",
      "Epoch 5/100\n",
      "20000/20000 [==============================] - 9s 429us/sample - loss: 0.5848 - accuracy: 0.7397 - val_loss: 0.5749 - val_accuracy: 0.7354\n",
      "Epoch 6/100\n",
      "20000/20000 [==============================] - 9s 428us/sample - loss: 0.5633 - accuracy: 0.7478 - val_loss: 0.5546 - val_accuracy: 0.7512\n",
      "Epoch 7/100\n",
      "20000/20000 [==============================] - 8s 424us/sample - loss: 0.5467 - accuracy: 0.7556 - val_loss: 0.5359 - val_accuracy: 0.7612\n",
      "Epoch 8/100\n",
      "20000/20000 [==============================] - 8s 425us/sample - loss: 0.5291 - accuracy: 0.7621 - val_loss: 0.5201 - val_accuracy: 0.7646\n",
      "Epoch 9/100\n",
      "20000/20000 [==============================] - 9s 437us/sample - loss: 0.5138 - accuracy: 0.7668 - val_loss: 0.5061 - val_accuracy: 0.7706\n",
      "Epoch 10/100\n",
      "20000/20000 [==============================] - 9s 427us/sample - loss: 0.4974 - accuracy: 0.7753 - val_loss: 0.4944 - val_accuracy: 0.7766\n",
      "Epoch 11/100\n",
      "20000/20000 [==============================] - 8s 424us/sample - loss: 0.4873 - accuracy: 0.7787 - val_loss: 0.4838 - val_accuracy: 0.7846\n",
      "Epoch 12/100\n",
      "20000/20000 [==============================] - 9s 433us/sample - loss: 0.4771 - accuracy: 0.7835 - val_loss: 0.4738 - val_accuracy: 0.7878\n",
      "Epoch 13/100\n",
      "20000/20000 [==============================] - 9s 430us/sample - loss: 0.4651 - accuracy: 0.7923 - val_loss: 0.4670 - val_accuracy: 0.7888\n",
      "Epoch 14/100\n",
      "20000/20000 [==============================] - 9s 443us/sample - loss: 0.4593 - accuracy: 0.7919 - val_loss: 0.4591 - val_accuracy: 0.7916\n",
      "Epoch 15/100\n",
      "20000/20000 [==============================] - 9s 442us/sample - loss: 0.4510 - accuracy: 0.7944 - val_loss: 0.4563 - val_accuracy: 0.7880\n",
      "Epoch 16/100\n",
      "20000/20000 [==============================] - 9s 430us/sample - loss: 0.4476 - accuracy: 0.7958 - val_loss: 0.4494 - val_accuracy: 0.7960\n",
      "Epoch 17/100\n",
      "20000/20000 [==============================] - 9s 434us/sample - loss: 0.4425 - accuracy: 0.7997 - val_loss: 0.4459 - val_accuracy: 0.7926\n",
      "Epoch 18/100\n",
      "20000/20000 [==============================] - 9s 436us/sample - loss: 0.4379 - accuracy: 0.8001 - val_loss: 0.4424 - val_accuracy: 0.7970\n",
      "Epoch 19/100\n",
      "20000/20000 [==============================] - 8s 423us/sample - loss: 0.4345 - accuracy: 0.8032 - val_loss: 0.4403 - val_accuracy: 0.7970\n",
      "Epoch 20/100\n",
      "20000/20000 [==============================] - 9s 437us/sample - loss: 0.4326 - accuracy: 0.8035 - val_loss: 0.4382 - val_accuracy: 0.7992\n",
      "Epoch 21/100\n",
      "20000/20000 [==============================] - 9s 434us/sample - loss: 0.4301 - accuracy: 0.8037 - val_loss: 0.4363 - val_accuracy: 0.7984\n",
      "Epoch 22/100\n",
      "20000/20000 [==============================] - 8s 424us/sample - loss: 0.4274 - accuracy: 0.8062 - val_loss: 0.4366 - val_accuracy: 0.8008\n",
      "Epoch 23/100\n",
      "20000/20000 [==============================] - 9s 434us/sample - loss: 0.4259 - accuracy: 0.8059 - val_loss: 0.4347 - val_accuracy: 0.8000\n",
      "Epoch 24/100\n",
      "20000/20000 [==============================] - 9s 438us/sample - loss: 0.4248 - accuracy: 0.8052 - val_loss: 0.4342 - val_accuracy: 0.8018\n",
      "Epoch 25/100\n",
      "20000/20000 [==============================] - 9s 426us/sample - loss: 0.4220 - accuracy: 0.8067 - val_loss: 0.4347 - val_accuracy: 0.8024\n",
      "Epoch 26/100\n",
      "20000/20000 [==============================] - 9s 435us/sample - loss: 0.4211 - accuracy: 0.8072 - val_loss: 0.4319 - val_accuracy: 0.8012\n",
      "Epoch 27/100\n",
      "20000/20000 [==============================] - 9s 441us/sample - loss: 0.4214 - accuracy: 0.8070 - val_loss: 0.4314 - val_accuracy: 0.8004\n",
      "Epoch 28/100\n",
      "20000/20000 [==============================] - 9s 437us/sample - loss: 0.4192 - accuracy: 0.8084 - val_loss: 0.4310 - val_accuracy: 0.8042\n",
      "Epoch 29/100\n",
      "20000/20000 [==============================] - 9s 435us/sample - loss: 0.4171 - accuracy: 0.8104 - val_loss: 0.4300 - val_accuracy: 0.8038\n",
      "Epoch 30/100\n",
      "20000/20000 [==============================] - 9s 437us/sample - loss: 0.4190 - accuracy: 0.8091 - val_loss: 0.4302 - val_accuracy: 0.8020\n",
      "Epoch 31/100\n",
      "20000/20000 [==============================] - 8s 424us/sample - loss: 0.4167 - accuracy: 0.8096 - val_loss: 0.4289 - val_accuracy: 0.8008\n",
      "Epoch 32/100\n",
      "20000/20000 [==============================] - 9s 434us/sample - loss: 0.4168 - accuracy: 0.8109 - val_loss: 0.4288 - val_accuracy: 0.8030\n",
      "Epoch 33/100\n",
      "20000/20000 [==============================] - 9s 434us/sample - loss: 0.4156 - accuracy: 0.8122 - val_loss: 0.4285 - val_accuracy: 0.8026\n",
      "Epoch 34/100\n",
      "20000/20000 [==============================] - 8s 425us/sample - loss: 0.4164 - accuracy: 0.8110 - val_loss: 0.4280 - val_accuracy: 0.8008\n",
      "Epoch 35/100\n",
      "20000/20000 [==============================] - 9s 432us/sample - loss: 0.4148 - accuracy: 0.8104 - val_loss: 0.4315 - val_accuracy: 0.8054\n",
      "Epoch 36/100\n",
      "20000/20000 [==============================] - 9s 434us/sample - loss: 0.4138 - accuracy: 0.8096 - val_loss: 0.4309 - val_accuracy: 0.8074\n",
      "Epoch 37/100\n",
      "20000/20000 [==============================] - 8s 423us/sample - loss: 0.4134 - accuracy: 0.8104 - val_loss: 0.4282 - val_accuracy: 0.7994\n"
     ]
    }
   ],
   "source": [
    "#모델 설정과 훈련\n",
    "rmsprop = keras.optimizers.RMSprop(learning_rate = 1e-4)\n",
    "model2.compile(optimizer = rmsprop, \n",
    "              loss = 'binary_crossentropy',\n",
    "              metrics = ['accuracy'])\n",
    "\n",
    "# 복구점\n",
    "checkpoint_cb = keras.callbacks.ModelCheckpoint('best-simplernn-model2.h5')\n",
    "\n",
    "# 조기종료\n",
    "# patience=3 - 손실율이 3번 이상 내려가지 않을때 종료\n",
    "early_stopping_cb = keras.callbacks.EarlyStopping(patience=3, \n",
    "                                                  restore_best_weights=True)\n",
    "\n",
    "# history라는 딕셔너리 객체 반환 밑의 history 변수라는 건 다름\n",
    "history = model2.fit(train_seq, train_target, epochs=100, batch_size = 64,\n",
    "                    validation_data=(val_seq, val_target), \n",
    "                    callbacks=[checkpoint_cb, early_stopping_cb])"
   ]
  },
  {
   "cell_type": "code",
   "execution_count": 9,
   "metadata": {},
   "outputs": [
    {
     "data": {
      "image/png": "[encoded data removed]",
      "text/plain": [
       "<Figure size 432x288 with 1 Axes>"
      ]
     },
     "metadata": {
      "needs_background": "light"
     },
     "output_type": "display_data"
    }
   ],
   "source": [
    "plt.plot(history.history['loss'])\n",
    "plt.plot(history.history['val_loss'])\n",
    "plt.xlabel('epoch')\n",
    "plt.ylabel('loss')\n",
    "plt.legend(['train', 'val'])\n",
    "plt.show()"
   ]
  },
  {
   "cell_type": "code",
   "execution_count": 10,
   "metadata": {},
   "outputs": [],
   "source": [
    "model3 = keras.Sequential()\n",
    "\n",
    "model3.add(keras.layers.Embedding(500, 16, input_length = 100))\n",
    "# return_sequence = True : 기억해서 그다음에게 넘겨줌\n",
    "model3.add(keras.layers.LSTM(8, dropout = 0.3, return_sequences = True))\n",
    "model3.add(keras.layers.LSTM(8, dropout = 0.3))\n",
    "model3.add(keras.layers.Dense(1, activation = 'sigmoid'))"
   ]
  },
  {
   "cell_type": "code",
   "execution_count": 11,
   "metadata": {},
   "outputs": [
    {
     "name": "stdout",
     "output_type": "stream",
     "text": [
      "Model: \"sequential_2\"\n",
      "_________________________________________________________________\n",
      "Layer (type)                 Output Shape              Param #   \n",
      "=================================================================\n",
      "embedding_2 (Embedding)      (None, 100, 16)           8000      \n",
      "_________________________________________________________________\n",
      "lstm_2 (LSTM)                (None, 100, 8)            800       \n",
      "_________________________________________________________________\n",
      "lstm_3 (LSTM)                (None, 8)                 544       \n",
      "_________________________________________________________________\n",
      "dense_2 (Dense)              (None, 1)                 9         \n",
      "=================================================================\n",
      "Total params: 9,353\n",
      "Trainable params: 9,353\n",
      "Non-trainable params: 0\n",
      "_________________________________________________________________\n"
     ]
    }
   ],
   "source": [
    "model3.summary()"
   ]
  },
  {
   "cell_type": "code",
   "execution_count": 12,
   "metadata": {},
   "outputs": [
    {
     "name": "stdout",
     "output_type": "stream",
     "text": [
      "Train on 20000 samples, validate on 5000 samples\n",
      "Epoch 1/100\n",
      "20000/20000 [==============================] - 20s 988us/sample - loss: 0.6928 - accuracy: 0.5311 - val_loss: 0.6922 - val_accuracy: 0.5756\n",
      "Epoch 2/100\n",
      "20000/20000 [==============================] - 16s 808us/sample - loss: 0.6904 - accuracy: 0.5827 - val_loss: 0.6877 - val_accuracy: 0.6360\n",
      "Epoch 3/100\n",
      "20000/20000 [==============================] - 16s 784us/sample - loss: 0.6791 - accuracy: 0.6446 - val_loss: 0.6654 - val_accuracy: 0.6688\n",
      "Epoch 4/100\n",
      "20000/20000 [==============================] - 16s 805us/sample - loss: 0.6289 - accuracy: 0.6862 - val_loss: 0.5837 - val_accuracy: 0.7070\n",
      "Epoch 5/100\n",
      "20000/20000 [==============================] - 16s 793us/sample - loss: 0.5607 - accuracy: 0.7244 - val_loss: 0.5405 - val_accuracy: 0.7366\n",
      "Epoch 6/100\n",
      "20000/20000 [==============================] - 16s 811us/sample - loss: 0.5288 - accuracy: 0.7495 - val_loss: 0.5206 - val_accuracy: 0.7488\n",
      "Epoch 7/100\n",
      "20000/20000 [==============================] - 16s 794us/sample - loss: 0.5124 - accuracy: 0.7578 - val_loss: 0.4997 - val_accuracy: 0.7664\n",
      "Epoch 8/100\n",
      "20000/20000 [==============================] - 16s 793us/sample - loss: 0.5012 - accuracy: 0.7645 - val_loss: 0.4887 - val_accuracy: 0.7744\n",
      "Epoch 9/100\n",
      "20000/20000 [==============================] - 16s 803us/sample - loss: 0.4859 - accuracy: 0.7764 - val_loss: 0.4779 - val_accuracy: 0.7788\n",
      "Epoch 10/100\n",
      "20000/20000 [==============================] - 16s 796us/sample - loss: 0.4784 - accuracy: 0.7795 - val_loss: 0.4712 - val_accuracy: 0.7830\n",
      "Epoch 11/100\n",
      "20000/20000 [==============================] - 16s 807us/sample - loss: 0.4713 - accuracy: 0.7838 - val_loss: 0.4692 - val_accuracy: 0.7784\n",
      "Epoch 12/100\n",
      "20000/20000 [==============================] - 16s 818us/sample - loss: 0.4660 - accuracy: 0.7865 - val_loss: 0.4614 - val_accuracy: 0.7846\n",
      "Epoch 13/100\n",
      "20000/20000 [==============================] - 16s 810us/sample - loss: 0.4625 - accuracy: 0.7874 - val_loss: 0.4567 - val_accuracy: 0.7878\n",
      "Epoch 14/100\n",
      "20000/20000 [==============================] - 16s 808us/sample - loss: 0.4558 - accuracy: 0.7929 - val_loss: 0.4546 - val_accuracy: 0.7902\n",
      "Epoch 15/100\n",
      "20000/20000 [==============================] - 16s 808us/sample - loss: 0.4522 - accuracy: 0.7935 - val_loss: 0.4514 - val_accuracy: 0.7916\n",
      "Epoch 16/100\n",
      "20000/20000 [==============================] - 16s 809us/sample - loss: 0.4516 - accuracy: 0.7943 - val_loss: 0.4513 - val_accuracy: 0.7908\n",
      "Epoch 17/100\n",
      "20000/20000 [==============================] - 16s 804us/sample - loss: 0.4493 - accuracy: 0.7941 - val_loss: 0.4476 - val_accuracy: 0.7912\n",
      "Epoch 18/100\n",
      "20000/20000 [==============================] - 16s 794us/sample - loss: 0.4442 - accuracy: 0.7970 - val_loss: 0.4471 - val_accuracy: 0.7956\n",
      "Epoch 19/100\n",
      "20000/20000 [==============================] - 16s 807us/sample - loss: 0.4428 - accuracy: 0.7985 - val_loss: 0.4454 - val_accuracy: 0.7934\n",
      "Epoch 20/100\n",
      "20000/20000 [==============================] - 16s 812us/sample - loss: 0.4394 - accuracy: 0.8008 - val_loss: 0.4433 - val_accuracy: 0.7932\n",
      "Epoch 21/100\n",
      "20000/20000 [==============================] - 16s 816us/sample - loss: 0.4405 - accuracy: 0.8005 - val_loss: 0.4477 - val_accuracy: 0.7854\n",
      "Epoch 22/100\n",
      "20000/20000 [==============================] - 16s 807us/sample - loss: 0.4376 - accuracy: 0.8007 - val_loss: 0.4448 - val_accuracy: 0.7942\n",
      "Epoch 23/100\n",
      "20000/20000 [==============================] - 16s 812us/sample - loss: 0.4350 - accuracy: 0.8029 - val_loss: 0.4400 - val_accuracy: 0.7964\n",
      "Epoch 24/100\n",
      "20000/20000 [==============================] - 16s 806us/sample - loss: 0.4339 - accuracy: 0.8019 - val_loss: 0.4404 - val_accuracy: 0.7950\n",
      "Epoch 25/100\n",
      "20000/20000 [==============================] - 16s 810us/sample - loss: 0.4323 - accuracy: 0.8023 - val_loss: 0.4487 - val_accuracy: 0.7944\n",
      "Epoch 26/100\n",
      "20000/20000 [==============================] - 16s 805us/sample - loss: 0.4324 - accuracy: 0.8034 - val_loss: 0.4381 - val_accuracy: 0.7962\n",
      "Epoch 27/100\n",
      "20000/20000 [==============================] - 16s 808us/sample - loss: 0.4298 - accuracy: 0.8037 - val_loss: 0.4375 - val_accuracy: 0.7954\n",
      "Epoch 28/100\n",
      "20000/20000 [==============================] - 16s 795us/sample - loss: 0.4304 - accuracy: 0.8029 - val_loss: 0.4433 - val_accuracy: 0.7972\n",
      "Epoch 29/100\n",
      "20000/20000 [==============================] - 16s 806us/sample - loss: 0.4305 - accuracy: 0.8022 - val_loss: 0.4414 - val_accuracy: 0.7904\n",
      "Epoch 30/100\n",
      "20000/20000 [==============================] - 16s 791us/sample - loss: 0.4280 - accuracy: 0.8025 - val_loss: 0.4379 - val_accuracy: 0.8028\n"
     ]
    }
   ],
   "source": [
    "#모델 설정과 훈련\n",
    "rmsprop = keras.optimizers.RMSprop(learning_rate = 1e-4)\n",
    "model3.compile(optimizer = rmsprop, \n",
    "              loss = 'binary_crossentropy',\n",
    "              metrics = ['accuracy'])\n",
    "\n",
    "# 복구점\n",
    "checkpoint_cb = keras.callbacks.ModelCheckpoint('best-simplernn-model2.h5')\n",
    "\n",
    "# 조기종료\n",
    "# patience=3 - 손실율이 3번 이상 내려가지 않을때 종료\n",
    "early_stopping_cb = keras.callbacks.EarlyStopping(patience=3, \n",
    "                                                  restore_best_weights=True)\n",
    "\n",
    "# history라는 딕셔너리 객체 반환 밑의 history 변수라는 건 다름\n",
    "history = model3.fit(train_seq, train_target, epochs=100, batch_size = 64,\n",
    "                    validation_data=(val_seq, val_target), \n",
    "                    callbacks=[checkpoint_cb, early_stopping_cb])"
   ]
  },
  {
   "cell_type": "code",
   "execution_count": 13,
   "metadata": {},
   "outputs": [
    {
     "data": {
      "image/png": "[encoded data removed]",
      "text/plain": [
       "<Figure size 432x288 with 1 Axes>"
      ]
     },
     "metadata": {
      "needs_background": "light"
     },
     "output_type": "display_data"
    }
   ],
   "source": [
    "plt.plot(history.history['loss'])\n",
    "plt.plot(history.history['val_loss'])\n",
    "plt.xlabel('epoch')\n",
    "plt.ylabel('loss')\n",
    "plt.legend(['train', 'val'])\n",
    "plt.show()"
   ]
  },
  {
   "cell_type": "code",
   "execution_count": null,
   "metadata": {},
   "outputs": [],
   "source": []
  }
 ],
 "metadata": {
  "kernelspec": {
   "display_name": "Python 3",
   "language": "python",
   "name": "python3"
  },
  "language_info": {
   "codemirror_mode": {
    "name": "ipython",
    "version": 3
   },
   "file_extension": ".py",
   "mimetype": "text/x-python",
   "name": "python",
   "nbconvert_exporter": "python",
   "pygments_lexer": "ipython3",
   "version": "3.7.3"
  }
 },
 "nbformat": 4,
 "nbformat_minor": 2
}
