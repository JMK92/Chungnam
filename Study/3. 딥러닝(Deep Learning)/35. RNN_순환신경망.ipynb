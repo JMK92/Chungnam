{
 "cells": [
  {
   "cell_type": "markdown",
   "metadata": {},
   "source": [
    "### Maching Learning vs Deep Learning\n",
    "- ANN : 인공 신경망, 모든 비선형 함수를 학습\n",
    "- SLP : 단층 퍼셉트론\n",
    "- MLP : 다층 퍼셉트론, 1개 이상의 은닉층을 보유, 일반적으로 지도학습(손실함수를 0에 가깝게 함)\n",
    "- DNN : 심층 신경망, ANN 문제 해결 \n",
    "- CNN : 합성곱 신경망, 이미지및 비디오 처리에 활용 (특성화 되어 있음)\n",
    "- RNN : 순환 신경망, 순차 데이터를 처리 (순서를 가지고 있는 데이터) - 언어번역, 시계열 데이터\n",
    "        CNN 까지는 정방향 계산, 하지만 RNN은 그전의 데이터를 어느정도 유지하고 다음 데이터 처리"
   ]
  },
  {
   "cell_type": "markdown",
   "metadata": {},
   "source": [
    "- Maching Learning : 특성을 사람이 분석 추출\n",
    "- Deep Learning : 특성을 컴퓨터가 분석 추출"
   ]
  },
  {
   "cell_type": "code",
   "execution_count": 1,
   "metadata": {},
   "outputs": [],
   "source": [
    "import warnings\n",
    "warnings.filterwarnings('ignore')\n",
    "from tensorflow.keras.datasets import imdb\n",
    "\n",
    "# 가장 자주 등장하는 단어 500개만 사용\n",
    "(train_input, train_target), (test_input, test_target) = imdb.load_data(\n",
    "num_words = 500)"
   ]
  },
  {
   "cell_type": "code",
   "execution_count": 2,
   "metadata": {},
   "outputs": [
    {
     "name": "stdout",
     "output_type": "stream",
     "text": [
      "(25000,) (25000,)\n"
     ]
    }
   ],
   "source": [
    "print(train_input.shape, test_input.shape)"
   ]
  },
  {
   "cell_type": "code",
   "execution_count": 3,
   "metadata": {},
   "outputs": [
    {
     "data": {
      "text/plain": [
       "218"
      ]
     },
     "execution_count": 3,
     "metadata": {},
     "output_type": "execute_result"
    }
   ],
   "source": [
    "# 첫번째 리뷰의 길이\n",
    "len(train_input[0]) # 첫번째 리뷰가 218 token으로 이루어져 있다."
   ]
  },
  {
   "cell_type": "code",
   "execution_count": 4,
   "metadata": {},
   "outputs": [
    {
     "data": {
      "text/plain": [
       "189"
      ]
     },
     "execution_count": 4,
     "metadata": {},
     "output_type": "execute_result"
    }
   ],
   "source": [
    "len(train_input[1])"
   ]
  },
  {
   "cell_type": "code",
   "execution_count": 5,
   "metadata": {},
   "outputs": [
    {
     "data": {
      "text/plain": [
       "array([1, 0, 0, 1, 0, 0, 1, 0, 1, 0, 1, 0, 0, 0, 0, 0, 1, 1, 0, 1],\n",
       "      dtype=int64)"
      ]
     },
     "execution_count": 5,
     "metadata": {},
     "output_type": "execute_result"
    }
   ],
   "source": [
    "# 리뷰의 감정분석 : 긍정(1), 부정(0)\n",
    "train_target[:20]"
   ]
  },
  {
   "cell_type": "code",
   "execution_count": 6,
   "metadata": {},
   "outputs": [],
   "source": [
    "# 검증 세트\n",
    "from sklearn.model_selection import train_test_split\n",
    "train_input, val_input, train_target, val_target = train_test_split(\n",
    "    train_input, train_target, test_size = 0.2, random_state = 42)"
   ]
  },
  {
   "cell_type": "code",
   "execution_count": 7,
   "metadata": {},
   "outputs": [
    {
     "name": "stdout",
     "output_type": "stream",
     "text": [
      "239.00925 178.0\n"
     ]
    }
   ],
   "source": [
    "import numpy as np\n",
    "\n",
    "lengths = np.array([len(x) for x in train_input]) # 훈련데이터에서 리뷰\n",
    "print(np.mean(lengths), np.median(lengths))\n",
    "# 평균 : 239 , 중앙값 : 178 - 한쪽에 치운친 느낌이 있다."
   ]
  },
  {
   "cell_type": "code",
   "execution_count": 8,
   "metadata": {},
   "outputs": [
    {
     "data": {
      "image/png": "[encoded data removed]",
      "text/plain": [
       "<Figure size 432x288 with 1 Axes>"
      ]
     },
     "metadata": {
      "needs_background": "light"
     },
     "output_type": "display_data"
    }
   ],
   "source": [
    "import matplotlib.pyplot as plt\n",
    "%matplotlib inline\n",
    "\n",
    "plt.hist(lengths)\n",
    "plt.xlabel('length')\n",
    "plt.ylabel('frequency')\n",
    "plt.show()\n",
    "# 대부분 리뷰들이 짧게 만들어 졌다."
   ]
  },
  {
   "cell_type": "markdown",
   "metadata": {},
   "source": [
    "- 모든 리뷰의 길이를 100에 맞추기 위해 패딩을 수행한다.\n",
    "- zero-padding(0으로 채움)"
   ]
  },
  {
   "cell_type": "code",
   "execution_count": 9,
   "metadata": {},
   "outputs": [
    {
     "data": {
      "text/plain": [
       "(20000, 100)"
      ]
     },
     "execution_count": 9,
     "metadata": {},
     "output_type": "execute_result"
    }
   ],
   "source": [
    "# 시퀀스 데이터의 길이를 맞추는 함수 : pad_sequences()\n",
    "from tensorflow.keras.preprocessing.sequence import pad_sequences\n",
    "train_seq = pad_sequences(train_input, maxlen = 100)\n",
    "train_seq.shape"
   ]
  },
  {
   "cell_type": "code",
   "execution_count": 10,
   "metadata": {},
   "outputs": [
    {
     "data": {
      "text/plain": [
       "array([ 10,   4,  20,   9,   2, 364, 352,   5,  45,   6,   2,   2,  33,\n",
       "       269,   8,   2, 142,   2,   5,   2,  17,  73,  17, 204,   5,   2,\n",
       "        19,  55,   2,   2,  92,  66, 104,  14,  20,  93,  76,   2, 151,\n",
       "        33,   4,  58,  12, 188,   2, 151,  12, 215,  69, 224, 142,  73,\n",
       "       237,   6,   2,   7,   2,   2, 188,   2, 103,  14,  31,  10,  10,\n",
       "       451,   7,   2,   5,   2,  80,  91,   2,  30,   2,  34,  14,  20,\n",
       "       151,  50,  26, 131,  49,   2,  84,  46,  50,  37,  80,  79,   6,\n",
       "         2,  46,   7,  14,  20,  10,  10, 470, 158])"
      ]
     },
     "execution_count": 10,
     "metadata": {},
     "output_type": "execute_result"
    }
   ],
   "source": [
    "train_seq[0] # 앞과 뒤에 패딩(0)이 없으니 -> 넘쳐나는 리뷰"
   ]
  },
  {
   "cell_type": "code",
   "execution_count": 11,
   "metadata": {},
   "outputs": [
    {
     "data": {
      "text/plain": [
       "array([  6,   2,  46,   7,  14,  20,  10,  10, 470, 158])"
      ]
     },
     "execution_count": 11,
     "metadata": {},
     "output_type": "execute_result"
    }
   ],
   "source": [
    "train_seq[0][-10:]"
   ]
  },
  {
   "cell_type": "code",
   "execution_count": 12,
   "metadata": {},
   "outputs": [
    {
     "data": {
      "text/plain": [
       "array([  0,   0,   0,   0,   1,   2, 195,  19,  49,   2,   2, 190,   4,\n",
       "         2, 352,   2, 183,  10,  10,  13,  82,  79,   4,   2,  36,  71,\n",
       "       269,   8,   2,  25,  19,  49,   7,   4,   2,   2,   2,   2,   2,\n",
       "        10,  10,  48,  25,  40,   2,  11,   2,   2,  40,   2,   2,   5,\n",
       "         4,   2,   2,  95,  14, 238,  56, 129,   2,  10,  10,  21,   2,\n",
       "        94, 364, 352,   2,   2,  11, 190,  24, 484,   2,   7,  94, 205,\n",
       "       405,  10,  10,  87,   2,  34,  49,   2,   7,   2,   2,   2,   2,\n",
       "         2, 290,   2,  46,  48,  64,  18,   4,   2])"
      ]
     },
     "execution_count": 12,
     "metadata": {},
     "output_type": "execute_result"
    }
   ],
   "source": [
    "train_seq[5] # 패딩 되어 있음 "
   ]
  },
  {
   "cell_type": "code",
   "execution_count": 13,
   "metadata": {},
   "outputs": [],
   "source": [
    "val_seq = pad_sequences(val_input, maxlen = 100)"
   ]
  },
  {
   "cell_type": "markdown",
   "metadata": {},
   "source": [
    "### 순환 신경망 만들기"
   ]
  },
  {
   "cell_type": "code",
   "execution_count": 14,
   "metadata": {},
   "outputs": [],
   "source": [
    "from tensorflow import keras\n",
    "\n",
    "model = keras.Sequential()\n",
    "# input_shape = (100, 500) : 100개씩 끊었음, 500 - 원핫 인코디하여 칸을 500개까지\n",
    "# 10 ->  0 0 0 0 0 0 0 0 0 0 1 0 .... 500개 (10이니깐 10칸쪽에 1표시)\n",
    "# 원 핫 인코딩을 통하여 숫자가 큰것을 없애려고 한다.\n",
    "model.add(keras.layers.SimpleRNN(8, input_shape = (100, 500)))\n",
    "model.add(keras.layers.Dense(1, activation = 'sigmoid'))"
   ]
  },
  {
   "cell_type": "code",
   "execution_count": 15,
   "metadata": {},
   "outputs": [
    {
     "name": "stdout",
     "output_type": "stream",
     "text": [
      "(20000, 100, 500)\n",
      "[0. 0. 0. 0. 0. 0. 0. 0. 0. 0. 1. 0.]\n",
      "1.0\n"
     ]
    }
   ],
   "source": [
    "# 수동으로 할려면 이 함수 사용\n",
    "train_oh = keras.utils.to_categorical(train_seq) \n",
    "\n",
    "print(train_oh.shape)\n",
    "\n",
    "print(train_oh[0][0][:12])\n",
    "\n",
    "print(np.sum(train_oh[0][0]))\n",
    "\n",
    "val_oh = keras.utils.to_categorical(val_seq) "
   ]
  },
  {
   "cell_type": "code",
   "execution_count": 16,
   "metadata": {},
   "outputs": [
    {
     "name": "stdout",
     "output_type": "stream",
     "text": [
      "Model: \"sequential\"\n",
      "_________________________________________________________________\n",
      "Layer (type)                 Output Shape              Param #   \n",
      "=================================================================\n",
      "simple_rnn (SimpleRNN)       (None, 8)                 4072      \n",
      "_________________________________________________________________\n",
      "dense (Dense)                (None, 1)                 9         \n",
      "=================================================================\n",
      "Total params: 4,081\n",
      "Trainable params: 4,081\n",
      "Non-trainable params: 0\n",
      "_________________________________________________________________\n"
     ]
    }
   ],
   "source": [
    "# 모델 정보 확인\n",
    "model.summary()\n",
    "# 4072 : 500(단어-차원) * 8(셀 만들기) + 8*8(자기순환신경망 - 가중치) + 8(절편)\n",
    "# 9 :  8 * 1 + 1"
   ]
  },
  {
   "cell_type": "code",
   "execution_count": 17,
   "metadata": {
    "scrolled": true
   },
   "outputs": [
    {
     "name": "stdout",
     "output_type": "stream",
     "text": [
      "Train on 20000 samples, validate on 5000 samples\n",
      "Epoch 1/100\n",
      "20000/20000 [==============================] - 15s 771us/sample - loss: 0.7021 - accuracy: 0.4981 - val_loss: 0.7010 - val_accuracy: 0.5006\n",
      "Epoch 2/100\n",
      "20000/20000 [==============================] - 12s 597us/sample - loss: 0.6973 - accuracy: 0.5094 - val_loss: 0.6984 - val_accuracy: 0.4998\n",
      "Epoch 3/100\n",
      "20000/20000 [==============================] - 12s 592us/sample - loss: 0.6942 - accuracy: 0.5189 - val_loss: 0.6966 - val_accuracy: 0.5002\n",
      "Epoch 4/100\n",
      "20000/20000 [==============================] - 12s 597us/sample - loss: 0.6919 - accuracy: 0.5271 - val_loss: 0.6952 - val_accuracy: 0.5058\n",
      "Epoch 5/100\n",
      "20000/20000 [==============================] - 12s 592us/sample - loss: 0.6899 - accuracy: 0.5354 - val_loss: 0.6940 - val_accuracy: 0.5098\n",
      "Epoch 6/100\n",
      "20000/20000 [==============================] - 12s 612us/sample - loss: 0.6881 - accuracy: 0.5423 - val_loss: 0.6929 - val_accuracy: 0.5144\n",
      "Epoch 7/100\n",
      "20000/20000 [==============================] - 12s 591us/sample - loss: 0.6863 - accuracy: 0.5503 - val_loss: 0.6921 - val_accuracy: 0.5148\n",
      "Epoch 8/100\n",
      "20000/20000 [==============================] - 12s 593us/sample - loss: 0.6846 - accuracy: 0.5559 - val_loss: 0.6913 - val_accuracy: 0.5206\n",
      "Epoch 9/100\n",
      "20000/20000 [==============================] - 12s 600us/sample - loss: 0.6830 - accuracy: 0.5632 - val_loss: 0.6906 - val_accuracy: 0.5256\n",
      "Epoch 10/100\n",
      "20000/20000 [==============================] - 12s 591us/sample - loss: 0.6813 - accuracy: 0.5691 - val_loss: 0.6899 - val_accuracy: 0.5288\n",
      "Epoch 11/100\n",
      "20000/20000 [==============================] - 12s 592us/sample - loss: 0.6796 - accuracy: 0.5756 - val_loss: 0.6893 - val_accuracy: 0.5310\n",
      "Epoch 12/100\n",
      "20000/20000 [==============================] - 12s 602us/sample - loss: 0.6778 - accuracy: 0.5779 - val_loss: 0.6888 - val_accuracy: 0.5328\n",
      "Epoch 13/100\n",
      "20000/20000 [==============================] - 12s 597us/sample - loss: 0.6760 - accuracy: 0.5824 - val_loss: 0.6884 - val_accuracy: 0.5340\n",
      "Epoch 14/100\n",
      "20000/20000 [==============================] - 12s 599us/sample - loss: 0.6742 - accuracy: 0.5877 - val_loss: 0.6879 - val_accuracy: 0.5370\n",
      "Epoch 15/100\n",
      "20000/20000 [==============================] - 12s 588us/sample - loss: 0.6723 - accuracy: 0.5919 - val_loss: 0.6877 - val_accuracy: 0.5380\n",
      "Epoch 16/100\n",
      "20000/20000 [==============================] - 12s 597us/sample - loss: 0.6705 - accuracy: 0.5957 - val_loss: 0.6871 - val_accuracy: 0.5404\n",
      "Epoch 17/100\n",
      "20000/20000 [==============================] - 12s 598us/sample - loss: 0.6685 - accuracy: 0.5998 - val_loss: 0.6867 - val_accuracy: 0.5420\n",
      "Epoch 18/100\n",
      "20000/20000 [==============================] - 12s 595us/sample - loss: 0.6665 - accuracy: 0.6033 - val_loss: 0.6865 - val_accuracy: 0.5456\n",
      "Epoch 19/100\n",
      "20000/20000 [==============================] - 12s 600us/sample - loss: 0.6645 - accuracy: 0.6072 - val_loss: 0.6860 - val_accuracy: 0.5424\n",
      "Epoch 20/100\n",
      "20000/20000 [==============================] - 12s 589us/sample - loss: 0.6625 - accuracy: 0.6108 - val_loss: 0.6857 - val_accuracy: 0.5448\n",
      "Epoch 21/100\n",
      "20000/20000 [==============================] - 12s 586us/sample - loss: 0.6604 - accuracy: 0.6137 - val_loss: 0.6856 - val_accuracy: 0.5428\n",
      "Epoch 22/100\n",
      "20000/20000 [==============================] - 12s 600us/sample - loss: 0.6583 - accuracy: 0.6180 - val_loss: 0.6852 - val_accuracy: 0.5454\n",
      "Epoch 23/100\n",
      "20000/20000 [==============================] - 12s 596us/sample - loss: 0.6561 - accuracy: 0.6205 - val_loss: 0.6848 - val_accuracy: 0.5466\n",
      "Epoch 24/100\n",
      "20000/20000 [==============================] - 13s 628us/sample - loss: 0.6539 - accuracy: 0.6238 - val_loss: 0.6845 - val_accuracy: 0.5482\n",
      "Epoch 25/100\n",
      "20000/20000 [==============================] - 12s 616us/sample - loss: 0.6517 - accuracy: 0.6271 - val_loss: 0.6844 - val_accuracy: 0.5468\n",
      "Epoch 26/100\n",
      "20000/20000 [==============================] - 13s 656us/sample - loss: 0.6495 - accuracy: 0.6302 - val_loss: 0.6843 - val_accuracy: 0.5490\n",
      "Epoch 27/100\n",
      "20000/20000 [==============================] - 12s 583us/sample - loss: 0.6472 - accuracy: 0.6323 - val_loss: 0.6844 - val_accuracy: 0.5488\n",
      "Epoch 28/100\n",
      "20000/20000 [==============================] - 11s 572us/sample - loss: 0.6450 - accuracy: 0.6338 - val_loss: 0.6840 - val_accuracy: 0.5526\n",
      "Epoch 29/100\n",
      "20000/20000 [==============================] - 12s 580us/sample - loss: 0.6428 - accuracy: 0.6370 - val_loss: 0.6836 - val_accuracy: 0.5550\n",
      "Epoch 30/100\n",
      "20000/20000 [==============================] - 11s 563us/sample - loss: 0.6405 - accuracy: 0.6390 - val_loss: 0.6835 - val_accuracy: 0.5556\n",
      "Epoch 31/100\n",
      "20000/20000 [==============================] - 11s 570us/sample - loss: 0.6383 - accuracy: 0.6429 - val_loss: 0.6832 - val_accuracy: 0.5552\n",
      "Epoch 32/100\n",
      "20000/20000 [==============================] - 11s 565us/sample - loss: 0.6360 - accuracy: 0.6452 - val_loss: 0.6830 - val_accuracy: 0.5602\n",
      "Epoch 33/100\n",
      "20000/20000 [==============================] - 11s 564us/sample - loss: 0.6338 - accuracy: 0.6485 - val_loss: 0.6829 - val_accuracy: 0.5590\n",
      "Epoch 34/100\n",
      "20000/20000 [==============================] - 12s 579us/sample - loss: 0.6316 - accuracy: 0.6511 - val_loss: 0.6827 - val_accuracy: 0.5604\n",
      "Epoch 35/100\n",
      "20000/20000 [==============================] - 11s 567us/sample - loss: 0.6293 - accuracy: 0.6539 - val_loss: 0.6830 - val_accuracy: 0.5588\n",
      "Epoch 36/100\n",
      "20000/20000 [==============================] - 11s 555us/sample - loss: 0.6272 - accuracy: 0.6531 - val_loss: 0.6830 - val_accuracy: 0.5588\n",
      "Epoch 37/100\n",
      "20000/20000 [==============================] - 11s 569us/sample - loss: 0.6249 - accuracy: 0.6567 - val_loss: 0.6831 - val_accuracy: 0.5604\n"
     ]
    }
   ],
   "source": [
    "# default = 0.001\n",
    "# 0.0001로 바꾸로 싶어서 별도 객체를 빼낸다\n",
    "rmsprop = keras.optimizers.RMSprop(learning_rate = 1e-4)\n",
    "model.compile(optimizer = rmsprop, \n",
    "              loss = 'binary_crossentropy',\n",
    "              metrics = ['accuracy'])\n",
    "\n",
    "# 복구점\n",
    "checkpoint_cb = keras.callbacks.ModelCheckpoint('best-simplernn-model.h5')\n",
    "\n",
    "# 조기종료\n",
    "# patience=3 - 3번 연속 향상되지 않으면 종료\n",
    "# restore_best_weights=True : 가장 낮은 손실값 \n",
    "early_stopping_cb = keras.callbacks.EarlyStopping(patience=3, \n",
    "                                                  restore_best_weights=True)\n",
    "\n",
    "# history라는 딕셔너리 객체 반환 밑의 history 변수라는 건 다름\n",
    "history = model.fit(train_oh, train_target, epochs=100, batch_size = 64,\n",
    "                    validation_data=(val_oh, val_target), \n",
    "                    callbacks=[checkpoint_cb, early_stopping_cb])"
   ]
  },
  {
   "cell_type": "code",
   "execution_count": 18,
   "metadata": {},
   "outputs": [
    {
     "data": {
      "image/png": "[encoded data removed]",
      "text/plain": [
       "<Figure size 432x288 with 1 Axes>"
      ]
     },
     "metadata": {
      "needs_background": "light"
     },
     "output_type": "display_data"
    }
   ],
   "source": [
    "# 훈련소실과 검증손실 시각화\n",
    "plt.plot(history.history['loss'])\n",
    "plt.plot(history.history['val_loss'])\n",
    "plt.xlabel('epoch')\n",
    "plt.ylabel('loss')\n",
    "plt.legend(['train', 'val'])\n",
    "plt.show()"
   ]
  },
  {
   "cell_type": "code",
   "execution_count": 19,
   "metadata": {},
   "outputs": [
    {
     "name": "stdout",
     "output_type": "stream",
     "text": [
      "8000000 4000000000\n"
     ]
    }
   ],
   "source": [
    "# 원-핫 인코딩 -> 많은 기억공간 사용\n",
    "print(train_seq.nbytes, train_oh.nbytes)"
   ]
  },
  {
   "cell_type": "markdown",
   "metadata": {},
   "source": [
    "### 단어 임베딩 처리"
   ]
  },
  {
   "cell_type": "code",
   "execution_count": 20,
   "metadata": {},
   "outputs": [],
   "source": [
    "# 원-핫인코딩 단점 보완 - 기억공간 줄이기( Embedding )\n",
    "model2 = keras.Sequential()\n",
    "\n",
    "# keras.layers.Embedding(500, 16, input_length = 100)\n",
    "# 500 - 사용할 단어수, 16 - 임베딩 크기 (원-핫인코딩보다 작음),\n",
    "# input_length = 100 : 입력한 샘플들의 길이는 100으로 맞춤\n",
    "model2.add(keras.layers.Embedding(500, 16, input_length = 100))\n",
    "model2.add(keras.layers.SimpleRNN(8))\n",
    "model2.add(keras.layers.Dense(1, activation = 'sigmoid'))"
   ]
  },
  {
   "cell_type": "code",
   "execution_count": 21,
   "metadata": {},
   "outputs": [
    {
     "name": "stdout",
     "output_type": "stream",
     "text": [
      "Model: \"sequential_1\"\n",
      "_________________________________________________________________\n",
      "Layer (type)                 Output Shape              Param #   \n",
      "=================================================================\n",
      "embedding (Embedding)        (None, 100, 16)           8000      \n",
      "_________________________________________________________________\n",
      "simple_rnn_1 (SimpleRNN)     (None, 8)                 200       \n",
      "_________________________________________________________________\n",
      "dense_1 (Dense)              (None, 1)                 9         \n",
      "=================================================================\n",
      "Total params: 8,209\n",
      "Trainable params: 8,209\n",
      "Non-trainable params: 0\n",
      "_________________________________________________________________\n"
     ]
    }
   ],
   "source": [
    "model2.summary()"
   ]
  },
  {
   "cell_type": "code",
   "execution_count": 22,
   "metadata": {},
   "outputs": [
    {
     "name": "stdout",
     "output_type": "stream",
     "text": [
      "Train on 20000 samples, validate on 5000 samples\n",
      "Epoch 1/100\n",
      "20000/20000 [==============================] - 7s 349us/sample - loss: 0.6948 - accuracy: 0.5084 - val_loss: 0.6915 - val_accuracy: 0.5184\n",
      "Epoch 2/100\n",
      "20000/20000 [==============================] - 5s 269us/sample - loss: 0.6894 - accuracy: 0.5375 - val_loss: 0.6881 - val_accuracy: 0.5470\n",
      "Epoch 3/100\n",
      "20000/20000 [==============================] - 5s 268us/sample - loss: 0.6845 - accuracy: 0.5655 - val_loss: 0.6839 - val_accuracy: 0.5664\n",
      "Epoch 4/100\n",
      "20000/20000 [==============================] - 5s 273us/sample - loss: 0.6776 - accuracy: 0.5950 - val_loss: 0.6758 - val_accuracy: 0.5930\n",
      "Epoch 5/100\n",
      "20000/20000 [==============================] - 6s 279us/sample - loss: 0.6537 - accuracy: 0.6392 - val_loss: 0.6068 - val_accuracy: 0.6974\n",
      "Epoch 6/100\n",
      "20000/20000 [==============================] - 5s 274us/sample - loss: 0.5879 - accuracy: 0.7147 - val_loss: 0.5745 - val_accuracy: 0.7254\n",
      "Epoch 7/100\n",
      "20000/20000 [==============================] - 6s 280us/sample - loss: 0.5551 - accuracy: 0.7456 - val_loss: 0.5585 - val_accuracy: 0.7358\n",
      "Epoch 8/100\n",
      "20000/20000 [==============================] - 6s 279us/sample - loss: 0.5318 - accuracy: 0.7622 - val_loss: 0.5303 - val_accuracy: 0.7574\n",
      "Epoch 9/100\n",
      "20000/20000 [==============================] - 6s 275us/sample - loss: 0.5139 - accuracy: 0.7727 - val_loss: 0.5237 - val_accuracy: 0.7590\n",
      "Epoch 10/100\n",
      "20000/20000 [==============================] - 5s 274us/sample - loss: 0.5021 - accuracy: 0.7767 - val_loss: 0.5123 - val_accuracy: 0.7634\n",
      "Epoch 11/100\n",
      "20000/20000 [==============================] - 6s 276us/sample - loss: 0.4917 - accuracy: 0.7855 - val_loss: 0.5056 - val_accuracy: 0.7672\n",
      "Epoch 12/100\n",
      "20000/20000 [==============================] - 6s 282us/sample - loss: 0.4830 - accuracy: 0.7881 - val_loss: 0.4962 - val_accuracy: 0.7758\n",
      "Epoch 13/100\n",
      "20000/20000 [==============================] - 6s 275us/sample - loss: 0.4760 - accuracy: 0.7919 - val_loss: 0.4905 - val_accuracy: 0.7756\n",
      "Epoch 14/100\n",
      "20000/20000 [==============================] - 5s 273us/sample - loss: 0.4678 - accuracy: 0.7965 - val_loss: 0.4864 - val_accuracy: 0.7776\n",
      "Epoch 15/100\n",
      "20000/20000 [==============================] - 6s 279us/sample - loss: 0.4619 - accuracy: 0.8005 - val_loss: 0.4835 - val_accuracy: 0.7778\n",
      "Epoch 16/100\n",
      "20000/20000 [==============================] - 6s 277us/sample - loss: 0.4555 - accuracy: 0.8038 - val_loss: 0.4921 - val_accuracy: 0.7702\n",
      "Epoch 17/100\n",
      "20000/20000 [==============================] - 5s 275us/sample - loss: 0.4514 - accuracy: 0.8063 - val_loss: 0.4767 - val_accuracy: 0.7806\n",
      "Epoch 18/100\n",
      "20000/20000 [==============================] - 6s 279us/sample - loss: 0.4464 - accuracy: 0.8077 - val_loss: 0.4794 - val_accuracy: 0.7798\n",
      "Epoch 19/100\n",
      "20000/20000 [==============================] - 5s 275us/sample - loss: 0.4418 - accuracy: 0.8091 - val_loss: 0.4756 - val_accuracy: 0.7786\n",
      "Epoch 20/100\n",
      "20000/20000 [==============================] - 5s 274us/sample - loss: 0.4386 - accuracy: 0.8115 - val_loss: 0.4746 - val_accuracy: 0.7812\n",
      "Epoch 21/100\n",
      "20000/20000 [==============================] - 6s 280us/sample - loss: 0.4347 - accuracy: 0.8128 - val_loss: 0.4709 - val_accuracy: 0.7830\n",
      "Epoch 22/100\n",
      "20000/20000 [==============================] - 6s 276us/sample - loss: 0.4319 - accuracy: 0.8140 - val_loss: 0.4705 - val_accuracy: 0.7798\n",
      "Epoch 23/100\n",
      "20000/20000 [==============================] - 6s 280us/sample - loss: 0.4275 - accuracy: 0.8151 - val_loss: 0.4710 - val_accuracy: 0.7842\n",
      "Epoch 24/100\n",
      "20000/20000 [==============================] - 6s 276us/sample - loss: 0.4256 - accuracy: 0.8159 - val_loss: 0.4742 - val_accuracy: 0.7776\n",
      "Epoch 25/100\n",
      "20000/20000 [==============================] - 6s 277us/sample - loss: 0.4226 - accuracy: 0.8184 - val_loss: 0.4661 - val_accuracy: 0.7814\n",
      "Epoch 26/100\n",
      "20000/20000 [==============================] - 6s 281us/sample - loss: 0.4196 - accuracy: 0.8196 - val_loss: 0.4719 - val_accuracy: 0.7808\n",
      "Epoch 27/100\n",
      "20000/20000 [==============================] - 6s 282us/sample - loss: 0.4176 - accuracy: 0.8213 - val_loss: 0.4769 - val_accuracy: 0.7778\n",
      "Epoch 28/100\n",
      "20000/20000 [==============================] - 6s 276us/sample - loss: 0.4144 - accuracy: 0.8220 - val_loss: 0.4697 - val_accuracy: 0.7840\n"
     ]
    }
   ],
   "source": [
    "# default = 0.001\n",
    "# 0.0001로 바꾸로 싶어서 별고 객체를 빼낸다\n",
    "rmsprop = keras.optimizers.RMSprop(learning_rate = 1e-4)\n",
    "model2.compile(optimizer = rmsprop, \n",
    "              loss = 'binary_crossentropy',\n",
    "              metrics = ['accuracy'])\n",
    "\n",
    "# 복구점\n",
    "checkpoint_cb = keras.callbacks.ModelCheckpoint('best-simplernn-model2.h5')\n",
    "\n",
    "# 조기종료\n",
    "# patience=3 - 손실율이 3번 이상 내려가지 않을때 종료\n",
    "early_stopping_cb = keras.callbacks.EarlyStopping(patience=3, \n",
    "                                                  restore_best_weights=True)\n",
    "\n",
    "# history라는 딕셔너리 객체 반환 밑의 history 변수라는 건 다름\n",
    "history = model2.fit(train_seq, train_target, epochs=100, batch_size = 64,\n",
    "                    validation_data=(val_seq, val_target), \n",
    "                    callbacks=[checkpoint_cb, early_stopping_cb])"
   ]
  },
  {
   "cell_type": "code",
   "execution_count": 23,
   "metadata": {},
   "outputs": [
    {
     "data": {
      "image/png": "[encoded data removed]",
      "text/plain": [
       "<Figure size 432x288 with 1 Axes>"
      ]
     },
     "metadata": {
      "needs_background": "light"
     },
     "output_type": "display_data"
    }
   ],
   "source": [
    "# 훈련소실과 검증손실 시각화\n",
    "plt.plot(history.history['loss'])\n",
    "plt.plot(history.history['val_loss'])\n",
    "plt.xlabel('epoch')\n",
    "plt.ylabel('loss')\n",
    "plt.legend(['train', 'val'])\n",
    "plt.show()"
   ]
  },
  {
   "cell_type": "code",
   "execution_count": null,
   "metadata": {},
   "outputs": [],
   "source": []
  }
 ],
 "metadata": {
  "kernelspec": {
   "display_name": "Python 3",
   "language": "python",
   "name": "python3"
  },
  "language_info": {
   "codemirror_mode": {
    "name": "ipython",
    "version": 3
   },
   "file_extension": ".py",
   "mimetype": "text/x-python",
   "name": "python",
   "nbconvert_exporter": "python",
   "pygments_lexer": "ipython3",
   "version": "3.7.3"
  }
 },
 "nbformat": 4,
 "nbformat_minor": 2
}
