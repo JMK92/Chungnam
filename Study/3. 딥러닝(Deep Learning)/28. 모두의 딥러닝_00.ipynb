{
 "cells": [
  {
   "cell_type": "code",
   "execution_count": 7,
   "metadata": {},
   "outputs": [],
   "source": [
    "from tensorflow.keras.models import Sequential\n",
    "from tensorflow.keras.layers import Dense\n",
    "import tensorflow as tf\n",
    "import numpy as np\n"
   ]
  },
  {
   "cell_type": "code",
   "execution_count": 3,
   "metadata": {},
   "outputs": [],
   "source": [
    "# 실행할 때마다 같은 결과를 출력하기 위해 설정하는 부분입니다.\n",
    "np.random.seed(3)\n",
    "tf.random.set_seed(3)"
   ]
  },
  {
   "cell_type": "code",
   "execution_count": 6,
   "metadata": {},
   "outputs": [
    {
     "name": "stdout",
     "output_type": "stream",
     "text": [
      "(470, 17) (470,)\n"
     ]
    }
   ],
   "source": [
    "# 준비된 수술 환자 데이터를 불러들입니다.\n",
    "data = np.loadtxt(\"D:/python3/data/ThoraricSurgery.csv\", delimiter=\",\")\n",
    "\n",
    "# 환자의 기록과 수술 결과를 X와 Y로 구분하여 저장합니다.\n",
    "X = data[:, :17]\n",
    "y = data[:,17]\n",
    "\n",
    "print(X.shape, y.shape)"
   ]
  },
  {
   "cell_type": "code",
   "execution_count": 8,
   "metadata": {},
   "outputs": [],
   "source": [
    "# 딥러닝 구조를 결정합니다(모델을 설정하고 실행하는 부분입니다).\n",
    "model = Sequential()\n",
    "model.add(Dense(30, activation='relu', input_dim=17))\n",
    "model.add(Dense(1, activation='sigmoid'))"
   ]
  },
  {
   "cell_type": "code",
   "execution_count": 13,
   "metadata": {},
   "outputs": [
    {
     "name": "stdout",
     "output_type": "stream",
     "text": [
      "Train on 470 samples\n",
      "Epoch 1/50\n",
      "470/470 [==============================] - 0s 542us/sample - loss: 0.1052 - accuracy: 0.8702\n",
      "Epoch 2/50\n",
      "470/470 [==============================] - 0s 98us/sample - loss: 0.0999 - accuracy: 0.8809\n",
      "Epoch 3/50\n",
      "470/470 [==============================] - 0s 94us/sample - loss: 0.1054 - accuracy: 0.8723\n",
      "Epoch 4/50\n",
      "470/470 [==============================] - 0s 100us/sample - loss: 0.1036 - accuracy: 0.8787\n",
      "Epoch 5/50\n",
      "470/470 [==============================] - 0s 102us/sample - loss: 0.1009 - accuracy: 0.8745\n",
      "Epoch 6/50\n",
      "470/470 [==============================] - 0s 94us/sample - loss: 0.1015 - accuracy: 0.8702\n",
      "Epoch 7/50\n",
      "470/470 [==============================] - 0s 96us/sample - loss: 0.1107 - accuracy: 0.8681\n",
      "Epoch 8/50\n",
      "470/470 [==============================] - 0s 89us/sample - loss: 0.1032 - accuracy: 0.8766\n",
      "Epoch 9/50\n",
      "470/470 [==============================] - 0s 91us/sample - loss: 0.1032 - accuracy: 0.8681\n",
      "Epoch 10/50\n",
      "470/470 [==============================] - 0s 96us/sample - loss: 0.1032 - accuracy: 0.8681\n",
      "Epoch 11/50\n",
      "470/470 [==============================] - 0s 96us/sample - loss: 0.1117 - accuracy: 0.8702\n",
      "Epoch 12/50\n",
      "470/470 [==============================] - 0s 94us/sample - loss: 0.1089 - accuracy: 0.8745\n",
      "Epoch 13/50\n",
      "470/470 [==============================] - 0s 96us/sample - loss: 0.1054 - accuracy: 0.8723\n",
      "Epoch 14/50\n",
      "470/470 [==============================] - 0s 94us/sample - loss: 0.1061 - accuracy: 0.8766\n",
      "Epoch 15/50\n",
      "470/470 [==============================] - 0s 94us/sample - loss: 0.1012 - accuracy: 0.8787\n",
      "Epoch 16/50\n",
      "470/470 [==============================] - 0s 94us/sample - loss: 0.1084 - accuracy: 0.8702\n",
      "Epoch 17/50\n",
      "470/470 [==============================] - 0s 106us/sample - loss: 0.1013 - accuracy: 0.8809\n",
      "Epoch 18/50\n",
      "470/470 [==============================] - 0s 102us/sample - loss: 0.1010 - accuracy: 0.8787\n",
      "Epoch 19/50\n",
      "470/470 [==============================] - 0s 98us/sample - loss: 0.1113 - accuracy: 0.8660\n",
      "Epoch 20/50\n",
      "470/470 [==============================] - 0s 94us/sample - loss: 0.0996 - accuracy: 0.8872\n",
      "Epoch 21/50\n",
      "470/470 [==============================] - 0s 96us/sample - loss: 0.1007 - accuracy: 0.8723\n",
      "Epoch 22/50\n",
      "470/470 [==============================] - 0s 94us/sample - loss: 0.1000 - accuracy: 0.8745\n",
      "Epoch 23/50\n",
      "470/470 [==============================] - 0s 96us/sample - loss: 0.0974 - accuracy: 0.8809\n",
      "Epoch 24/50\n",
      "470/470 [==============================] - 0s 100us/sample - loss: 0.0988 - accuracy: 0.8787\n",
      "Epoch 25/50\n",
      "470/470 [==============================] - 0s 100us/sample - loss: 0.1013 - accuracy: 0.8745\n",
      "Epoch 26/50\n",
      "470/470 [==============================] - 0s 94us/sample - loss: 0.1008 - accuracy: 0.8851\n",
      "Epoch 27/50\n",
      "470/470 [==============================] - 0s 104us/sample - loss: 0.1011 - accuracy: 0.8766\n",
      "Epoch 28/50\n",
      "470/470 [==============================] - 0s 91us/sample - loss: 0.0981 - accuracy: 0.8787\n",
      "Epoch 29/50\n",
      "470/470 [==============================] - 0s 96us/sample - loss: 0.0991 - accuracy: 0.8809\n",
      "Epoch 30/50\n",
      "470/470 [==============================] - 0s 91us/sample - loss: 0.0994 - accuracy: 0.8851\n",
      "Epoch 31/50\n",
      "470/470 [==============================] - 0s 98us/sample - loss: 0.1009 - accuracy: 0.8702\n",
      "Epoch 32/50\n",
      "470/470 [==============================] - 0s 100us/sample - loss: 0.1002 - accuracy: 0.8787\n",
      "Epoch 33/50\n",
      "470/470 [==============================] - 0s 98us/sample - loss: 0.0960 - accuracy: 0.8830\n",
      "Epoch 34/50\n",
      "470/470 [==============================] - 0s 96us/sample - loss: 0.1000 - accuracy: 0.8766\n",
      "Epoch 35/50\n",
      "470/470 [==============================] - 0s 89us/sample - loss: 0.0980 - accuracy: 0.8830\n",
      "Epoch 36/50\n",
      "470/470 [==============================] - 0s 91us/sample - loss: 0.1066 - accuracy: 0.8681\n",
      "Epoch 37/50\n",
      "470/470 [==============================] - 0s 106us/sample - loss: 0.1025 - accuracy: 0.8660\n",
      "Epoch 38/50\n",
      "470/470 [==============================] - 0s 98us/sample - loss: 0.1038 - accuracy: 0.8702\n",
      "Epoch 39/50\n",
      "470/470 [==============================] - 0s 98us/sample - loss: 0.1014 - accuracy: 0.8723\n",
      "Epoch 40/50\n",
      "470/470 [==============================] - 0s 104us/sample - loss: 0.0992 - accuracy: 0.8766\n",
      "Epoch 41/50\n",
      "470/470 [==============================] - 0s 94us/sample - loss: 0.1054 - accuracy: 0.8702\n",
      "Epoch 42/50\n",
      "470/470 [==============================] - 0s 89us/sample - loss: 0.1046 - accuracy: 0.8766\n",
      "Epoch 43/50\n",
      "470/470 [==============================] - 0s 98us/sample - loss: 0.0944 - accuracy: 0.8787\n",
      "Epoch 44/50\n",
      "470/470 [==============================] - 0s 98us/sample - loss: 0.0982 - accuracy: 0.8787\n",
      "Epoch 45/50\n",
      "470/470 [==============================] - 0s 96us/sample - loss: 0.0981 - accuracy: 0.8745\n",
      "Epoch 46/50\n",
      "470/470 [==============================] - 0s 98us/sample - loss: 0.0958 - accuracy: 0.8872\n",
      "Epoch 47/50\n",
      "470/470 [==============================] - 0s 96us/sample - loss: 0.0975 - accuracy: 0.8809\n",
      "Epoch 48/50\n",
      "470/470 [==============================] - 0s 100us/sample - loss: 0.1012 - accuracy: 0.8787\n",
      "Epoch 49/50\n",
      "470/470 [==============================] - 0s 89us/sample - loss: 0.1000 - accuracy: 0.8745\n",
      "Epoch 50/50\n",
      "470/470 [==============================] - ETA: 0s - loss: 0.0043 - accuracy: 1.00 - 0s 100us/sample - loss: 0.1036 - accuracy: 0.8745\n"
     ]
    },
    {
     "data": {
      "text/plain": [
       "<tensorflow.python.keras.callbacks.History at 0x2e176642dd8>"
      ]
     },
     "execution_count": 13,
     "metadata": {},
     "output_type": "execute_result"
    }
   ],
   "source": [
    "# 딥러닝을 실행합니다.\n",
    "model.compile(optimizer='adam', loss='mean_squared_error', metrics=['accuracy'])\n",
    "model.fit(X, Y, epochs=50, batch_size=10)"
   ]
  },
  {
   "cell_type": "code",
   "execution_count": 14,
   "metadata": {},
   "outputs": [
    {
     "name": "stdout",
     "output_type": "stream",
     "text": [
      "Train on 470 samples\n",
      "Epoch 1/50\n",
      "470/470 [==============================] - 0s 600us/sample - loss: 0.3523 - accuracy: 0.8660\n",
      "Epoch 2/50\n",
      "470/470 [==============================] - 0s 96us/sample - loss: 0.3256 - accuracy: 0.8872\n",
      "Epoch 3/50\n",
      "470/470 [==============================] - 0s 96us/sample - loss: 0.3354 - accuracy: 0.8872\n",
      "Epoch 4/50\n",
      "470/470 [==============================] - 0s 96us/sample - loss: 0.3383 - accuracy: 0.8851\n",
      "Epoch 5/50\n",
      "470/470 [==============================] - 0s 100us/sample - loss: 0.3297 - accuracy: 0.8766\n",
      "Epoch 6/50\n",
      "470/470 [==============================] - 0s 96us/sample - loss: 0.3417 - accuracy: 0.8766\n",
      "Epoch 7/50\n",
      "470/470 [==============================] - 0s 96us/sample - loss: 0.3488 - accuracy: 0.8830\n",
      "Epoch 8/50\n",
      "470/470 [==============================] - 0s 95us/sample - loss: 0.3360 - accuracy: 0.8809\n",
      "Epoch 9/50\n",
      "470/470 [==============================] - 0s 110us/sample - loss: 0.3384 - accuracy: 0.8809\n",
      "Epoch 10/50\n",
      "470/470 [==============================] - 0s 104us/sample - loss: 0.3439 - accuracy: 0.8787\n",
      "Epoch 11/50\n",
      "470/470 [==============================] - 0s 106us/sample - loss: 0.3517 - accuracy: 0.8681\n",
      "Epoch 12/50\n",
      "470/470 [==============================] - 0s 106us/sample - loss: 0.3350 - accuracy: 0.8787\n",
      "Epoch 13/50\n",
      "470/470 [==============================] - 0s 100us/sample - loss: 0.3377 - accuracy: 0.8745\n",
      "Epoch 14/50\n",
      "470/470 [==============================] - 0s 106us/sample - loss: 0.3513 - accuracy: 0.8638\n",
      "Epoch 15/50\n",
      "470/470 [==============================] - 0s 98us/sample - loss: 0.3535 - accuracy: 0.8830\n",
      "Epoch 16/50\n",
      "470/470 [==============================] - 0s 106us/sample - loss: 0.3308 - accuracy: 0.8830\n",
      "Epoch 17/50\n",
      "470/470 [==============================] - 0s 102us/sample - loss: 0.3344 - accuracy: 0.8809\n",
      "Epoch 18/50\n",
      "470/470 [==============================] - 0s 96us/sample - loss: 0.3295 - accuracy: 0.8830\n",
      "Epoch 19/50\n",
      "470/470 [==============================] - 0s 102us/sample - loss: 0.3918 - accuracy: 0.8596\n",
      "Epoch 20/50\n",
      "470/470 [==============================] - 0s 104us/sample - loss: 0.3339 - accuracy: 0.8745\n",
      "Epoch 21/50\n",
      "470/470 [==============================] - 0s 102us/sample - loss: 0.3387 - accuracy: 0.8830\n",
      "Epoch 22/50\n",
      "470/470 [==============================] - 0s 104us/sample - loss: 0.3279 - accuracy: 0.8809\n",
      "Epoch 23/50\n",
      "470/470 [==============================] - 0s 100us/sample - loss: 0.3333 - accuracy: 0.8851\n",
      "Epoch 24/50\n",
      "470/470 [==============================] - 0s 96us/sample - loss: 0.3207 - accuracy: 0.8830\n",
      "Epoch 25/50\n",
      "470/470 [==============================] - 0s 94us/sample - loss: 0.3525 - accuracy: 0.8745\n",
      "Epoch 26/50\n",
      "470/470 [==============================] - 0s 102us/sample - loss: 0.3327 - accuracy: 0.8830\n",
      "Epoch 27/50\n",
      "470/470 [==============================] - 0s 102us/sample - loss: 0.3325 - accuracy: 0.8809\n",
      "Epoch 28/50\n",
      "470/470 [==============================] - 0s 100us/sample - loss: 0.3275 - accuracy: 0.8766\n",
      "Epoch 29/50\n",
      "470/470 [==============================] - 0s 96us/sample - loss: 0.3259 - accuracy: 0.8787\n",
      "Epoch 30/50\n",
      "470/470 [==============================] - 0s 98us/sample - loss: 0.3225 - accuracy: 0.8851\n",
      "Epoch 31/50\n",
      "470/470 [==============================] - 0s 98us/sample - loss: 0.3337 - accuracy: 0.8745\n",
      "Epoch 32/50\n",
      "470/470 [==============================] - 0s 94us/sample - loss: 0.3254 - accuracy: 0.8787\n",
      "Epoch 33/50\n",
      "470/470 [==============================] - 0s 100us/sample - loss: 0.3215 - accuracy: 0.8809\n",
      "Epoch 34/50\n",
      "470/470 [==============================] - 0s 98us/sample - loss: 0.3307 - accuracy: 0.8723\n",
      "Epoch 35/50\n",
      "470/470 [==============================] - 0s 96us/sample - loss: 0.3315 - accuracy: 0.8851\n",
      "Epoch 36/50\n",
      "470/470 [==============================] - 0s 91us/sample - loss: 0.3603 - accuracy: 0.8681\n",
      "Epoch 37/50\n",
      "470/470 [==============================] - 0s 100us/sample - loss: 0.3667 - accuracy: 0.8766\n",
      "Epoch 38/50\n",
      "470/470 [==============================] - 0s 96us/sample - loss: 0.3314 - accuracy: 0.8830\n",
      "Epoch 39/50\n",
      "470/470 [==============================] - 0s 100us/sample - loss: 0.3461 - accuracy: 0.8809\n",
      "Epoch 40/50\n",
      "470/470 [==============================] - 0s 100us/sample - loss: 0.3282 - accuracy: 0.8787\n",
      "Epoch 41/50\n",
      "470/470 [==============================] - 0s 98us/sample - loss: 0.3385 - accuracy: 0.8745\n",
      "Epoch 42/50\n",
      "470/470 [==============================] - 0s 96us/sample - loss: 0.3301 - accuracy: 0.8830\n",
      "Epoch 43/50\n",
      "470/470 [==============================] - 0s 100us/sample - loss: 0.3265 - accuracy: 0.8787\n",
      "Epoch 44/50\n",
      "470/470 [==============================] - 0s 94us/sample - loss: 0.3379 - accuracy: 0.8851\n",
      "Epoch 45/50\n",
      "470/470 [==============================] - 0s 98us/sample - loss: 0.3215 - accuracy: 0.8851\n",
      "Epoch 46/50\n",
      "470/470 [==============================] - 0s 91us/sample - loss: 0.3214 - accuracy: 0.8851\n",
      "Epoch 47/50\n",
      "470/470 [==============================] - 0s 98us/sample - loss: 0.3254 - accuracy: 0.8894\n",
      "Epoch 48/50\n",
      "470/470 [==============================] - 0s 100us/sample - loss: 0.3179 - accuracy: 0.8766\n",
      "Epoch 49/50\n",
      "470/470 [==============================] - 0s 104us/sample - loss: 0.3344 - accuracy: 0.8787\n",
      "Epoch 50/50\n",
      "470/470 [==============================] - 0s 98us/sample - loss: 0.3477 - accuracy: 0.8702\n"
     ]
    },
    {
     "data": {
      "text/plain": [
       "<tensorflow.python.keras.callbacks.History at 0x2e17648ffd0>"
      ]
     },
     "execution_count": 14,
     "metadata": {},
     "output_type": "execute_result"
    }
   ],
   "source": [
    "model.compile(optimizer='adam', loss='binary_crossentropy', metrics=['accuracy'])\n",
    "model.fit(X, Y, epochs=50, batch_size=10)"
   ]
  },
  {
   "cell_type": "code",
   "execution_count": null,
   "metadata": {},
   "outputs": [],
   "source": []
  }
 ],
 "metadata": {
  "kernelspec": {
   "display_name": "Python 3",
   "language": "python",
   "name": "python3"
  },
  "language_info": {
   "codemirror_mode": {
    "name": "ipython",
    "version": 3
   },
   "file_extension": ".py",
   "mimetype": "text/x-python",
   "name": "python",
   "nbconvert_exporter": "python",
   "pygments_lexer": "ipython3",
   "version": "3.7.3"
  }
 },
 "nbformat": 4,
 "nbformat_minor": 2
}
