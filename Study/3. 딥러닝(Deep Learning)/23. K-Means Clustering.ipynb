{
 "cells": [
  {
   "cell_type": "markdown",
   "metadata": {},
   "source": [
    "### 과정\n",
    "- 데이터의 측정 영역을 대표하는 클러스 중심(Cluster Center)을 찾는다.\n",
    "- 데이터 포인터(샘플, 행, 레코드)를 가장 가까운 클러스터 중심에 할당.\n",
    "- 새로 할당된 포인트를 포함한 평균값으로 클러스 중심을 다시 지정.\n",
    "- 클러스에 할당되는 데이터 포인터에 변화가 없을 때까지 작업을 반복."
   ]
  },
  {
   "cell_type": "code",
   "execution_count": 1,
   "metadata": {},
   "outputs": [],
   "source": [
    "import numpy as np\n",
    "import matplotlib.pyplot as plt\n",
    "%matplotlib inline\n",
    "from sklearn import datasets\n",
    "from sklearn.cluster import KMeans\n",
    "from sklearn.model_selection import train_test_split\n",
    "import seaborn as sns\n",
    "import warnings\n",
    "warnings.filterwarnings('ignore')"
   ]
  },
  {
   "cell_type": "code",
   "execution_count": 2,
   "metadata": {},
   "outputs": [
    {
     "data": {
      "text/plain": [
       "KMeans(n_clusters=3)"
      ]
     },
     "execution_count": 2,
     "metadata": {},
     "output_type": "execute_result"
    }
   ],
   "source": [
    "# 1. make_blobs toy data\n",
    "X, y = datasets.make_blobs(random_state = 1)\n",
    "\n",
    "kmeans = KMeans(n_clusters = 3)\n",
    "kmeans.fit(X)"
   ]
  },
  {
   "cell_type": "code",
   "execution_count": 3,
   "metadata": {},
   "outputs": [
    {
     "data": {
      "text/plain": [
       "array([1, 2, 2, 2, 0, 0, 0, 2, 1, 1, 2, 2, 0, 1, 0, 0, 0, 1, 2, 2, 0, 2,\n",
       "       0, 1, 2, 0, 0, 1, 1, 0, 1, 1, 0, 1, 2, 0, 2, 2, 2, 0, 0, 2, 1, 2,\n",
       "       2, 0, 1, 1, 1, 1, 2, 0, 0, 0, 1, 0, 2, 2, 1, 1, 2, 0, 0, 2, 2, 0,\n",
       "       1, 0, 1, 2, 2, 2, 0, 1, 1, 2, 0, 0, 1, 2, 1, 2, 2, 0, 1, 1, 1, 1,\n",
       "       2, 1, 0, 1, 1, 2, 2, 0, 0, 1, 0, 1])"
      ]
     },
     "execution_count": 3,
     "metadata": {},
     "output_type": "execute_result"
    }
   ],
   "source": [
    "# 2. checking labels\n",
    "kmeans.labels_ # 클러스트 행 끼리 묶음"
   ]
  },
  {
   "cell_type": "code",
   "execution_count": 4,
   "metadata": {},
   "outputs": [
    {
     "data": {
      "text/plain": [
       "array([1, 2, 2, 2, 0, 0, 0, 2, 1, 1, 2, 2, 0, 1, 0, 0, 0, 1, 2, 2, 0, 2,\n",
       "       0, 1, 2, 0, 0, 1, 1, 0, 1, 1, 0, 1, 2, 0, 2, 2, 2, 0, 0, 2, 1, 2,\n",
       "       2, 0, 1, 1, 1, 1, 2, 0, 0, 0, 1, 0, 2, 2, 1, 1, 2, 0, 0, 2, 2, 0,\n",
       "       1, 0, 1, 2, 2, 2, 0, 1, 1, 2, 0, 0, 1, 2, 1, 2, 2, 0, 1, 1, 1, 1,\n",
       "       2, 1, 0, 1, 1, 2, 2, 0, 0, 1, 0, 1])"
      ]
     },
     "execution_count": 4,
     "metadata": {},
     "output_type": "execute_result"
    }
   ],
   "source": [
    "# 3. X.predict\n",
    "kmeans.predict(X)"
   ]
  },
  {
   "cell_type": "code",
   "execution_count": 5,
   "metadata": {},
   "outputs": [
    {
     "data": {
      "image/png": "[encoded data removed]",
      "text/plain": [
       "<Figure size 432x288 with 1 Axes>"
      ]
     },
     "metadata": {
      "needs_background": "light"
     },
     "output_type": "display_data"
    }
   ],
   "source": [
    "# 4. scatter graph\n",
    "plt.scatter(X[:, 0], X[:, 1], c = kmeans.labels_, marker = 'o', s= 10)\n",
    "# c = 각 군집도에 따른 color, s = size\n",
    "plt.scatter(kmeans.cluster_centers_[:, 0], \n",
    "            kmeans.cluster_centers_[:, 1], # centers -> 3개가 필요해서\n",
    "            c = ['r', 'k', 'b'], marker= '^', s = 50)\n",
    "plt.show()"
   ]
  },
  {
   "cell_type": "code",
   "execution_count": 6,
   "metadata": {},
   "outputs": [
    {
     "data": {
      "image/png": "[encoded data removed]",
      "text/plain": [
       "<Figure size 432x288 with 1 Axes>"
      ]
     },
     "metadata": {
      "needs_background": "light"
     },
     "output_type": "display_data"
    }
   ],
   "source": [
    "# 5. k = 5 \n",
    "kmeans5 = KMeans(n_clusters = 5)\n",
    "kmeans5.fit(X)\n",
    "assign = kmeans5.labels_\n",
    "\n",
    "plt.scatter(X[:, 0], X[:, 1], c = kmeans5.labels_, marker = 'o', s= 10)\n",
    "# c = 각 군집도에 따른 color, s = size\n",
    "plt.scatter(kmeans5.cluster_centers_[:, 0], \n",
    "            kmeans5.cluster_centers_[:, 1], # centers -> 3개가 필요해서\n",
    "            c = ['r', 'k', 'b', 'gray', 'orange'], marker= '^', s = 50)\n",
    "plt.show()"
   ]
  },
  {
   "cell_type": "code",
   "execution_count": 7,
   "metadata": {},
   "outputs": [],
   "source": [
    "# 토너먼트 시각화 (엘보우 그래프)"
   ]
  },
  {
   "cell_type": "markdown",
   "metadata": {},
   "source": [
    "### 병합 군집\n",
    "- 시작할 때, 각각의 포인터 하나하나가 클러스터로 지정된다.\n",
    "- 종료조건을 만족할 때까지 가장 비슷한 두 클러스를 합쳐나간다.\n",
    "- 사이킷런의 종료 조건은 클러스티의 개수\n",
    "- linkage 옵션에서 가장 비슷한 클러스트를 측정하는 방법을 지정(ward, average, complete)\n",
    "        Ward : 두 클러스터를 합쳐 나가는 방식에는 모든 클러스터 내의 분산을 가장 작게 증가시키는 두 클러스터를 합치는 방식 \n",
    "        \n",
    "        Average : 클러스터 포인트 사이의 평균 거리가 가장 짧은 두 클러스터를 합치는 방식\n",
    "        \n",
    "        Complete: 클러스터 포인트 사이의 최대 거리가 가장 짧은 두 클러스터를 합치는 방식\n",
    "\n",
    "        ( Ward 방식이 대부분의 데이터 세트에 알맞게 동작 )\n",
    "                \n",
    "- 계층적 클러스터링 : 군집 하나의 데이터 샘플을 하나의 클러스터로 보고 가장 유사도가 높은 클러스터를 합치면서 클러스터의 개수를 줄여가는 방법"
   ]
  },
  {
   "cell_type": "code",
   "execution_count": 8,
   "metadata": {},
   "outputs": [
    {
     "data": {
      "text/plain": [
       "<matplotlib.legend.Legend at 0x27b7ad8d2b0>"
      ]
     },
     "execution_count": 8,
     "metadata": {},
     "output_type": "execute_result"
    },
    {
     "data": {
      "image/png": "[encoded data removed]",
      "text/plain": [
       "<Figure size 432x288 with 1 Axes>"
      ]
     },
     "metadata": {
      "needs_background": "light"
     },
     "output_type": "display_data"
    }
   ],
   "source": [
    "from sklearn.cluster import AgglomerativeClustering\n",
    "X, y = datasets.make_blobs(random_state = 1)\n",
    "agg = AgglomerativeClustering(n_clusters = 3)\n",
    "assign = agg.fit_predict(X)\n",
    "\n",
    "fig, ax = plt.subplots()\n",
    "scatter = ax.scatter(X[:, 0], X[:, 1], c = assign, marker= 'o', s = 10)\n",
    "ax.legend(*scatter.legend_elements(), # * -> 값을 얻어옴.\n",
    "          loc=4, title= 'classes')"
   ]
  },
  {
   "cell_type": "code",
   "execution_count": 9,
   "metadata": {},
   "outputs": [
    {
     "data": {
      "text/plain": [
       "array([0, 2, 2, 2, 1, 1, 1, 2, 0, 0, 2, 2, 1, 0, 1, 1, 1, 0, 2, 2, 1, 2,\n",
       "       1, 0, 2, 1, 1, 0, 0, 1, 0, 0, 1, 0, 2, 1, 2, 2, 2, 1, 1, 2, 0, 2,\n",
       "       2, 1, 0, 0, 0, 0, 2, 1, 1, 1, 0, 1, 2, 2, 0, 0, 2, 1, 1, 2, 2, 1,\n",
       "       0, 1, 0, 2, 2, 2, 1, 0, 0, 2, 1, 1, 0, 2, 0, 2, 2, 1, 0, 0, 0, 0,\n",
       "       2, 0, 1, 0, 0, 2, 2, 1, 1, 0, 1, 0], dtype=int64)"
      ]
     },
     "execution_count": 9,
     "metadata": {},
     "output_type": "execute_result"
    }
   ],
   "source": [
    "agg.labels_"
   ]
  },
  {
   "cell_type": "code",
   "execution_count": 10,
   "metadata": {},
   "outputs": [
    {
     "data": {
      "text/plain": [
       "Text(0, 0.5, 'cluster distance')"
      ]
     },
     "execution_count": 10,
     "metadata": {},
     "output_type": "execute_result"
    },
    {
     "data": {
      "image/png": "[encoded data removed]",
      "text/plain": [
       "<Figure size 432x288 with 1 Axes>"
      ]
     },
     "metadata": {
      "needs_background": "light"
     },
     "output_type": "display_data"
    }
   ],
   "source": [
    "# 댄드로그램(Dendrogram)\n",
    "from scipy.cluster.hierarchy import dendrogram, ward\n",
    "\n",
    "X, y = datasets.make_blobs(random_state = 0, n_samples = 12)\n",
    "\n",
    "# ward : 분산을 최소화하는 방향으로 클러스터링을 수행한다.\n",
    "linkage_array = ward(X)\n",
    "dendrogram(linkage_array)\n",
    "\n",
    "ax = plt.gca()\n",
    "bounds = ax.get_xbound()\n",
    "ax.plot(bounds, [7.25, 7.25], '--', c = 'k')\n",
    "ax.plot(bounds, [4, 4], '--', c = 'k')\n",
    "\n",
    "ax.text(bounds[1], 7.25, 'two cluster', va = 'center', \n",
    "        fontdict={'size':15})\n",
    "ax.text(bounds[1], 4, 'three cluster', va = 'center',\n",
    "        fontdict={'size':15})\n",
    "plt.xlabel('sample No.')\n",
    "plt.ylabel('cluster distance')"
   ]
  },
  {
   "cell_type": "markdown",
   "metadata": {},
   "source": [
    "### DBSCAN\n",
    "- 클러스터의 개수를 미리 정할 필요가 없다.\n",
    "- 복잡한 형상도 찾을 수 있고, 어떤 클래스도 속하지 않은 포인터를 비교적 잘 구분해낸다.\n",
    "- 병합군집과 k-means보다 느리다\n",
    "\n",
    "#### 방법\n",
    "- 특성 공간에서 가까이 있는 데이터가 많은, 밀도가 높은 지역의 포인터를 찾는다.\n",
    "- 데이터 밀집 지역의 한 클러스터를 구성하며, 비교적 비어있는 지역을 경계로 다른 클러스터와 구분된다는 아이디어에서 시작\n",
    "- min_sample와 eps 두 개의 매개변수\n",
    "- 시작할 때 모자이크 포인터 선택"
   ]
  },
  {
   "cell_type": "code",
   "execution_count": 11,
   "metadata": {},
   "outputs": [
    {
     "name": "stdout",
     "output_type": "stream",
     "text": [
      "cluster label :  [-1 -1 -1 -1 -1 -1 -1 -1 -1 -1 -1 -1]\n"
     ]
    },
    {
     "data": {
      "text/plain": [
       "<matplotlib.collections.PathCollection at 0x27b7ae245c0>"
      ]
     },
     "execution_count": 11,
     "metadata": {},
     "output_type": "execute_result"
    },
    {
     "data": {
      "image/png": "[encoded data removed]",
      "text/plain": [
       "<Figure size 432x288 with 1 Axes>"
      ]
     },
     "metadata": {
      "needs_background": "light"
     },
     "output_type": "display_data"
    }
   ],
   "source": [
    "from sklearn.cluster import DBSCAN\n",
    "\n",
    "X, y = datasets.make_blobs(random_state = 0, n_samples = 12)\n",
    "\n",
    "dbscan = DBSCAN()\n",
    "clusters = dbscan.fit_predict(X)\n",
    "print('cluster label : ', clusters)\n",
    "# noise(군집으로 분류 되지 않음)\n",
    "\n",
    "plt.scatter(X[:, 0], X[:, 1], c = clusters, marker='o', s = 10)"
   ]
  },
  {
   "cell_type": "code",
   "execution_count": 12,
   "metadata": {},
   "outputs": [
    {
     "name": "stdout",
     "output_type": "stream",
     "text": [
      "cluster label2 :  [0 1 1 1 1 0 0 0 1 0 0 0]\n"
     ]
    },
    {
     "data": {
      "text/plain": [
       "<matplotlib.collections.PathCollection at 0x27b7ae85898>"
      ]
     },
     "execution_count": 12,
     "metadata": {},
     "output_type": "execute_result"
    },
    {
     "data": {
      "image/png": "[encoded data removed]",
      "text/plain": [
       "<Figure size 432x288 with 1 Axes>"
      ]
     },
     "metadata": {
      "needs_background": "light"
     },
     "output_type": "display_data"
    }
   ],
   "source": [
    "X, y = datasets.make_blobs(random_state = 0, n_samples = 12)\n",
    "\n",
    "# eps 안에 min_sample 정도 없으면 잡음(noise)로 처리\n",
    "dbscan2 = DBSCAN(min_samples = 2, eps = 2) # 최소 2개, eps(거리) = 2 \n",
    "clusters2 = dbscan2.fit_predict(X)\n",
    "print('cluster label2 : ', clusters2)\n",
    "\n",
    "plt.scatter(X[:, 0], X[:, 1], c = clusters2, marker='o', s = 10)"
   ]
  },
  {
   "cell_type": "code",
   "execution_count": null,
   "metadata": {},
   "outputs": [],
   "source": []
  }
 ],
 "metadata": {
  "kernelspec": {
   "display_name": "Python 3",
   "language": "python",
   "name": "python3"
  },
  "language_info": {
   "codemirror_mode": {
    "name": "ipython",
    "version": 3
   },
   "file_extension": ".py",
   "mimetype": "text/x-python",
   "name": "python",
   "nbconvert_exporter": "python",
   "pygments_lexer": "ipython3",
   "version": "3.7.3"
  }
 },
 "nbformat": 4,
 "nbformat_minor": 2
}
