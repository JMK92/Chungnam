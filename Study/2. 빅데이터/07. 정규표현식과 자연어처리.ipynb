{
 "cells": [
  {
   "cell_type": "markdown",
   "metadata": {},
   "source": [
    "### 정규표현식(Regular Expressions)\n",
    "- 정규식이라고도 부른다. ( 복잡한 문제를 조금 더 간단하게 구현 가능하게 함. )\n",
    "- 복잡한 문자열을 처리할 때 사용하는 기법\n",
    "- 파이썬에 해당 함수를 포함하는 패키지 re"
   ]
  },
  {
   "cell_type": "code",
   "execution_count": 1,
   "metadata": {},
   "outputs": [],
   "source": [
    "# 주민등록번호를 포함하고 있는 텍스트에서 주민등록번호 뒷자리를 '*'로 변경\n",
    "data = '''\n",
    "park 800905-1049118\n",
    "kim 700908-1059119\n",
    "lee 900114-2134257\n",
    "choi choi@naver.com\n",
    "'''"
   ]
  },
  {
   "cell_type": "markdown",
   "metadata": {},
   "source": [
    "#### step1. 분리(split)\n",
    "#### step2. 주민등록번호 형식의 문자열이 맞는지 조사\n",
    "#### step3. 뒷자리를 '*'로 변환한다.\n",
    "#### step4. step1에서 분리한 단어를 다시 조합한다."
   ]
  },
  {
   "cell_type": "code",
   "execution_count": 2,
   "metadata": {},
   "outputs": [
    {
     "name": "stdout",
     "output_type": "stream",
     "text": [
      "\n",
      "park 800905-*******\n",
      "kim 700908-*******\n",
      "lee 900114-*******\n",
      "\n"
     ]
    }
   ],
   "source": [
    "result = []\n",
    "   \n",
    "# step1. 분리(split)\n",
    "for line in data.split('\\n'): # enter 누른 위치 까지 \n",
    "    word_result = []\n",
    "\n",
    "# step2. 주민등록번호 형식의 문자열이 맞는지 조사\n",
    "# ex) choi choi@naver.com -> 주민등록이 아님\n",
    "    for word in line.split(' '):            # isdigit : 숫자형태로 되어 있습니까? \n",
    "        if len(word) == 14 and word[:6].isdigit() and word[7:].isdigit():\n",
    "            # step3. 뒷자리를 '*'로 변환한다.\n",
    "            word = word[:6] + '-' + '*******'\n",
    "        word_result.append(word)\n",
    "        \n",
    "# step4. step1에서 분리한 단어를 다시 조합한다.\n",
    "    result.append(' '.join(word_result))\n",
    "    \n",
    "print('\\n'.join(result))"
   ]
  },
  {
   "cell_type": "code",
   "execution_count": 4,
   "metadata": {},
   "outputs": [
    {
     "name": "stdout",
     "output_type": "stream",
     "text": [
      "\n",
      "park 800905-*******\n",
      "kim 700908-*******\n",
      "lee 900114-*******\n",
      "choi choi@naver.com\n",
      "\n"
     ]
    }
   ],
   "source": [
    "import re\n",
    "\n",
    "data = '''\n",
    "park 800905-1049118\n",
    "kim 700908-1059119\n",
    "lee 900114-2134257\n",
    "choi choi@naver.com\n",
    "'''\n",
    "#                        meta 문자\n",
    "pattern = re.compile('(\\d{6})[-]\\d{7}')     # d : digit\n",
    "print(pattern.sub('\\g<1>-*******', data))"
   ]
  },
  {
   "cell_type": "markdown",
   "metadata": {},
   "source": [
    "### 메타문자(Meta Characters)\n",
    "- 원래 문자가 가지고 있는 뜻이 아닌 특별한 용도로 사용하는 문자들\n",
    "- 종류 : . ^ $ * + ? { } [ ] \\ | ( )"
   ]
  },
  {
   "cell_type": "code",
   "execution_count": 6,
   "metadata": {},
   "outputs": [],
   "source": [
    "# 문자 클래스 [ ]\n",
    "# [a-zA-Z] : 알파벳(입력받은 문자열(data)이 영문자 소문자, 대문자 일 때 처리)\n",
    "# [0-9] : 숫자 (많이 사용하는 객체), \\d (digit)와 동일한 의미\n",
    "# [^0-9] : 숫자가 아닌 것, \\D\n",
    "# [a-zA-Z0-9_] : 문자 + 숫자 결합되어 있는 의미, \\w (소문자)\n",
    "# [^a-zA-Z0-9_] : 문자 + 숫자가 아닌 문자, \\M (대문자)\n",
    "# dot(.) : 줄바꿈 문자(\\n)를 제외한 모든 문자\n",
    "# 반복(* : 무한반복, + : 최소한 한번이상반복 )"
   ]
  },
  {
   "cell_type": "code",
   "execution_count": 5,
   "metadata": {},
   "outputs": [],
   "source": [
    "# 정규식 메서드\n",
    "# findall() : 정규식과 매치되는 모든 문자열을 리스트로 변환\n",
    "# finditer() : 정규식과 매치되는 모든 문자열을 반복 가능한 객체로 변환\n",
    "# match() : 문자열의 처음부터 정규식과 매치되는지 조사\n",
    "# search() : 문자열 전체를 검색하여 정규식과 매치되는지 조사"
   ]
  },
  {
   "cell_type": "code",
   "execution_count": 7,
   "metadata": {},
   "outputs": [
    {
     "data": {
      "text/plain": [
       "[]"
      ]
     },
     "execution_count": 7,
     "metadata": {},
     "output_type": "execute_result"
    }
   ],
   "source": [
    "s = \"My id number is lee0909\"\n",
    "#findall('패턴', 비교할 문자열) : 문자열에서 패턴에 해당하는 내용을 리턴\n",
    "a = re.findall('a', s)\n",
    "a # 없으면 빈 리스트 반환"
   ]
  },
  {
   "cell_type": "code",
   "execution_count": 8,
   "metadata": {},
   "outputs": [
    {
     "data": {
      "text/plain": [
       "['lee']"
      ]
     },
     "execution_count": 8,
     "metadata": {},
     "output_type": "execute_result"
    }
   ],
   "source": [
    "b = re.findall('lee', s)\n",
    "b"
   ]
  },
  {
   "cell_type": "code",
   "execution_count": 9,
   "metadata": {},
   "outputs": [
    {
     "data": {
      "text/plain": [
       "['e', 'e', 'e']"
      ]
     },
     "execution_count": 9,
     "metadata": {},
     "output_type": "execute_result"
    }
   ],
   "source": [
    "c = re.findall('e', s)\n",
    "c"
   ]
  },
  {
   "cell_type": "code",
   "execution_count": 12,
   "metadata": {},
   "outputs": [
    {
     "data": {
      "text/plain": [
       "['y', 'i', 'd', 'n', 'u', 'm', 'b', 'e', 'r', 'i', 's', 'l', 'e', 'e']"
      ]
     },
     "execution_count": 12,
     "metadata": {},
     "output_type": "execute_result"
    }
   ],
   "source": [
    "d = re.findall('[a-z]', s)\n",
    "d"
   ]
  },
  {
   "cell_type": "code",
   "execution_count": 13,
   "metadata": {},
   "outputs": [
    {
     "data": {
      "text/plain": [
       "['y', 'id', 'number', 'is', 'lee']"
      ]
     },
     "execution_count": 13,
     "metadata": {},
     "output_type": "execute_result"
    }
   ],
   "source": [
    "e = re.findall('[a-z]+', s) # 단어 단위로 반환 하는 작업\n",
    "e"
   ]
  },
  {
   "cell_type": "code",
   "execution_count": 31,
   "metadata": {},
   "outputs": [
    {
     "name": "stdout",
     "output_type": "stream",
     "text": [
      "['M', 'L', 'E', 'E']\n",
      "['M', 'LEE']\n"
     ]
    }
   ],
   "source": [
    "s = \"My id number is LEE_0909$%\"\n",
    "a = re.findall('[A-Z]', s)\n",
    "print(a)\n",
    "# 대문자를 글자단위\n",
    "b = re.findall('[A-Z]+', s)\n",
    "print(b)"
   ]
  },
  {
   "cell_type": "code",
   "execution_count": 32,
   "metadata": {},
   "outputs": [
    {
     "data": {
      "text/plain": [
       "['My', 'id', 'number', 'is', 'LEE', '_', '0909']"
      ]
     },
     "execution_count": 32,
     "metadata": {},
     "output_type": "execute_result"
    }
   ],
   "source": [
    "# 영문자와 숫자를 단어단위\n",
    "a = re.findall('[a-zA-z0-9]+', s)\n",
    "a"
   ]
  },
  {
   "cell_type": "code",
   "execution_count": 33,
   "metadata": {},
   "outputs": [
    {
     "data": {
      "text/plain": [
       "[' ', ' ', ' ', ' ', ' ', ' ', '$', '%']"
      ]
     },
     "execution_count": 33,
     "metadata": {},
     "output_type": "execute_result"
    }
   ],
   "source": [
    "# 영문자와 숫자가 아닌 것\n",
    "# ^(not)\n",
    "b = re.findall('[^a-zA-z0-9]', s)\n",
    "b"
   ]
  },
  {
   "cell_type": "code",
   "execution_count": 34,
   "metadata": {},
   "outputs": [
    {
     "data": {
      "text/plain": [
       "['My', 'id', 'number', 'is', 'LEE', '_', '0909']"
      ]
     },
     "execution_count": 34,
     "metadata": {},
     "output_type": "execute_result"
    }
   ],
   "source": [
    "# \\w (소문자) : 영문자, 숫자, _\n",
    "b = re.findall('[\\w]+', s)\n",
    "b"
   ]
  },
  {
   "cell_type": "code",
   "execution_count": 30,
   "metadata": {},
   "outputs": [
    {
     "data": {
      "text/plain": [
       "[' ', ' ', ' ', ' ', '$%']"
      ]
     },
     "execution_count": 30,
     "metadata": {},
     "output_type": "execute_result"
    }
   ],
   "source": [
    "b = re.findall('[\\W]+', s)\n",
    "b"
   ]
  },
  {
   "cell_type": "code",
   "execution_count": 38,
   "metadata": {},
   "outputs": [
    {
     "name": "stdout",
     "output_type": "stream",
     "text": [
      "<re.Match object; span=(0, 6), match='python'>\n"
     ]
    }
   ],
   "source": [
    "p = re.compile('[a-z]+')\n",
    "a = p.match('python')\n",
    "print(a)"
   ]
  },
  {
   "cell_type": "code",
   "execution_count": 39,
   "metadata": {},
   "outputs": [
    {
     "name": "stdout",
     "output_type": "stream",
     "text": [
      "None\n"
     ]
    }
   ],
   "source": [
    "b = p.match(\"3 python\")\n",
    "print(b)"
   ]
  },
  {
   "cell_type": "code",
   "execution_count": null,
   "metadata": {},
   "outputs": [],
   "source": []
  }
 ],
 "metadata": {
  "kernelspec": {
   "display_name": "Python 3",
   "language": "python",
   "name": "python3"
  },
  "language_info": {
   "codemirror_mode": {
    "name": "ipython",
    "version": 3
   },
   "file_extension": ".py",
   "mimetype": "text/x-python",
   "name": "python",
   "nbconvert_exporter": "python",
   "pygments_lexer": "ipython3",
   "version": "3.7.3"
  }
 },
 "nbformat": 4,
 "nbformat_minor": 2
}
