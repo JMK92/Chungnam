{
 "cells": [
  {
   "cell_type": "markdown",
   "metadata": {},
   "source": [
    "#### 0. 표준입출력 함수(print, Input)"
   ]
  },
  {
   "cell_type": "code",
   "execution_count": 1,
   "metadata": {},
   "outputs": [
    {
     "name": "stdout",
     "output_type": "stream",
     "text": [
      "Hello, Python\n",
      "Hello, Python\n"
     ]
    }
   ],
   "source": [
    "# 화면에 \"Hello, Python\"이라는 문자열을 출력하시오/\n",
    "print(\"Hello, Python\")\n",
    "print('Hello, Python')"
   ]
  },
  {
   "cell_type": "code",
   "execution_count": 2,
   "metadata": {},
   "outputs": [
    {
     "name": "stdout",
     "output_type": "stream",
     "text": [
      "Mary's cometics\n"
     ]
    }
   ],
   "source": [
    "# 화면에 \"Mary's cometics\"라는 문제열을 출력하시오.\n",
    "print(\"Mary's cometics\")"
   ]
  },
  {
   "cell_type": "code",
   "execution_count": 3,
   "metadata": {},
   "outputs": [
    {
     "name": "stdout",
     "output_type": "stream",
     "text": [
      "신씨가 소리를 질렀다. \"도둑이야!\"\n"
     ]
    }
   ],
   "source": [
    "# '신씨가 소리를 질렀다. \"도둑이야!\"'를 출력하시오.\n",
    "print('신씨가 소리를 질렀다. \"도둑이야!\"')"
   ]
  },
  {
   "cell_type": "code",
   "execution_count": 4,
   "metadata": {},
   "outputs": [
    {
     "name": "stdout",
     "output_type": "stream",
     "text": [
      "C:\\windows\n"
     ]
    }
   ],
   "source": [
    "# \"C:\\windows\"를 화면에 출력하시오.\n",
    "print(\"C:\\windows\")"
   ]
  },
  {
   "cell_type": "code",
   "execution_count": 5,
   "metadata": {},
   "outputs": [
    {
     "name": "stdout",
     "output_type": "stream",
     "text": [
      "안녕하세요.\n",
      "만나서\t\t반갑습니다.\n"
     ]
    }
   ],
   "source": [
    "# 제어문자 : \\n(new line), \\t(tab)\n",
    "print(\"안녕하세요.\\n만나서\\t\\t반갑습니다.\")"
   ]
  },
  {
   "cell_type": "code",
   "execution_count": 6,
   "metadata": {},
   "outputs": [
    {
     "name": "stdout",
     "output_type": "stream",
     "text": [
      "오늘은 월요일 비가온다네요\n"
     ]
    }
   ],
   "source": [
    "# 열거연산잔 : 쉼표(,)\n",
    "print(\"오늘은\", \"월요일\", \"비가온다네요\")"
   ]
  },
  {
   "cell_type": "code",
   "execution_count": 9,
   "metadata": {},
   "outputs": [
    {
     "name": "stdout",
     "output_type": "stream",
     "text": [
      "naver/kakao/samsung\n"
     ]
    }
   ],
   "source": [
    "# sep : 구분자\n",
    "print(\"naver\", \"kakao\", \"samsung\", sep='/')"
   ]
  },
  {
   "cell_type": "code",
   "execution_count": 10,
   "metadata": {},
   "outputs": [
    {
     "name": "stdout",
     "output_type": "stream",
     "text": [
      "first\n",
      "second\n"
     ]
    }
   ],
   "source": [
    "# 종결문자(;)\n",
    "print(\"first\");print('second')"
   ]
  },
  {
   "cell_type": "code",
   "execution_count": 11,
   "metadata": {},
   "outputs": [
    {
     "name": "stdout",
     "output_type": "stream",
     "text": [
      "first second\n"
     ]
    }
   ],
   "source": [
    "print(\"first\", end = \" \");print('second')"
   ]
  },
  {
   "cell_type": "code",
   "execution_count": 13,
   "metadata": {},
   "outputs": [
    {
     "name": "stdout",
     "output_type": "stream",
     "text": [
      "1.6666666666666667\n"
     ]
    }
   ],
   "source": [
    "print(5/3)"
   ]
  },
  {
   "cell_type": "markdown",
   "metadata": {},
   "source": [
    "#### 1. 할당, 대입연산자(=), 변수에 값을 대입하는 작업 => 바인딩"
   ]
  },
  {
   "cell_type": "code",
   "execution_count": 14,
   "metadata": {},
   "outputs": [
    {
     "name": "stdout",
     "output_type": "stream",
     "text": [
      "50000\n"
     ]
    }
   ],
   "source": [
    "# 삼성전자라는 변수에 50000원을 바인딩한 후 주식 10주를 보유하고 있을 때 총 평가금액을 출력.\n",
    "삼성전자 = 5000\n",
    "총평가금액 = 삼성전자*10\n",
    "print(총평가금액)"
   ]
  },
  {
   "cell_type": "code",
   "execution_count": 15,
   "metadata": {},
   "outputs": [
    {
     "name": "stdout",
     "output_type": "stream",
     "text": [
      "<class 'int'>\n"
     ]
    }
   ],
   "source": [
    "# type() 자료형을 확인하는 함수 int, str, list\n",
    "a = 123\n",
    "print(type(a))"
   ]
  },
  {
   "cell_type": "code",
   "execution_count": 18,
   "metadata": {},
   "outputs": [
    {
     "name": "stdout",
     "output_type": "stream",
     "text": [
      "720 <class 'int'>\n"
     ]
    }
   ],
   "source": [
    "# 문자열을 정수로 변환\n",
    "num_str = '720'\n",
    "num_int = int(num_str)\n",
    "print(num_int, type(num_int))"
   ]
  },
  {
   "cell_type": "code",
   "execution_count": 19,
   "metadata": {},
   "outputs": [
    {
     "name": "stdout",
     "output_type": "stream",
     "text": [
      "100 <class 'str'>\n"
     ]
    }
   ],
   "source": [
    "# 정수를 문자열을 변환 : str()\n",
    "num = 100\n",
    "result = str(num)\n",
    "print(result, type(result))"
   ]
  },
  {
   "cell_type": "code",
   "execution_count": 20,
   "metadata": {},
   "outputs": [
    {
     "name": "stdout",
     "output_type": "stream",
     "text": [
      "15.7 <class 'float'>\n"
     ]
    }
   ],
   "source": [
    "# 문자열을 실수로 변화 : float()\n",
    "data = '15.7'\n",
    "data = float(data)\n",
    "print(data, type(data))"
   ]
  },
  {
   "cell_type": "code",
   "execution_count": 21,
   "metadata": {},
   "outputs": [
    {
     "name": "stdout",
     "output_type": "stream",
     "text": [
      "2018\n",
      "2019\n",
      "2020\n"
     ]
    }
   ],
   "source": [
    "# year라는 변수에 현재 년도를 문자열로 바인딩하고, 정수로 변환한 후\n",
    "# 최근 3년의 연도를 화면에 출력하시오.\n",
    "year = '2021'\n",
    "print(int(year)-3)\n",
    "print(int(year)-2)\n",
    "print(int(year)-1)"
   ]
  },
  {
   "cell_type": "code",
   "execution_count": 24,
   "metadata": {},
   "outputs": [
    {
     "name": "stdout",
     "output_type": "stream",
     "text": [
      "1749024\n"
     ]
    }
   ],
   "source": [
    "# 에어컨 월 48,584원에 무이자 36개월의 조건으로 홈쇼핑에서 판매\n",
    "# 총 금액을 계산하는 프로그램을 구현하시오.\n",
    "month = 48584\n",
    "total = month * 36\n",
    "print(total)"
   ]
  },
  {
   "cell_type": "markdown",
   "metadata": {},
   "source": [
    "#### 2. 문자열"
   ]
  },
  {
   "cell_type": "code",
   "execution_count": 27,
   "metadata": {},
   "outputs": [
    {
     "name": "stdout",
     "output_type": "stream",
     "text": [
      "p t\n"
     ]
    }
   ],
   "source": [
    "# 문자열 인덱싱(indexing) : 인덱스는 0부터 시작한다.\n",
    "letters = 'python'\n",
    "print(letters[0], letters[2])"
   ]
  },
  {
   "cell_type": "code",
   "execution_count": 28,
   "metadata": {},
   "outputs": [
    {
     "name": "stdout",
     "output_type": "stream",
     "text": [
      "1234\n",
      "1234\n"
     ]
    }
   ],
   "source": [
    "# 문자열 슬라이싱 : [start : end] end-1\n",
    "car_num = '24가 1234'\n",
    "print(car_num[4:8])\n",
    "print(car_num[-4:])"
   ]
  },
  {
   "cell_type": "code",
   "execution_count": 29,
   "metadata": {},
   "outputs": [
    {
     "name": "stdout",
     "output_type": "stream",
     "text": [
      "홀홀홀\n"
     ]
    }
   ],
   "source": [
    "# '홀짝홀짝홀짝' 문자열을 변수에 바인딩한 후 '홀'만 출력하는 프로그램을 구현하시오.\n",
    "# 슬라이싱 [start : end : offset]\n",
    "string = '홀짝홀짝홀짝'\n",
    "print(string[::2])"
   ]
  },
  {
   "cell_type": "code",
   "execution_count": 30,
   "metadata": {},
   "outputs": [
    {
     "name": "stdout",
     "output_type": "stream",
     "text": [
      "짝홀짝홀짝홀\n"
     ]
    }
   ],
   "source": [
    "# 문자열을 거꾸로 뒤집어서 출력하는 프로그램\n",
    "string = '홀짝홀짝홀짝'\n",
    "print(string[::-1])"
   ]
  },
  {
   "cell_type": "code",
   "execution_count": 32,
   "metadata": {},
   "outputs": [
    {
     "name": "stdout",
     "output_type": "stream",
     "text": [
      "010 1234 5678\n"
     ]
    }
   ],
   "source": [
    "# 문자열 치환\n",
    "phone_number = '010-1234-5678'\n",
    "phone_number = phone_number.replace('-',' ')\n",
    "print(phone_number)"
   ]
  },
  {
   "cell_type": "code",
   "execution_count": 34,
   "metadata": {},
   "outputs": [
    {
     "name": "stdout",
     "output_type": "stream",
     "text": [
      "01012345678\n"
     ]
    }
   ],
   "source": [
    "phone_number = '010-1234-5678'\n",
    "phone_number = phone_number.replace('-','')\n",
    "print(phone_number)"
   ]
  },
  {
   "cell_type": "code",
   "execution_count": 36,
   "metadata": {},
   "outputs": [
    {
     "name": "stdout",
     "output_type": "stream",
     "text": [
      "['com']\n"
     ]
    }
   ],
   "source": [
    "# 웹사이트 url에서 도메인만 출력하는 프로그램을 구현하시오.\n",
    "# 도메인 : com, net, org, kr\n",
    "url = \"http://www.naver.com\"\n",
    "# split(구분자)\n",
    "url_split = url.split('.')\n",
    "print(url_split[-1:])"
   ]
  },
  {
   "cell_type": "code",
   "execution_count": 37,
   "metadata": {},
   "outputs": [
    {
     "name": "stdout",
     "output_type": "stream",
     "text": [
      "['kr']\n"
     ]
    }
   ],
   "source": [
    "url = \"http://www.bluehouse.kr\"\n",
    "url_split = url.split('.')\n",
    "print(url_split[-1:])"
   ]
  },
  {
   "cell_type": "code",
   "execution_count": 38,
   "metadata": {},
   "outputs": [
    {
     "ename": "TypeError",
     "evalue": "'str' object does not support item assignment",
     "output_type": "error",
     "traceback": [
      "\u001b[1;31m---------------------------------------------------------------------------\u001b[0m",
      "\u001b[1;31mTypeError\u001b[0m                                 Traceback (most recent call last)",
      "\u001b[1;32m<ipython-input-38-ba8eb7824ab8>\u001b[0m in \u001b[0;36m<module>\u001b[1;34m\u001b[0m\n\u001b[0;32m      1\u001b[0m \u001b[0mlang\u001b[0m \u001b[1;33m=\u001b[0m \u001b[1;34m'python'\u001b[0m\u001b[1;33m\u001b[0m\u001b[1;33m\u001b[0m\u001b[0m\n\u001b[1;32m----> 2\u001b[1;33m \u001b[0mlang\u001b[0m\u001b[1;33m[\u001b[0m\u001b[1;36m0\u001b[0m\u001b[1;33m]\u001b[0m \u001b[1;33m=\u001b[0m \u001b[1;34m'P'\u001b[0m\u001b[1;33m\u001b[0m\u001b[1;33m\u001b[0m\u001b[0m\n\u001b[0m\u001b[0;32m      3\u001b[0m \u001b[0mprint\u001b[0m\u001b[1;33m(\u001b[0m\u001b[0mlang\u001b[0m\u001b[1;33m)\u001b[0m\u001b[1;33m\u001b[0m\u001b[1;33m\u001b[0m\u001b[0m\n",
      "\u001b[1;31mTypeError\u001b[0m: 'str' object does not support item assignment"
     ]
    }
   ],
   "source": [
    "lang = 'python'\n",
    "lang[0] = 'P'\n",
    "print(lang) # 문자열은 수정할 수 없다."
   ]
  },
  {
   "cell_type": "code",
   "execution_count": 39,
   "metadata": {},
   "outputs": [
    {
     "name": "stdout",
     "output_type": "stream",
     "text": [
      "Abcdef2A35A32A\n"
     ]
    }
   ],
   "source": [
    "# replace() : 치환\n",
    "string = 'abcdef2a35a32a'\n",
    "# 소문자 'a'를 대문자 'A'\n",
    "string = string.replace('a', \"A\")\n",
    "print(string)"
   ]
  },
  {
   "cell_type": "code",
   "execution_count": 40,
   "metadata": {},
   "outputs": [
    {
     "name": "stdout",
     "output_type": "stream",
     "text": [
      "abcd\n"
     ]
    }
   ],
   "source": [
    "string = 'abcd'\n",
    "string.replace('b','B') # 문자열은 변경할 수 없다.\n",
    "print(string) # 바뀐것이 넘어 오지 않음."
   ]
  },
  {
   "cell_type": "code",
   "execution_count": 41,
   "metadata": {},
   "outputs": [
    {
     "name": "stdout",
     "output_type": "stream",
     "text": [
      "34\n"
     ]
    }
   ],
   "source": [
    "a = '3'\n",
    "b = '4'\n",
    "print(a+b)"
   ]
  },
  {
   "cell_type": "code",
   "execution_count": 42,
   "metadata": {},
   "outputs": [
    {
     "name": "stdout",
     "output_type": "stream",
     "text": [
      "hihihi\n"
     ]
    }
   ],
   "source": [
    "a = 'hi'\n",
    "print(a * 3)"
   ]
  },
  {
   "cell_type": "code",
   "execution_count": 43,
   "metadata": {},
   "outputs": [
    {
     "name": "stdout",
     "output_type": "stream",
     "text": [
      "----------------------------------------\n"
     ]
    }
   ],
   "source": [
    "print('-'*40)"
   ]
  },
  {
   "cell_type": "code",
   "execution_count": 44,
   "metadata": {},
   "outputs": [
    {
     "name": "stdout",
     "output_type": "stream",
     "text": [
      "이름 : 장보고 나이 20\n",
      "이름 : 이순신 나이 13\n"
     ]
    }
   ],
   "source": [
    "name1 = '장보고'\n",
    "age1 = 20\n",
    "name2 = '이순신'\n",
    "age2 = 13\n",
    "# % formatting (서식) - %d(%i), %f, %s\n",
    "print('이름 : %s 나이 %d'% (name1, age1))\n",
    "print('이름 : %s 나이 %d'% (name2, age2))"
   ]
  },
  {
   "cell_type": "code",
   "execution_count": 45,
   "metadata": {},
   "outputs": [
    {
     "name": "stdout",
     "output_type": "stream",
     "text": [
      "이름 : 장보고 나이 20\n",
      "이름 : 이순신 나이 13\n"
     ]
    }
   ],
   "source": [
    "print('이름 : {0} 나이 {1}'.format(name1, age1))\n",
    "print('이름 : {} 나이 {}'.format(name2, age2))"
   ]
  },
  {
   "cell_type": "code",
   "execution_count": 48,
   "metadata": {},
   "outputs": [
    {
     "name": "stdout",
     "output_type": "stream",
     "text": [
      "이름 : 장보고 나이 20\n",
      "이름 : 이순신 나이 13\n"
     ]
    }
   ],
   "source": [
    "name1 = '장보고'\n",
    "age1 = 20\n",
    "name2 = '이순신'\n",
    "age2 = 13\n",
    "print(f'이름 : {name1} 나이 {age1}')\n",
    "print(f'이름 : {name2} 나이 {age2}')"
   ]
  },
  {
   "cell_type": "code",
   "execution_count": 50,
   "metadata": {},
   "outputs": [
    {
     "name": "stdout",
     "output_type": "stream",
     "text": [
      "    삼성전자    \n",
      "삼성전자\n"
     ]
    }
   ],
   "source": [
    "# 좌우공백을 제거하는 메서드 strip\n",
    "data = \"    삼성전자    \"\n",
    "print(data)\n",
    "print(data.strip())"
   ]
  },
  {
   "cell_type": "code",
   "execution_count": 56,
   "metadata": {},
   "outputs": [
    {
     "name": "stdout",
     "output_type": "stream",
     "text": [
      "BTC_KRW\n",
      "btc_krw\n"
     ]
    }
   ],
   "source": [
    "# upper, lower, capitallize\n",
    "ticker = 'btc_krw'\n",
    "ticker1 = ticker.upper()\n",
    "print(ticker1)\n",
    "ticker2 = ticker1.lower()\n",
    "print(ticker2)"
   ]
  },
  {
   "cell_type": "code",
   "execution_count": 55,
   "metadata": {},
   "outputs": [
    {
     "data": {
      "text/plain": [
       "'Hello'"
      ]
     },
     "execution_count": 55,
     "metadata": {},
     "output_type": "execute_result"
    }
   ],
   "source": [
    "a = 'hello'\n",
    "a = a.capitalize()\n",
    "a"
   ]
  },
  {
   "cell_type": "code",
   "execution_count": 57,
   "metadata": {},
   "outputs": [
    {
     "data": {
      "text/plain": [
       "True"
      ]
     },
     "execution_count": 57,
     "metadata": {},
     "output_type": "execute_result"
    }
   ],
   "source": [
    "# endswith : 해당 문자열의 끝문자를 확인\n",
    "file_name = '보고서.xlsx'\n",
    "file_name.endswith(\"xlsx\")"
   ]
  },
  {
   "cell_type": "code",
   "execution_count": 59,
   "metadata": {},
   "outputs": [
    {
     "data": {
      "text/plain": [
       "True"
      ]
     },
     "execution_count": 59,
     "metadata": {},
     "output_type": "execute_result"
    }
   ],
   "source": [
    "file_name = '보고서.xlsx'\n",
    "file_name.endswith(\"xlsx\" or 'xls')"
   ]
  },
  {
   "cell_type": "code",
   "execution_count": 60,
   "metadata": {},
   "outputs": [
    {
     "data": {
      "text/plain": [
       "True"
      ]
     },
     "execution_count": 60,
     "metadata": {},
     "output_type": "execute_result"
    }
   ],
   "source": [
    "# startswith\n",
    "file_name = '2021_보고서.xlsx'\n",
    "file_name.startswith(\"2021\")"
   ]
  },
  {
   "cell_type": "code",
   "execution_count": 61,
   "metadata": {},
   "outputs": [
    {
     "data": {
      "text/plain": [
       "['hello', 'python']"
      ]
     },
     "execution_count": 61,
     "metadata": {},
     "output_type": "execute_result"
    }
   ],
   "source": [
    "# split -> 많이 활용\n",
    "a = \"hello python\"\n",
    "# 공백을 기준으로 문자열 분리\n",
    "a.split(\" \")"
   ]
  },
  {
   "cell_type": "code",
   "execution_count": 62,
   "metadata": {},
   "outputs": [
    {
     "data": {
      "text/plain": [
       "['btc', 'krw']"
      ]
     },
     "execution_count": 62,
     "metadata": {},
     "output_type": "execute_result"
    }
   ],
   "source": [
    "ticker = 'btc_krw'\n",
    "ticker.split(\"_\")"
   ]
  },
  {
   "cell_type": "code",
   "execution_count": 63,
   "metadata": {},
   "outputs": [
    {
     "data": {
      "text/plain": [
       "['2021', '04', '12']"
      ]
     },
     "execution_count": 63,
     "metadata": {},
     "output_type": "execute_result"
    }
   ],
   "source": [
    "date = \"2021-04-12\"\n",
    "date.split(\"-\")"
   ]
  },
  {
   "cell_type": "markdown",
   "metadata": {},
   "source": [
    "#### 3. 리스트(List)"
   ]
  },
  {
   "cell_type": "code",
   "execution_count": 64,
   "metadata": {},
   "outputs": [
    {
     "data": {
      "text/plain": [
       "['럭키', '닥터스트레인지', '스플릿']"
      ]
     },
     "execution_count": 64,
     "metadata": {},
     "output_type": "execute_result"
    }
   ],
   "source": [
    "# 시퀀스 : 데이터를 순서대로 나열하는 자료구조\n",
    "# 시퀀스 자료형, 인덱스, 순서가 있고 수정 가능한 자료구조\n",
    "movie = [\"럭키\", \"닥터스트레인지\", '스플릿']\n",
    "movie"
   ]
  },
  {
   "cell_type": "code",
   "execution_count": 65,
   "metadata": {},
   "outputs": [
    {
     "data": {
      "text/plain": [
       "['럭키', '닥터스트레인지', '스플릿', '배트맨']"
      ]
     },
     "execution_count": 65,
     "metadata": {},
     "output_type": "execute_result"
    }
   ],
   "source": [
    "# 배트맨\n",
    "movie.append('배트맨')\n",
    "movie"
   ]
  },
  {
   "cell_type": "code",
   "execution_count": 66,
   "metadata": {},
   "outputs": [
    {
     "data": {
      "text/plain": [
       "['럭키', '닥터스트레인지', '슈퍼맨', '스플릿', '배트맨']"
      ]
     },
     "execution_count": 66,
     "metadata": {},
     "output_type": "execute_result"
    }
   ],
   "source": [
    "#특정위치에 요소를 추가할 때 : insert\n",
    "movie.insert(2, '슈퍼맨')\n",
    "movie"
   ]
  },
  {
   "cell_type": "code",
   "execution_count": 67,
   "metadata": {},
   "outputs": [
    {
     "data": {
      "text/plain": [
       "['닥터스트레인지', '슈퍼맨', '스플릿', '배트맨']"
      ]
     },
     "execution_count": 67,
     "metadata": {},
     "output_type": "execute_result"
    }
   ],
   "source": [
    "del movie[0]\n",
    "movie"
   ]
  },
  {
   "cell_type": "code",
   "execution_count": 68,
   "metadata": {},
   "outputs": [
    {
     "data": {
      "text/plain": [
       "['닥터스트레인지', '슈퍼맨']"
      ]
     },
     "execution_count": 68,
     "metadata": {},
     "output_type": "execute_result"
    }
   ],
   "source": [
    "# 스플릿과 배트맨을 삭제하는 작업\n",
    "del movie[-2:]\n",
    "movie\n",
    "# del movie[2] -> 오류, 해당 인덱스가 없음."
   ]
  },
  {
   "cell_type": "code",
   "execution_count": 69,
   "metadata": {},
   "outputs": [
    {
     "data": {
      "text/plain": [
       "['C', 'C++', 'JAVA', 'Python', 'Go', 'R', 'C#']"
      ]
     },
     "execution_count": 69,
     "metadata": {},
     "output_type": "execute_result"
    }
   ],
   "source": [
    "lang = [\"C\", \"C++\", \"JAVA\"]\n",
    "lang2 = [\"Python\", \"Go\", \"R\", \"C#\"]\n",
    "langs = lang + lang2\n",
    "langs"
   ]
  },
  {
   "cell_type": "code",
   "execution_count": 70,
   "metadata": {},
   "outputs": [
    {
     "name": "stdout",
     "output_type": "stream",
     "text": [
      "max :  7\n",
      "max :  1\n"
     ]
    }
   ],
   "source": [
    "# min(), max()\n",
    "numbers = [1, 2, 3, 4, 5, 6, 7]\n",
    "# 최대값과 최소값을 출력\n",
    "print(\"max : \", max(numbers))\n",
    "print(\"max : \", min(numbers))"
   ]
  },
  {
   "cell_type": "code",
   "execution_count": 71,
   "metadata": {},
   "outputs": [
    {
     "name": "stdout",
     "output_type": "stream",
     "text": [
      "sum :  15\n"
     ]
    }
   ],
   "source": [
    "# sum()\n",
    "nums = [1, 2, 3, 4, 5]\n",
    "# 합계\n",
    "print(\"sum : \", sum(nums))"
   ]
  },
  {
   "cell_type": "code",
   "execution_count": 74,
   "metadata": {},
   "outputs": [
    {
     "name": "stdout",
     "output_type": "stream",
     "text": [
      "7\n"
     ]
    }
   ],
   "source": [
    "# 리스트에 저장된 데이터의 개수를 출력\n",
    "cook = ['피자', '떡볶이', '김밥', '족발', '쫄면', '라면', '김치전']\n",
    "print(len(cook))"
   ]
  },
  {
   "cell_type": "code",
   "execution_count": 78,
   "metadata": {},
   "outputs": [
    {
     "name": "stdout",
     "output_type": "stream",
     "text": [
      "avg :  3.0\n"
     ]
    }
   ],
   "source": [
    "# 평균\n",
    "nums = [1, 2, 3, 4, 5]\n",
    "avg = sum(nums) / len(nums)\n",
    "print('avg : ',avg)"
   ]
  },
  {
   "cell_type": "code",
   "execution_count": 79,
   "metadata": {},
   "outputs": [
    {
     "name": "stdout",
     "output_type": "stream",
     "text": [
      "[100, 130, 140, 150, 160, 170]\n"
     ]
    }
   ],
   "source": [
    "price = ['20210412', 100, 130, 140, 150, 160, 170]\n",
    "# 날짜정보를 제외하고 가격정보만 출력\n",
    "print(price[1:])"
   ]
  },
  {
   "cell_type": "code",
   "execution_count": 80,
   "metadata": {},
   "outputs": [
    {
     "name": "stdout",
     "output_type": "stream",
     "text": [
      "[1, 3, 5, 7, 9]\n"
     ]
    }
   ],
   "source": [
    "nums = [1, 2, 3, 4, 5, 6, 7, 8, 9, 10]\n",
    "# 슬라이싱 이용해서 홀수만 추출\n",
    "print(nums[::2])"
   ]
  },
  {
   "cell_type": "code",
   "execution_count": 81,
   "metadata": {},
   "outputs": [
    {
     "name": "stdout",
     "output_type": "stream",
     "text": [
      "[2, 4, 6, 8, 10]\n"
     ]
    }
   ],
   "source": [
    "nums = [1, 2, 3, 4, 5, 6, 7, 8, 9, 10]\n",
    "# 슬라이싱 이용해서 짝수만 추출\n",
    "print(nums[1::2])"
   ]
  },
  {
   "cell_type": "code",
   "execution_count": 82,
   "metadata": {},
   "outputs": [
    {
     "name": "stdout",
     "output_type": "stream",
     "text": [
      "[5, 4, 3, 2, 1]\n"
     ]
    }
   ],
   "source": [
    "nums = [1, 2, 3, 4, 5]\n",
    "# 슬라이싱 이용해서 역방향으로 추출\n",
    "print(nums[::-1])"
   ]
  },
  {
   "cell_type": "code",
   "execution_count": 83,
   "metadata": {},
   "outputs": [
    {
     "data": {
      "text/plain": [
       "['삼성전자', 'LG전자', 'Naver', 'SK하이닉스']"
      ]
     },
     "execution_count": 83,
     "metadata": {},
     "output_type": "execute_result"
    }
   ],
   "source": [
    "# join() : 문자열과 문자열을 연결\n",
    "interest = ['삼성전자', 'LG전자', 'Naver', 'SK하이닉스']\n",
    "interest"
   ]
  },
  {
   "cell_type": "code",
   "execution_count": 84,
   "metadata": {},
   "outputs": [
    {
     "name": "stdout",
     "output_type": "stream",
     "text": [
      "삼성전자 LG전자 Naver SK하이닉스\n"
     ]
    }
   ],
   "source": [
    "print(\" \".join(interest))"
   ]
  },
  {
   "cell_type": "code",
   "execution_count": 85,
   "metadata": {},
   "outputs": [
    {
     "name": "stdout",
     "output_type": "stream",
     "text": [
      "삼성전자/LG전자/Naver/SK하이닉스\n"
     ]
    }
   ],
   "source": [
    "print(\"/\".join(interest))"
   ]
  },
  {
   "cell_type": "code",
   "execution_count": 86,
   "metadata": {},
   "outputs": [
    {
     "name": "stdout",
     "output_type": "stream",
     "text": [
      "삼성전자\n",
      "LG전자\n",
      "Naver\n",
      "SK하이닉스\n"
     ]
    }
   ],
   "source": [
    "print(\"\\n\".join(interest))"
   ]
  },
  {
   "cell_type": "code",
   "execution_count": 87,
   "metadata": {},
   "outputs": [
    {
     "name": "stdout",
     "output_type": "stream",
     "text": [
      "[0, 1, 2, 3, 4, 5, 9, 10]\n"
     ]
    }
   ],
   "source": [
    "data = [2, 4, 3, 1, 5, 0, 10, 9]\n",
    "# 리스트 값을 오름차순 정렬\n",
    "data.sort() # 원본이 변경 처리\n",
    "print(data)"
   ]
  },
  {
   "cell_type": "code",
   "execution_count": 91,
   "metadata": {},
   "outputs": [
    {
     "name": "stdout",
     "output_type": "stream",
     "text": [
      "[0, 1, 2, 3, 4, 5, 9, 10]\n",
      "[2, 4, 3, 1, 5, 0, 10, 9]\n"
     ]
    }
   ],
   "source": [
    "data = [2, 4, 3, 1, 5, 0, 10, 9]\n",
    "print(sorted(data)) # 원본이 변경 처리X\n",
    "print(data)"
   ]
  },
  {
   "cell_type": "markdown",
   "metadata": {},
   "source": [
    "#### 4. 튜플(Tuple)"
   ]
  },
  {
   "cell_type": "code",
   "execution_count": 92,
   "metadata": {},
   "outputs": [
    {
     "name": "stdout",
     "output_type": "stream",
     "text": [
      "<class 'tuple'>\n"
     ]
    }
   ],
   "source": [
    "my_data = () # 빈 튜플 객체 생성\n",
    "print(type(my_data))"
   ]
  },
  {
   "cell_type": "code",
   "execution_count": 95,
   "metadata": {},
   "outputs": [
    {
     "data": {
      "text/plain": [
       "('닥터 스트레인지', '스플릿', '럭키')"
      ]
     },
     "execution_count": 95,
     "metadata": {},
     "output_type": "execute_result"
    }
   ],
   "source": [
    "movie = (\"닥터 스트레인지\", \"스플릿\", \"럭키\")\n",
    "movie"
   ]
  },
  {
   "cell_type": "code",
   "execution_count": 96,
   "metadata": {},
   "outputs": [
    {
     "name": "stdout",
     "output_type": "stream",
     "text": [
      "<class 'tuple'>\n"
     ]
    }
   ],
   "source": [
    "my_tuple = (1,)\n",
    "print(type(my_tuple))"
   ]
  },
  {
   "cell_type": "code",
   "execution_count": 97,
   "metadata": {},
   "outputs": [
    {
     "ename": "TypeError",
     "evalue": "'tuple' object does not support item assignment",
     "output_type": "error",
     "traceback": [
      "\u001b[1;31m---------------------------------------------------------------------------\u001b[0m",
      "\u001b[1;31mTypeError\u001b[0m                                 Traceback (most recent call last)",
      "\u001b[1;32m<ipython-input-97-30ae5ed3acb9>\u001b[0m in \u001b[0;36m<module>\u001b[1;34m\u001b[0m\n\u001b[0;32m      1\u001b[0m \u001b[0mt\u001b[0m \u001b[1;33m=\u001b[0m \u001b[1;33m(\u001b[0m\u001b[1;36m1\u001b[0m\u001b[1;33m,\u001b[0m \u001b[1;36m2\u001b[0m\u001b[1;33m,\u001b[0m \u001b[1;36m3\u001b[0m\u001b[1;33m)\u001b[0m\u001b[1;33m\u001b[0m\u001b[1;33m\u001b[0m\u001b[0m\n\u001b[1;32m----> 2\u001b[1;33m \u001b[0mt\u001b[0m\u001b[1;33m[\u001b[0m\u001b[1;36m0\u001b[0m\u001b[1;33m]\u001b[0m \u001b[1;33m=\u001b[0m \u001b[1;34m'a'\u001b[0m\u001b[1;33m\u001b[0m\u001b[1;33m\u001b[0m\u001b[0m\n\u001b[0m",
      "\u001b[1;31mTypeError\u001b[0m: 'tuple' object does not support item assignment"
     ]
    }
   ],
   "source": [
    "t = (1, 2, 3)\n",
    "t[0] = 'a' # 튜플과 리스트의 유일한 차이점은 변경 불가."
   ]
  },
  {
   "cell_type": "code",
   "execution_count": 98,
   "metadata": {},
   "outputs": [
    {
     "data": {
      "text/plain": [
       "(1, 2, 3, 4)"
      ]
     },
     "execution_count": 98,
     "metadata": {},
     "output_type": "execute_result"
    }
   ],
   "source": [
    "t = 1, 2, 3, 4 # 패킹\n",
    "t"
   ]
  },
  {
   "cell_type": "code",
   "execution_count": 99,
   "metadata": {},
   "outputs": [
    {
     "data": {
      "text/plain": [
       "[1, 2, 3, 4]"
      ]
     },
     "execution_count": 99,
     "metadata": {},
     "output_type": "execute_result"
    }
   ],
   "source": [
    "data = list(t)\n",
    "data"
   ]
  },
  {
   "cell_type": "code",
   "execution_count": 100,
   "metadata": {},
   "outputs": [
    {
     "name": "stdout",
     "output_type": "stream",
     "text": [
      "apple banana cake\n"
     ]
    }
   ],
   "source": [
    "temp = ('apple', 'banana', 'cake')\n",
    "a, b, c = temp\n",
    "print(a, b, c)"
   ]
  },
  {
   "cell_type": "code",
   "execution_count": 101,
   "metadata": {},
   "outputs": [
    {
     "name": "stdout",
     "output_type": "stream",
     "text": [
      "(2, 4, 6, 8, 10, 12, 14, 16, 18, 20, 22, 24, 26, 28, 30, 32, 34, 36, 38, 40, 42, 44, 46, 48, 50, 52, 54, 56, 58, 60, 62, 64, 66, 68, 70, 72, 74, 76, 78, 80, 82, 84, 86, 88, 90, 92, 94, 96, 98) "
     ]
    }
   ],
   "source": [
    "data = tuple(range(2, 100, 2))\n",
    "print(data, end = \" \")"
   ]
  },
  {
   "cell_type": "code",
   "execution_count": 102,
   "metadata": {},
   "outputs": [
    {
     "name": "stdout",
     "output_type": "stream",
     "text": [
      "0\n",
      "1\n",
      "[2, 3, 4, 5]\n"
     ]
    }
   ],
   "source": [
    "a, b, *c = (0, 1, 2, 3, 4, 5) # 변수 개수 = 요소의 개수 =>but, *변수 : 가변길이\n",
    "print(a)\n",
    "print(b)\n",
    "print(c)  # 튜플이 리스트로 됨."
   ]
  },
  {
   "cell_type": "code",
   "execution_count": 103,
   "metadata": {},
   "outputs": [
    {
     "data": {
      "text/plain": [
       "[8.8, 8.9, 8.7, 9.2, 9.3, 9.7, 9.9, 7.8]"
      ]
     },
     "execution_count": 103,
     "metadata": {},
     "output_type": "execute_result"
    }
   ],
   "source": [
    "scores = [8.8, 8.9, 8.7, 9.2, 9.3, 9.7, 9.9, 7.8, 9.4, 7.3]\n",
    "# 좌측에 8개의 값은 val 변수로 바인딩하여 출력하는 프로그램\n",
    "# 무시 : _\n",
    "*val, _, _ = scores # 언패킹 8개 후 나머지 2개는 '_'로 처리\n",
    "val"
   ]
  },
  {
   "cell_type": "code",
   "execution_count": 105,
   "metadata": {},
   "outputs": [
    {
     "name": "stdout",
     "output_type": "stream",
     "text": [
      "hi\n",
      "hi\n",
      "hi\n",
      "hi\n",
      "hi\n"
     ]
    }
   ],
   "source": [
    "for _ in range(5): # '-' => 파이썬 특수 케이스\n",
    "    print(\"hi\")"
   ]
  },
  {
   "cell_type": "markdown",
   "metadata": {},
   "source": [
    "#### 5. 딕셔너리"
   ]
  },
  {
   "cell_type": "code",
   "execution_count": 106,
   "metadata": {},
   "outputs": [
    {
     "name": "stdout",
     "output_type": "stream",
     "text": [
      "<class 'dict'>\n"
     ]
    }
   ],
   "source": [
    "temp = {}\n",
    "print(type(temp))"
   ]
  },
  {
   "cell_type": "code",
   "execution_count": 107,
   "metadata": {},
   "outputs": [
    {
     "name": "stdout",
     "output_type": "stream",
     "text": [
      "{'메로나': 1000, '폴라포': 1200, '빵빠레': 1800}\n"
     ]
    }
   ],
   "source": [
    "ice = {\"메로나\": 1000, \"폴라포\": 1200, \"빵빠레\": 1800}\n",
    "print(ice)"
   ]
  },
  {
   "cell_type": "code",
   "execution_count": 108,
   "metadata": {},
   "outputs": [
    {
     "data": {
      "text/plain": [
       "{'메로나': 1000, '폴라포': 1200, '빵빠레': 1800, '죠스바': 1200, '월드콘': 1500}"
      ]
     },
     "execution_count": 108,
     "metadata": {},
     "output_type": "execute_result"
    }
   ],
   "source": [
    "# 딕셔너리에 아이템 -> 시퀀스 자료X, 키로 value 불러옴.\n",
    "ice['죠스바'] = 1200\n",
    "ice['월드콘'] = 1500\n",
    "ice"
   ]
  },
  {
   "cell_type": "code",
   "execution_count": 109,
   "metadata": {},
   "outputs": [
    {
     "name": "stdout",
     "output_type": "stream",
     "text": [
      "메로나 가격 :  1000\n"
     ]
    }
   ],
   "source": [
    "# 메로나의 가격을 출력.\n",
    "print(\"메로나 가격 : \", ice['메로나'])"
   ]
  },
  {
   "cell_type": "code",
   "execution_count": 110,
   "metadata": {},
   "outputs": [
    {
     "data": {
      "text/plain": [
       "{'메로나': 1300, '폴라포': 1200, '빵빠레': 1800, '죠스바': 1200, '월드콘': 1500}"
      ]
     },
     "execution_count": 110,
     "metadata": {},
     "output_type": "execute_result"
    }
   ],
   "source": [
    "# 메로나 가격을 1300으로 수정\n",
    "ice['메로나'] = 1300\n",
    "ice\n",
    "# ice['누가바'] 없는 키값 호출 -> 에러"
   ]
  },
  {
   "cell_type": "code",
   "execution_count": 124,
   "metadata": {},
   "outputs": [
    {
     "data": {
      "text/plain": [
       "{'메로나': [300, 20], '비비빅': [400, 3], '죠스바': [250, 10]}"
      ]
     },
     "execution_count": 124,
     "metadata": {},
     "output_type": "execute_result"
    }
   ],
   "source": [
    "products = {\"메로나\":[300, 20], \"비비빅\":[400, 3], \"죠스바\":[250, 10]}\n",
    "products"
   ]
  },
  {
   "cell_type": "code",
   "execution_count": 125,
   "metadata": {},
   "outputs": [
    {
     "name": "stdout",
     "output_type": "stream",
     "text": [
      "300 원\n"
     ]
    }
   ],
   "source": [
    "# 메로나 가격 추출\n",
    "print(products['메로나'][0], '원')"
   ]
  },
  {
   "cell_type": "code",
   "execution_count": 126,
   "metadata": {},
   "outputs": [
    {
     "name": "stdout",
     "output_type": "stream",
     "text": [
      "20 개\n"
     ]
    }
   ],
   "source": [
    "# 메로나 제고 출력\n",
    "print(products['메로나'][1], '개')"
   ]
  },
  {
   "cell_type": "code",
   "execution_count": 127,
   "metadata": {},
   "outputs": [
    {
     "name": "stdout",
     "output_type": "stream",
     "text": [
      "{'메로나': [300, 20], '비비빅': [400, 3], '죠스바': [250, 10], '월드콘': [500, 7]}\n"
     ]
    }
   ],
   "source": [
    "products[\"월드콘\"] = [500, 7]\n",
    "print(products)"
   ]
  },
  {
   "cell_type": "code",
   "execution_count": 128,
   "metadata": {},
   "outputs": [
    {
     "data": {
      "text/plain": [
       "dict_keys(['메로나', '비비빅', '죠스바', '월드콘'])"
      ]
     },
     "execution_count": 128,
     "metadata": {},
     "output_type": "execute_result"
    }
   ],
   "source": [
    "# keys()\n",
    "product = products.keys()\n",
    "product"
   ]
  },
  {
   "cell_type": "code",
   "execution_count": 131,
   "metadata": {},
   "outputs": [
    {
     "data": {
      "text/plain": [
       "[[300, 20], [400, 3], [250, 10], [500, 7]]"
      ]
     },
     "execution_count": 131,
     "metadata": {},
     "output_type": "execute_result"
    }
   ],
   "source": [
    "# values()\n",
    "product = list(products.values())\n",
    "product"
   ]
  },
  {
   "cell_type": "code",
   "execution_count": 132,
   "metadata": {},
   "outputs": [
    {
     "name": "stdout",
     "output_type": "stream",
     "text": [
      "6700\n"
     ]
    }
   ],
   "source": [
    "# 등록된 아이스크림 가격의 총합\n",
    "icecream = {'탱크보이': 1200, '폴라포': 1200, '빵빠레': 1800, '월드콘': 1500, '메로나': 1000}\n",
    "\n",
    "print(sum(icecream.values()))"
   ]
  },
  {
   "cell_type": "code",
   "execution_count": 133,
   "metadata": {},
   "outputs": [
    {
     "data": {
      "text/plain": [
       "[[300, 20], [400, 3], [250, 10], [500, 7]]"
      ]
     },
     "execution_count": 133,
     "metadata": {},
     "output_type": "execute_result"
    }
   ],
   "source": [
    "product"
   ]
  },
  {
   "cell_type": "code",
   "execution_count": 138,
   "metadata": {},
   "outputs": [
    {
     "name": "stdout",
     "output_type": "stream",
     "text": [
      "300\n",
      "400\n",
      "250\n",
      "500\n"
     ]
    }
   ],
   "source": [
    "print(product[0][0])\n",
    "print(product[1][0])\n",
    "print(product[2][0])\n",
    "print(product[3][0])"
   ]
  },
  {
   "cell_type": "code",
   "execution_count": 141,
   "metadata": {},
   "outputs": [
    {
     "name": "stdout",
     "output_type": "stream",
     "text": [
      "300\n",
      "400\n",
      "250\n",
      "500\n"
     ]
    }
   ],
   "source": [
    "for i in range(4):\n",
    "    print(product[i][0])"
   ]
  },
  {
   "cell_type": "code",
   "execution_count": 148,
   "metadata": {},
   "outputs": [
    {
     "data": {
      "text/plain": [
       "1450"
      ]
     },
     "execution_count": 148,
     "metadata": {},
     "output_type": "execute_result"
    }
   ],
   "source": [
    "sum = 0\n",
    "for i in product:\n",
    "    sum += i[0]\n",
    "sum"
   ]
  },
  {
   "cell_type": "code",
   "execution_count": 147,
   "metadata": {},
   "outputs": [
    {
     "name": "stdout",
     "output_type": "stream",
     "text": [
      "[300, 20]\n",
      "[400, 3]\n",
      "[250, 10]\n",
      "[500, 7]\n"
     ]
    }
   ],
   "source": [
    "products.values()\n",
    "\n",
    "for i in products.values():\n",
    "    print(i)"
   ]
  },
  {
   "cell_type": "code",
   "execution_count": 150,
   "metadata": {},
   "outputs": [
    {
     "data": {
      "text/plain": [
       "{'탱크보이': 1200,\n",
       " '폴라포': 1200,\n",
       " '빵빠레': 1800,\n",
       " '월드콘': 1500,\n",
       " '메로나': 1000,\n",
       " '팥빙수': 2700,\n",
       " '아맛나': 1000}"
      ]
     },
     "execution_count": 150,
     "metadata": {},
     "output_type": "execute_result"
    }
   ],
   "source": [
    "# update()\n",
    "icecream = {'탱크보이': 1200, '폴라포': 1200, '빵빠레': 1800, '월드콘': 1500, '메로나': 1000}\n",
    "new_data = {'팥빙수':2700, '아맛나':1000}\n",
    "icecream.update(new_data)\n",
    "icecream"
   ]
  },
  {
   "cell_type": "code",
   "execution_count": 151,
   "metadata": {},
   "outputs": [
    {
     "data": {
      "text/plain": [
       "{'apple': 300, 'pear': 250, 'peach': 400}"
      ]
     },
     "execution_count": 151,
     "metadata": {},
     "output_type": "execute_result"
    }
   ],
   "source": [
    "# zip() : 여러개 key와 values를 하나로 압축하는 함수\n",
    "keys = (\"apple\", \"pear\", \"peach\")\n",
    "vals = (300, 250, 400)\n",
    "result = dict(zip(keys, vals))\n",
    "result"
   ]
  },
  {
   "cell_type": "code",
   "execution_count": 152,
   "metadata": {},
   "outputs": [
    {
     "data": {
      "text/plain": [
       "{'09/05': 10500,\n",
       " '09/06': 10300,\n",
       " '09/07': 10100,\n",
       " '09/08': 10800,\n",
       " '09/09': 11000}"
      ]
     },
     "execution_count": 152,
     "metadata": {},
     "output_type": "execute_result"
    }
   ],
   "source": [
    "date = ['09/05', '09/06', '09/07', '09/08', '09/09']\n",
    "close_price = [10500, 10300, 10100, 10800, 11000]\n",
    "result = dict(zip(date, close_price))\n",
    "result"
   ]
  },
  {
   "cell_type": "markdown",
   "metadata": {},
   "source": [
    "#### 6. 제어문"
   ]
  },
  {
   "cell_type": "code",
   "execution_count": 153,
   "metadata": {},
   "outputs": [
    {
     "name": "stdout",
     "output_type": "stream",
     "text": [
      "False\n"
     ]
    }
   ],
   "source": [
    "# 분기문 if, 반복문 for\n",
    "# if 논리조건식\n",
    "print(3==4) # 논리 조건식"
   ]
  },
  {
   "cell_type": "code",
   "execution_count": 155,
   "metadata": {},
   "outputs": [
    {
     "name": "stdout",
     "output_type": "stream",
     "text": [
      "Bye, World\n"
     ]
    }
   ],
   "source": [
    "if 4 < 3:\n",
    "    print('Hello, World')\n",
    "else:\n",
    "    print(\"Bye, World\")"
   ]
  },
  {
   "cell_type": "code",
   "execution_count": 157,
   "metadata": {},
   "outputs": [
    {
     "name": "stdout",
     "output_type": "stream",
     "text": [
      "1\n",
      "2\n",
      "4\n"
     ]
    }
   ],
   "source": [
    "if True:\n",
    "    print(1)\n",
    "    print(2)\n",
    "else:\n",
    "    print(3)\n",
    "print(4)"
   ]
  },
  {
   "cell_type": "code",
   "execution_count": 158,
   "metadata": {},
   "outputs": [
    {
     "name": "stdout",
     "output_type": "stream",
     "text": [
      "3\n",
      "5\n"
     ]
    }
   ],
   "source": [
    "if True :\n",
    "    if False:\n",
    "        print(\"1\")\n",
    "        print(\"2\")\n",
    "    else:\n",
    "        print(\"3\")\n",
    "else :\n",
    "    print(\"4\")\n",
    "print(\"5\")"
   ]
  },
  {
   "cell_type": "code",
   "execution_count": 161,
   "metadata": {},
   "outputs": [
    {
     "name": "stdout",
     "output_type": "stream",
     "text": [
      "수 = 2\n",
      "짝수\n"
     ]
    }
   ],
   "source": [
    "# 사용자로부터 하나의 숫자를 입력받고 짝수/홀수 판정하는 프로그램.\n",
    "user = int(input(\"수 = \"))\n",
    "\n",
    "if user % 2 == 0:\n",
    "    print('짝수')\n",
    "else:\n",
    "    print('홀수')"
   ]
  },
  {
   "cell_type": "code",
   "execution_count": 163,
   "metadata": {},
   "outputs": [
    {
     "name": "stdout",
     "output_type": "stream",
     "text": [
      "좋아하는 과일은 홍시\n",
      "예상적중\n"
     ]
    }
   ],
   "source": [
    "fruit = [\"사과\", \"포도\", \"홍시\"]\n",
    "\n",
    "user = input(\"좋아하는 과일은 \")\n",
    "\n",
    "if user in fruit:\n",
    "    print(\"예상적중\")\n",
    "else:\n",
    "    print(\"예상실패\")"
   ]
  },
  {
   "cell_type": "code",
   "execution_count": 166,
   "metadata": {},
   "outputs": [
    {
     "name": "stdout",
     "output_type": "stream",
     "text": [
      "봄/여름/가을/겨울 = 봄\n",
      "딸기\n"
     ]
    }
   ],
   "source": [
    "fruit = {\"봄\" : \"딸기\", \"여름\" : \"토마토\", \"가을\" : \"사과\", '겨울':'홍시'}\n",
    "\n",
    "user = input('봄/여름/가을/겨울 = ')\n",
    "\n",
    "if user in fruit:\n",
    "    print(fruit[user])\n",
    "else:\n",
    "    print(\"오답\")"
   ]
  },
  {
   "cell_type": "code",
   "execution_count": 168,
   "metadata": {},
   "outputs": [
    {
     "name": "stdout",
     "output_type": "stream",
     "text": [
      "문자 = A\n",
      "a\n"
     ]
    }
   ],
   "source": [
    "#사용자로부터 문자 한 개를 입력 받고, 소문자일 경우 대문자로, \n",
    "#대문자 일 경우, 소문자로 변경해서 출력하라.\n",
    "# is ~\n",
    "user = input(\"문자 = \")\n",
    "\n",
    "if user.islower():\n",
    "    print(user.upper())\n",
    "else:\n",
    "    print(user.lower())"
   ]
  },
  {
   "cell_type": "code",
   "execution_count": 171,
   "metadata": {},
   "outputs": [
    {
     "name": "stdout",
     "output_type": "stream",
     "text": [
      "score = 70\n",
      "grade is C\n"
     ]
    }
   ],
   "source": [
    "# 학점 부여\n",
    "score = int(input('score = '))\n",
    "\n",
    "# 범위를 이용하어 처리\n",
    "if 90 <= score <= 100:\n",
    "    print(\"grade is A\")\n",
    "elif 80 <= score < 90:\n",
    "    print(\"grade is B\")\n",
    "elif 70 <= score < 80:\n",
    "    print(\"grade is C\")\n",
    "elif 60 <= score < 70:\n",
    "    print(\"grade is D\")\n",
    "else:\n",
    "    print(\"grade is F\")"
   ]
  },
  {
   "cell_type": "code",
   "execution_count": 172,
   "metadata": {},
   "outputs": [
    {
     "name": "stdout",
     "output_type": "stream",
     "text": [
      "사과\n",
      "귤\n",
      "수박\n"
     ]
    }
   ],
   "source": [
    "과일 = ['사과', '귤', '수박']\n",
    "# for 개별변수 in 집합변수\n",
    "for 변수 in 과일:  # 횟수를 제어 과일.len\n",
    "    print(변수)"
   ]
  },
  {
   "cell_type": "code",
   "execution_count": 173,
   "metadata": {},
   "outputs": [
    {
     "name": "stdout",
     "output_type": "stream",
     "text": [
      "============\n",
      "============\n",
      "============\n",
      "============\n",
      "============\n"
     ]
    }
   ],
   "source": [
    "# 동일하거나 유사한 성격을 가지고 있는 문장\n",
    "# 유사한 성격을 가진 문장은 일정한 규칙을 가지고 있는 문장\n",
    "print(\"============\")\n",
    "print(\"============\")\n",
    "print(\"============\")\n",
    "print(\"============\")\n",
    "print(\"============\")"
   ]
  },
  {
   "cell_type": "code",
   "execution_count": 176,
   "metadata": {},
   "outputs": [
    {
     "name": "stdout",
     "output_type": "stream",
     "text": [
      "============\n",
      "============\n",
      "============\n",
      "============\n",
      "============\n"
     ]
    }
   ],
   "source": [
    "for _ in range(5):\n",
    "    print('============')"
   ]
  },
  {
   "cell_type": "code",
   "execution_count": 181,
   "metadata": {},
   "outputs": [
    {
     "name": "stdout",
     "output_type": "stream",
     "text": [
      "6\n",
      "4\n",
      "4\n",
      "\n",
      "6\n",
      "4\n",
      "4\n"
     ]
    }
   ],
   "source": [
    "a = ['sk하이닉스', '삼성전자', 'lg전자']\n",
    "print(len(a[0]))\n",
    "print(len(a[1]))\n",
    "print(len(a[2]))\n",
    "\n",
    "print()\n",
    "for i in a:\n",
    "    print(len(i))"
   ]
  },
  {
   "cell_type": "code",
   "execution_count": 183,
   "metadata": {},
   "outputs": [
    {
     "name": "stdout",
     "output_type": "stream",
     "text": [
      "가\n",
      "다\n"
     ]
    }
   ],
   "source": [
    "b = ['가', '나', '다', '라']\n",
    "\n",
    "for i in b[::2]:\n",
    "    print(i)"
   ]
  },
  {
   "cell_type": "code",
   "execution_count": 184,
   "metadata": {},
   "outputs": [
    {
     "name": "stdout",
     "output_type": "stream",
     "text": [
      "나\n",
      "다\n",
      "라\n"
     ]
    }
   ],
   "source": [
    "b = ['가', '나', '다', '라']\n",
    "\n",
    "for i in b[1:]:\n",
    "    print(i)"
   ]
  },
  {
   "cell_type": "code",
   "execution_count": 185,
   "metadata": {},
   "outputs": [
    {
     "name": "stdout",
     "output_type": "stream",
     "text": [
      "라\n",
      "다\n",
      "나\n",
      "가\n"
     ]
    }
   ],
   "source": [
    "b = ['가', '나', '다', '라']\n",
    "\n",
    "for i in b[::-1]:\n",
    "    print(i)"
   ]
  },
  {
   "cell_type": "code",
   "execution_count": 188,
   "metadata": {},
   "outputs": [
    {
     "name": "stdout",
     "output_type": "stream",
     "text": [
      "-20\n",
      "-3\n"
     ]
    }
   ],
   "source": [
    "c = [3, -20, -3, 44]\n",
    "\n",
    "for i in c:\n",
    "    if i < 0:\n",
    "        print(i)\n",
    "   "
   ]
  },
  {
   "cell_type": "code",
   "execution_count": 189,
   "metadata": {},
   "outputs": [
    {
     "name": "stdout",
     "output_type": "stream",
     "text": [
      "-20\n",
      "-3\n"
     ]
    }
   ],
   "source": [
    "c = [3, -20, -3, 44]\n",
    "\n",
    "for i in c:\n",
    "    if i > 0:\n",
    "        continue # 건너띄어라\n",
    "    print(i)"
   ]
  },
  {
   "cell_type": "code",
   "execution_count": 192,
   "metadata": {},
   "outputs": [
    {
     "name": "stdout",
     "output_type": "stream",
     "text": [
      "study\n",
      "python\n",
      "language\n"
     ]
    }
   ],
   "source": [
    "d = [\"I\", \"study\", \"python\", \"language\", \"!\"]\n",
    "# 리스트에 저장된 요소중 세글자 이상인 문자만 출력\n",
    "\n",
    "for i in d:\n",
    "    if len(i) >= 3:\n",
    "        print(i)"
   ]
  },
  {
   "cell_type": "code",
   "execution_count": 195,
   "metadata": {},
   "outputs": [
    {
     "name": "stdout",
     "output_type": "stream",
     "text": [
      "A\n",
      "D\n"
     ]
    }
   ],
   "source": [
    "e = [\"A\", \"b\", \"c\", \"D\"]\n",
    "\n",
    "for i in e:\n",
    "    if i.isupper():\n",
    "        print(i)"
   ]
  },
  {
   "cell_type": "code",
   "execution_count": 197,
   "metadata": {},
   "outputs": [
    {
     "name": "stdout",
     "output_type": "stream",
     "text": [
      "hello\n",
      "exam\n",
      "test\n",
      "memo\n"
     ]
    }
   ],
   "source": [
    "file = ['hello.py', 'exam.xls', 'test.hwp', 'memo.txt']\n",
    "# 파일명을 담고 있는 리스트에서 확장자를 제거하고 파일이름만 추출\n",
    "# split()\n",
    "\n",
    "for i in file:\n",
    "    split = i.split(\".\")\n",
    "    print(split[0])"
   ]
  },
  {
   "cell_type": "code",
   "execution_count": 204,
   "metadata": {},
   "outputs": [
    {
     "name": "stdout",
     "output_type": "stream",
     "text": [
      "intro.h\n",
      "define.h\n",
      "run.py\n",
      "demo.h\n"
     ]
    }
   ],
   "source": [
    "file2 = ['intro.h', 'test.c', 'define.h', 'run.py', 'demo.h']\n",
    "# 확장자가 h와 py인 파일만 추출.\n",
    "\n",
    "for i in file2:\n",
    "    split = i.split('.')\n",
    "    if split[1] == 'h' or split[1] == 'py':\n",
    "        print(i)"
   ]
  },
  {
   "cell_type": "markdown",
   "metadata": {},
   "source": [
    "#### 7. 함수(Function)"
   ]
  },
  {
   "cell_type": "code",
   "execution_count": 207,
   "metadata": {},
   "outputs": [],
   "source": [
    "def print_coin():\n",
    "    print(\"hello python\")"
   ]
  },
  {
   "cell_type": "code",
   "execution_count": 209,
   "metadata": {},
   "outputs": [
    {
     "name": "stdout",
     "output_type": "stream",
     "text": [
      "hello python\n"
     ]
    }
   ],
   "source": [
    "print_coin()"
   ]
  },
  {
   "cell_type": "code",
   "execution_count": 210,
   "metadata": {},
   "outputs": [],
   "source": [
    "def print_coin():\n",
    "    for i in range(100):\n",
    "        print(\"hello python\")"
   ]
  },
  {
   "cell_type": "code",
   "execution_count": 214,
   "metadata": {},
   "outputs": [
    {
     "name": "stdout",
     "output_type": "stream",
     "text": [
      "HI\n"
     ]
    }
   ],
   "source": [
    "def hello():\n",
    "    print(\"HI\")\n",
    "hello()"
   ]
  },
  {
   "cell_type": "code",
   "execution_count": 217,
   "metadata": {},
   "outputs": [
    {
     "name": "stdout",
     "output_type": "stream",
     "text": [
      "안녕\n",
      "HI\n"
     ]
    }
   ],
   "source": [
    "def func(string):\n",
    "    print(string)\n",
    "func(\"안녕\")\n",
    "func(\"HI\")"
   ]
  },
  {
   "cell_type": "code",
   "execution_count": 220,
   "metadata": {},
   "outputs": [],
   "source": [
    "def adder(a, b):\n",
    "    c = a + b\n",
    "    return c"
   ]
  },
  {
   "cell_type": "code",
   "execution_count": 221,
   "metadata": {},
   "outputs": [
    {
     "data": {
      "text/plain": [
       "7"
      ]
     },
     "execution_count": 221,
     "metadata": {},
     "output_type": "execute_result"
    }
   ],
   "source": [
    "adder(3, 4)"
   ]
  },
  {
   "cell_type": "code",
   "execution_count": 223,
   "metadata": {},
   "outputs": [
    {
     "data": {
      "text/plain": [
       "15"
      ]
     },
     "execution_count": 223,
     "metadata": {},
     "output_type": "execute_result"
    }
   ],
   "source": [
    "x = adder(7, 8)\n",
    "x"
   ]
  },
  {
   "cell_type": "code",
   "execution_count": 224,
   "metadata": {},
   "outputs": [],
   "source": [
    "def adder(a, b):\n",
    "    #c = a + b\n",
    "    return a + b"
   ]
  },
  {
   "cell_type": "code",
   "execution_count": 225,
   "metadata": {},
   "outputs": [
    {
     "data": {
      "text/plain": [
       "30"
      ]
     },
     "execution_count": 225,
     "metadata": {},
     "output_type": "execute_result"
    }
   ],
   "source": [
    "x = adder(10,20)\n",
    "x"
   ]
  },
  {
   "cell_type": "code",
   "execution_count": 226,
   "metadata": {},
   "outputs": [],
   "source": [
    "# 하나의 문자열을 입력받아 문자열 끝에 \":D\"을 붙여 출력하는 함수\n",
    "# print_str를 정의하시오\n",
    "def print_str(string):\n",
    "    print(string+\":D\")"
   ]
  },
  {
   "cell_type": "code",
   "execution_count": 227,
   "metadata": {},
   "outputs": [
    {
     "name": "stdout",
     "output_type": "stream",
     "text": [
      "안녕:D\n"
     ]
    }
   ],
   "source": [
    "print_str('안녕')"
   ]
  },
  {
   "cell_type": "code",
   "execution_count": 228,
   "metadata": {},
   "outputs": [],
   "source": [
    "# 현재 가격을 입력받아 상한가(30%)을 출력하는 함수\n",
    "# print_price를 정의하시오.\n",
    "def print_price(price):\n",
    "    print(price*1.3)"
   ]
  },
  {
   "cell_type": "code",
   "execution_count": 229,
   "metadata": {},
   "outputs": [
    {
     "name": "stdout",
     "output_type": "stream",
     "text": [
      "3900.0\n"
     ]
    }
   ],
   "source": [
    "print_price(3000)"
   ]
  },
  {
   "cell_type": "code",
   "execution_count": 232,
   "metadata": {},
   "outputs": [],
   "source": [
    "def print_arithmetic(x, y):\n",
    "    print(\"{} + {} = {}\".format(x, y, x+y))\n",
    "    print(\"{} - {} = {}\".format(x, y, x-y))\n",
    "    print(\"{} * {} = {}\".format(x, y, x*y))\n",
    "    print(\"{} / {} = {}\".format(x, y, x/y))"
   ]
  },
  {
   "cell_type": "code",
   "execution_count": 233,
   "metadata": {},
   "outputs": [
    {
     "name": "stdout",
     "output_type": "stream",
     "text": [
      "3 + 4 = 7\n",
      "3 - 4 = -1\n",
      "3 * 4 = 12\n",
      "3 / 4 = 0.75\n"
     ]
    }
   ],
   "source": [
    "print_arithmetic(3, 4)"
   ]
  },
  {
   "cell_type": "code",
   "execution_count": 236,
   "metadata": {},
   "outputs": [],
   "source": [
    "# 세 개의 숫자를 입력받아 큰 수를 출력하는 print_max 함수 정의\n",
    "\n",
    "def print_max(x, y, z):\n",
    "    max_val = 0    # max가 저장될 변수\n",
    "    if x > max_val:\n",
    "        max_val = x\n",
    "    if y > max_val:\n",
    "        max_val = y\n",
    "    if z > max_val:\n",
    "        max_val = z\n",
    "    \n",
    "    print(\"max : \", max_val)"
   ]
  },
  {
   "cell_type": "code",
   "execution_count": 237,
   "metadata": {},
   "outputs": [
    {
     "name": "stdout",
     "output_type": "stream",
     "text": [
      "max :  3\n"
     ]
    }
   ],
   "source": [
    "print_max(1, 2, 3)"
   ]
  },
  {
   "cell_type": "code",
   "execution_count": 239,
   "metadata": {},
   "outputs": [],
   "source": [
    "# 문자열을 입력받아 역순으로 출력하는 print_reverse 함수 정의\n",
    "def print_reverse(string):\n",
    "    print(string[::-1])"
   ]
  },
  {
   "cell_type": "code",
   "execution_count": 241,
   "metadata": {},
   "outputs": [
    {
     "name": "stdout",
     "output_type": "stream",
     "text": [
      "nohtyp\n"
     ]
    }
   ],
   "source": [
    "print_reverse('python')"
   ]
  },
  {
   "cell_type": "code",
   "execution_count": 1,
   "metadata": {},
   "outputs": [],
   "source": [
    "# 리스트로 점수를 입력받아 총점과 평균을 계산하는 함수 print_score\n",
    "def print_score(score_list):\n",
    "    print(\"total = {}\".format(sum(score_list)))\n",
    "    print(\"avg = \", sum(score_list) / len(score_list))"
   ]
  },
  {
   "cell_type": "code",
   "execution_count": 3,
   "metadata": {},
   "outputs": [
    {
     "name": "stdout",
     "output_type": "stream",
     "text": [
      "total = 15\n",
      "avg =  3.0\n"
     ]
    }
   ],
   "source": [
    "print_score([1, 2, 3, 4, 5])"
   ]
  },
  {
   "cell_type": "code",
   "execution_count": 4,
   "metadata": {},
   "outputs": [],
   "source": [
    "# 리스트를 입력받아 짝수만 출력하는 print_even함수를 정의\n",
    "def print_even(my_list):\n",
    "    for i in my_list:\n",
    "        if i % 2 == 0:\n",
    "            print(i)"
   ]
  },
  {
   "cell_type": "code",
   "execution_count": 7,
   "metadata": {},
   "outputs": [
    {
     "name": "stdout",
     "output_type": "stream",
     "text": [
      "2\n",
      "4\n",
      "6\n"
     ]
    }
   ],
   "source": [
    "print_even([7, 2, 9, 1, 3, 4, 6])"
   ]
  },
  {
   "cell_type": "code",
   "execution_count": 10,
   "metadata": {},
   "outputs": [],
   "source": [
    "# 하나의 딕셔너리를 입력받아 key값을 화면에 출력하는 함수\n",
    "# print_keys\n",
    "def print_keys(dic):\n",
    "    for key in dic.keys():\n",
    "        print(key)"
   ]
  },
  {
   "cell_type": "code",
   "execution_count": 11,
   "metadata": {},
   "outputs": [
    {
     "name": "stdout",
     "output_type": "stream",
     "text": [
      "이름\n",
      "나이\n",
      "성별\n"
     ]
    }
   ],
   "source": [
    "print_keys({'이름':'홍길동', '나이':33, '성별':'남'})"
   ]
  },
  {
   "cell_type": "code",
   "execution_count": 24,
   "metadata": {},
   "outputs": [],
   "source": [
    "# 입력 문자열을 한줄에 다섯글자씨만 출력하는 함수 print_5times()\n",
    "def print_5times(string):\n",
    "    check = int(len(string)/5)\n",
    "    \n",
    "    for x in range(check+1):\n",
    "        print(string[x*5:x*5+5])"
   ]
  },
  {
   "cell_type": "code",
   "execution_count": 25,
   "metadata": {},
   "outputs": [
    {
     "name": "stdout",
     "output_type": "stream",
     "text": [
      "가나다라마\n",
      "바사아자차\n",
      "\n"
     ]
    }
   ],
   "source": [
    "print_5times(\"가나다라마바사아자차\")"
   ]
  },
  {
   "cell_type": "code",
   "execution_count": 27,
   "metadata": {},
   "outputs": [],
   "source": [
    "# 문자열과 한줄에 출력될 글자수를 입력받아 처리하는 함수.\n",
    "def print_mxn(string, num):\n",
    "    check = int(len(string)/num)\n",
    "    \n",
    "    for x in range(check+1):\n",
    "        print(string[num*x:x*num+num])"
   ]
  },
  {
   "cell_type": "code",
   "execution_count": 29,
   "metadata": {},
   "outputs": [
    {
     "name": "stdout",
     "output_type": "stream",
     "text": [
      "가나다\n",
      "라마바\n",
      "사아자\n",
      "차카타\n",
      "파하\n"
     ]
    }
   ],
   "source": [
    "print_mxn('가나다라마바사아자차카타파하', 3)"
   ]
  },
  {
   "cell_type": "code",
   "execution_count": 31,
   "metadata": {},
   "outputs": [
    {
     "name": "stdout",
     "output_type": "stream",
     "text": [
      "좌측 :  100\n",
      "우측 :  200\n"
     ]
    }
   ],
   "source": [
    "def my_print(a, b):\n",
    "    print(\"좌측 : \", a)\n",
    "    print(\"우측 : \", b)\n",
    "\n",
    "my_print(a=100, b=200)"
   ]
  },
  {
   "cell_type": "code",
   "execution_count": 37,
   "metadata": {},
   "outputs": [
    {
     "data": {
      "text/plain": [
       "['bbb', 'bbb', 'bbb']"
      ]
     },
     "execution_count": 37,
     "metadata": {},
     "output_type": "execute_result"
    }
   ],
   "source": [
    "# 문자열을 비어있는 리스트에 추가한 후 리스트를 반환해주는 함수.\n",
    "# 문자열을 입력받아 출력하는 작업을 수행한다. 이때 입력받은 문자열이 \n",
    "# quit이면 작업을 종료한다.\n",
    "\n",
    "def make_list1(string):\n",
    "    my_list = []\n",
    "    for i in string:\n",
    "        my_list.append(string)\n",
    "    return my_list\n",
    "\n",
    "a = make_list1('aaa')\n",
    "a = make_list1('bbb')\n",
    "a"
   ]
  },
  {
   "cell_type": "code",
   "execution_count": 39,
   "metadata": {},
   "outputs": [
    {
     "data": {
      "text/plain": [
       "['b', 'b', 'b']"
      ]
     },
     "execution_count": 39,
     "metadata": {},
     "output_type": "execute_result"
    }
   ],
   "source": [
    "def make_list2(string):\n",
    "    return list(string)\n",
    "\n",
    "a = make_list2('bbb')\n",
    "a"
   ]
  },
  {
   "cell_type": "markdown",
   "metadata": {},
   "source": [
    "#### 8. 클래스(Class)"
   ]
  },
  {
   "cell_type": "code",
   "execution_count": null,
   "metadata": {},
   "outputs": [],
   "source": [
    "# \n",
    "# Object(객체) => 클래스\n",
    "# Instance(객체) -  인스턴스 객체\n",
    "# self - 인스턴스 자신의 주소, 자기자신을 가르키는 포인터"
   ]
  },
  {
   "cell_type": "code",
   "execution_count": 40,
   "metadata": {},
   "outputs": [
    {
     "name": "stdout",
     "output_type": "stream",
     "text": [
      "응애응애\n"
     ]
    }
   ],
   "source": [
    "class Human:\n",
    "    # 생성자 메서드\n",
    "    def __init__(self):\n",
    "        print(\"응애응애\")\n",
    "        \n",
    "kim = Human() # 인스턴스 생성, 자동으로 생성자 메서드 호출 그래서 () 써야함."
   ]
  },
  {
   "cell_type": "code",
   "execution_count": 45,
   "metadata": {},
   "outputs": [
    {
     "name": "stdout",
     "output_type": "stream",
     "text": [
      "이순신 25 남자\n"
     ]
    }
   ],
   "source": [
    "class Human:\n",
    "    # 생성자 메서드\n",
    "    def __init__(self, name, age, gender):\n",
    "        self.name = name\n",
    "        self.age = age\n",
    "        self.gender = gender\n",
    "     \n",
    "    def disp(self):\n",
    "        print(self.name, end= \" \")\n",
    "        print(self.age, end= \" \")\n",
    "        print(self.gender)\n",
    "        \n",
    "lee = Human(\"이순신\", 25, '남자')\n",
    "lee.disp()\n",
    "# print(lee.name)\n",
    "# print(lee.age)\n",
    "# print(lee.gender)"
   ]
  },
  {
   "cell_type": "code",
   "execution_count": 57,
   "metadata": {},
   "outputs": [],
   "source": [
    "# Object (객체) : 현실세계의 유형 무형의 모든 물질\n",
    "# 과일장수 - 객체 - 클래스(객체의 속성, 행위)\n",
    "class FruitSeller:\n",
    "    # 멤버필드\n",
    "    apples = 100  # 판매할 과일의 개수\n",
    "    prices = 1000 # 판매할 과일의 금액\n",
    "    money = 0   # 판매금액을 누적할 변수\n",
    "    \n",
    "    # 멤버 메서드\n",
    "    def sel(self, don): # 과일을 판매하는 행위를 기술하는 메서드\n",
    "        apple = don // self.prices\n",
    "        self.apples -= apple\n",
    "        self.money += don\n",
    "        return apple\n",
    "    \n",
    "    def bal(self):   # 과일을 판매하여 얻어지는 판매수익을 처리\n",
    "        pass\n",
    "    \n",
    "    def disp(self):  # 현재 과일장수 상태를 기술\n",
    "        print(\"과일제고 : \", self.apples)\n",
    "        print(\"과일금액 : \", self.prices)\n",
    "        print(\"매출현황 : \", self.money)"
   ]
  },
  {
   "cell_type": "code",
   "execution_count": 58,
   "metadata": {},
   "outputs": [
    {
     "name": "stdout",
     "output_type": "stream",
     "text": [
      "과일제고 :  100\n",
      "과일금액 :  1000\n",
      "매출현황 :  0\n"
     ]
    }
   ],
   "source": [
    "seller = FruitSeller()\n",
    "seller.disp()"
   ]
  },
  {
   "cell_type": "code",
   "execution_count": 60,
   "metadata": {},
   "outputs": [
    {
     "name": "stdout",
     "output_type": "stream",
     "text": [
      "과일제고 :  90\n",
      "과일금액 :  1000\n",
      "매출현황 :  10000\n"
     ]
    }
   ],
   "source": [
    "seller.sel(5000)\n",
    "seller.disp()"
   ]
  },
  {
   "cell_type": "code",
   "execution_count": 63,
   "metadata": {},
   "outputs": [
    {
     "name": "stdout",
     "output_type": "stream",
     "text": [
      "과일제고 :  10\n",
      "과일금액 :  500\n",
      "매출현황 :  0\n"
     ]
    }
   ],
   "source": [
    "seller2 = FruitSeller()\n",
    "seller2.apples = 10\n",
    "seller2.prices = 500\n",
    "seller2.disp()"
   ]
  },
  {
   "cell_type": "code",
   "execution_count": 64,
   "metadata": {},
   "outputs": [],
   "source": [
    "class FruitSeller:\n",
    "#     # 멤버필드\n",
    "#     apples = 100  # 판매할 과일의 개수\n",
    "#     prices = 1000 # 판매할 과일의 금액\n",
    "#     money = 0   # 판매금액을 누적할 변수\n",
    "\n",
    "    # 생성자 메서드\n",
    "    def __init__(self, apples, prices, money):\n",
    "        self.apples = apples\n",
    "        self.prices = prices\n",
    "        self.money = money\n",
    "    \n",
    "    # 멤버 메서드\n",
    "    def sel(self, don): # 과일을 판매하는 행위를 기술하는 메서드\n",
    "        apple = don // self.prices\n",
    "        self.apples -= apple\n",
    "        self.money += don\n",
    "        return apple\n",
    "    \n",
    "    def bal(self):   # 과일을 판매하여 얻어지는 판매수익을 처리\n",
    "        pass\n",
    "    \n",
    "    def disp(self):  # 현재 과일장수 상태를 기술\n",
    "        print(\"과일제고 : \", self.apples)\n",
    "        print(\"과일금액 : \", self.prices)\n",
    "        print(\"매출현황 : \", self.money)"
   ]
  },
  {
   "cell_type": "code",
   "execution_count": 65,
   "metadata": {},
   "outputs": [
    {
     "name": "stdout",
     "output_type": "stream",
     "text": [
      "과일제고 :  50\n",
      "과일금액 :  1000\n",
      "매출현황 :  0\n",
      "과일제고 :  10\n",
      "과일금액 :  800\n",
      "매출현황 :  0\n"
     ]
    }
   ],
   "source": [
    "aaa = FruitSeller(50, 1000, 0)\n",
    "bbb = FruitSeller(10, 800, 0)\n",
    "\n",
    "aaa.disp()\n",
    "bbb.disp()"
   ]
  },
  {
   "cell_type": "code",
   "execution_count": 77,
   "metadata": {},
   "outputs": [],
   "source": [
    "import random\n",
    "\n",
    "# 계좌번호 : 111-11-111111\n",
    "class Account:\n",
    "    # 클래스 변수 : 생성된 계좌 객체의 수를 저장하는 변수\n",
    "    account_count = 0\n",
    "    \n",
    "    def __init__(self, name, balance):\n",
    "        self.name = name\n",
    "        self.balance = balance\n",
    "        self.bank = '파이썬은행'\n",
    "        \n",
    "        num1 = random.randint(0, 999) # 4\n",
    "        num2 = random.randint(0, 99)\n",
    "        num3 = random.randint(0, 999999)\n",
    "        \n",
    "        num1 = str(num1).zfill(3) # zero로 fill워라 3자리를, 4 => '4' => '004'\n",
    "        num2 = str(num2).zfill(2)\n",
    "        num3 = str(num3).zfill(6)\n",
    "        \n",
    "        self.account_number = num1 + \"-\" + num2 + \"-\" + num3\n",
    "        \n",
    "        Account.account_count += 1\n",
    "        \n",
    "    def disp(self):\n",
    "        print(self.name)\n",
    "        print(self.balance)\n",
    "        print(self.bank)\n",
    "        print(self.account_number)"
   ]
  },
  {
   "cell_type": "code",
   "execution_count": 78,
   "metadata": {},
   "outputs": [],
   "source": [
    "kim = Account('김유신', 10000)"
   ]
  },
  {
   "cell_type": "code",
   "execution_count": 79,
   "metadata": {},
   "outputs": [
    {
     "name": "stdout",
     "output_type": "stream",
     "text": [
      "김유신\n",
      "10000\n",
      "파이썬은행\n",
      "750-09-274515\n"
     ]
    }
   ],
   "source": [
    "print(kim.name)\n",
    "print(kim.balance)\n",
    "print(kim.bank)\n",
    "print(kim.account_number)"
   ]
  },
  {
   "cell_type": "code",
   "execution_count": 80,
   "metadata": {},
   "outputs": [
    {
     "name": "stdout",
     "output_type": "stream",
     "text": [
      "김유신\n",
      "10000\n",
      "파이썬은행\n",
      "750-09-274515\n"
     ]
    }
   ],
   "source": [
    "kim.disp()"
   ]
  },
  {
   "cell_type": "code",
   "execution_count": 81,
   "metadata": {},
   "outputs": [
    {
     "name": "stdout",
     "output_type": "stream",
     "text": [
      "이순신\n",
      "20000\n",
      "파이썬은행\n",
      "497-59-885912\n"
     ]
    }
   ],
   "source": [
    "lee = Account('이순신', 20000)\n",
    "print(lee.name)\n",
    "print(lee.balance)\n",
    "print(lee.bank)\n",
    "print(lee.account_number)"
   ]
  },
  {
   "cell_type": "code",
   "execution_count": 82,
   "metadata": {},
   "outputs": [
    {
     "name": "stdout",
     "output_type": "stream",
     "text": [
      "이순신\n",
      "20000\n",
      "파이썬은행\n",
      "497-59-885912\n"
     ]
    }
   ],
   "source": [
    "lee.disp()"
   ]
  },
  {
   "cell_type": "code",
   "execution_count": 83,
   "metadata": {},
   "outputs": [
    {
     "name": "stdout",
     "output_type": "stream",
     "text": [
      "2\n"
     ]
    }
   ],
   "source": [
    "print(Account.account_count)"
   ]
  },
  {
   "cell_type": "code",
   "execution_count": 84,
   "metadata": {},
   "outputs": [
    {
     "name": "stdout",
     "output_type": "stream",
     "text": [
      "박문수\n",
      "50000\n",
      "파이썬은행\n",
      "422-96-271277\n",
      "3\n"
     ]
    }
   ],
   "source": [
    "park = Account('박문수', 50000)\n",
    "park.disp()\n",
    "print(Account.account_count)"
   ]
  },
  {
   "cell_type": "code",
   "execution_count": null,
   "metadata": {},
   "outputs": [],
   "source": []
  }
 ],
 "metadata": {
  "kernelspec": {
   "display_name": "Python 3",
   "language": "python",
   "name": "python3"
  },
  "language_info": {
   "codemirror_mode": {
    "name": "ipython",
    "version": 3
   },
   "file_extension": ".py",
   "mimetype": "text/x-python",
   "name": "python",
   "nbconvert_exporter": "python",
   "pygments_lexer": "ipython3",
   "version": "3.7.3"
  }
 },
 "nbformat": 4,
 "nbformat_minor": 2
}
