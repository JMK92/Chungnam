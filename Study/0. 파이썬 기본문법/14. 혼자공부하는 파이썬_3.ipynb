{
 "cells": [
  {
   "cell_type": "code",
   "execution_count": 6,
   "metadata": {},
   "outputs": [],
   "source": [
    "#클래스 선언\n",
    "class A: # 클래스명의 첫글자는 대문자로 작성하는 것을 권장한다.\n",
    "    # 멤버변수(필드, field) : 인스턴스 변수 or 클래스 변수(인스턴스 상관없이 클래스안에 변수)\n",
    "    ## 클래스 변수 ( 공통적으로 갖는 값 )\n",
    "    name = '홍길동'\n",
    "    age = 20\n",
    "    \n",
    "       \n",
    "    # 멤버 메서드\n",
    "    def disp(self):\n",
    "        ## 인스턴스 변수(개별적으로 갖는 값)\n",
    "        self.message = \"hello\"\n",
    "        print(self.message)"
   ]
  },
  {
   "cell_type": "code",
   "execution_count": 10,
   "metadata": {},
   "outputs": [
    {
     "name": "stdout",
     "output_type": "stream",
     "text": [
      "hello\n",
      "hello\n",
      "홍길동\n",
      "20\n",
      "홍길동\n",
      "20\n",
      "홍길동\n",
      "20\n",
      "홍길동\n",
      "20\n"
     ]
    },
    {
     "ename": "AttributeError",
     "evalue": "type object 'A' has no attribute 'message'",
     "output_type": "error",
     "traceback": [
      "\u001b[1;31m---------------------------------------------------------------------------\u001b[0m",
      "\u001b[1;31mAttributeError\u001b[0m                            Traceback (most recent call last)",
      "\u001b[1;32m<ipython-input-10-e2a240fffe83>\u001b[0m in \u001b[0;36m<module>\u001b[1;34m\u001b[0m\n\u001b[0;32m     16\u001b[0m \u001b[0mprint\u001b[0m\u001b[1;33m(\u001b[0m\u001b[0mA\u001b[0m\u001b[1;33m.\u001b[0m\u001b[0mage\u001b[0m\u001b[1;33m)\u001b[0m\u001b[1;33m\u001b[0m\u001b[1;33m\u001b[0m\u001b[0m\n\u001b[0;32m     17\u001b[0m \u001b[1;31m####################################3\u001b[0m\u001b[1;33m\u001b[0m\u001b[1;33m\u001b[0m\u001b[1;33m\u001b[0m\u001b[0m\n\u001b[1;32m---> 18\u001b[1;33m \u001b[0mprint\u001b[0m\u001b[1;33m(\u001b[0m\u001b[0mA\u001b[0m\u001b[1;33m.\u001b[0m\u001b[0mmessage\u001b[0m\u001b[1;33m)\u001b[0m \u001b[1;31m# 인스턴스 변수기 때문에 클래스가 접근을 못함.\u001b[0m\u001b[1;33m\u001b[0m\u001b[1;33m\u001b[0m\u001b[0m\n\u001b[0m",
      "\u001b[1;31mAttributeError\u001b[0m: type object 'A' has no attribute 'message'"
     ]
    }
   ],
   "source": [
    "# 클래스변수는 클래스명으로 접근하는 변수\n",
    "a = A() # 생성자메서드를 호출한다. -> 생성자 없으면 디폴트 생성자(기본값, 생략됨) 호출\n",
    "b = A()\n",
    "a.disp() # 인스턴스 변수로 접근\n",
    "print(a.message)\n",
    "\n",
    "######################################\n",
    "print(a.name)\n",
    "print(a.age)\n",
    "print(b.name) \n",
    "print(b.age)\n",
    "##################################### 위에 처럼 접근 하는게 아니라 클래스변수 때문에 클래소 접근\n",
    "print(A.name) # 이렇게 접근 근데 파이썬은 인스턴스 통해 접근도 가능함 위에 처럼\n",
    "print(A.age)\n",
    "print(A.name) \n",
    "print(A.age)\n",
    "####################################3\n",
    "print(A.message) # 인스턴스 변수기 때문에 클래스가 접근을 못함."
   ]
  },
  {
   "cell_type": "code",
   "execution_count": 13,
   "metadata": {},
   "outputs": [],
   "source": [
    "class Person:\n",
    "    # 클래스 변수\n",
    "    nation = '한국'\n",
    "    name = str()  # 값을 주지X -> '여기에 문자를 주겠다'라는 의미\n",
    "    age = int()  # 0\n",
    "    height = float() # 0.0\n",
    "    weight = float() # 0.0\n",
    "    \n",
    "    def disp(self): # 첫번째 매개변수가 self -> 자가자신의 시작주소를 가지고 있다.\n",
    "                    # 시작주소만 있으면 나머지는 다 읽어올 수 있다.\n",
    "                    # 시작 주소가 a 라면 그다음 주소는 a + 1, a + 2 이렇게 됨\n",
    "                    # +1, +2가 더하는게 아니라 주소가 오른쪽으로 한칸씩 옮김 (4byte씩)\n",
    "                    # 이러니 너무 어려원서 a[i] 이렇게 사용\n",
    "                    # 바인딩 => 변수나 함수에 접근 하는 것.\n",
    "        print(\"국적 : \", self.nation) # 원래 Person.nation으로 접근해야 하는데 여기 self도 가능\n",
    "        print(\"이름 : \", self.name)\n",
    "        print(\"나이 : \", self.age)\n",
    "        print(\"신장 : \", self.height)\n",
    "        print(\"체중 : \", self.weight)        "
   ]
  },
  {
   "cell_type": "code",
   "execution_count": 16,
   "metadata": {},
   "outputs": [
    {
     "name": "stdout",
     "output_type": "stream",
     "text": [
      "['__class__', '__delattr__', '__dict__', '__dir__', '__doc__', '__eq__', '__format__', '__ge__', '__getattribute__', '__gt__', '__hash__', '__init__', '__init_subclass__', '__le__', '__lt__', '__module__', '__ne__', '__new__', '__reduce__', '__reduce_ex__', '__repr__', '__setattr__', '__sizeof__', '__str__', '__subclasshook__', '__weakref__', 'age', 'disp', 'height', 'name', 'nation', 'weight']\n"
     ]
    }
   ],
   "source": [
    "# dir : 객체의 목록(변수 or 함수)를 확인하는 함수\n",
    "print(dir(Person)) # 클래스의 모든 멤버 확인                         (오버라이딩)\n",
    "# JAVA => 최상위 클래스가 있음(Object 클래스), 기술하지X 메서드 -> 보이지 않은 최상위 클래스"
   ]
  },
  {
   "cell_type": "code",
   "execution_count": 21,
   "metadata": {},
   "outputs": [
    {
     "name": "stdout",
     "output_type": "stream",
     "text": [
      "국적 :  한국\n",
      "이름 :  \n",
      "나이 :  0\n",
      "신장 :  0.0\n",
      "체중 :  0.0\n"
     ]
    }
   ],
   "source": [
    "p1 = Person() #  p1 = Person하면 p1는 Person()의 시작주소 가진다.\n",
    "              # p1은 Person에 바인딩 시켰다.\n",
    "p1.disp()"
   ]
  },
  {
   "cell_type": "code",
   "execution_count": 20,
   "metadata": {},
   "outputs": [
    {
     "name": "stdout",
     "output_type": "stream",
     "text": [
      "국적 :  한국\n",
      "이름 :  김철수\n",
      "나이 :  20\n",
      "신장 :  170.5\n",
      "체중 :  7.3\n"
     ]
    }
   ],
   "source": [
    "p2 = Person() # p1가 다른 기억공간을 가짐, p1과 p2는 깊은 복사 => 각 개별적인 값은 가지니깐.\n",
    "p2.name = '김철수'   #                                            (self 때문에)\n",
    "p2.age = 20          #                         (위에 disp에서self말고 Person바꾸면 p1도 바뀜)\n",
    "p2.height = 170.5\n",
    "p2.weight = 7.3\n",
    "p2.disp()"
   ]
  },
  {
   "cell_type": "code",
   "execution_count": 30,
   "metadata": {},
   "outputs": [
    {
     "name": "stdout",
     "output_type": "stream",
     "text": [
      "함수1\n",
      "2129912318552\n",
      "인스턴스의 주소값 :  2129912318552\n",
      "함수2\n",
      "함수3\n"
     ]
    }
   ],
   "source": [
    "class B:\n",
    "    def func1(self):\n",
    "        print(\"함수1\")\n",
    "    \n",
    "    def func2(self):\n",
    "        print(\"인스턴스의 주소값 : \", id(self))\n",
    "        print(\"함수2\")\n",
    "        \n",
    "    def func3():    #self 안 담으면 클래스 메서드다 -> 클래스변수와 마찬가지로 클래스로 접근\n",
    "        print(\"함수3\")\n",
    "\n",
    "#object(객체) : 설계도 도면, instance(객체) : 설계도를 의한 생산된 제품\n",
    "b = B() # 인스턴스 객체 생성\n",
    "b.func1()\n",
    "print(id(b))\n",
    "b.func2() #  b가 가르키는 주소와 self가 가리키는 주소가 같다.\n",
    "B.func3() # 클래스로 접근\n",
    "# b.func3() # self를 가지고 있지 않기 때문에 인스턴스 변수로 접근X, 오류"
   ]
  },
  {
   "cell_type": "code",
   "execution_count": 37,
   "metadata": {},
   "outputs": [],
   "source": [
    "# 매개변수를 초기화, default parameter\n",
    "class Person2:\n",
    "    # 생성자 매개변수 : 인스턴스가 생성될 때 자동으로 호출\n",
    "    def __init__(self, name=None, age=None, height=None, weight=None): # 디폴트 값:None(없다)\n",
    "        self.name = name\n",
    "        self.age = age\n",
    "        self.height = height\n",
    "        self.weight = weight\n",
    "        \n",
    "    def disp(self): # 첫번째 매개변수가 self\n",
    "        print(\"이름 : \", self.name)\n",
    "        print(\"나이 : \", self.age)\n",
    "        print(\"신장 : \", self.height)\n",
    "        print(\"체중 : \", self.weight)     \n",
    "        \n",
    "    # 소멸자 메서드 : 인스턴스가 소멸될때 자동으로 호출 -> 잘 사용X\n",
    "    def __del__(self):\n",
    "        print(\"소멸자 호출\") # 사용자가 호출X, 시스템이 호출"
   ]
  },
  {
   "cell_type": "code",
   "execution_count": 38,
   "metadata": {},
   "outputs": [
    {
     "name": "stdout",
     "output_type": "stream",
     "text": [
      "이름 :  aaa\n",
      "나이 :  20\n",
      "신장 :  170.3\n",
      "체중 :  73.2\n",
      "이름 :  None\n",
      "나이 :  None\n",
      "신장 :  None\n",
      "체중 :  None\n"
     ]
    }
   ],
   "source": [
    "p2 = Person2('aaa', 20, 170.3, 73.2)\n",
    "p2.disp()\n",
    "\n",
    "p3 = Person2()\n",
    "p3.disp() # 디폴트 초기화X -> 에러"
   ]
  },
  {
   "cell_type": "code",
   "execution_count": 39,
   "metadata": {},
   "outputs": [
    {
     "name": "stdout",
     "output_type": "stream",
     "text": [
      "None\n"
     ]
    }
   ],
   "source": [
    "print(p3.name) # 동작이 된다는 건 소멸자가 작동X , 알아서 함."
   ]
  },
  {
   "cell_type": "code",
   "execution_count": null,
   "metadata": {},
   "outputs": [],
   "source": []
  }
 ],
 "metadata": {
  "kernelspec": {
   "display_name": "Python 3",
   "language": "python",
   "name": "python3"
  },
  "language_info": {
   "codemirror_mode": {
    "name": "ipython",
    "version": 3
   },
   "file_extension": ".py",
   "mimetype": "text/x-python",
   "name": "python",
   "nbconvert_exporter": "python",
   "pygments_lexer": "ipython3",
   "version": "3.7.3"
  }
 },
 "nbformat": 4,
 "nbformat_minor": 2
}
