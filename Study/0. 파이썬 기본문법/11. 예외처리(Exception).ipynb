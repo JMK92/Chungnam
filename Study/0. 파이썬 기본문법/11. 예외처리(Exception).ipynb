{
 "cells": [
  {
   "cell_type": "markdown",
   "metadata": {},
   "source": [
    "#### 0. 에러와 예외\n",
    "- 에러(syntax Error) : 문법적 에러\n",
    "- 예외(Exception) : 구문 에러는 없으나 프로그램이 진행하지 못하는 상황 (이게되면 프로그램 종료) -> 프로그래머가 예측 가능"
   ]
  },
  {
   "cell_type": "markdown",
   "metadata": {},
   "source": [
    "#### 1. 예외처리방법\n",
    "- try : 예외상황이 발생 가능한 문구를 작성하는 영역\n",
    "- except Exception : 예외가 발생했을 때 실행할 내용을 작성하는 영역\n",
    "- else : 예외가 발생하지 않았을 때 실행할 문장을 작성하는 영역\n",
    "- finally : 예외 발생 유무와 상관없이 실행할 문장을 작성하는 영역\n",
    "- 파이썬 내장 예외 종류 https://docs.python.org/3/library/exceptions.html"
   ]
  },
  {
   "cell_type": "code",
   "execution_count": 1,
   "metadata": {},
   "outputs": [
    {
     "name": "stdout",
     "output_type": "stream",
     "text": [
      "start\n"
     ]
    },
    {
     "ename": "ZeroDivisionError",
     "evalue": "division by zero",
     "output_type": "error",
     "traceback": [
      "\u001b[1;31m---------------------------------------------------------------------------\u001b[0m",
      "\u001b[1;31mZeroDivisionError\u001b[0m                         Traceback (most recent call last)",
      "\u001b[1;32m<ipython-input-1-e0df1b498b82>\u001b[0m in \u001b[0;36m<module>\u001b[1;34m\u001b[0m\n\u001b[0;32m      1\u001b[0m \u001b[0mprint\u001b[0m\u001b[1;33m(\u001b[0m\u001b[1;34m\"start\"\u001b[0m\u001b[1;33m)\u001b[0m\u001b[1;33m\u001b[0m\u001b[1;33m\u001b[0m\u001b[0m\n\u001b[1;32m----> 2\u001b[1;33m \u001b[1;36m4\u001b[0m\u001b[1;33m/\u001b[0m\u001b[1;36m0\u001b[0m\u001b[1;33m\u001b[0m\u001b[1;33m\u001b[0m\u001b[0m\n\u001b[0m\u001b[0;32m      3\u001b[0m \u001b[0mprint\u001b[0m\u001b[1;33m(\u001b[0m\u001b[1;34m\"end\"\u001b[0m\u001b[1;33m)\u001b[0m\u001b[1;33m\u001b[0m\u001b[1;33m\u001b[0m\u001b[0m\n",
      "\u001b[1;31mZeroDivisionError\u001b[0m: division by zero"
     ]
    }
   ],
   "source": [
    "print(\"start\")\n",
    "4/0\n",
    "print(\"end\")"
   ]
  },
  {
   "cell_type": "code",
   "execution_count": 4,
   "metadata": {},
   "outputs": [
    {
     "name": "stdout",
     "output_type": "stream",
     "text": [
      "start\n",
      "0으로 나눌 수는 없습니다.\n",
      "end\n"
     ]
    }
   ],
   "source": [
    "print(\"start\")\n",
    "\n",
    "try:\n",
    "    4/0\n",
    "except ZeroDivisionError as e: # 대안적인 해결 방법 \n",
    "    #print(e)\n",
    "    print(\"0으로 나눌 수는 없습니다.\")\n",
    "print(\"end\")"
   ]
  },
  {
   "cell_type": "code",
   "execution_count": 6,
   "metadata": {},
   "outputs": [
    {
     "name": "stdout",
     "output_type": "stream",
     "text": [
      "종료하려면 q를 입력하세요\n",
      "\n",
      "분자를 입력하세요.=3\n",
      "\n",
      "분모를 입력하세요.=4\n",
      "3 / 4 = 0.75\n",
      "\n",
      "분자를 입력하세요.=1\n",
      "\n",
      "분모를 입력하세요.=0\n"
     ]
    },
    {
     "ename": "ZeroDivisionError",
     "evalue": "division by zero",
     "output_type": "error",
     "traceback": [
      "\u001b[1;31m---------------------------------------------------------------------------\u001b[0m",
      "\u001b[1;31mZeroDivisionError\u001b[0m                         Traceback (most recent call last)",
      "\u001b[1;32m<ipython-input-6-604e263ebe0b>\u001b[0m in \u001b[0;36m<module>\u001b[1;34m\u001b[0m\n\u001b[0;32m      7\u001b[0m     \u001b[0msu2\u001b[0m \u001b[1;33m=\u001b[0m \u001b[0minput\u001b[0m\u001b[1;33m(\u001b[0m\u001b[1;34m\"\\n분모를 입력하세요.=\"\u001b[0m\u001b[1;33m)\u001b[0m\u001b[1;33m\u001b[0m\u001b[1;33m\u001b[0m\u001b[0m\n\u001b[0;32m      8\u001b[0m \u001b[1;33m\u001b[0m\u001b[0m\n\u001b[1;32m----> 9\u001b[1;33m     \u001b[0mresult\u001b[0m \u001b[1;33m=\u001b[0m \u001b[0mint\u001b[0m\u001b[1;33m(\u001b[0m\u001b[0msu1\u001b[0m\u001b[1;33m)\u001b[0m \u001b[1;33m/\u001b[0m \u001b[0mint\u001b[0m\u001b[1;33m(\u001b[0m\u001b[0msu2\u001b[0m\u001b[1;33m)\u001b[0m\u001b[1;33m\u001b[0m\u001b[1;33m\u001b[0m\u001b[0m\n\u001b[0m\u001b[0;32m     10\u001b[0m \u001b[1;33m\u001b[0m\u001b[0m\n\u001b[0;32m     11\u001b[0m     \u001b[0mprint\u001b[0m\u001b[1;33m(\u001b[0m\u001b[1;34m\"{0} / {1} = {2}\"\u001b[0m\u001b[1;33m.\u001b[0m\u001b[0mformat\u001b[0m\u001b[1;33m(\u001b[0m\u001b[0msu1\u001b[0m\u001b[1;33m,\u001b[0m \u001b[0msu2\u001b[0m\u001b[1;33m,\u001b[0m \u001b[0mresult\u001b[0m\u001b[1;33m)\u001b[0m\u001b[1;33m,\u001b[0m \u001b[0mend\u001b[0m\u001b[1;33m=\u001b[0m\u001b[1;34m'\\n'\u001b[0m\u001b[1;33m)\u001b[0m\u001b[1;33m\u001b[0m\u001b[1;33m\u001b[0m\u001b[0m\n",
      "\u001b[1;31mZeroDivisionError\u001b[0m: division by zero"
     ]
    }
   ],
   "source": [
    "print(\"종료하려면 q를 입력하세요\")\n",
    "\n",
    "while True:\n",
    "    su1 = input(\"\\n분자를 입력하세요.=\")\n",
    "    if su1 == 'q':\n",
    "        break  # 반복 종료\n",
    "    su2 = input(\"\\n분모를 입력하세요.=\")\n",
    "          \n",
    "    result = int(su1) / int(su2)\n",
    "    \n",
    "    print(\"{0} / {1} = {2}\".format(su1, su2, result))\n",
    "\n",
    "print(\"프로그램을 종료합니다.\")"
   ]
  },
  {
   "cell_type": "code",
   "execution_count": 7,
   "metadata": {},
   "outputs": [
    {
     "name": "stdout",
     "output_type": "stream",
     "text": [
      "종료하려면 q를 입력하세요\n",
      "\n",
      "분자를 입력하세요.=3\n",
      "\n",
      "분모를 입력하세요.=4\n",
      "3 / 4 = 0.75\n",
      "\n",
      "분자를 입력하세요.=2\n",
      "\n",
      "분모를 입력하세요.=0\n",
      "분모에는 0을 입력할 수 없습니다.\n",
      "에러메세지 : division by zero\n",
      "\n",
      "분자를 입력하세요.=q\n",
      "프로그램을 종료합니다.\n"
     ]
    }
   ],
   "source": [
    "print(\"종료하려면 q를 입력하세요\")\n",
    "\n",
    "while True:\n",
    "    su1 = input(\"\\n분자를 입력하세요.=\")\n",
    "    if su1 == 'q':\n",
    "        break  # 반복 종료\n",
    "    su2 = input(\"\\n분모를 입력하세요.=\")\n",
    "          \n",
    "    try:\n",
    "        result = int(su1) / int(su2)\n",
    "        print(\"{0} / {1} = {2}\".format(su1, su2, result))\n",
    "    except Exception as e:\n",
    "        print(\"분모에는 0을 입력할 수 없습니다.\")\n",
    "        print(\"에러메세지 :\", e)    \n",
    "    \n",
    "print(\"프로그램을 종료합니다.\")"
   ]
  },
  {
   "cell_type": "code",
   "execution_count": 23,
   "metadata": {},
   "outputs": [
    {
     "name": "stdout",
     "output_type": "stream",
     "text": [
      "종료하려면 q를 입력하세요\n",
      "\n",
      "분자를 입력하세요.=3\n",
      "\n",
      "분모를 입력하세요.=4\n",
      "3 / 4 = 0.75\n",
      "\n",
      "분자를 입력하세요.=4\n",
      "\n",
      "분모를 입력하세요.=0\n",
      "분모에는 0을 입력할 수 없습니다.\n",
      "프로그램을 종료합니다.\n"
     ]
    }
   ],
   "source": [
    "# try문 없었을 때 예전에 if문으로 예외 처리\n",
    "# 에러 잡고도 계속 실행하고 싶은데 if문은 에러면 바로 프로그램 종료 -> try 생겨난 이유\n",
    "print(\"종료하려면 q를 입력하세요\")\n",
    "\n",
    "while True:\n",
    "    su1 = input(\"\\n분자를 입력하세요.=\")\n",
    "    if su1 == 'q':\n",
    "        break  # 반복 종료\n",
    "    su2 = input(\"\\n분모를 입력하세요.=\")\n",
    "          \n",
    "    if int(su2) == 0:\n",
    "        print(\"분모에는 0을 입력할 수 없습니다.\")\n",
    "        break\n",
    "    \n",
    "    else:    \n",
    "        result = int(su1) / int(su2)\n",
    "        print(\"{0} / {1} = {2}\".format(su1, su2, result))\n",
    "    \n",
    "    \n",
    "print(\"프로그램을 종료합니다.\")"
   ]
  },
  {
   "cell_type": "code",
   "execution_count": 9,
   "metadata": {},
   "outputs": [
    {
     "name": "stdout",
     "output_type": "stream",
     "text": [
      "start\n"
     ]
    },
    {
     "ename": "TypeError",
     "evalue": "unsupported operand type(s) for +: 'int' and 'str'",
     "output_type": "error",
     "traceback": [
      "\u001b[1;31m---------------------------------------------------------------------------\u001b[0m",
      "\u001b[1;31mTypeError\u001b[0m                                 Traceback (most recent call last)",
      "\u001b[1;32m<ipython-input-9-0220cb745d0b>\u001b[0m in \u001b[0;36m<module>\u001b[1;34m\u001b[0m\n\u001b[0;32m      6\u001b[0m \u001b[1;33m\u001b[0m\u001b[0m\n\u001b[0;32m      7\u001b[0m \u001b[1;31m#함수호출\u001b[0m\u001b[1;33m\u001b[0m\u001b[1;33m\u001b[0m\u001b[1;33m\u001b[0m\u001b[0m\n\u001b[1;32m----> 8\u001b[1;33m \u001b[0mexcept_test\u001b[0m\u001b[1;33m(\u001b[0m\u001b[1;33m)\u001b[0m\u001b[1;33m\u001b[0m\u001b[1;33m\u001b[0m\u001b[0m\n\u001b[0m",
      "\u001b[1;32m<ipython-input-9-0220cb745d0b>\u001b[0m in \u001b[0;36mexcept_test\u001b[1;34m()\u001b[0m\n\u001b[0;32m      2\u001b[0m \u001b[1;32mdef\u001b[0m \u001b[0mexcept_test\u001b[0m\u001b[1;33m(\u001b[0m\u001b[1;33m)\u001b[0m\u001b[1;33m:\u001b[0m\u001b[1;33m\u001b[0m\u001b[1;33m\u001b[0m\u001b[0m\n\u001b[0;32m      3\u001b[0m     \u001b[0mprint\u001b[0m\u001b[1;33m(\u001b[0m\u001b[1;34m\"start\"\u001b[0m\u001b[1;33m)\u001b[0m\u001b[1;33m\u001b[0m\u001b[1;33m\u001b[0m\u001b[0m\n\u001b[1;32m----> 4\u001b[1;33m     \u001b[0mprint\u001b[0m\u001b[1;33m(\u001b[0m\u001b[1;36m2\u001b[0m\u001b[1;33m+\u001b[0m\u001b[1;34m\"2\"\u001b[0m\u001b[1;33m)\u001b[0m   \u001b[1;31m# 자료형 에러\u001b[0m\u001b[1;33m\u001b[0m\u001b[1;33m\u001b[0m\u001b[0m\n\u001b[0m\u001b[0;32m      5\u001b[0m     \u001b[0mprint\u001b[0m\u001b[1;33m(\u001b[0m\u001b[1;34m\"end\"\u001b[0m\u001b[1;33m)\u001b[0m\u001b[1;33m\u001b[0m\u001b[1;33m\u001b[0m\u001b[0m\n\u001b[0;32m      6\u001b[0m \u001b[1;33m\u001b[0m\u001b[0m\n",
      "\u001b[1;31mTypeError\u001b[0m: unsupported operand type(s) for +: 'int' and 'str'"
     ]
    }
   ],
   "source": [
    "# 함수선언\n",
    "def except_test():\n",
    "    print(\"start\")\n",
    "    print(2+\"2\")   # 자료형 에러\n",
    "    print(\"end\")\n",
    "    \n",
    "#함수호출\n",
    "except_test()"
   ]
  },
  {
   "cell_type": "code",
   "execution_count": 12,
   "metadata": {},
   "outputs": [
    {
     "name": "stdout",
     "output_type": "stream",
     "text": [
      "start\n",
      "에러 : unsupported operand type(s) for +: 'int' and 'str'\n",
      "end\n"
     ]
    }
   ],
   "source": [
    "# 함수선언\n",
    "def except_test():\n",
    "    print(\"start\")\n",
    "    try:\n",
    "        print(2+\"2\")   # 자료형 에러\n",
    "    except TypeError as e:           # except: 이렇게 끝내도 됨\n",
    "        print(\"에러 : {0}\".format(e))\n",
    "        \n",
    "    print(\"end\")\n",
    "#함수호출\n",
    "except_test()"
   ]
  },
  {
   "cell_type": "code",
   "execution_count": 13,
   "metadata": {},
   "outputs": [
    {
     "name": "stdout",
     "output_type": "stream",
     "text": [
      "start\n",
      "end\n"
     ]
    },
    {
     "name": "stderr",
     "output_type": "stream",
     "text": [
      "Traceback (most recent call last):\n",
      "  File \"<ipython-input-13-bdf596047eae>\", line 7, in except_test\n",
      "    print(2+\"2\")   # 자료형 에러\n",
      "TypeError: unsupported operand type(s) for +: 'int' and 'str'\n"
     ]
    }
   ],
   "source": [
    "# 모듈 로딩\n",
    "import traceback\n",
    "\n",
    "def except_test():\n",
    "    print(\"start\")\n",
    "    try:\n",
    "        print(2+\"2\")   # 자료형 에러\n",
    "    except:\n",
    "        traceback.print_exc() #print_exc() - 스택 추적 메세지를 출력하는 함수\n",
    "        \n",
    "    print(\"end\")\n",
    "#함수호출\n",
    "except_test()"
   ]
  },
  {
   "cell_type": "code",
   "execution_count": 14,
   "metadata": {},
   "outputs": [
    {
     "ename": "FileNotFoundError",
     "evalue": "[Errno 2] No such file or directory: 'D:/python3/study/test2.txt'",
     "output_type": "error",
     "traceback": [
      "\u001b[1;31m---------------------------------------------------------------------------\u001b[0m",
      "\u001b[1;31mFileNotFoundError\u001b[0m                         Traceback (most recent call last)",
      "\u001b[1;32m<ipython-input-14-0e319b1dc54c>\u001b[0m in \u001b[0;36m<module>\u001b[1;34m\u001b[0m\n\u001b[0;32m      1\u001b[0m \u001b[1;31m# 파일이 존재하지 않을 때 발생하는 예외상황\u001b[0m\u001b[1;33m\u001b[0m\u001b[1;33m\u001b[0m\u001b[1;33m\u001b[0m\u001b[0m\n\u001b[1;32m----> 2\u001b[1;33m \u001b[0mf\u001b[0m \u001b[1;33m=\u001b[0m \u001b[0mopen\u001b[0m\u001b[1;33m(\u001b[0m\u001b[1;34m\"D:/python3/study/test2.txt\"\u001b[0m\u001b[1;33m,\u001b[0m \u001b[1;34m\"r\"\u001b[0m\u001b[1;33m)\u001b[0m\u001b[1;33m\u001b[0m\u001b[1;33m\u001b[0m\u001b[0m\n\u001b[0m\u001b[0;32m      3\u001b[0m \u001b[1;33m\u001b[0m\u001b[0m\n\u001b[0;32m      4\u001b[0m \u001b[1;32mwhile\u001b[0m \u001b[1;32mTrue\u001b[0m\u001b[1;33m:\u001b[0m\u001b[1;33m\u001b[0m\u001b[1;33m\u001b[0m\u001b[0m\n\u001b[0;32m      5\u001b[0m     \u001b[0mline\u001b[0m \u001b[1;33m=\u001b[0m \u001b[0mf\u001b[0m\u001b[1;33m.\u001b[0m\u001b[0mreadline\u001b[0m\u001b[1;33m(\u001b[0m\u001b[1;33m)\u001b[0m\u001b[1;33m\u001b[0m\u001b[1;33m\u001b[0m\u001b[0m\n",
      "\u001b[1;31mFileNotFoundError\u001b[0m: [Errno 2] No such file or directory: 'D:/python3/study/test2.txt'"
     ]
    }
   ],
   "source": [
    "# 파일이 존재하지 않을 때 발생하는 예외상황\n",
    "f = open(\"D:/python3/study/test2.txt\", \"r\")\n",
    "\n",
    "while True:\n",
    "    line = f.readline()\n",
    "    if not line:\n",
    "        break\n",
    "    else:\n",
    "        print(line, end = \" \")\n",
    "        \n",
    "f.close()"
   ]
  },
  {
   "cell_type": "code",
   "execution_count": 17,
   "metadata": {},
   "outputs": [
    {
     "name": "stdout",
     "output_type": "stream",
     "text": [
      "111\n",
      "222\n",
      "333\n",
      "444\n",
      "555"
     ]
    }
   ],
   "source": [
    "# 파일이 존재하지 않을 때 발생하는 예외상황\n",
    "try:\n",
    "    f = open(\"D:/python3/study/test2.txt\", \"r\")\n",
    "except FileNotFoundError as e:\n",
    "    print(e)\n",
    "\n",
    "else:  #예외 상황이 발생하지 않았을 때(정상적으로 실행되는 경우)\n",
    "    while True:\n",
    "        line = f.readline()\n",
    "        if not line:\n",
    "            break\n",
    "        else:\n",
    "            print(line, end = \"\")\n",
    "        \n",
    "    f.close()"
   ]
  },
  {
   "cell_type": "code",
   "execution_count": 19,
   "metadata": {},
   "outputs": [
    {
     "ename": "IndexError",
     "evalue": "list index out of range",
     "output_type": "error",
     "traceback": [
      "\u001b[1;31m---------------------------------------------------------------------------\u001b[0m",
      "\u001b[1;31mIndexError\u001b[0m                                Traceback (most recent call last)",
      "\u001b[1;32m<ipython-input-19-0848d6093046>\u001b[0m in \u001b[0;36m<module>\u001b[1;34m\u001b[0m\n\u001b[0;32m      3\u001b[0m \u001b[0ma\u001b[0m \u001b[1;33m=\u001b[0m \u001b[1;33m[\u001b[0m\u001b[1;36m1\u001b[0m\u001b[1;33m,\u001b[0m \u001b[1;36m2\u001b[0m\u001b[1;33m]\u001b[0m\u001b[1;33m\u001b[0m\u001b[1;33m\u001b[0m\u001b[0m\n\u001b[0;32m      4\u001b[0m \u001b[1;31m#4/0         # ZeroDivisionError\u001b[0m\u001b[1;33m\u001b[0m\u001b[1;33m\u001b[0m\u001b[1;33m\u001b[0m\u001b[0m\n\u001b[1;32m----> 5\u001b[1;33m \u001b[0mprint\u001b[0m\u001b[1;33m(\u001b[0m\u001b[0ma\u001b[0m\u001b[1;33m[\u001b[0m\u001b[1;36m2\u001b[0m\u001b[1;33m]\u001b[0m\u001b[1;33m)\u001b[0m \u001b[1;31m# 인덱스 오류\u001b[0m\u001b[1;33m\u001b[0m\u001b[1;33m\u001b[0m\u001b[0m\n\u001b[0m",
      "\u001b[1;31mIndexError\u001b[0m: list index out of range"
     ]
    }
   ],
   "source": [
    "# 다중 예외가 발생하는 상황\n",
    "\n",
    "a = [1, 2]\n",
    "4/0         # ZeroDivisionError\n",
    "print(a[2]) # 인덱스 오류 "
   ]
  },
  {
   "cell_type": "code",
   "execution_count": 22,
   "metadata": {},
   "outputs": [
    {
     "name": "stdout",
     "output_type": "stream",
     "text": [
      "0으로 나눌 수 없습니다.\n",
      "프로그램을 종료합니다.\n"
     ]
    }
   ],
   "source": [
    "try:\n",
    "    a = [1, 2]\n",
    "    4/0         \n",
    "    print(a[2])\n",
    "except ZeroDivisionError:         #except:은 어떤 오류든 다 잡는다\n",
    "    print(\"0으로 나눌 수 없습니다.\")\n",
    "except IndexError:                #다중으로 해도 됨\n",
    "    print(\"존재하지 않은 위치 입니다.\")\n",
    "except Exception:                 # 내가 모르는 에러가 뜰 수 도 있을 때 사용\n",
    "    print(\"기타 예외상황....\")\n",
    "finally:\n",
    "    print(\"프로그램을 종료합니다.\")   \n",
    "#print(\"프로그램을 종료합니다.\") # 이건만 써도 finally라고 해도 무방"
   ]
  },
  {
   "cell_type": "code",
   "execution_count": null,
   "metadata": {},
   "outputs": [],
   "source": []
  }
 ],
 "metadata": {
  "kernelspec": {
   "display_name": "Python 3",
   "language": "python",
   "name": "python3"
  },
  "language_info": {
   "codemirror_mode": {
    "name": "ipython",
    "version": 3
   },
   "file_extension": ".py",
   "mimetype": "text/x-python",
   "name": "python",
   "nbconvert_exporter": "python",
   "pygments_lexer": "ipython3",
   "version": "3.7.3"
  }
 },
 "nbformat": 4,
 "nbformat_minor": 2
}
