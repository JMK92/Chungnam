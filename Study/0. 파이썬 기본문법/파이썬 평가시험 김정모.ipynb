{
 "cells": [
  {
   "cell_type": "code",
   "execution_count": 1,
   "metadata": {},
   "outputs": [
    {
     "name": "stdout",
     "output_type": "stream",
     "text": [
      "Hello World!\n"
     ]
    }
   ],
   "source": [
    "# Q1.\n",
    "print(\"Hello World!\")"
   ]
  },
  {
   "cell_type": "code",
   "execution_count": 2,
   "metadata": {},
   "outputs": [
    {
     "name": "stdout",
     "output_type": "stream",
     "text": [
      "Mary's cosmetics\n"
     ]
    }
   ],
   "source": [
    "# Q2.\n",
    "print(\"Mary's cosmetics\")"
   ]
  },
  {
   "cell_type": "code",
   "execution_count": 3,
   "metadata": {},
   "outputs": [
    {
     "name": "stdout",
     "output_type": "stream",
     "text": [
      "원주율 값은 : 3.14\n"
     ]
    }
   ],
   "source": [
    "# Q3.\n",
    "print(\"원주율 값은 : {:.2f}\".format(3.141592))"
   ]
  },
  {
   "cell_type": "code",
   "execution_count": 85,
   "metadata": {},
   "outputs": [
    {
     "name": "stdout",
     "output_type": "stream",
     "text": [
      "3와 4의 합은 7입니다\n"
     ]
    }
   ],
   "source": [
    "# Q4.\n",
    "a = 3\n",
    "b = 4\n",
    "c = a + b\n",
    "print(\"{}와 {}의 합은 {}입니다\".format(a, b, c))"
   ]
  },
  {
   "cell_type": "code",
   "execution_count": 7,
   "metadata": {},
   "outputs": [
    {
     "name": "stdout",
     "output_type": "stream",
     "text": [
      "출력 횟수 = 3\n",
      "문자열 = hi\n",
      "hi\n",
      "hi\n",
      "hi\n"
     ]
    }
   ],
   "source": [
    "# Q5.\n",
    "num = int(input(\"출력 횟수 = \"))\n",
    "num2 = input(\"문자열 = \")\n",
    "for i in range(num):\n",
    "    print(num2)    "
   ]
  },
  {
   "cell_type": "code",
   "execution_count": 11,
   "metadata": {},
   "outputs": [
    {
     "name": "stdout",
     "output_type": "stream",
     "text": [
      "<class 'str'>\n",
      "<class 'int'>\n",
      "<class 'int'>\n",
      "<class 'str'>\n"
     ]
    }
   ],
   "source": [
    "# Q6. \n",
    "a = '2021'\n",
    "print(type(a))\n",
    "a = int(a)\n",
    "print(type(a))\n",
    "\n",
    "b = 100\n",
    "print(type(a))\n",
    "b = str(b)\n",
    "print(type(b))"
   ]
  },
  {
   "cell_type": "code",
   "execution_count": 15,
   "metadata": {},
   "outputs": [
    {
     "name": "stdout",
     "output_type": "stream",
     "text": [
      "수1 = 2\n",
      "연산자(+,-,*,/) = /\n",
      "수2 = 1\n",
      "2과 1의 합은 2.0입니다.\n"
     ]
    }
   ],
   "source": [
    "# Q7.\n",
    "num1 = int(input(\"수1 = \"))\n",
    "opp = input(\"연산자(+,-,*,/) = \")\n",
    "num2 = int(input(\"수2 = \"))\n",
    "\n",
    "if opp == '+':\n",
    "    print(\"{}과 {}의 합은 {}입니다.\".format(num1, num2, num1+num2), end = \" \")\n",
    "elif opp == '-':\n",
    "    print(\"{}과 {}의 합은 {}입니다.\".format(num1, num2, num1-num2), end = \" \")\n",
    "elif opp == '*':\n",
    "    print(\"{}과 {}의 합은 {}입니다.\".format(num1, num2, num1*num2), end = \" \")\n",
    "elif opp == '/':\n",
    "    print(\"{}과 {}의 합은 {}입니다.\".format(num1, num2, num1/num2))\n"
   ]
  },
  {
   "cell_type": "code",
   "execution_count": 17,
   "metadata": {},
   "outputs": [
    {
     "name": "stdout",
     "output_type": "stream",
     "text": [
      "밑의 숫자 = 2\n",
      "지수의 숫자 = 3\n",
      "2^3 = 8\n"
     ]
    }
   ],
   "source": [
    "# Q8.\n",
    "num1 = int(input(\"밑의 숫자 = \"))\n",
    "num2 = int(input(\"지수의 숫자 = \"))\n",
    "\n",
    "print(\"{}^{} = {}\".format(num1, num2, num1**num2))"
   ]
  },
  {
   "cell_type": "code",
   "execution_count": 20,
   "metadata": {},
   "outputs": [
    {
     "name": "stdout",
     "output_type": "stream",
     "text": [
      "hello world\n",
      "11\n"
     ]
    }
   ],
   "source": [
    "# Q9.\n",
    "a = \"hello world\"\n",
    "b = len(a)\n",
    "\n",
    "print(a)\n",
    "print(b)"
   ]
  },
  {
   "cell_type": "code",
   "execution_count": null,
   "metadata": {},
   "outputs": [],
   "source": [
    "# Q10.\n"
   ]
  },
  {
   "cell_type": "code",
   "execution_count": 23,
   "metadata": {},
   "outputs": [
    {
     "name": "stdout",
     "output_type": "stream",
     "text": [
      "NOHTYP\n"
     ]
    }
   ],
   "source": [
    "# Q11.\n",
    "a = \"PYTHON\"\n",
    "print(a[::-1])"
   ]
  },
  {
   "cell_type": "code",
   "execution_count": 25,
   "metadata": {},
   "outputs": [
    {
     "name": "stdout",
     "output_type": "stream",
     "text": [
      "Hello, Python\n"
     ]
    }
   ],
   "source": [
    "# Q12.\n",
    "first = 'Hello'\n",
    "second = 'Python'\n",
    "print(first + \",\" + \" \"+second)"
   ]
  },
  {
   "cell_type": "code",
   "execution_count": 27,
   "metadata": {},
   "outputs": [
    {
     "data": {
      "text/plain": [
       "'NAVER;KAKAO;SK;SAMSUNG'"
      ]
     },
     "execution_count": 27,
     "metadata": {},
     "output_type": "execute_result"
    }
   ],
   "source": [
    "# Q13.\n",
    "companies = ['NAVER', 'KAKAO', 'SK', 'SAMSUNG']\n",
    "\";\".join(companies)"
   ]
  },
  {
   "cell_type": "code",
   "execution_count": 18,
   "metadata": {},
   "outputs": [
    {
     "data": {
      "text/plain": [
       "'com'"
      ]
     },
     "execution_count": 18,
     "metadata": {},
     "output_type": "execute_result"
    }
   ],
   "source": [
    "# Q14.\n",
    "url = 'https://www.naver.com/edit/page/7022'\n",
    "split_1 = url.split(\".\")\n",
    "split_1[2][0:3]"
   ]
  },
  {
   "cell_type": "code",
   "execution_count": 40,
   "metadata": {},
   "outputs": [
    {
     "name": "stdout",
     "output_type": "stream",
     "text": [
      "2\n"
     ]
    }
   ],
   "source": [
    "# Q15.\n",
    "introduce = \"python is widely used high-level language. python was conceived in the late 1980s\"\n",
    "\n",
    "freq = introduce.count('python')\n",
    "print(freq)"
   ]
  },
  {
   "cell_type": "code",
   "execution_count": 41,
   "metadata": {},
   "outputs": [
    {
     "name": "stdout",
     "output_type": "stream",
     "text": [
      "9\n",
      "1\n"
     ]
    }
   ],
   "source": [
    "# Q16.\n",
    "nums = [1, 2, 3, 4, 5, 6, 7, 8, 9]\n",
    "print(max(nums))\n",
    "print(min(nums))"
   ]
  },
  {
   "cell_type": "code",
   "execution_count": 46,
   "metadata": {},
   "outputs": [
    {
     "name": "stdout",
     "output_type": "stream",
     "text": [
      "[1, 2, 3, 4, 5, 7, 8, 10]\n"
     ]
    }
   ],
   "source": [
    "# Q17.\n",
    "nums = [2, 3, 1, 7, 10, 4, 5, 8]\n",
    "nums.sort()\n",
    "print(nums)"
   ]
  },
  {
   "cell_type": "code",
   "execution_count": 48,
   "metadata": {},
   "outputs": [
    {
     "name": "stdout",
     "output_type": "stream",
     "text": [
      "10520.0\n"
     ]
    }
   ],
   "source": [
    "# Q18.\n",
    "values = [10000, 10500, 10300, 10700, 11100]\n",
    "a = sum(values)\n",
    "b = len(values)\n",
    "average = a / b\n",
    "print(average)"
   ]
  },
  {
   "cell_type": "code",
   "execution_count": 50,
   "metadata": {},
   "outputs": [
    {
     "name": "stdout",
     "output_type": "stream",
     "text": [
      "<class 'list'>\n",
      "<class 'tuple'>\n"
     ]
    }
   ],
   "source": [
    "# Q19.\n",
    "data = ['a', 'b', 'c', 'd', 'e']\n",
    "print(type(data))\n",
    "a = tuple(data)\n",
    "print(type(a))"
   ]
  },
  {
   "cell_type": "code",
   "execution_count": 51,
   "metadata": {},
   "outputs": [
    {
     "data": {
      "text/plain": [
       "(2, 4)"
      ]
     },
     "execution_count": 51,
     "metadata": {},
     "output_type": "execute_result"
    }
   ],
   "source": [
    "# Q20.\n",
    "a = 1, 2, 3, 4, 5\n",
    "a[1::2]"
   ]
  },
  {
   "cell_type": "code",
   "execution_count": 53,
   "metadata": {},
   "outputs": [
    {
     "data": {
      "text/plain": [
       "['a', 'b', 'c', 1, 2, 3]"
      ]
     },
     "execution_count": 53,
     "metadata": {},
     "output_type": "execute_result"
    }
   ],
   "source": [
    "# Q21.\n",
    "t = ['a', 'b', 'c']\n",
    "n = [1, 2, 3]\n",
    "# zip"
   ]
  },
  {
   "cell_type": "code",
   "execution_count": 54,
   "metadata": {},
   "outputs": [
    {
     "name": "stdout",
     "output_type": "stream",
     "text": [
      "{'Melona': 1000, 'Pollapo': 1200, 'Ppangpare': 1800, 'Tankboy': 1200, 'Heathunting': 1200, 'Worldcorn': 1500}\n"
     ]
    }
   ],
   "source": [
    "# Q22.\n",
    "icecream = {'Melona':1000, 'Pollapo':1200, 'Ppangpare':1800, 'Tankboy':1200, 'Heathunting':1200, 'Worldcorn': 1500}\n",
    "print(icecream)"
   ]
  },
  {
   "cell_type": "code",
   "execution_count": 59,
   "metadata": {},
   "outputs": [
    {
     "name": "stdout",
     "output_type": "stream",
     "text": [
      "제품명 Melona, 메로나 가격 =1000\n"
     ]
    }
   ],
   "source": [
    "# Q23.\n",
    "icecream = {'Melona':1000, 'Pollapo':1200, 'Ppangpare':1800, 'Tankboy':1200, 'Heathunting':1200, 'Worldcorn': 1500}\n",
    "icecream['Melona']\n",
    "\n",
    "print(\"제품명 {}, 메로나 가격 ={}\".format('Melona', icecream['Melona']))"
   ]
  },
  {
   "cell_type": "code",
   "execution_count": 62,
   "metadata": {},
   "outputs": [
    {
     "name": "stdout",
     "output_type": "stream",
     "text": [
      "바뀌기전 Worldcorn 가격은  1500\n",
      "바뀐 후 Worldcorn 가격은  2000\n"
     ]
    }
   ],
   "source": [
    "# Q24.\n",
    "icecream = {'Melona':1000, 'Pollapo':1200, 'Ppangpare':1800, 'Tankboy':1200, 'Heathunting':1200, 'Worldcorn': 1500}\n",
    "print('바뀌기전 Worldcorn 가격은 ',icecream['Worldcorn'])\n",
    "icecream['Worldcorn'] = 2000\n",
    "print('바뀐 후 Worldcorn 가격은 ', icecream['Worldcorn'])"
   ]
  },
  {
   "cell_type": "code",
   "execution_count": 21,
   "metadata": {},
   "outputs": [
    {
     "data": {
      "text/plain": [
       "1000"
      ]
     },
     "execution_count": 21,
     "metadata": {},
     "output_type": "execute_result"
    }
   ],
   "source": [
    "# Q25.\n",
    "icecream = {'Melona':1000, 'Pollapo':1200, 'Ppangpare':1800, 'Tankboy':1200, 'Heathunting':1200, 'Worldcorn': 1500}\n",
    "\n",
    "min(icecream.values())"
   ]
  },
  {
   "cell_type": "code",
   "execution_count": 66,
   "metadata": {},
   "outputs": [
    {
     "name": "stdout",
     "output_type": "stream",
     "text": [
      "even : [2, 4, 6, 8, 10]\n",
      "odd : [1, 3, 5, 7, 9]\n"
     ]
    }
   ],
   "source": [
    "# Q26.\n",
    "nums = [1, 2, 3, 4, 5, 6, 7, 8, 9, 10]\n",
    "\n",
    "even = nums[1::2]\n",
    "odd = nums[::2]\n",
    "\n",
    "print('even : {}'.format(even))\n",
    "print('odd : {}'.format(odd))"
   ]
  },
  {
   "cell_type": "code",
   "execution_count": 77,
   "metadata": {},
   "outputs": [
    {
     "ename": "TypeError",
     "evalue": "unsupported operand type(s) for %: 'list' and 'int'",
     "output_type": "error",
     "traceback": [
      "\u001b[1;31m---------------------------------------------------------------------------\u001b[0m",
      "\u001b[1;31mTypeError\u001b[0m                                 Traceback (most recent call last)",
      "\u001b[1;32m<ipython-input-77-878ba2e145a3>\u001b[0m in \u001b[0;36m<module>\u001b[1;34m\u001b[0m\n\u001b[0;32m      2\u001b[0m \u001b[0mnums\u001b[0m \u001b[1;33m=\u001b[0m \u001b[1;33m[\u001b[0m\u001b[1;36m1\u001b[0m\u001b[1;33m,\u001b[0m \u001b[1;36m2\u001b[0m\u001b[1;33m,\u001b[0m \u001b[1;36m3\u001b[0m\u001b[1;33m,\u001b[0m \u001b[1;36m4\u001b[0m\u001b[1;33m,\u001b[0m \u001b[1;36m5\u001b[0m\u001b[1;33m,\u001b[0m \u001b[1;36m6\u001b[0m\u001b[1;33m,\u001b[0m \u001b[1;36m7\u001b[0m\u001b[1;33m,\u001b[0m \u001b[1;36m8\u001b[0m\u001b[1;33m,\u001b[0m \u001b[1;36m9\u001b[0m\u001b[1;33m,\u001b[0m \u001b[1;36m10\u001b[0m\u001b[1;33m]\u001b[0m\u001b[1;33m\u001b[0m\u001b[1;33m\u001b[0m\u001b[0m\n\u001b[0;32m      3\u001b[0m \u001b[1;32mfor\u001b[0m \u001b[0mi\u001b[0m \u001b[1;32min\u001b[0m \u001b[0mnums\u001b[0m\u001b[1;33m[\u001b[0m\u001b[1;33m:\u001b[0m\u001b[1;33m]\u001b[0m\u001b[1;33m:\u001b[0m\u001b[1;33m\u001b[0m\u001b[1;33m\u001b[0m\u001b[0m\n\u001b[1;32m----> 4\u001b[1;33m     \u001b[1;32mif\u001b[0m \u001b[0mnums\u001b[0m \u001b[1;33m%\u001b[0m \u001b[1;36m2\u001b[0m \u001b[1;33m==\u001b[0m \u001b[1;36m0\u001b[0m\u001b[1;33m:\u001b[0m\u001b[1;33m\u001b[0m\u001b[1;33m\u001b[0m\u001b[0m\n\u001b[0m\u001b[0;32m      5\u001b[0m         \u001b[0mprint\u001b[0m\u001b[1;33m(\u001b[0m\u001b[0mi\u001b[0m\u001b[1;33m)\u001b[0m\u001b[1;33m\u001b[0m\u001b[1;33m\u001b[0m\u001b[0m\n",
      "\u001b[1;31mTypeError\u001b[0m: unsupported operand type(s) for %: 'list' and 'int'"
     ]
    }
   ],
   "source": [
    "# Q27.\n",
    "nums = [1, 2, 3, 4, 5, 6, 7, 8, 9, 10]\n",
    "for i in nums[:]:\n",
    "    if nums % 2 == 0:\n",
    "        print(i)"
   ]
  },
  {
   "cell_type": "code",
   "execution_count": 81,
   "metadata": {},
   "outputs": [
    {
     "name": "stdout",
     "output_type": "stream",
     "text": [
      "new_items = [1, 2, 3, 4, 6, 7]\n"
     ]
    }
   ],
   "source": [
    "# Q28.\n",
    "items = [1, 6, 2, 3, 4, 4, 6, 6, 7, 2, 7]\n",
    "a = set(items)\n",
    "b = list(a)\n",
    "print(\"new_items = {}\".format(b))"
   ]
  },
  {
   "cell_type": "code",
   "execution_count": 6,
   "metadata": {},
   "outputs": [
    {
     "name": "stdout",
     "output_type": "stream",
     "text": [
      "{'09/05': 10500, '09/06': 10300, '09/07': 10100, '09/08': 10800, '09/09': 11000}\n"
     ]
    }
   ],
   "source": [
    "# Q29. \n",
    "data = ['09/05', '09/06', '09/07', '09/08', '09/09']\n",
    "price = [10500, 10300, 10100, 10800, 11000]\n",
    "dic = dict(zip(data, price))\n",
    "print(dic)"
   ]
  },
  {
   "cell_type": "code",
   "execution_count": 87,
   "metadata": {},
   "outputs": [
    {
     "name": "stdout",
     "output_type": "stream",
     "text": [
      "수1 = 3\n",
      "수2 = 4\n",
      "수3 = 5\n",
      "3,4,5 숫자 중 가장 큰 수는 5\n"
     ]
    }
   ],
   "source": [
    "# Q30\n",
    "num1 = int(input(\"수1 = \"))\n",
    "num2 = int(input(\"수2 = \"))\n",
    "num3 = int(input(\"수3 = \"))\n",
    "\n",
    "if num1 > num2 and num1 > num3:\n",
    "    result = num1\n",
    "elif num2 > num3 and num2 > num3:\n",
    "    result = num2\n",
    "elif num3 > num2 and num3 > num1:\n",
    "    result = num3\n",
    "    \n",
    "print(\"{},{},{} 숫자 중 가장 큰 수는 {}\".format(num1, num2, num3, result))"
   ]
  },
  {
   "cell_type": "code",
   "execution_count": 5,
   "metadata": {},
   "outputs": [
    {
     "name": "stdout",
     "output_type": "stream",
     "text": [
      "수 = 1\n",
      "수 = 2\n",
      "수 = 3\n",
      "수 = 0\n",
      "6\n"
     ]
    }
   ],
   "source": [
    "# Q31.\n",
    "sum1 = 0\n",
    "while True:\n",
    "    num = int(input(\"수 = \"))\n",
    "    sum1 += num\n",
    "    \n",
    "    if num == 0:\n",
    "        break\n",
    "print(sum1)"
   ]
  },
  {
   "cell_type": "code",
   "execution_count": 23,
   "metadata": {},
   "outputs": [
    {
     "name": "stdout",
     "output_type": "stream",
     "text": [
      "수1 = 3\n",
      "연산자(+,-,*,/) = +\n",
      "수2 = 1\n",
      "3 + 1 = 4\n"
     ]
    }
   ],
   "source": [
    "# Q32.\n",
    "num1 = int(input(\"수1 = \"))\n",
    "opp = input(\"연산자(+,-,*,/) = \")\n",
    "num2 = int(input(\"수2 = \"))\n",
    "\n",
    "if opp == '+':\n",
    "    print(\"{} {} {} = {}\".format(num1, opp, num2, num1 + num2))\n",
    "elif opp == '-':\n",
    "    print(\"{} {} {} = {}\".format(num1, opp, num2, num1 - num2))\n",
    "elif opp == '*':\n",
    "    print(\"{} {} {} = {}\".format(num1, opp, num2, num1 * num2))\n",
    "elif opp == '/':\n",
    "    print(\"{} {} {} = {}\".format(num1, opp, num2, num1 / num2))\n",
    "else:\n",
    "    print(\"잘못된 연산자 입니다.\")"
   ]
  },
  {
   "cell_type": "code",
   "execution_count": 4,
   "metadata": {},
   "outputs": [
    {
     "name": "stdout",
     "output_type": "stream",
     "text": [
      "국어 = 90\n",
      "영어 = 90\n",
      "수학 = 90\n",
      "총점 : 270, 평균 : 90.0, 학점 : A\n"
     ]
    }
   ],
   "source": [
    "# Q33.\n",
    "kor = int(input(\"국어 = \"))\n",
    "eng = int(input(\"영어 = \"))\n",
    "mat = int(input(\"수학 = \"))\n",
    "\n",
    "total = kor + eng + mat\n",
    "avg = total / 3\n",
    "\n",
    "if avg >= 90:\n",
    "    result = 'A'\n",
    "elif 80 <= avg < 90:\n",
    "    result = 'B'\n",
    "elif 70 <= avg < 80:\n",
    "    result = 'C'\n",
    "elif 60 <= avg < 70:\n",
    "    result = 'D'\n",
    "else:\n",
    "    result = 'F'\n",
    "print(\"총점 : {}, 평균 : {}, 학점 : {}\".format(total, avg, result))"
   ]
  },
  {
   "cell_type": "code",
   "execution_count": 13,
   "metadata": {},
   "outputs": [
    {
     "name": "stdout",
     "output_type": "stream",
     "text": [
      "환율을 고르시오(1.dollar, 2.en, 3.euro, 4.won) : 2\n",
      "돈 = 100\n",
      "100엔의 한국돈으로 환전하면 109600입니다.\n"
     ]
    }
   ],
   "source": [
    "# Q34.\n",
    "choose = int(input(\"환율을 고르시오(1.dollar, 2.en, 3.euro, 4.won) : \"))\n",
    "num = int(input(\"돈 = \"))\n",
    "\n",
    "if choose == 1:\n",
    "    print(\"{}달러의 한국돈으로 환전하면 {}입니다.\".format(num,num * 1167))  \n",
    "elif choose == 2:\n",
    "    print(\"{}엔의 한국돈으로 환전하면 {}입니다.\".format(num,num * 1096))\n",
    "elif choose == 3:\n",
    "    print(\"{}유로의 한국돈으로 환전하면 {}입니다.\".format(num,num * 1268))  \n",
    "elif choose == 4:\n",
    "    print(\"{}원의 한국돈으로 환전하면 {}입니다.\".format(num,num * 171)) "
   ]
  },
  {
   "cell_type": "code",
   "execution_count": 20,
   "metadata": {},
   "outputs": [
    {
     "name": "stdout",
     "output_type": "stream",
     "text": [
      "=====2단=====\n",
      "2 x 1 = 2입니다.\n",
      "2 x 2 = 4입니다.\n",
      "2 x 3 = 6입니다.\n",
      "2 x 4 = 8입니다.\n",
      "2 x 5 = 10입니다.\n",
      "2 x 6 = 12입니다.\n",
      "2 x 7 = 14입니다.\n",
      "2 x 8 = 16입니다.\n",
      "2 x 9 = 18입니다.\n",
      "=====3단=====\n",
      "3 x 1 = 3입니다.\n",
      "3 x 2 = 6입니다.\n",
      "3 x 3 = 9입니다.\n",
      "3 x 4 = 12입니다.\n",
      "3 x 5 = 15입니다.\n",
      "3 x 6 = 18입니다.\n",
      "3 x 7 = 21입니다.\n",
      "3 x 8 = 24입니다.\n",
      "3 x 9 = 27입니다.\n",
      "=====4단=====\n",
      "4 x 1 = 4입니다.\n",
      "4 x 2 = 8입니다.\n",
      "4 x 3 = 12입니다.\n",
      "4 x 4 = 16입니다.\n",
      "4 x 5 = 20입니다.\n",
      "4 x 6 = 24입니다.\n",
      "4 x 7 = 28입니다.\n",
      "4 x 8 = 32입니다.\n",
      "4 x 9 = 36입니다.\n",
      "=====5단=====\n",
      "5 x 1 = 5입니다.\n",
      "5 x 2 = 10입니다.\n",
      "5 x 3 = 15입니다.\n",
      "5 x 4 = 20입니다.\n",
      "5 x 5 = 25입니다.\n",
      "5 x 6 = 30입니다.\n",
      "5 x 7 = 35입니다.\n",
      "5 x 8 = 40입니다.\n",
      "5 x 9 = 45입니다.\n",
      "=====6단=====\n",
      "6 x 1 = 6입니다.\n",
      "6 x 2 = 12입니다.\n",
      "6 x 3 = 18입니다.\n",
      "6 x 4 = 24입니다.\n",
      "6 x 5 = 30입니다.\n",
      "6 x 6 = 36입니다.\n",
      "6 x 7 = 42입니다.\n",
      "6 x 8 = 48입니다.\n",
      "6 x 9 = 54입니다.\n",
      "=====7단=====\n",
      "7 x 1 = 7입니다.\n",
      "7 x 2 = 14입니다.\n",
      "7 x 3 = 21입니다.\n",
      "7 x 4 = 28입니다.\n",
      "7 x 5 = 35입니다.\n",
      "7 x 6 = 42입니다.\n",
      "7 x 7 = 49입니다.\n",
      "7 x 8 = 56입니다.\n",
      "7 x 9 = 63입니다.\n",
      "=====8단=====\n",
      "8 x 1 = 8입니다.\n",
      "8 x 2 = 16입니다.\n",
      "8 x 3 = 24입니다.\n",
      "8 x 4 = 32입니다.\n",
      "8 x 5 = 40입니다.\n",
      "8 x 6 = 48입니다.\n",
      "8 x 7 = 56입니다.\n",
      "8 x 8 = 64입니다.\n",
      "8 x 9 = 72입니다.\n",
      "=====9단=====\n",
      "9 x 1 = 9입니다.\n",
      "9 x 2 = 18입니다.\n",
      "9 x 3 = 27입니다.\n",
      "9 x 4 = 36입니다.\n",
      "9 x 5 = 45입니다.\n",
      "9 x 6 = 54입니다.\n",
      "9 x 7 = 63입니다.\n",
      "9 x 8 = 72입니다.\n",
      "9 x 9 = 81입니다.\n"
     ]
    }
   ],
   "source": [
    "# Q35.\n",
    "for i in range(2, 10):\n",
    "    print(\"====={}단=====\".format(i))\n",
    "    for j in range(1, 10):\n",
    "        print(\"{} x {} = {}입니다.\".format(i, j, i*j))"
   ]
  },
  {
   "cell_type": "code",
   "execution_count": null,
   "metadata": {},
   "outputs": [],
   "source": []
  },
  {
   "cell_type": "code",
   "execution_count": null,
   "metadata": {},
   "outputs": [],
   "source": []
  },
  {
   "cell_type": "code",
   "execution_count": null,
   "metadata": {},
   "outputs": [],
   "source": []
  },
  {
   "cell_type": "code",
   "execution_count": 3,
   "metadata": {},
   "outputs": [
    {
     "name": "stdout",
     "output_type": "stream",
     "text": [
      "수1 = 1\n",
      "수2 = 0\n",
      "0으로는 나누지 못합니다.\n",
      "프로그램 종료합니다.\n"
     ]
    }
   ],
   "source": [
    "# Q39.\n",
    "num1 = int(input(\"수1 = \"))\n",
    "num2 = int(input(\"수2 = \"))\n",
    "\n",
    "try:\n",
    "    num1 / num2\n",
    "except ZeroDivisionError:\n",
    "    print(\"0으로는 나누지 못합니다.\")\n",
    "else:\n",
    "    print(num1 / num2)\n",
    "finally:\n",
    "    print(\"프로그램 종료합니다.\")"
   ]
  },
  {
   "cell_type": "code",
   "execution_count": null,
   "metadata": {},
   "outputs": [],
   "source": []
  }
 ],
 "metadata": {
  "kernelspec": {
   "display_name": "Python 3",
   "language": "python",
   "name": "python3"
  },
  "language_info": {
   "codemirror_mode": {
    "name": "ipython",
    "version": 3
   },
   "file_extension": ".py",
   "mimetype": "text/x-python",
   "name": "python",
   "nbconvert_exporter": "python",
   "pygments_lexer": "ipython3",
   "version": "3.7.3"
  }
 },
 "nbformat": 4,
 "nbformat_minor": 2
}
