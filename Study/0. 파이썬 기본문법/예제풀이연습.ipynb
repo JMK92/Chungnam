{
 "cells": [
  {
   "cell_type": "code",
   "execution_count": 5,
   "metadata": {},
   "outputs": [
    {
     "name": "stdout",
     "output_type": "stream",
     "text": [
      "1번째 학생 90점 합격 입니다.\n",
      "2번째 학생 25점 불합격 입니다.\n",
      "3번째 학생 67점 합격 입니다.\n",
      "4번째 학생 45점 불합격 입니다.\n",
      "5번째 학생 80점 합격 입니다.\n"
     ]
    }
   ],
   "source": [
    "# 5명의 점수\n",
    "points = [90, 25, 67, 45, 80]\n",
    "numbers = 0\n",
    "# 각 학생의 점수를 이용하여 합격을 판단하는 작업\n",
    "# 점수가 60점이면 \"합격\" 그렇지 않으면 '불합격'\n",
    "for point in points:\n",
    "    numbers += 1\n",
    "    if point >= 60:\n",
    "        result=\"합격\"\n",
    "    else:\n",
    "        result=\"불합격\"\n",
    "    \n",
    "    print(\"{0}번째 학생 {1}점 {2} 입니다.\".format(numbers, point, result))"
   ]
  },
  {
   "cell_type": "code",
   "execution_count": 6,
   "metadata": {},
   "outputs": [
    {
     "name": "stdout",
     "output_type": "stream",
     "text": [
      "투입금액=3000\n",
      "커피는 9잔 남은 돈은 0입니다\n"
     ]
    }
   ],
   "source": [
    "# coffee 가격은 3000원입니다.\n",
    "# 커피머신에 돈을 입력한 후 커피를 추출하는 작업물\n",
    "# 반복 수행합니다. 단, 금액이 부족하거나, 커피가\n",
    "# 부족하여 작업을 종료하도록 프로그램하시오.\n",
    "# 비효율적\n",
    "coffee = 10\n",
    "money = int(input('투입금액='))\n",
    "\n",
    "while True:\n",
    "    coffee -= 1\n",
    "    money -= 3000\n",
    "    if money < 0: break\n",
    "        \n",
    "    if coffee == 0:\n",
    "        print(\"커피가 부족합니다.\")\n",
    "        break\n",
    "        \n",
    "    print(\"커피는 {0}잔 남은 돈은 {1}입니다\".format(coffee, money))    "
   ]
  },
  {
   "cell_type": "code",
   "execution_count": 7,
   "metadata": {},
   "outputs": [
    {
     "name": "stdout",
     "output_type": "stream",
     "text": [
      "2x1=2\n",
      "2x2=4\n",
      "2x3=6\n",
      "2x4=8\n",
      "2x5=10\n",
      "2x6=12\n",
      "2x7=14\n",
      "2x8=16\n",
      "2x9=18\n",
      "3x1=3\n",
      "3x2=6\n",
      "3x3=9\n",
      "3x4=12\n",
      "3x5=15\n",
      "3x6=18\n",
      "3x7=21\n",
      "3x8=24\n",
      "3x9=27\n",
      "4x1=4\n",
      "4x2=8\n",
      "4x3=12\n",
      "4x4=16\n",
      "4x5=20\n",
      "4x6=24\n",
      "4x7=28\n",
      "4x8=32\n",
      "4x9=36\n",
      "5x1=5\n",
      "5x2=10\n",
      "5x3=15\n",
      "5x4=20\n",
      "5x5=25\n",
      "5x6=30\n",
      "5x7=35\n",
      "5x8=40\n",
      "5x9=45\n",
      "6x1=6\n",
      "6x2=12\n",
      "6x3=18\n",
      "6x4=24\n",
      "6x5=30\n",
      "6x6=36\n",
      "6x7=42\n",
      "6x8=48\n",
      "6x9=54\n",
      "7x1=7\n",
      "7x2=14\n",
      "7x3=21\n",
      "7x4=28\n",
      "7x5=35\n",
      "7x6=42\n",
      "7x7=49\n",
      "7x8=56\n",
      "7x9=63\n",
      "8x1=8\n",
      "8x2=16\n",
      "8x3=24\n",
      "8x4=32\n",
      "8x5=40\n",
      "8x6=48\n",
      "8x7=56\n",
      "8x8=64\n",
      "8x9=72\n",
      "9x1=9\n",
      "9x2=18\n",
      "9x3=27\n",
      "9x4=36\n",
      "9x5=45\n",
      "9x6=54\n",
      "9x7=63\n",
      "9x8=72\n",
      "9x9=81\n"
     ]
    }
   ],
   "source": []
  },
  {
   "cell_type": "code",
   "execution_count": 3,
   "metadata": {},
   "outputs": [
    {
     "name": "stdout",
     "output_type": "stream",
     "text": [
      "돈을 넣으시오 : 6000\n",
      "남은 잔수는 9잔 3000원 남았습니다.\n",
      "남은 잔수는 8잔 0원 남았습니다.\n"
     ]
    }
   ],
   "source": [
    "# coffee 가격은 3000원입니다.\n",
    "# 커피머신에 돈을 입력한 후 커피를 추출하는 작업물\n",
    "# 반복 수행합니다. 단, 금액이 부족하거나, 커피가\n",
    "# 부족하여 작업을 종료하도록 프로그램하시오.\n",
    "# 비효율적\n",
    "coffee = 10\n",
    "money = int(input(\"돈을 넣으시오 : \"))\n",
    "\n",
    "while True:\n",
    "    coffee -= 1\n",
    "    money -= 3000\n",
    "    if money < 0:\n",
    "        break\n",
    "        \n",
    "    if coffee == 0:\n",
    "        print('금액이 부족합니다.')\n",
    "        break\n",
    "        \n",
    "    print(\"남은 잔수는 {0}잔 {1}원 남았습니다.\".format(coffee, money))"
   ]
  },
  {
   "cell_type": "code",
   "execution_count": null,
   "metadata": {},
   "outputs": [],
   "source": [
    "# 년도를 입력받아 평년인지, 윤년인지 판단하는 프로그램\n",
    "# 단, 년도를 0이 입력되면 프로그램을 종료하시요.\n",
    "# 윤년은 4년마다 돌아오는데 100으로 나누어 떨어지는\n",
    "# 연도는 평년 하지만 400으로 나누어 떨어지는 연도는 윤년"
   ]
  },
  {
   "cell_type": "code",
   "execution_count": 9,
   "metadata": {},
   "outputs": [],
   "source": [
    "# 숫자를 입력받아 누적합을 계산하는 프로그램\n",
    "# 단, 입력받은 수가 0이면 프로그램 종료합니다.\n",
    "# 몇번 끝낼지 모르니 while문\n",
    "\n",
    "\n",
    "#누적 변수는 초기화를 주고 시작한다.\n",
    "def cal():\n",
    "    num = int(input(\"수를 쓰시오\"))\n",
    "    sum = 0\n",
    "    i = 0\n",
    "    while i < num+1:\n",
    "        sum += i\n",
    "        i += 1\n",
    "    print(sum)\n",
    "    "
   ]
  },
  {
   "cell_type": "code",
   "execution_count": 10,
   "metadata": {},
   "outputs": [
    {
     "name": "stdout",
     "output_type": "stream",
     "text": [
      "수를 쓰시오10\n",
      "55\n"
     ]
    }
   ],
   "source": [
    "cal()"
   ]
  },
  {
   "cell_type": "code",
   "execution_count": null,
   "metadata": {},
   "outputs": [],
   "source": [
    "# 각 학생의 점수를 이용하여 합격을 판단하는 작업\n",
    "# 점수가 60점이면 \"합격\" 그렇지 않으면 '불합격'"
   ]
  },
  {
   "cell_type": "code",
   "execution_count": null,
   "metadata": {},
   "outputs": [],
   "source": [
    "def hello2(name=None):\n",
    "    if name == None:\n",
    "        print('이름을 입력하시요.')\n",
    "        return  # 제어권만 main에 넘겨준다는 의미\n",
    "    print(\"Hello, \", name)    # return이 위에 잇어서 이건 실행이 안됨"
   ]
  },
  {
   "cell_type": "code",
   "execution_count": 2,
   "metadata": {},
   "outputs": [
    {
     "name": "stdout",
     "output_type": "stream",
     "text": [
      "비밀번호 쓰시오111\n",
      "비밀번호 = 123\n",
      "다시 시도 하십시오.\n",
      "비밀번호 = 345\n",
      "다시 시도 하십시오.\n",
      "비밀번호 = 567\n",
      "다시 시도 하십시오.\n",
      "비밀번호 = 324\n",
      "다시 시도 하십시오.\n",
      "비밀번호 = 111\n",
      "문이 열립니다.\n",
      "비밀번호 = 0\n",
      "프로그램 종료 합니다.\n"
     ]
    }
   ],
   "source": [
    "# 비밀번호가 일치하면 프로그램을 종료하도록 구현하시오.\n",
    "\n",
    "pas = int(input(\"비밀번호 쓰시오\"))\n",
    "\n",
    "while True:\n",
    "    num = int(input(\"비밀번호 = \"))\n",
    "    if num == pas:\n",
    "        print(\"문이 열립니다.\")\n",
    "    elif num == 0:\n",
    "        print(\"프로그램 종료 합니다.\")\n",
    "        break\n",
    "    else:\n",
    "        print(\"다시 시도 하십시오.\")        "
   ]
  },
  {
   "cell_type": "code",
   "execution_count": 6,
   "metadata": {
    "scrolled": true
   },
   "outputs": [
    {
     "name": "stdout",
     "output_type": "stream",
     "text": [
      "[1.정수합 2.사이합 3.최대값 4.계산기 5.종료]4\n",
      "수7 = 4\n",
      "+-*/ = +\n",
      "수8 = 7\n",
      "47의 연산자+의 결과는11.00000\n",
      "[1.정수합 2.사이합 3.최대값 4.계산기 5.종료]5\n",
      "프로그램을 종료합니다.\n"
     ]
    }
   ],
   "source": [
    "#<< Q1. >>\n",
    "# 다양한 기능을 수행하는 프로그램을 구현하시오.\n",
    "# 계산기, 사이합, 최댓값, 정수합을 수행하는 프로그램을 구현하시오.\n",
    "# 단, 사용할 기능을 사용자가 선택하여 수행할 수 있도록 구현하시오.\n",
    "# 프로그램은 언제든지 종료될 수 있도록 구현하시오.\n",
    "# 각 기능은 별도의 함수로 구현하시오.\n",
    "# [입출력형식]\n",
    "# [1.정수합 2.사이합 3.최댓값 4.계산기 5.종료] =\n",
    "# 정수합은 하나의 정수를 입력받아 1부터 해당 정수까지의 합\n",
    "# 사이합은 두 개의 정수를 입력받아 두 수 사이의 자연수의 합\n",
    "# 최댓값은 세 개의 정수를 입력받아 큰 수를 추출\n",
    "# 계산기는 두 개의 정수와 하나의 연산자를 입력받아 계산결과를 추출\n",
    "\n",
    "while True:\n",
    "    message = \"[1.정수합 2.사이합 3.최대값 4.계산기 5.종료]\"\n",
    "    check = input(message)\n",
    "    \n",
    "    if check == '1':\n",
    "        num1 = int(input(\"수1 =\"))\n",
    "        sum2 = 0\n",
    "        for i in range(1, num1+1):\n",
    "            sum2+=i\n",
    "            i+=1\n",
    "        print('정수의 합은 {0}입니다'.format(sum2))\n",
    "    \n",
    "    elif check == '2':\n",
    "        num2 = int(input('수2 = '))\n",
    "        num3 = int(input('수3 = '))\n",
    "        \n",
    "        if num3 > num2:\n",
    "            a, b = num2, num3\n",
    "        elif num2 > num3:\n",
    "            a, b = num3, num2\n",
    "        sum1 = 0    \n",
    "        for i in range(a, b+1):\n",
    "            sum1 += i\n",
    "            i += 1\n",
    "        print('{0}, {1} 정수의 합은 {2}입니다'.format(a, b, sum1))\n",
    "    \n",
    "    elif check == '3':\n",
    "        num4 = int(input('수4 = '))\n",
    "        num5 = int(input('수5 = '))\n",
    "        num6 = int(input('수6 = '))\n",
    "        \n",
    "        if num4 > num5 and num4 > num6:\n",
    "            result = num4\n",
    "        elif num5 > num4 and num5 > num6:\n",
    "            result = num5\n",
    "        elif num6 > num4 and num6 > num5:\n",
    "            result = num6\n",
    "        print(\"{0}, {1}, {2}에서 가장 큰수는 {3}\".format(num4,num5, num6, result))\n",
    "    \n",
    "    \n",
    "    elif check == '4':\n",
    "        num7 = int(input('수7 = '))\n",
    "        opp = input('+-*/ = ')\n",
    "        num8 = int(input('수8 = '))\n",
    "        \n",
    "        if opp == '+':\n",
    "            result = num7 + num8\n",
    "        elif opp == \"-\":\n",
    "            result = num7 - num8\n",
    "        elif opp == \"*\":\n",
    "            result = num7 * num8\n",
    "        elif opp == \"/\":\n",
    "            result = num7 / num8\n",
    "        print(\"{0}{1}의 연산자{2}의 결과는{3:.5f}\".format(num7, num8, opp, result))\n",
    "    \n",
    "    elif check == '5':\n",
    "        break\n",
    "        \n",
    "    else:\n",
    "        print(\"잘못된 방법입니다.\")\n",
    "print(\"프로그램을 종료합니다.\")"
   ]
  },
  {
   "cell_type": "code",
   "execution_count": 11,
   "metadata": {},
   "outputs": [
    {
     "name": "stdout",
     "output_type": "stream",
     "text": [
      "[2, 4, 6, 8, 10, 12, 14, 16, 18, 3, 6, 9, 12, 15, 18, 21, 24, 27, 4, 8, 12, 16, 20, 24, 28, 32, 36, 5, 10, 15, 20, 25, 30, 35, 40, 45, 6, 12, 18, 24, 30, 36, 42, 48, 54, 7, 14, 21, 28, 35, 42, 49, 56, 63, 8, 16, 24, 32, 40, 48, 56, 64, 72, 9, 18, 27, 36, 45, 54, 63, 72, 81]\n"
     ]
    }
   ],
   "source": [
    "result = [dan*num for dan in range(2, 10) for num in range(1, 10)]\n",
    "print(result)"
   ]
  },
  {
   "cell_type": "code",
   "execution_count": 11,
   "metadata": {},
   "outputs": [],
   "source": [
    "def fact2(x):\n",
    "    if x <= 0:\n",
    "        return 1\n",
    "    else:\n",
    "        return x * fact2(x-1)"
   ]
  },
  {
   "cell_type": "code",
   "execution_count": 12,
   "metadata": {},
   "outputs": [
    {
     "data": {
      "text/plain": [
       "120"
      ]
     },
     "execution_count": 12,
     "metadata": {},
     "output_type": "execute_result"
    }
   ],
   "source": [
    "fact2(5)"
   ]
  },
  {
   "cell_type": "code",
   "execution_count": 14,
   "metadata": {},
   "outputs": [
    {
     "data": {
      "text/plain": [
       "120"
      ]
     },
     "execution_count": 14,
     "metadata": {},
     "output_type": "execute_result"
    }
   ],
   "source": [
    "def fact3(x):\n",
    "    if x <= 0:\n",
    "        return 1\n",
    "    else:\n",
    "        return x * fact3(x-1)\n",
    "\n",
    "fact3(5)"
   ]
  },
  {
   "cell_type": "code",
   "execution_count": 19,
   "metadata": {},
   "outputs": [
    {
     "name": "stdout",
     "output_type": "stream",
     "text": [
      "10\n",
      "20\n",
      "500\n",
      "600\n",
      "700\n",
      "9\n",
      "30\n",
      "40\n",
      "800\n",
      "900\n",
      "1000\n"
     ]
    }
   ],
   "source": [
    "a = [[10, 20], [500, 600, 700], [9], [30, 40], [800, 900, 1000]]\n",
    "\n",
    "for i in a:\n",
    "    for j in range(len(i)):\n",
    "        print(i[j])"
   ]
  },
  {
   "cell_type": "code",
   "execution_count": 21,
   "metadata": {},
   "outputs": [
    {
     "name": "stdout",
     "output_type": "stream",
     "text": [
      "10\n",
      "20\n",
      "30\n",
      "40\n",
      "50\n",
      "60\n"
     ]
    }
   ],
   "source": [
    "a = [[10, 20], [30, 40], [50, 60]]\n",
    "\n",
    "for i in a:\n",
    "    for j in range(len(i)):\n",
    "        print(i[j])"
   ]
  },
  {
   "cell_type": "code",
   "execution_count": 23,
   "metadata": {},
   "outputs": [
    {
     "data": {
      "text/plain": [
       "120"
      ]
     },
     "execution_count": 23,
     "metadata": {},
     "output_type": "execute_result"
    }
   ],
   "source": [
    "def fact5(x):\n",
    "    if x <= 0:\n",
    "        return 1\n",
    "    else:\n",
    "        return x * fact5(x-1)\n",
    "fact5(5)"
   ]
  },
  {
   "cell_type": "code",
   "execution_count": 37,
   "metadata": {},
   "outputs": [
    {
     "name": "stdout",
     "output_type": "stream",
     "text": [
      "수학 = 70\n",
      "국어 = 70\n",
      "영어 = 70\n",
      "학점은 C\n"
     ]
    }
   ],
   "source": [
    "#<< Q10. >>\n",
    "# 성적프로그램 2단계\n",
    "# 평균을 이용하여 학점을 계산하여 출력하는 프로그램을 구현하시오.\n",
    "# 학점은 'A', 'B','C','D','F'로 표현한다.\n",
    "# 평균이 90점 이상이면 'A', 80점 이상이면 'B', 70점 이상이면 'C',\n",
    "# 60점 이상이면 'D', 그 외 'F'로 처리할 것\n",
    "\n",
    "num1 = int(input(\"수학 = \"))\n",
    "num2 = int(input(\"국어 = \"))\n",
    "num3 = int(input(\"영어 = \"))\n",
    "\n",
    "avg = ( num1 + num2 + num3 ) / 3\n",
    "\n",
    "if avg >= 90:\n",
    "    result = 'A'\n",
    "elif avg >= 80:\n",
    "    result = 'B'\n",
    "elif avg >= 70:\n",
    "    result = 'C'\n",
    "elif avg >= 60:\n",
    "    result = 'D'\n",
    "else :\n",
    "    result = 'F'\n",
    "\n",
    "print(\"학점은 {0}\".format(result))  "
   ]
  },
  {
   "cell_type": "code",
   "execution_count": null,
   "metadata": {},
   "outputs": [],
   "source": [
    "<< Q7. >>\n",
    "# 사각형이라는 객체를 클래스로 구현하시오.\n",
    "# 원이라는 객체를 클래스로 구현하시오.\n",
    "# 멤버필드는 좌표값(x, y)과 너비와 높이(width, height)를 갖도록 구현\n",
    "# 생성자 메서드와 출력을 나타내는 disp메서드를 구현하시오.\n",
    "\n",
    "# 좌표를 부모클래스로 구현하고, 사각형과 원은 자녀클래스가 되도록."
   ]
  },
  {
   "cell_type": "code",
   "execution_count": 22,
   "metadata": {},
   "outputs": [],
   "source": [
    "class Point:\n",
    "    def __init__(self, xpos=0, ypos=0):\n",
    "        self.xpos = xpos\n",
    "        self.ypos = ypos\n",
    "        \n",
    "    def disp(self):\n",
    "        print(\"xpos는 {0}, ypos는 {1} 입니다.\".format(self.xpos, self.ypos))\n",
    "        \n",
    "class Cir(Point):\n",
    "    def __init__(self, xpos=0, ypos=0, r=0):\n",
    "        Point.__init__(self, xpos, ypos)\n",
    "        self.r = r        \n",
    "        \n",
    "    def disp(self):\n",
    "        Point.disp(self)\n",
    "        print(\"반지름은 {} 입니다.\".format(self.r))\n",
    "        \n",
    "class Rect(Point):\n",
    "    def __init__(self, xpos=0, ypos=0, width=0, height=0):\n",
    "        Point.__init__(self, xpos, ypos)\n",
    "        self.width = width\n",
    "        self.height = height\n",
    "        \n",
    "    def disp(self):\n",
    "        Point.disp(self)\n",
    "        print(\"넓이은 {0}, 높이은 {1}입니다.\".format(self.width, self.height))"
   ]
  },
  {
   "cell_type": "code",
   "execution_count": 23,
   "metadata": {},
   "outputs": [
    {
     "name": "stdout",
     "output_type": "stream",
     "text": [
      "xpos는 0, ypos는 0 입니다.\n",
      "xpos는 0, ypos는 0 입니다.\n",
      "반지름은 0 입니다.\n",
      "xpos는 0, ypos는 0 입니다.\n",
      "넓이은 0, 높이은 0입니다.\n"
     ]
    }
   ],
   "source": [
    "p1 = Point()\n",
    "p1.disp()\n",
    "\n",
    "p2 = Cir()\n",
    "p2.disp()\n",
    "\n",
    "p3 = Rect()\n",
    "p3.disp()\n",
    "\n",
    "\n"
   ]
  },
  {
   "cell_type": "code",
   "execution_count": 25,
   "metadata": {},
   "outputs": [
    {
     "ename": "TypeError",
     "evalue": "'Point' object is not iterable",
     "output_type": "error",
     "traceback": [
      "\u001b[1;31m---------------------------------------------------------------------------\u001b[0m",
      "\u001b[1;31mTypeError\u001b[0m                                 Traceback (most recent call last)",
      "\u001b[1;32m<ipython-input-25-e6ac066ca560>\u001b[0m in \u001b[0;36m<module>\u001b[1;34m\u001b[0m\n\u001b[0;32m      1\u001b[0m \u001b[0ma\u001b[0m \u001b[1;33m=\u001b[0m \u001b[0mPoint\u001b[0m\u001b[1;33m(\u001b[0m\u001b[1;33m)\u001b[0m\u001b[1;33m\u001b[0m\u001b[1;33m\u001b[0m\u001b[0m\n\u001b[0;32m      2\u001b[0m \u001b[0mb\u001b[0m \u001b[1;33m=\u001b[0m \u001b[1;33m[\u001b[0m\u001b[1;33m]\u001b[0m\u001b[1;33m\u001b[0m\u001b[1;33m\u001b[0m\u001b[0m\n\u001b[1;32m----> 3\u001b[1;33m \u001b[1;32mfor\u001b[0m \u001b[0mi\u001b[0m \u001b[1;32min\u001b[0m \u001b[0ma\u001b[0m\u001b[1;33m:\u001b[0m\u001b[1;33m\u001b[0m\u001b[1;33m\u001b[0m\u001b[0m\n\u001b[0m\u001b[0;32m      4\u001b[0m     \u001b[0mprint\u001b[0m\u001b[1;33m(\u001b[0m\u001b[0mi\u001b[0m\u001b[1;33m[\u001b[0m\u001b[0ma\u001b[0m\u001b[1;33m]\u001b[0m\u001b[1;33m)\u001b[0m\u001b[1;33m\u001b[0m\u001b[1;33m\u001b[0m\u001b[0m\n",
      "\u001b[1;31mTypeError\u001b[0m: 'Point' object is not iterable"
     ]
    }
   ],
   "source": []
  },
  {
   "cell_type": "code",
   "execution_count": 27,
   "metadata": {},
   "outputs": [
    {
     "name": "stdout",
     "output_type": "stream",
     "text": [
      "[[3, 6, 9], [1, 4, 7], [2, 5, 8]]\n"
     ]
    }
   ],
   "source": [
    "numbers = [1, 2, 3, 4, 5, 6, 7, 8, 9]\n",
    "output = [[], [], []]\n",
    "\n",
    "for number in numbers:\n",
    "    output[number % 3].append(number)\n",
    "print(output)"
   ]
  },
  {
   "cell_type": "code",
   "execution_count": 59,
   "metadata": {},
   "outputs": [],
   "source": [
    "# 최고속도는 200을 초과할 수 없다.\n",
    "# 브레이크페달을 밟을 때 -10의 속도가 준다.\n",
    "# 악셀페달을 밟을 때 +10의 속도가 증가한다.\n",
    "# 연료는 악셀페달을 밟을 때 소모되며, 소모값은 5이다.\n",
    "class Car:\n",
    "\n",
    "    def __init__(self, name, speed, fuel): \n",
    "        self.name = name\n",
    "        self.speed = speed\n",
    "        self.fuel = fuel\n",
    "        #Car.count += 1\n",
    "\n",
    "    def carBreak(self):  # 브레이크 페달을 밟는 행위를 제어하는 함수\n",
    "        self.speed -= 10\n",
    "\n",
    "    def carExcel(self):  # 악셀 페달을 밟는 행위를 제어하는 함수\n",
    "        if self.fuel == 0:\n",
    "            print(\"연료가 없습니다.\")\n",
    "            return\n",
    "        self.speed += 10\n",
    "        self.fuel -= 5\n",
    "        if self.speed >= 200:\n",
    "            self.speed =200\n",
    "\n",
    "    def carState(self):  # 자동차의 상태를 표시하는 행위를 제어하는 함수\n",
    "        print(\"name = {}, speed = {}, fuel = {}\".format(self.name, self.speed, self.fuel))"
   ]
  },
  {
   "cell_type": "code",
   "execution_count": 60,
   "metadata": {
    "scrolled": true
   },
   "outputs": [
    {
     "name": "stdout",
     "output_type": "stream",
     "text": [
      "name = aaa, speed = 190, fuel = 5\n",
      "name = aaa, speed = 200, fuel = 0\n",
      "연료가 없습니다.\n",
      "name = aaa, speed = 200, fuel = 0\n",
      "연료가 없습니다.\n",
      "name = aaa, speed = 200, fuel = 0\n",
      "연료가 없습니다.\n",
      "name = aaa, speed = 200, fuel = 0\n",
      "name = aaa, speed = 190, fuel = 0\n"
     ]
    }
   ],
   "source": [
    "p1 = Car('aaa', 190, 5)\n",
    "p1.carState()\n",
    "\n",
    "p1.carExcel()\n",
    "p1.carState()\n",
    "\n",
    "p1.carExcel()\n",
    "p1.carState()\n",
    "\n",
    "p1.carExcel()\n",
    "p1.carState()\n",
    "\n",
    "p1.carExcel()\n",
    "p1.carState()\n",
    "\n",
    "p1.carBreak()\n",
    "p1.carState()"
   ]
  },
  {
   "cell_type": "code",
   "execution_count": 66,
   "metadata": {},
   "outputs": [
    {
     "name": "stdout",
     "output_type": "stream",
     "text": [
      "110\n",
      "210\n",
      "310\n"
     ]
    }
   ],
   "source": [
    "a = [100, 200, 300]\n",
    "\n",
    "for i in a:\n",
    "    print(i+10)"
   ]
  },
  {
   "cell_type": "code",
   "execution_count": 73,
   "metadata": {},
   "outputs": [
    {
     "name": "stdout",
     "output_type": "stream",
     "text": [
      "오늘의 라면은 김밥\n",
      "오늘의 라면은 라면\n",
      "오늘의 라면은 튀김\n"
     ]
    }
   ],
   "source": []
  },
  {
   "cell_type": "code",
   "execution_count": 78,
   "metadata": {},
   "outputs": [
    {
     "name": "stdout",
     "output_type": "stream",
     "text": [
      "50\n",
      "100\n",
      "30\n",
      "80\n",
      "0\n",
      "\n",
      "5\n"
     ]
    }
   ],
   "source": [
    "volatility = []\n",
    "low_prices  = [100, 200, 400, 800, 1000]\n",
    "high_prices = [150, 300, 430, 880, 1000]\n",
    "\n",
    "for i in range(len(high_prices)):\n",
    "    print(high_prices[i]- low_prices[i])\n",
    "print()\n",
    "print(len(high_prices))"
   ]
  },
  {
   "cell_type": "code",
   "execution_count": null,
   "metadata": {},
   "outputs": [],
   "source": []
  },
  {
   "cell_type": "code",
   "execution_count": null,
   "metadata": {},
   "outputs": [],
   "source": []
  },
  {
   "cell_type": "code",
   "execution_count": null,
   "metadata": {},
   "outputs": [],
   "source": []
  },
  {
   "cell_type": "code",
   "execution_count": null,
   "metadata": {},
   "outputs": [],
   "source": []
  }
 ],
 "metadata": {
  "kernelspec": {
   "display_name": "Python 3",
   "language": "python",
   "name": "python3"
  },
  "language_info": {
   "codemirror_mode": {
    "name": "ipython",
    "version": 3
   },
   "file_extension": ".py",
   "mimetype": "text/x-python",
   "name": "python",
   "nbconvert_exporter": "python",
   "pygments_lexer": "ipython3",
   "version": "3.7.3"
  }
 },
 "nbformat": 4,
 "nbformat_minor": 2
}
