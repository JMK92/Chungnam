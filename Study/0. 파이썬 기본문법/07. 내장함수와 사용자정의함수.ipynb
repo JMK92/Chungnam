{
 "cells": [
  {
   "cell_type": "code",
   "execution_count": 1,
   "metadata": {},
   "outputs": [
    {
     "data": {
      "text/plain": [
       "['In',\n",
       " 'Out',\n",
       " '_',\n",
       " '__',\n",
       " '___',\n",
       " '__builtin__',\n",
       " '__builtins__',\n",
       " '__doc__',\n",
       " '__loader__',\n",
       " '__name__',\n",
       " '__package__',\n",
       " '__spec__',\n",
       " '_dh',\n",
       " '_i',\n",
       " '_i1',\n",
       " '_ih',\n",
       " '_ii',\n",
       " '_iii',\n",
       " '_oh',\n",
       " 'exit',\n",
       " 'get_ipython',\n",
       " 'quit']"
      ]
     },
     "execution_count": 1,
     "metadata": {},
     "output_type": "execute_result"
    }
   ],
   "source": [
    "# 내장함수\n",
    "dir() # 객체의 멤버 목록(변수나 함수)"
   ]
  },
  {
   "cell_type": "code",
   "execution_count": 2,
   "metadata": {},
   "outputs": [
    {
     "name": "stdout",
     "output_type": "stream",
     "text": [
      "['__add__', '__class__', '__contains__', '__delattr__', '__delitem__', '__dir__', '__doc__', '__eq__', '__format__', '__ge__', '__getattribute__', '__getitem__', '__gt__', '__hash__', '__iadd__', '__imul__', '__init__', '__init_subclass__', '__iter__', '__le__', '__len__', '__lt__', '__mul__', '__ne__', '__new__', '__reduce__', '__reduce_ex__', '__repr__', '__reversed__', '__rmul__', '__setattr__', '__setitem__', '__sizeof__', '__str__', '__subclasshook__', 'append', 'clear', 'copy', 'count', 'extend', 'index', 'insert', 'pop', 'remove', 'reverse', 'sort']\n"
     ]
    }
   ],
   "source": [
    "print(dir([1, 2, 3])) # 리스트를 통해 할 수 있는 것, __add__-> 함수 임."
   ]
  },
  {
   "cell_type": "code",
   "execution_count": 3,
   "metadata": {},
   "outputs": [
    {
     "name": "stdout",
     "output_type": "stream",
     "text": [
      "몫 : 2, 나머지 : 1\n"
     ]
    }
   ],
   "source": [
    "a = 7\n",
    "b = 3\n",
    "c = a\n",
    "c = a // b # 정수 몫\n",
    "d = a % b  # 나머지\n",
    "\n",
    "print(\"몫 : {0}, 나머지 : {1}\".format(c, d))"
   ]
  },
  {
   "cell_type": "code",
   "execution_count": 4,
   "metadata": {},
   "outputs": [
    {
     "name": "stdout",
     "output_type": "stream",
     "text": [
      "(2, 1)\n"
     ]
    }
   ],
   "source": [
    "print(divmod(7, 3))  #divmod() -> 몫 나머지 알려주는 내장 함수"
   ]
  },
  {
   "cell_type": "code",
   "execution_count": 5,
   "metadata": {},
   "outputs": [
    {
     "name": "stdout",
     "output_type": "stream",
     "text": [
      "(6.0, 0.09999999999999998)\n"
     ]
    }
   ],
   "source": [
    "print(divmod(1.3, 0.2)) # Tuple 타입으로 반환"
   ]
  },
  {
   "cell_type": "code",
   "execution_count": 7,
   "metadata": {},
   "outputs": [
    {
     "name": "stdout",
     "output_type": "stream",
     "text": [
      "몫 : 2, 나머지 : 1\n"
     ]
    }
   ],
   "source": [
    "n1, n2 = divmod(7,3) # 언 패킹\n",
    "print(\"몫 : {0}, 나머지 : {1}\".format(n1, n2))"
   ]
  },
  {
   "cell_type": "code",
   "execution_count": 8,
   "metadata": {},
   "outputs": [
    {
     "name": "stdout",
     "output_type": "stream",
     "text": [
      "<enumerate object at 0x000001913A005318>\n",
      "[(0, 10), (1, 20), (2, 30), (3, 40), (4, 50)]\n"
     ]
    }
   ],
   "source": [
    "# 인덱스와 요소를 함께 출력하는 함수\n",
    "print(enumerate([10, 20, 30, 40, 50])) # enumerate() -> 인덱스와 요소 출력, 객체를 출력\n",
    "print(list(enumerate([10, 20, 30, 40, 50]))) # 객체를 list()로 인해 list타입으로 출력"
   ]
  },
  {
   "cell_type": "code",
   "execution_count": 9,
   "metadata": {},
   "outputs": [
    {
     "name": "stdout",
     "output_type": "stream",
     "text": [
      "0 10\n",
      "1 20\n",
      "2 30\n",
      "3 40\n",
      "4 50\n"
     ]
    }
   ],
   "source": [
    "for i, num in enumerate([10, 20, 30, 40, 50]): # i에 인덱스, num에 요소값\n",
    "    print(i, num)"
   ]
  },
  {
   "cell_type": "code",
   "execution_count": 10,
   "metadata": {},
   "outputs": [
    {
     "name": "stdout",
     "output_type": "stream",
     "text": [
      "divmod(10, 3)\n",
      "(3, 1)\n"
     ]
    }
   ],
   "source": [
    "# eval() : 문자열에 따옴표를 제거하고 실행하는 함수\n",
    "# int() : 정수형으로 형변환 해주는 함수\n",
    "# float() : 실수형으로 형변환 해주는 함수\n",
    "str = \"divmod(10, 3)\" # 문자열로 취급\n",
    "print(str)\n",
    "print(eval(str)) # eval로 인해 print(divmod(10, 3))이렇게 되니 계산이 됨"
   ]
  },
  {
   "cell_type": "code",
   "execution_count": 11,
   "metadata": {},
   "outputs": [
    {
     "name": "stdout",
     "output_type": "stream",
     "text": [
      "0xea\n"
     ]
    }
   ],
   "source": [
    "# hex() : 10진수를 16진수로 변환해서 출력\n",
    "print(hex(234)) # 0x => 밑에 상수가 16진수 입니다."
   ]
  },
  {
   "cell_type": "code",
   "execution_count": 12,
   "metadata": {},
   "outputs": [
    {
     "name": "stdout",
     "output_type": "stream",
     "text": [
      "0x2f\n"
     ]
    }
   ],
   "source": [
    "print(hex(47)) # 2F가 16진수 임, 0x -> 그 옆 상수가 16진수라고 알려주는 거임"
   ]
  },
  {
   "cell_type": "code",
   "execution_count": 16,
   "metadata": {},
   "outputs": [
    {
     "name": "stdout",
     "output_type": "stream",
     "text": [
      "140707938341664 140707938341664\n",
      "140707938341664\n"
     ]
    }
   ],
   "source": [
    "# id(객체) : 객체의 주소를 리턴시켜주는 함수\n",
    "a = 0\n",
    "print(id(0), id(a)) # 파이썬에서 상수 0~9는 특정위치에 이미 저장되어 있음\n",
    "b = a        # 깊은 복사\n",
    "print(id(b)) # 같음 주소 값"
   ]
  },
  {
   "cell_type": "code",
   "execution_count": 20,
   "metadata": {},
   "outputs": [
    {
     "name": "stdout",
     "output_type": "stream",
     "text": [
      "3\n",
      "<class 'int'>\n",
      "3\n",
      "15\n",
      "255\n"
     ]
    }
   ],
   "source": [
    "a = int('3')\n",
    "print(a)  # 3\n",
    "print(type(3)) # 자료형을 확인하는 함수\n",
    "b = int(3.4)\n",
    "print(b)\n",
    "c = int(\"1111\", 2) # -> 1111(문자열)을 2진수로 변환하라 -> 1*2^3 + 1*2^2 + 1*2^1 + 1*2^0\n",
    "print(c)\n",
    "d = int('FF', 16) # FF(문자열)를 16진수로 변환하라 -> 15*16**1 + 15*16**0\n",
    "print(d)"
   ]
  },
  {
   "cell_type": "code",
   "execution_count": 23,
   "metadata": {},
   "outputs": [
    {
     "name": "stdout",
     "output_type": "stream",
     "text": [
      "['사과', '포도', '배', '수박', '바나나']\n"
     ]
    }
   ],
   "source": [
    "# 구분자.join(객체)\n",
    "fruits = ['사과', '포도', '배', '수박', '바나나']\n",
    "print(fruit)"
   ]
  },
  {
   "cell_type": "code",
   "execution_count": 24,
   "metadata": {},
   "outputs": [
    {
     "name": "stdout",
     "output_type": "stream",
     "text": [
      "사과,포도,배,수박,바나나,\n"
     ]
    }
   ],
   "source": [
    "res = \"\"\n",
    "\n",
    "for i in fruits:\n",
    "    res += i + \",\" # res = res + \",\"    \n",
    "print(res)         #마지막에 , 붙음 이거 없애려면 if문 -> 길어짐"
   ]
  },
  {
   "cell_type": "code",
   "execution_count": 25,
   "metadata": {},
   "outputs": [
    {
     "name": "stdout",
     "output_type": "stream",
     "text": [
      "사과,포도,배,수박,바나나\n"
     ]
    }
   ],
   "source": [
    "print(\",\".join(fruits))\n"
   ]
  },
  {
   "cell_type": "code",
   "execution_count": 27,
   "metadata": {},
   "outputs": [
    {
     "name": "stdout",
     "output_type": "stream",
     "text": [
      "사과/포도/배/수박/바나나\n",
      "사과-포도-배-수박-바나나\n",
      "사과\n",
      "포도\n",
      "배\n",
      "수박\n",
      "바나나\n"
     ]
    }
   ],
   "source": [
    "print(\"/\".join(fruits))\n",
    "print(\"-\".join(fruits))\n",
    "print(\"\\n\".join(fruits))"
   ]
  },
  {
   "cell_type": "code",
   "execution_count": 30,
   "metadata": {},
   "outputs": [
    {
     "name": "stdout",
     "output_type": "stream",
     "text": [
      "6\n",
      "3\n",
      "2\n"
     ]
    }
   ],
   "source": [
    "# len() : length, 요소와 갯수(길이)\n",
    "a = len(\"python\")  # 문자열\n",
    "print(a)\n",
    "\n",
    "b = len([1, 2, 3]) # list 자료형\n",
    "print(b)\n",
    "\n",
    "c= len((1, 'a')) # tuple 자료형\n",
    "print(c)"
   ]
  },
  {
   "cell_type": "code",
   "execution_count": 32,
   "metadata": {},
   "outputs": [
    {
     "name": "stdout",
     "output_type": "stream",
     "text": [
      "['p', 'y', 't', 'h', 'o', 'n']\n",
      "[1, 2, 3]\n"
     ]
    }
   ],
   "source": [
    "# 문자열을 리스트로 변환하는 함수, list(), tuple(), set() | dic()(X) -> 딕셔너리는 인데스X\n",
    "a = list(\"python\")\n",
    "print(a)\n",
    "\n",
    "b = list((1, 2, 3)) # tuple을 list로 변환해라\n",
    "print(b)"
   ]
  },
  {
   "cell_type": "code",
   "execution_count": 33,
   "metadata": {},
   "outputs": [
    {
     "name": "stdout",
     "output_type": "stream",
     "text": [
      "[1, 2, 3]\n",
      "<class 'list'>\n",
      "[1, 2, 3, 1, 2, 3]\n"
     ]
    }
   ],
   "source": [
    "# 사용자 정의 함수 -> 사용자 편의 의해서 만든 함수.\n",
    "a = [1, 2, 3]\n",
    "print(a)\n",
    "print(type(a))\n",
    "\n",
    "print(2*a) # 리스트를 2번 반복하라 , 하지만 난 a 각 요소에 2배 곱하고 싶다.(함수 만듬)"
   ]
  },
  {
   "cell_type": "code",
   "execution_count": 36,
   "metadata": {},
   "outputs": [
    {
     "name": "stdout",
     "output_type": "stream",
     "text": [
      "[2, 4, 6, 8]\n"
     ]
    }
   ],
   "source": [
    "def calc(x):\n",
    "    return 2*x\n",
    "\n",
    "a = [calc(1), calc(2), calc(3), calc(4)]\n",
    "print(a)"
   ]
  },
  {
   "cell_type": "code",
   "execution_count": 37,
   "metadata": {},
   "outputs": [
    {
     "name": "stdout",
     "output_type": "stream",
     "text": [
      "[1, 2, 3, 4]\n"
     ]
    }
   ],
   "source": [
    "def plus(x):\n",
    "    return x+1\n",
    "\n",
    "print([plus(0), plus(1), plus(2), plus(3)]) "
   ]
  },
  {
   "cell_type": "code",
   "execution_count": 39,
   "metadata": {},
   "outputs": [
    {
     "name": "stdout",
     "output_type": "stream",
     "text": [
      "[1, 2, 3, 4, 5]\n"
     ]
    }
   ],
   "source": [
    "# 내장 함수 중 map(함수이름, 리스트객체)\n",
    "print(list(map(plus, [0, 1, 2, 3, 4]))) # map(plus, [0, 1, 2, 3, 4])-> 묶어라"
   ]
  },
  {
   "cell_type": "code",
   "execution_count": 40,
   "metadata": {},
   "outputs": [
    {
     "name": "stdout",
     "output_type": "stream",
     "text": [
      "3\n",
      "y\n"
     ]
    }
   ],
   "source": [
    "# max(), min() # 문자열을 만나면 아스키코드로 변환해서 가장 큰값, 가장작은값 반환\n",
    "a = max([1, 2, 3])\n",
    "print(a)\n",
    "\n",
    "b = max(\"pyhton\")\n",
    "print(b)"
   ]
  },
  {
   "cell_type": "code",
   "execution_count": 41,
   "metadata": {},
   "outputs": [
    {
     "name": "stdout",
     "output_type": "stream",
     "text": [
      "16\n",
      "16\n"
     ]
    }
   ],
   "source": [
    "a = pow(2, 4) # 2^4 pow(x, y) x의 y거듭제곱\n",
    "print(a)\n",
    "print(2 ** 4)"
   ]
  },
  {
   "cell_type": "code",
   "execution_count": 43,
   "metadata": {},
   "outputs": [
    {
     "name": "stdout",
     "output_type": "stream",
     "text": [
      "[0, 1, 2, 3, 4]\n",
      "[5, 6, 7, 8, 9]\n",
      "[1, 3, 5, 7, 9]\n",
      "[0, -1, -2, -3, -4, -5, -6, -7, -8, -9]\n"
     ]
    }
   ],
   "source": [
    "a = list(range(5)) # 0 ~ 4\n",
    "print(a)\n",
    "\n",
    "b = list(range(5, 10)) # 5 ~ 9\n",
    "print(b)\n",
    "\n",
    "c = list(range(1, 10, 2)) # 1 ~ 9, 2씩 증가\n",
    "print(c)\n",
    "\n",
    "d = list(range(0, -10, -1)) # 0 ~ -9, -1씩 감소\n",
    "print(d)"
   ]
  },
  {
   "cell_type": "code",
   "execution_count": 46,
   "metadata": {},
   "outputs": [
    {
     "name": "stdout",
     "output_type": "stream",
     "text": [
      "[1, 2, 3]\n",
      "[3, 1, 2]\n"
     ]
    }
   ],
   "source": [
    "items = [3, 1, 2]      # sorted() - 원본 안바뀜, sort() -> 원본 바뀜\n",
    "a = sorted(items)      # 정렬 후 결과값을 리턴 (원본 그래로다)\n",
    "print(a)\n",
    "print(items)"
   ]
  },
  {
   "cell_type": "code",
   "execution_count": 48,
   "metadata": {},
   "outputs": [
    {
     "name": "stdout",
     "output_type": "stream",
     "text": [
      "None\n",
      "[1, 2, 3]\n"
     ]
    }
   ],
   "source": [
    "items = [3, 1, 2]      # sorted() - 원본 안바뀜, sort() -> 원본 바뀜\n",
    "a = items.sort()       # 원본이 그대로고 리턴값이 없다.\n",
    "print(a)               # 없음 None\n",
    "print(items)"
   ]
  },
  {
   "cell_type": "code",
   "execution_count": null,
   "metadata": {},
   "outputs": [],
   "source": []
  }
 ],
 "metadata": {
  "kernelspec": {
   "display_name": "Python 3",
   "language": "python",
   "name": "python3"
  },
  "language_info": {
   "codemirror_mode": {
    "name": "ipython",
    "version": 3
   },
   "file_extension": ".py",
   "mimetype": "text/x-python",
   "name": "python",
   "nbconvert_exporter": "python",
   "pygments_lexer": "ipython3",
   "version": "3.7.3"
  }
 },
 "nbformat": 4,
 "nbformat_minor": 2
}
