{
 "cells": [
  {
   "cell_type": "code",
   "execution_count": 2,
   "metadata": {},
   "outputs": [
    {
     "name": "stdout",
     "output_type": "stream",
     "text": [
      "입력하세요 : 100\n",
      "입력값 :  100\n"
     ]
    }
   ],
   "source": [
    "# 표준 입축력함수 : input(), print()\n",
    "a = input(\"입력하세요 : \")           # 키보드 입력\n",
    "print(\"입력값 : \", a) # 모니터 출력"
   ]
  },
  {
   "cell_type": "code",
   "execution_count": 5,
   "metadata": {},
   "outputs": [
    {
     "name": "stdout",
     "output_type": "stream",
     "text": [
      "숫자1 : 1\n",
      "숫자2 : 2\n",
      "결과값 :  12\n",
      "숫자1 : 1\n",
      "숫자2 : 2\n",
      "결과값 :  3\n",
      "숫자1 : 1\n",
      "숫자2 : 2\n",
      "결과값 :  3\n"
     ]
    }
   ],
   "source": [
    "# 두 개의 정수를 입력받아 그 합을 계산한 후 결과를 출력하는 프로그램\n",
    "a = input(\"숫자1 : \")\n",
    "b = input(\"숫자2 : \")\n",
    "c = a+b\n",
    "print(\"결과값 : \", c) # 문자열로 간주한다.\n",
    "\n",
    "a = int(input(\"숫자1 : \"))\n",
    "b = int(input(\"숫자2 : \"))\n",
    "c = a+b\n",
    "print(\"결과값 : \", c) # int로 인해 숫자로 간주한다.\n",
    "\n",
    "a = eval(input(\"숫자1 : \"))\n",
    "b = eval(input(\"숫자2 : \"))\n",
    "c = a+b\n",
    "print(\"결과값 : \", c)  # eval로도 int를 대체 할 수 있다."
   ]
  },
  {
   "cell_type": "code",
   "execution_count": 8,
   "metadata": {},
   "outputs": [
    {
     "name": "stdout",
     "output_type": "stream",
     "text": [
      "단을 입력하세요 : 5\n",
      "5x1=5\n",
      "5x2=10\n",
      "5x3=15\n",
      "5x4=20\n",
      "5x5=25\n",
      "5x6=30\n",
      "5x7=35\n",
      "5x8=40\n",
      "5x9=45\n",
      "프로그램을 종료합니다.\n"
     ]
    }
   ],
   "source": [
    "# 구구단을 출력하는 프로그램\n",
    "# 단을 입력받아 해당 단을 계산하여 촐력시킨다.\n",
    "dan = int(input(\"단을 입력하세요 : \"))\n",
    "#print(type(dan))\n",
    "# int(문자열) : 문자열을 정수로 변환\n",
    "# eval(문자열) : 문자열을 숫자로 변환\n",
    "\n",
    "# 반복문 : for 개별변수 in 집합변수 \n",
    "# range->순차적으로 읽어와라 range(k) -> 0 ~ k-1    \n",
    "# range(1,10) 1은시작 1씩증가 10데이터 1 ~ 9\n",
    "for i in range(1,10): # 구구단 만들거라 0 필요X 1부터 시작 ':' 끝나지X 뜻\n",
    "    print('{0}x{1}={2}'.format(dan,i,dan*i)) #반복할건 for문에 있음\n",
    "    #파이썬은 들여쓰기가 중요\n",
    "print(\"프로그램을 종료합니다.\") #빠져나왔다는 뜻"
   ]
  },
  {
   "cell_type": "code",
   "execution_count": 11,
   "metadata": {},
   "outputs": [
    {
     "name": "stdout",
     "output_type": "stream",
     "text": [
      "0\n",
      "1\n",
      "2\n",
      "3\n",
      "4\n",
      "5\n",
      "6\n",
      "7\n",
      "8\n",
      "9\n"
     ]
    }
   ],
   "source": [
    "for i in range(10): # 0 ~ 9\n",
    "    print(i) # print는 기본적으로 줄바꿈을 포함"
   ]
  },
  {
   "cell_type": "code",
   "execution_count": 12,
   "metadata": {},
   "outputs": [
    {
     "name": "stdout",
     "output_type": "stream",
     "text": [
      "1\t2\t3\t4\t5\t6\t7\t8\t9\t"
     ]
    }
   ],
   "source": [
    "for i in range(1,10): #end 는 끝에 ~를 해라\n",
    "    print(i, end='\\t') # end='\\n' -> 줄바꿈(기본) , \\t-> tab키 뜻(띄어라)"
   ]
  },
  {
   "cell_type": "code",
   "execution_count": null,
   "metadata": {},
   "outputs": [],
   "source": []
  }
 ],
 "metadata": {
  "kernelspec": {
   "display_name": "Python 3",
   "language": "python",
   "name": "python3"
  },
  "language_info": {
   "codemirror_mode": {
    "name": "ipython",
    "version": 3
   },
   "file_extension": ".py",
   "mimetype": "text/x-python",
   "name": "python",
   "nbconvert_exporter": "python",
   "pygments_lexer": "ipython3",
   "version": "3.7.3"
  }
 },
 "nbformat": 4,
 "nbformat_minor": 2
}
