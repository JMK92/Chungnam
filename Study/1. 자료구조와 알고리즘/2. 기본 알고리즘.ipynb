{
 "cells": [
  {
   "cell_type": "markdown",
   "metadata": {},
   "source": [
    "### 0. 소수(Prime Number)\n",
    "- 1과 자기 자신을 제외한 자연수로 나누어 떨어지지 않는 수"
   ]
  },
  {
   "cell_type": "code",
   "execution_count": 20,
   "metadata": {},
   "outputs": [],
   "source": [
    "# 하나의 정수를 입력받아 소수이지 판단하는 프로그램을 구현하시오.\n",
    "# 내꺼\n",
    "def is_prime_number(x):\n",
    "    for i in range(2, x-1):\n",
    "        if x % i == 0:\n",
    "            print(\"소수가 아닙니다.\")\n",
    "        else:\n",
    "            print(\"소수 입니다.\")"
   ]
  },
  {
   "cell_type": "code",
   "execution_count": 21,
   "metadata": {},
   "outputs": [
    {
     "name": "stdout",
     "output_type": "stream",
     "text": [
      "소수 입니다.\n",
      "소수 입니다.\n"
     ]
    }
   ],
   "source": [
    "is_prime_number(5)"
   ]
  },
  {
   "cell_type": "code",
   "execution_count": 14,
   "metadata": {},
   "outputs": [
    {
     "name": "stdout",
     "output_type": "stream",
     "text": [
      "True\n"
     ]
    }
   ],
   "source": [
    "# 강사님\n",
    "def is_prime_number(x):\n",
    "    # 갯수 : 2부터 x-1까지의 수로 나누는 작업\n",
    "    for i in range(2, x-1):\n",
    "        if x % i == 0:\n",
    "            return False\n",
    "    return True # 소수\n",
    "print(is_prime_number(2))"
   ]
  },
  {
   "cell_type": "code",
   "execution_count": 22,
   "metadata": {},
   "outputs": [
    {
     "name": "stdout",
     "output_type": "stream",
     "text": [
      "True\n"
     ]
    }
   ],
   "source": [
    "# sqrt() : 제곱근\n",
    "import math\n",
    "\n",
    "def isprime(x):\n",
    "    for i in range(2, int(math.sqrt(x))+1):\n",
    "        if x % i == 0:\n",
    "            return False\n",
    "    return True\n",
    "\n",
    "print(isprime(2))"
   ]
  },
  {
   "cell_type": "code",
   "execution_count": 71,
   "metadata": {},
   "outputs": [
    {
     "name": "stdout",
     "output_type": "stream",
     "text": [
      "11 13 17 19 23 29 31 37 41 43 47 53 59 61 67 71 73 79 83 89 97 (2, 3, 5, 7) 100\n"
     ]
    }
   ],
   "source": [
    "# 1 ~ 100 사이의 자연수중 소수에 해당하는 수를 찾아서 출력하는 프로그램\n",
    "# 내꺼\n",
    "a = 2, 3, 5, 7\n",
    "for i in range(2, 101):\n",
    "    if i == a:\n",
    "        print(a)\n",
    "    elif (i % 2 != 0) and (i % 3 !=0) and (i % 5 !=0) and (i % 7 !=0):\n",
    "        print(i, end =\" \")                \n",
    "print(a, i)"
   ]
  },
  {
   "cell_type": "markdown",
   "metadata": {},
   "source": [
    "### 1. 에라토스테네스 체 알고리즘\n",
    "- 다수의 자연수에 대하여 소수 여부를 판별할 때 사용하는 대표적인 알고리즘\n",
    "- N보다 적거나 같은 모든 소수를 찾을 때 사용\n",
    "\n",
    "#### 동작방법\n",
    "    1. 2부터 N까지 모든 자연수를 나열\n",
    "    2. 남은 수 중에서 아직 처리하지 않은 가장 작은수를(i) 찾는다.\n",
    "    3. 남은 수 중에서 i의 배수를 모두 제거\n",
    "    4. 더 이상 반복할 수 없을 때까지 2와 3의 과정을 반복"
   ]
  },
  {
   "cell_type": "code",
   "execution_count": 73,
   "metadata": {},
   "outputs": [
    {
     "name": "stdout",
     "output_type": "stream",
     "text": [
      "2 3 5 7 11 13 17 19 23 29 31 37 41 43 47 53 59 61 67 71 73 79 83 89 97 101 103 107 109 113 127 131 137 139 149 151 157 163 167 173 179 181 191 193 197 199 211 223 227 229 233 239 241 251 257 263 269 271 277 281 283 293 307 311 313 317 331 337 347 349 353 359 367 373 379 383 389 397 401 409 419 421 431 433 439 443 449 457 461 463 467 479 487 491 499 503 509 521 523 541 547 557 563 569 571 577 587 593 599 601 607 613 617 619 631 641 643 647 653 659 661 673 677 683 691 701 709 719 727 733 739 743 751 757 761 769 773 787 797 809 811 821 823 827 829 839 853 857 859 863 877 881 883 887 907 911 919 929 937 941 947 953 967 971 977 983 991 997 "
     ]
    }
   ],
   "source": [
    "# 1 ~ 100 사이의 자연수중 소수에 해당하는 수를 찾아서 출력하는 프로그램\n",
    "import math\n",
    "\n",
    "#data = [x for x in range(100+1)]\n",
    "n = 1000 # 2 ~ 1000까지의 모든 수를 대상으로 소수 판별\n",
    "\n",
    "# 처리할 모든 데이터를 처음에 다 소수(True)로 초기화하는 작업\n",
    "array = [True for i in range(n+1)]\n",
    "\n",
    "# 에레토스테네스의 체 알고리즘 수행\n",
    "for i in range(2, int(math.sqrt(n))+1):\n",
    "    if array[i] == True: # i가 소수라면\n",
    "        # i를 제외한 i의 배수를 지우는 작업\n",
    "        j = 2\n",
    "        while i * j <= n:\n",
    "            array[i*j] = False\n",
    "            j += 1\n",
    "\n",
    "# 소수를 출력\n",
    "for i in range(2, n+1):\n",
    "    if array[i]: # array[i]가 True라면, 소수라면\n",
    "        print(i, end=\" \")"
   ]
  },
  {
   "cell_type": "code",
   "execution_count": null,
   "metadata": {},
   "outputs": [],
   "source": []
  }
 ],
 "metadata": {
  "kernelspec": {
   "display_name": "Python 3",
   "language": "python",
   "name": "python3"
  },
  "language_info": {
   "codemirror_mode": {
    "name": "ipython",
    "version": 3
   },
   "file_extension": ".py",
   "mimetype": "text/x-python",
   "name": "python",
   "nbconvert_exporter": "python",
   "pygments_lexer": "ipython3",
   "version": "3.7.3"
  }
 },
 "nbformat": 4,
 "nbformat_minor": 2
}
