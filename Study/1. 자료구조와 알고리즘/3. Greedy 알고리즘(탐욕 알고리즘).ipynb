{
 "cells": [
  {
   "cell_type": "markdown",
   "metadata": {},
   "source": [
    "#### 0. 탐욕 알고리즘\n",
    "- Greedy Algorithm 이라고 부름\n",
    "- 최적의 해에 가까운 값을 구하기 위해 사용되는 알고리즘\n",
    "- 여러 경우의 선택중에서 하나를 선택해야 하는 순간마다, 최적이라고 생각되는 경우를 선택하는 방식"
   ]
  },
  {
   "cell_type": "code",
   "execution_count": null,
   "metadata": {},
   "outputs": [],
   "source": [
    "# 동전문제\n",
    "# 지불금액 = 4720원일떄\n",
    "# 동전 : 1원, 50원, 100원, 500원\n",
    "# 동전의 수가 가장 적게 지불되는 방식을 구현하시오.\n",
    "# 동전중 가장 큰 동전부터 최대로 지불해야 하는 방식."
   ]
  },
  {
   "cell_type": "code",
   "execution_count": 4,
   "metadata": {},
   "outputs": [
    {
     "name": "stdout",
     "output_type": "stream",
     "text": [
      "[1, 50, 100, 500]\n",
      "[500, 100, 50, 1]\n"
     ]
    }
   ],
   "source": [
    "coin_list = [1, 50, 100, 500]\n",
    "print(coin_list)\n",
    "\n",
    "coin_list.sort(reverse = True)\n",
    "print(coin_list)"
   ]
  },
  {
   "cell_type": "code",
   "execution_count": 6,
   "metadata": {},
   "outputs": [],
   "source": [
    "coin_list = [500, 100, 50, 1]\n",
    "\n",
    "def min_coin(value, coin_list):\n",
    "    # 총 동전의 수를 카운팅하는 변수\n",
    "    total_coin_count = 0\n",
    "    details = list()\n",
    "    \n",
    "    coin_list.sort(reverse = True)\n",
    "    \n",
    "    for coin in coin_list:\n",
    "        coin_num = value // coin\n",
    "        total_coin_count += coin_num\n",
    "        value -= coin_num * coin # 나머지 7/4 = 1 하고 나머지 3, 나머지 값을 value에 담는 작업\n",
    "        details.append([coin, coin_num])\n",
    "    \n",
    "    return total_coin_count, details # 튜플 자료형으로 넘겨준다."
   ]
  },
  {
   "cell_type": "code",
   "execution_count": 7,
   "metadata": {},
   "outputs": [
    {
     "data": {
      "text/plain": [
       "(31, [[500, 9], [100, 2], [50, 0], [1, 20]])"
      ]
     },
     "execution_count": 7,
     "metadata": {},
     "output_type": "execute_result"
    }
   ],
   "source": [
    "min_coin(4720, [500, 100, 50, 1])"
   ]
  },
  {
   "cell_type": "markdown",
   "metadata": {},
   "source": [
    "### 1. 부분 배낭 문제(Fractional Knapsack Problem)\n",
    "- 무게 제한이 k인 배낭에 최대 가치를 가지도록 물건을 넣는 문제\n",
    "- 각 물건은 무게(w)와 가치(v)로 표현\n",
    "- 물건은 쪼갤 수 있으므로 물건의 일부분이 배낭에 넣어질 수 있다.\n",
    "- Fractional Knapsack Problem와 반대되는 개념 0/1 Knapsack Problem라 부른다."
   ]
  },
  {
   "cell_type": "code",
   "execution_count": 18,
   "metadata": {},
   "outputs": [],
   "source": [
    "# 데이터 : 물건5개, 무게와 가치\n",
    "data_list = [(10, 10), (15, 12), (20, 10), (25, 8), (30, 5)]\n",
    "\n",
    "# 무게 30kg, 가장 가치가 높은 물건을 담아서 처리하도록 구현.\n",
    "# 출력 : 물건전체의 무게와 각 물건이 배낭에 담겨진 개수\n",
    "\n",
    "# (가치) 기준 정렬 먼저 하기.\n",
    "\n",
    "def get_max_value(data_list, capacity): # capacity 용량\n",
    "    # 가치에 따른 정렬을 수행.         출력값             내림 차순으로       \n",
    "    data_list = sorted(data_list, key=lambda x:x[1]/x[0], reverse=True) #x의 가치를 x의무게로 나눈다.\n",
    "    print(data_list)\n",
    "    \n",
    "    # 최대가치를 담기위한 변수\n",
    "    total_value = 0 # 누적변수\n",
    "    details = list()\n",
    "    \n",
    "    # 최대수용할 수 있는 무게를 기준으로 정렬된 물건들을 채우는 작업을 반복\n",
    "    for data in data_list:\n",
    "        if capacity - data[0] >= 0: # 적어도 1이라는 의미\n",
    "            capacity -= data[0]  \n",
    "            total_value += data[1]\n",
    "            details.append([data[0], data[1], 1])\n",
    "        else: # 담지 못한다면\n",
    "            # 쪼개서 담아내는 작업\n",
    "            fraction = capacity / data[0]\n",
    "            total_value += data[1] * fraction\n",
    "            details.append([data[0], data[1], fraction])\n",
    "            break\n",
    "            \n",
    "    return total_value, details"
   ]
  },
  {
   "cell_type": "code",
   "execution_count": 19,
   "metadata": {},
   "outputs": [
    {
     "name": "stdout",
     "output_type": "stream",
     "text": [
      "[(10, 10), (15, 12), (20, 10), (25, 8), (30, 5)]\n"
     ]
    },
    {
     "data": {
      "text/plain": [
       "(24.5, [[10, 10, 1], [15, 12, 1], [20, 10, 0.25]])"
      ]
     },
     "execution_count": 19,
     "metadata": {},
     "output_type": "execute_result"
    }
   ],
   "source": [
    "get_max_value(data_list, 30)"
   ]
  },
  {
   "cell_type": "code",
   "execution_count": null,
   "metadata": {},
   "outputs": [],
   "source": [
    "# 화페매수 구하기\n",
    "# 출장비를 입력받아 화페매수를 구하는 프로그램을 기술하시오.\n",
    "# 단, 화폐는 50000, 10000, 5000, 1000, 500, 100, 50, 10\n",
    "\n",
    "num = int(input(\"출장비 : \"))\n",
    "\n",
    "money_list = [50000, 10000, 5000, 1000, 500, 100, 50, 10]\n",
    "\n",
    "sum1 = 0\n",
    "reamain =0\n",
    "\n",
    "while num == 0:\n",
    "    if money_list[0] !=0:\n",
    "        num -= num // money_list[0]\n",
    "        remain += num % money_list[0]\n",
    "    elif money_list[0] ==0:\n",
    "        \n",
    "        \n"
   ]
  },
  {
   "cell_type": "code",
   "execution_count": null,
   "metadata": {},
   "outputs": [],
   "source": []
  }
 ],
 "metadata": {
  "kernelspec": {
   "display_name": "Python 3",
   "language": "python",
   "name": "python3"
  },
  "language_info": {
   "codemirror_mode": {
    "name": "ipython",
    "version": 3
   },
   "file_extension": ".py",
   "mimetype": "text/x-python",
   "name": "python",
   "nbconvert_exporter": "python",
   "pygments_lexer": "ipython3",
   "version": "3.7.3"
  }
 },
 "nbformat": 4,
 "nbformat_minor": 2
}
