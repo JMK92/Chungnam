{
 "cells": [
  {
   "cell_type": "markdown",
   "metadata": {},
   "source": [
    "#### 0. 깊이 우선 탐색(Depth-First-Search)\n",
    "- BFS : 너비우선탐색, 정점들과 같은 레벨(형제 노드)에 있는 노드를 먼저 탐색\n",
    "- 한 단계씩 내려가면서, 해당 노드와 같은 레벨에 있는 노드를 탐색\n",
    "- A => B => C => D => G => H => I => E => F => J\n",
    "- DFS : 깊이우선탐색, 정점들의 자식들을 먼저 탐색\n",
    "- 한 노드의 자식을 타고 끝까지 탐색한 후 다시 돌아와서 다른 형제 탐색\n",
    "- A => B => D => E => F => C => G => H => I => J"
   ]
  },
  {
   "cell_type": "code",
   "execution_count": 1,
   "metadata": {},
   "outputs": [],
   "source": [
    "# 파이썬으로 그래프 표현하는 방법\n",
    "# 딕셔너리와 리스트를 활용\n",
    "graph = dict()\n",
    "\n",
    "graph['A'] = ['B', 'C'] # 'A'노드와 인접한 노드를 작성\n",
    "graph['B'] = ['A', 'D']\n",
    "graph['C'] = ['A', 'G', 'H', 'I']\n",
    "graph['D'] = ['B', 'E', 'F']\n",
    "graph['E'] = ['D']\n",
    "graph['F'] = ['D']\n",
    "graph['G'] = ['C']\n",
    "graph['H'] = ['C']\n",
    "graph['I'] = ['C', 'J']\n",
    "graph['J'] = ['I']"
   ]
  },
  {
   "cell_type": "code",
   "execution_count": 2,
   "metadata": {},
   "outputs": [
    {
     "data": {
      "text/plain": [
       "{'A': ['B', 'C'],\n",
       " 'B': ['A', 'D'],\n",
       " 'C': ['A', 'G', 'H', 'I'],\n",
       " 'D': ['B', 'E', 'F'],\n",
       " 'E': ['D'],\n",
       " 'F': ['D'],\n",
       " 'G': ['C'],\n",
       " 'H': ['C'],\n",
       " 'I': ['C', 'J'],\n",
       " 'J': ['I']}"
      ]
     },
     "execution_count": 2,
     "metadata": {},
     "output_type": "execute_result"
    }
   ],
   "source": [
    "graph"
   ]
  },
  {
   "cell_type": "markdown",
   "metadata": {},
   "source": [
    "#### 1. DFS(Depth-First-Search)\n",
    "- DFS는 깊이 우선 탐색이라 부른다.\n",
    "- 스택 자료구조(or 재귀함수)와 큐를 이용한다.\n",
    "- 한 노드의 자식을 타고 끝까지 탐색한 후 다시 돌아와서 다른 형제 탐색\n",
    "- A => B => D => E => F => C => G => H => I => J \n",
    "\n",
    "##### DFS 탐색방법\n",
    "- 탐색 시작노드를 스택에 삽입하고 방문 처리한다.\n",
    "- 스택의 최상단 노드에 방문하지 않은 인접한 노드가 하나라도 있다면 그노드를 스택에 넣고 방문처리한다. 방문하지 않은 인접 노드가 없으면 최상단 노드를 꺼낸다.\n",
    "- 더이상 2번의 과정을 수행할 수 없을 때까지 반복수행한다."
   ]
  },
  {
   "cell_type": "code",
   "execution_count": 23,
   "metadata": {},
   "outputs": [],
   "source": [
    "def dfs(graph, start_node):\n",
    "    # 방문한 노드와 아직 방문하지 않은 노드를 담을 공간\n",
    "    visited, need_visit = list(), list() # 비어 있음.\n",
    "    need_visit.append(start_node) # A 넣었다\n",
    "          \n",
    "    while need_visit:           # pop은 Stack 구조와 동일하게 LIFO\n",
    "        node = need_visit.pop() # A 끄낸다 => 중복 방문 피하기위해\n",
    "        if node not in visited: # visited에 표시 없다면 \n",
    "            visited.append(node) # A 넣기\n",
    "            #             pop 함수를 사용하여 B가 아닌 C가 된다.\n",
    "            need_visit.extend(reversed(graph[node])) # append와 동일, 뒤에 추가, \n",
    "                        # 여러개 넣을 수O, 다양한 자료형 넣을 수O \n",
    "            \n",
    "    \n",
    "    return visited"
   ]
  },
  {
   "cell_type": "code",
   "execution_count": 24,
   "metadata": {},
   "outputs": [
    {
     "data": {
      "text/plain": [
       "['A', 'B', 'D', 'E', 'F', 'C', 'G', 'H', 'I', 'J']"
      ]
     },
     "execution_count": 24,
     "metadata": {},
     "output_type": "execute_result"
    }
   ],
   "source": [
    "dfs(graph, 'A')"
   ]
  },
  {
   "cell_type": "code",
   "execution_count": 19,
   "metadata": {},
   "outputs": [],
   "source": [
    "def bfs(graph, start_node):\n",
    "    # 방문한 노드와 아직 방문하지 않은 노드를 담을 공간\n",
    "    visited, need_visit = list(), list() # 비어 있음.\n",
    "    need_visit.append(start_node) # A 넣었다\n",
    "          \n",
    "    while need_visit:           # pop은 Stack 구조와 동일하게 LIFO\n",
    "        node = need_visit.pop(0) # pop()-> LIFO, pop(0) ->FIFO\n",
    "        if node not in visited: # visited에 표시 없다면 \n",
    "            visited.append(node) # A 넣기\n",
    "            #             pop 함수를 사용하여 B가 아닌 C가 된다.\n",
    "            need_visit.extend(graph[node]) # append와 동일, 뒤에 추가, \n",
    "                        # 여러개 넣을 수O, 다양한 자료형 넣을 수O \n",
    "    return visited"
   ]
  },
  {
   "cell_type": "code",
   "execution_count": 20,
   "metadata": {},
   "outputs": [
    {
     "data": {
      "text/plain": [
       "['A', 'B', 'C', 'D', 'G', 'H', 'I', 'E', 'F', 'J']"
      ]
     },
     "execution_count": 20,
     "metadata": {},
     "output_type": "execute_result"
    }
   ],
   "source": [
    "bfs(graph, 'A')"
   ]
  },
  {
   "cell_type": "markdown",
   "metadata": {},
   "source": [
    "### 2. 최단경로 알고리즘\n",
    "- 최단경로는 두 노드를 잇는 가장 짧은 경로를 찾는 알고리즘\n",
    "- 그래프에서 간선의 가중치 합이 최소가 되도록 하는 경로를 찾는 것이 목적이다.\n",
    "- 다익스트라 알고리즘 로직을 일반적으로 사용한다.\n",
    "\n",
    "#### 다익스트라 알고리즘 : 하나의 정점에서 다른 모든 정점 간의 각각 짧은 거리를 구하는 알고리즘\n",
    "\n",
    "#### 우선순위 큐를 활용한 다익스트라 알고리즘\n",
    "- 우선순위 큐는 현재 가장 짧은 거리를 가진 노드 정보를 먼저 꺼낸다.\n",
    "- step1. 첫 정점을 기준으로 배열(리스트)을 선언하고 첫 정점에서 각 정점에 가중치를 저장, \n",
    "        첫 정점 : 0, 나머지는 무한대(inf).<-이건 float 타입\n",
    "        우선순위 큐에 첫정점만 먼저 넣는다.\n",
    "- step2. 우선순위 큐의 노드를 꺼낸다 -> 첫 정점을 꺼낸다\n",
    "        첫 정점에 인접한 노드에 대해 첫 정점에서 각 노드로 가는 거리와 현재 배열(리스트)에 \n",
    "        저장되어 있는 첫 정점에서 해당 노드로 가는 거리가 더 짧을 경우, 배열에 해당 노드의 거리를 갱신.\n",
    "        배열에 해당 노드의 거리가 업데이트된 경우, 우선순위 큐에 넣는다.\n",
    "- step3. step2를 반복해서 우선순위 큐에 꺼낼 노드가 없을 경우, 프로그램 종료."
   ]
  },
  {
   "cell_type": "code",
   "execution_count": 26,
   "metadata": {},
   "outputs": [
    {
     "name": "stdout",
     "output_type": "stream",
     "text": [
      "[[1, 'C'], [7, 'B'], [3, 'A'], [10, 'D']]\n",
      "[1, 'C']\n",
      "[3, 'A']\n",
      "[7, 'B']\n",
      "[10, 'D']\n"
     ]
    }
   ],
   "source": [
    "# 우선순위 큐 구현\n",
    "import heapq\n",
    "\n",
    "queue = []\n",
    "\n",
    "heapq.heappush(queue, [3, 'A'])\n",
    "heapq.heappush(queue, [7, 'B'])\n",
    "heapq.heappush(queue, [1, 'C'])\n",
    "heapq.heappush(queue, [10, 'D'])\n",
    "\n",
    "print(queue) # 우선 순위 큐에 저장된 data 보여주는 것\n",
    "\n",
    "for _ in range(len(queue)):\n",
    "    print(heapq.heappop(queue))"
   ]
  },
  {
   "cell_type": "code",
   "execution_count": 53,
   "metadata": {},
   "outputs": [],
   "source": [
    "# 탐색할 그래프의 시작 정점과 다른 정점들간의 거리 구하기\n",
    "mygraph = {\n",
    "    'A':{'B':8, 'C':1, \"D\":2},\n",
    "    'B':{},\n",
    "    'C':{'B':5, 'D':2},\n",
    "    'D':{'E':3, 'F':5},\n",
    "    'E':{'F':1},\n",
    "    'F':{}\n",
    "}"
   ]
  },
  {
   "cell_type": "code",
   "execution_count": 38,
   "metadata": {},
   "outputs": [],
   "source": [
    "import heapq # 우선순위 큐를 사용하기 위한 모듈 로딩\n",
    "\n",
    "def dijkatra(graph, first): # 탐색그래프값과 첫정점\n",
    "    # 거리값을 초기화(inf)하는 작업\n",
    "    distance = {node:float(\"inf\") for node in graph} #키값을 읽어옴\n",
    "    \n",
    "    # 첫정점의 거리값은 0으로 초기화한다.\n",
    "    distance[first] = 0\n",
    "    \n",
    "    # 우선순위 큐를 정의\n",
    "    queue = []\n",
    "    # 우선순위 큐에 첫 정점의 값을 넣어준다\n",
    "    heapq.heappush(queue, [distance[first], first]) # 거리 : 값\n",
    "    \n",
    "    # queue에 데이터가 없을 때 까지 반복\n",
    "    while queue:\n",
    "        # 첫 정점에 값을 꺼낸다.\n",
    "        current_distance, current_node = heapq.heappop(queue)\n",
    "        \n",
    "        # 우선순위 큐의 값이 더 클 경우 반복처리 할 필요 없음\n",
    "        if distance[current_node] < current_distance:\n",
    "            continue\n",
    "            \n",
    "        for adjacent, weight in graph[current_node].items():\n",
    "            total_distance = current_distance + weight\n",
    "            \n",
    "            if total_distance < distance[adjacent]:\n",
    "                distance[adjacent] = total_distance\n",
    "                heapq.heappush(queue, [total_distance, adjacent])\n",
    "    \n",
    "    return distance"
   ]
  },
  {
   "cell_type": "code",
   "execution_count": 39,
   "metadata": {},
   "outputs": [
    {
     "data": {
      "text/plain": [
       "{'A': 0, 'B': 6, 'C': 1, 'D': 2, 'E': 5, 'F': 6}"
      ]
     },
     "execution_count": 39,
     "metadata": {},
     "output_type": "execute_result"
    }
   ],
   "source": [
    "dijkatra(mygraph, 'A') # 각 정점의 최단 거리"
   ]
  },
  {
   "cell_type": "code",
   "execution_count": 54,
   "metadata": {},
   "outputs": [],
   "source": [
    "# 시작정점과 마지막정점을 이용해서 최단거리를 찾아 출력하는 프로그램\n",
    "# 최단경로를 출력\n",
    "import heapq # 우선순위 큐를 사용하기 위한 모듈 로딩\n",
    "\n",
    "def dijkatra(graph, start, end): # 탐색그래프값과 시작점과 마지막점\n",
    "    # 시작정점에서 각 정점까지의 거리를 초기화 작업, 딕션으로 만들어 다 무한으로 준다.\n",
    "    distance = {node:[float(\"inf\"), start] for node in graph} #키값을 읽어옴\n",
    "    \n",
    "    # 시작정점의 거리를 0으로 초기화 작업.\n",
    "    distance[start] = [0, start] \n",
    "    \n",
    "    # 모든 정점이 저장될 큐를 생성\n",
    "    queue = []\n",
    "    \n",
    "    # 시작정점과 시작정점의 거리 우선순위 큐에 담는 작업\n",
    "    heapq.heappush(queue, [distance[start][0], start]) # 거리 : 값\n",
    "    \n",
    "    # queue에 데이터가 없을 때 까지 반복\n",
    "    while queue:\n",
    "        # 큐에서 정점을 하나씩 꺼내서 인접한 정점들의 거리를 확인.\n",
    "        current_distance, current_node = heapq.heappop(queue)\n",
    "        \n",
    "        # 더 짧은 거리가 큐에 존재한다면 무시\n",
    "        if distance[current_node][0] < current_distance:\n",
    "            continue\n",
    "            \n",
    "        for adjacent, weight in graph[current_node].items():\n",
    "            total_distance = current_distance + weight\n",
    "            \n",
    "            # 만약에 시작정점에서 인접정점으로 가는 것보다\n",
    "            # 현재 정점을 거쳐가는 것이 가까울 경우\n",
    "            if total_distance < distance[adjacent][0]:\n",
    "                # 거리를 갱신하는 작업\n",
    "                distance[adjacent] = [total_distance, current_node]\n",
    "                heapq.heappush(queue, [total_distance, adjacent])\n",
    "    \n",
    "    \n",
    "    # 마지막노드부터 첫 번째 노드까지 순서대로 출력하는 작업\n",
    "    path = end\n",
    "    \n",
    "    output = end + \" => \"\n",
    "    while distance[path][1] != start:\n",
    "        output += distance[path][1] + \" => \"\n",
    "        path = distance[path][1]\n",
    "        \n",
    "    output += start\n",
    "    print(output)\n",
    "    return distance"
   ]
  },
  {
   "cell_type": "code",
   "execution_count": 55,
   "metadata": {},
   "outputs": [
    {
     "name": "stdout",
     "output_type": "stream",
     "text": [
      "F => E => D => A\n"
     ]
    },
    {
     "data": {
      "text/plain": [
       "{'A': [0, 'A'],\n",
       " 'B': [6, 'C'],\n",
       " 'C': [1, 'A'],\n",
       " 'D': [2, 'A'],\n",
       " 'E': [5, 'D'],\n",
       " 'F': [6, 'E']}"
      ]
     },
     "execution_count": 55,
     "metadata": {},
     "output_type": "execute_result"
    }
   ],
   "source": [
    "dijkatra(mygraph, 'A', 'F')"
   ]
  },
  {
   "cell_type": "markdown",
   "metadata": {},
   "source": [
    "### 3. 최소 신장 트리(Kruskal Algorithm)\n",
    "- Spanning Tree : 신장트리\n",
    "- 그래프처럼 모든 노드가 연결되어 있으면서 트리의 속성을 만족\n",
    "- 신장 트리의 조건 : 모든 노드를 포함, 모든 노드가 서로 연결, 사이클이 존재하지 않는다.\n",
    "- 최소 신장 트리 : MST, 간선의 가중치의 합이 최소인거\n",
    "- 대표적인 최소 신장 알고리즘은 크루스칼 알고리즘이다.\n",
    "\n",
    "#### 크루스칼 알고리즘(Kruskal's Algorithm)\n",
    "- 모든 정점을 독립적인 집합으로 만든다.\n",
    "- 모든 간선을 비용(가중치) 기준으로 정렬하고, 비용이 작은 간선부터 양 끝의 두정점을 비교한다.\n",
    "- 두 정점의 최상위 정점을 확인하고, 서로 다른 경우 두 정점을 연결한다.\n",
    "- 탐욕 알고리즘을 기초로 한다."
   ]
  },
  {
   "cell_type": "code",
   "execution_count": null,
   "metadata": {},
   "outputs": [],
   "source": [
    "# ssabi.tistory.com/60"
   ]
  },
  {
   "cell_type": "code",
   "execution_count": null,
   "metadata": {},
   "outputs": [],
   "source": [
    "# 최소 신장 트리를 이용해 계산한 그래프\n",
    "mygraph = {\n",
    "    # 노드를 리스트로 담는다.\n",
    "    'v':['A', 'B', 'C', 'D', 'E', 'F', 'G'],\n",
    "    # 간선을 리스트로(가중치, 각끝점)\n",
    "    'e':[(7, 'A', 'B'), (5, 'A', 'D'), (7, 'B', 'A'), (8, 'B', 'C'), (9, 'B', 'D')\n",
    "        (7, 'B', 'E'), (8, 'C', 'B'), (5, 'C', \"E\"), (5, 'D', 'A'), (9, 'D', 'B')\n",
    "        (7, 'D', 'E'), (6, 'D', 'F'), (7, 'E', 'B'), (5, 'E', 'C'), (7, 'E', 'D')\n",
    "        (8, 'E', 'F'), (9, \"E\", 'G'), (6, 'F', 'D'), (8, 'F', 'E'), (11, 'F', 'G')\n",
    "        (9, 'G', 'E'), (11, 'G', 'F')]\n",
    "}"
   ]
  }
 ],
 "metadata": {
  "kernelspec": {
   "display_name": "Python 3",
   "language": "python",
   "name": "python3"
  },
  "language_info": {
   "codemirror_mode": {
    "name": "ipython",
    "version": 3
   },
   "file_extension": ".py",
   "mimetype": "text/x-python",
   "name": "python",
   "nbconvert_exporter": "python",
   "pygments_lexer": "ipython3",
   "version": "3.7.3"
  }
 },
 "nbformat": 4,
 "nbformat_minor": 2
}
