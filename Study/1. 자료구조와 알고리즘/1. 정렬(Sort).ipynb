{
 "cells": [
  {
   "cell_type": "markdown",
   "metadata": {},
   "source": [
    "### 0. 정렬(Sorting)\n",
    "- 어떤 데이터가 주어졌을 때 이름 순서대로 나열하는 것\n",
    "- 정렬은 프로그램 작성시 빈번하게 사용됨\n",
    "- 다양한 알고리즘이 고민되었으며, 알고리즘 학습에 필수"
   ]
  },
  {
   "cell_type": "markdown",
   "metadata": {},
   "source": [
    "### 1. 선택정렬(Selection Sort)\n",
    "- 하나의 키값을 선택한 후 나머지 값들과 순차적으로 비교하는 정렬"
   ]
  },
  {
   "cell_type": "code",
   "execution_count": 11,
   "metadata": {},
   "outputs": [],
   "source": [
    "# 선택정렬 , \n",
    "def selection_sort(data): \n",
    "    # 선택된 데이터\n",
    "    for index in range(len(data)-1):  # path의 기준 6개 기준(0 ~ 4)\n",
    "        print(index)                  #  \n",
    "        lower = index     # 첫번째 인덱스를 lower로\n",
    "        \n",
    "        # 선택된 데이터를 제외한 나머지 비교대상이 데이터\n",
    "        for index2 in range(index, len(data)): # 1 기준일때 (2~5), 자기자신과 한번 더 비교\n",
    "            if data[lower] > data[index2]:\n",
    "                lower = index2\n",
    "        data[index], data[lower] = data[lower], data[index]\n",
    "                \n",
    "        #print(data)\n",
    "        \n",
    "    return data"
   ]
  },
  {
   "cell_type": "code",
   "execution_count": 17,
   "metadata": {},
   "outputs": [],
   "source": [
    "def selection_sort(data): \n",
    "    for i in range(len(data)):\n",
    "        min_index = i # 선택된 위치가 가장 작은값으로 기준\n",
    "            \n",
    "        #선택되지 않은 남은 데이터를 비교하는 작업\n",
    "        for j in range(i+1, len(data)): # len(data) : 끝까지 비교\n",
    "            if data[min_index] > data[j]:\n",
    "                min_index = j\n",
    "                # swap 자리바꿈\n",
    "        data[i], data[min_index] = data[min_index], data[i] # 비교가 끝난 뒤 자리 바꿈\n",
    "    return data"
   ]
  },
  {
   "cell_type": "code",
   "execution_count": 18,
   "metadata": {},
   "outputs": [
    {
     "data": {
      "text/plain": [
       "[25, 36, 57, 14, 70, 77, 82, 41, 22, 99]"
      ]
     },
     "execution_count": 18,
     "metadata": {},
     "output_type": "execute_result"
    }
   ],
   "source": [
    "# 데이터 준비\n",
    "import random\n",
    "data_list = random.sample(range(100), 10) #100개중 10개 무작위 샘플링\n",
    "data_list"
   ]
  },
  {
   "cell_type": "code",
   "execution_count": 19,
   "metadata": {},
   "outputs": [
    {
     "data": {
      "text/plain": [
       "[14, 22, 25, 36, 41, 57, 70, 77, 82, 99]"
      ]
     },
     "execution_count": 19,
     "metadata": {},
     "output_type": "execute_result"
    }
   ],
   "source": [
    "selection_sort(data_list)"
   ]
  },
  {
   "cell_type": "markdown",
   "metadata": {},
   "source": [
    "### 2. 삽입정렬(Insertion Sort)\n",
    "- 임의의 키값을 삽입한 후 삽입된 키값과 기억공간에 저장된 키값을 비교하는 정렬"
   ]
  },
  {
   "cell_type": "code",
   "execution_count": 24,
   "metadata": {},
   "outputs": [],
   "source": [
    "def insertion_sort(data):\n",
    "    # path\n",
    "    for i in range(1, len(data)): # 데이터 수 만큼 반복\n",
    "        for j in range(i, 0, -1): #index시작 0은 자신위치 -1은 앞으로\n",
    "            if data[j] < data[j-1]: #data[j-1] : j의 앞에 값\n",
    "                data[j], data[j-1] = data[j-1], data[j]\n",
    "            else:\n",
    "                break\n",
    "            \n",
    "    return data       "
   ]
  },
  {
   "cell_type": "code",
   "execution_count": 25,
   "metadata": {},
   "outputs": [],
   "source": [
    "# 정렬할 데이터 준비 : data_list에 10개의 난수 만들기\n",
    "from random import *\n",
    "rand_data_list = list()\n",
    "\n",
    "for num in range(10):\n",
    "    rand_data_list.append(randint(1, 100)) #1과 1사이의 정수 난수 발생"
   ]
  },
  {
   "cell_type": "code",
   "execution_count": 26,
   "metadata": {},
   "outputs": [
    {
     "data": {
      "text/plain": [
       "[89, 33, 81, 89, 30, 49, 29, 23, 74, 37]"
      ]
     },
     "execution_count": 26,
     "metadata": {},
     "output_type": "execute_result"
    }
   ],
   "source": [
    "rand_data_list"
   ]
  },
  {
   "cell_type": "code",
   "execution_count": 27,
   "metadata": {},
   "outputs": [
    {
     "data": {
      "text/plain": [
       "[23, 29, 30, 33, 37, 49, 74, 81, 89, 89]"
      ]
     },
     "execution_count": 27,
     "metadata": {},
     "output_type": "execute_result"
    }
   ],
   "source": [
    "insertion_sort(rand_data_list)"
   ]
  },
  {
   "cell_type": "code",
   "execution_count": 28,
   "metadata": {},
   "outputs": [],
   "source": [
    "# 삽입정렬 2\n",
    "def insertion_sort2(data):\n",
    "    # 키값을 얻어오는 반복문\n",
    "    for i in range(1, len(data)): # 키값은 하나 큰거 부터\n",
    "        key = data[i]\n",
    "        \n",
    "        # key 값앞에 데이터를 비교해서 자리바꿈하는 반복문\n",
    "        for j in range(i, 0, -1): # i부터 0까지 -1 씩 감소해서 반복\n",
    "            if key < data[j-1]: # j-1 하면 0일대 -1과 비교 하기 땜에\n",
    "                data[j-1], data[j] = data[j], data[j-1]\n",
    "            else:\n",
    "                break\n",
    "    return data"
   ]
  },
  {
   "cell_type": "code",
   "execution_count": 29,
   "metadata": {},
   "outputs": [],
   "source": [
    "from random import *\n",
    "rand_data_list = list()\n",
    "\n",
    "for num in range(10):\n",
    "    rand_data_list.append(randint(1, 100))"
   ]
  },
  {
   "cell_type": "code",
   "execution_count": 30,
   "metadata": {},
   "outputs": [
    {
     "data": {
      "text/plain": [
       "[71, 92, 9, 26, 32, 64, 58, 46, 46, 97]"
      ]
     },
     "execution_count": 30,
     "metadata": {},
     "output_type": "execute_result"
    }
   ],
   "source": [
    "rand_data_list"
   ]
  },
  {
   "cell_type": "code",
   "execution_count": 31,
   "metadata": {},
   "outputs": [
    {
     "data": {
      "text/plain": [
       "[9, 26, 32, 46, 46, 58, 64, 71, 92, 97]"
      ]
     },
     "execution_count": 31,
     "metadata": {},
     "output_type": "execute_result"
    }
   ],
   "source": [
    "insertion_sort2(rand_data_list)"
   ]
  },
  {
   "cell_type": "markdown",
   "metadata": {},
   "source": [
    "### 3. 버블정렬(Bubble Sort)\n",
    "- 이웃하는(인접된) 키값을 비교하며 자리바꿈을 이용하는 정렬"
   ]
  },
  {
   "cell_type": "code",
   "execution_count": 34,
   "metadata": {},
   "outputs": [
    {
     "name": "stdout",
     "output_type": "stream",
     "text": [
      "[62, 12, 15, 14, 57, 88, 47, 37, 66, 39]"
     ]
    }
   ],
   "source": [
    "import random\n",
    "# sample (추출데이터범위, 추출데이터수), 샘플링\n",
    "data_list = random.sample(range(100), 10)\n",
    "print(data_list, end = \"\")"
   ]
  },
  {
   "cell_type": "code",
   "execution_count": 39,
   "metadata": {},
   "outputs": [],
   "source": [
    "def bubble_sort(data):\n",
    "    # path 처리를 위한 반복문\n",
    "    for index in range(len(data)):\n",
    "        swap = 0 # 처리교환여부를 페크하는 스위칭 변수\n",
    "        # 이웃하는 자료와의 비교를 통한 자리바꿈을 수행할 반복문\n",
    "        for index2 in range(len(data)-1-index): \n",
    "            if data[index2] > data[index2+1]: # 자기 인덱스와 하나위랑 비교해서 바꿈.\n",
    "                data[index2], data[index2+1] = data[index2+1], data[index2]\n",
    "                swap = 1\n",
    "        \n",
    "        if swap == 0:\n",
    "            break\n",
    "    \n",
    "    return data"
   ]
  },
  {
   "cell_type": "code",
   "execution_count": 40,
   "metadata": {},
   "outputs": [
    {
     "data": {
      "text/plain": [
       "[12, 14, 15, 37, 39, 47, 57, 62, 66, 88]"
      ]
     },
     "execution_count": 40,
     "metadata": {},
     "output_type": "execute_result"
    }
   ],
   "source": [
    "bubble_sort(data_list)"
   ]
  },
  {
   "cell_type": "markdown",
   "metadata": {},
   "source": [
    "### 4. 퀵정렬(Quick Sort)\n",
    "- 기준점(pivot)을 정해서, 기준점보다 작은데이터는 왼쪽(left), 큰 데이터는 오른쪽(right)으로 모으는 작업을 수행하여 정렬하는 함수.\n",
    "- 재귀용법을 통해 작업을 수행 ( 자신 함수에서 자신을 호출 )\n",
    "- 일반적인 상황에서 가장 많이 사용되는 정렬 알고리즘 중 하나\n",
    "- 병합 정렬과 더불어 대부분의 프로그래밍이 언어의 정렬 라이브러리리의 근간이 되는 알고리즘"
   ]
  },
  {
   "cell_type": "code",
   "execution_count": 41,
   "metadata": {},
   "outputs": [
    {
     "data": {
      "text/plain": [
       "[57, 29, 73, 35, 38, 9, 28, 90, 20, 10]"
      ]
     },
     "execution_count": 41,
     "metadata": {},
     "output_type": "execute_result"
    }
   ],
   "source": [
    "# 데이터 생성\n",
    "import random\n",
    "data_list = random.sample(range(100), 10)\n",
    "data_list"
   ]
  },
  {
   "cell_type": "code",
   "execution_count": 43,
   "metadata": {},
   "outputs": [],
   "source": [
    "def quick_sort(data):\n",
    "    # 원소가 1개인 경우\n",
    "    if len(data) <= 1:\n",
    "        return data\n",
    "    \n",
    "    # 병합정렬의 기반이 된다.\n",
    "    left, right = list(), list() # 몇개의 데이터가 올지모르니\n",
    "    \n",
    "    # 기준점(pivot)\n",
    "    pivot = data[0]\n",
    "    \n",
    "    # pivot 기준으로 작은 데이터는 left, 큰 데이터는 right\n",
    "    for index in range(1, len(data)):\n",
    "        if pivot > data[index]: # pivot보다 작은 데이터 라면\n",
    "            left.append(data[index])\n",
    "        else:\n",
    "            right.append(data[index])\n",
    "    \n",
    "    return quick_sort(left) + [pivot] + quick_sort(right)"
   ]
  },
  {
   "cell_type": "code",
   "execution_count": 44,
   "metadata": {},
   "outputs": [
    {
     "data": {
      "text/plain": [
       "[9, 10, 20, 28, 29, 35, 38, 57, 73, 90]"
      ]
     },
     "execution_count": 44,
     "metadata": {},
     "output_type": "execute_result"
    }
   ],
   "source": [
    "quick_sort(data_list)"
   ]
  },
  {
   "cell_type": "code",
   "execution_count": 45,
   "metadata": {},
   "outputs": [],
   "source": [
    "# 퀵을 더 줄이기\n",
    "def quick_sort2(data):\n",
    "    # 원소가 1개인 경우\n",
    "    if len(data) <= 1:\n",
    "        return data\n",
    "    \n",
    "    # 병합정렬의 기반이 된다.\n",
    "    #left, right = list(), list() # 몇개의 데이터가 올지모르니\n",
    "    \n",
    "    # 기준점(pivot)\n",
    "    pivot = data[0]\n",
    "    tail = data[1:] # range(1, len(data))와 동일\n",
    "    \n",
    "    left = [x for x in tail if x <= pivot]\n",
    "    right = [x for x in tail if x > pivot]\n",
    "    \n",
    "    return quick_sort2(left) + [pivot] + quick_sort2(right)"
   ]
  },
  {
   "cell_type": "code",
   "execution_count": 48,
   "metadata": {},
   "outputs": [
    {
     "data": {
      "text/plain": [
       "[3, 4, 5, 14, 45, 63, 80, 90, 92]"
      ]
     },
     "execution_count": 48,
     "metadata": {},
     "output_type": "execute_result"
    }
   ],
   "source": [
    "quick_sort2([14, 5, 92, 45, 63, 4, 80, 90, 3])"
   ]
  },
  {
   "cell_type": "markdown",
   "metadata": {},
   "source": [
    "### 5. 이진탐색(Binary Search)\n",
    "- 탐색할 자료를 둘로 나누어 해당 데이터가 있을만한 곳을 탐색하는 방법\n",
    "- 선행조건 : 반드시 정렬이 되어있어야 한다.\n",
    "- 구할방법 : 중앙 = ( 시작 + 마지막 ) / 2\n",
    "- 중앙에 위치한 값과 찾고자 하는 값을 비교하는 작업을 수행한다.\n",
    "        이때, 중앙값이 찾고자하는 값보다 크면 마지막값 = 중앙값 - 1\n",
    "        중앙값이 찾고자하는 값보다 작으면 시작값 = 중앙값 + 1    "
   ]
  },
  {
   "cell_type": "code",
   "execution_count": 52,
   "metadata": {},
   "outputs": [],
   "source": [
    "def binary_search(data, search):\n",
    "    print(data)\n",
    "    if len(data) == 1:\n",
    "        if data[0] == search:\n",
    "            return True\n",
    "        else:\n",
    "            return False\n",
    "    \n",
    "    if len(data) == 0:\n",
    "        return False\n",
    "    \n",
    "    # 중앙값\n",
    "    medium = len(data) // 2 # 파이썬에서 가능\n",
    "    if search == data[medium]:\n",
    "        return True\n",
    "    if search > data[medium]:\n",
    "        return binary_search(data[medium:], search) # 재귀로\n",
    "    else:\n",
    "        return binary_search(data[:medium], search)    "
   ]
  },
  {
   "cell_type": "code",
   "execution_count": 53,
   "metadata": {},
   "outputs": [],
   "source": [
    "import random\n",
    "data_list = random.sample(range(100), 11)\n",
    "data_list.sort() # 이진탐색은 정렬이 되어 있어야 한다."
   ]
  },
  {
   "cell_type": "code",
   "execution_count": 54,
   "metadata": {},
   "outputs": [
    {
     "data": {
      "text/plain": [
       "[21, 37, 40, 43, 49, 51, 70, 72, 84, 89, 91]"
      ]
     },
     "execution_count": 54,
     "metadata": {},
     "output_type": "execute_result"
    }
   ],
   "source": [
    "data_list"
   ]
  },
  {
   "cell_type": "code",
   "execution_count": 58,
   "metadata": {},
   "outputs": [
    {
     "name": "stdout",
     "output_type": "stream",
     "text": [
      "[21, 37, 40, 43, 49, 51, 70, 72, 84, 89, 91]\n",
      "[21, 37, 40, 43, 49]\n",
      "[21, 37]\n"
     ]
    },
    {
     "data": {
      "text/plain": [
       "True"
      ]
     },
     "execution_count": 58,
     "metadata": {},
     "output_type": "execute_result"
    }
   ],
   "source": [
    "binary_search(data_list, 37)"
   ]
  },
  {
   "cell_type": "code",
   "execution_count": 60,
   "metadata": {},
   "outputs": [],
   "source": [
    "# 사용자로부터 데이터의 개수와 찾고자하는 값 그리고 데이터를 입력받아 \n",
    "# 해당 값의 위치를 출력하는 이진탐색프로그램을 구현하시오.\n",
    "\n",
    "def binary_search2(data, search, start, end):\n",
    "    if start > end: # 해당 값이 존재 하지 않는다.\n",
    "        return None\n",
    "    \n",
    "    # 중앙값\n",
    "    mid = ( start + end ) // 2\n",
    "    \n",
    "    # 중앙값을 기준으로 찾고자하는 값과 비교하는 작업\n",
    "    if data[mid] == search:\n",
    "        return mid # 위치 봔환\n",
    "    elif data[mid] > search: # 찾고자 하는 값이 중앙값보다 작으면\n",
    "        return binary_search2(data, search, start, mid-1 )\n",
    "    else:# data[mid] < search: # 찾고자 하는 값이 중앙값보다 크면\n",
    "        return binary_search2(data, search, mid+1, end )      "
   ]
  },
  {
   "cell_type": "code",
   "execution_count": 68,
   "metadata": {},
   "outputs": [
    {
     "name": "stdout",
     "output_type": "stream",
     "text": [
      "10 7\n",
      "1 3 5 6 7 8 9 10 11 12\n",
      "5\n"
     ]
    }
   ],
   "source": [
    "# 키보드를 통해 입력할 데이터의 개수와 찾을 값을 받아서 처리\n",
    "n, search = list(map(int, input().split()))\n",
    "#데이터 개수만큼 입력받는 작업\n",
    "data = list(map(int, input().split())) #함수 묶어서 사용 -> map()\n",
    "\n",
    "# 이진탐색\n",
    "result = binary_search2(data, search, 0, n-1) #-> 10이어도 9니깐\n",
    "if result == None:\n",
    "    print(\"찾는값이 존재하지 않습니다.\")\n",
    "else:\n",
    "    print(result + 1) # ->"
   ]
  },
  {
   "cell_type": "code",
   "execution_count": 69,
   "metadata": {},
   "outputs": [
    {
     "name": "stdout",
     "output_type": "stream",
     "text": [
      "선택정렬 선능 측정 :  23.20594334602356\n",
      "기본 정렬 선능 측정 :  0.0010106563568115234\n"
     ]
    }
   ],
   "source": [
    "# 선택정렬과 내장함수(sort())를 이용한 수행시간을 비교하는 작업\n",
    "from random import randint\n",
    "import time\n",
    "\n",
    "data = []\n",
    "# 리스트안에 10,000개의 정수를 삽입\n",
    "for _ in range(10000):\n",
    "    # 1 ~ 100 사이의 랜덤한 정수\n",
    "    data.append(randint(1, 100))\n",
    "    \n",
    "# 선택정렬 프로그램 성능 측정(시간복잡도)\n",
    "start_time = time.time()\n",
    "\n",
    "# 선택정렬을 통해 데이터를 정렬하는 함수\n",
    "for i in range(len(data)):\n",
    "    min_index = i\n",
    "    for j in range(i+1, len(data)):\n",
    "        if data[min_index] > data[j]:\n",
    "            data[min_index] = j\n",
    "        data[i], data[min_index] = data[min_index], data[i]\n",
    "        \n",
    "end_time = time.time()\n",
    "\n",
    "# 수행시간 출력하는 작업\n",
    "print(\"선택정렬 선능 측정 : \", end_time - start_time)\n",
    "\n",
    "########################################################################\n",
    "\n",
    "# 내장 라이브러리 사용\n",
    "\n",
    "data = []\n",
    "# 리스트안에 10,000개의 정수를 삽입\n",
    "for _ in range(10000):\n",
    "    # 1 ~ 100 사이의 랜덤한 정수\n",
    "    data.append(randint(1, 100))\n",
    "    \n",
    "# 기본 라이브러리를 활용한 정렬\n",
    "start_time = time.time()\n",
    "\n",
    "# sort\n",
    "data.sort()\n",
    "        \n",
    "end_time = time.time()\n",
    "\n",
    "# 수행시간 출력하는 작업\n",
    "print(\"기본 정렬 선능 측정 : \", end_time - start_time)"
   ]
  },
  {
   "cell_type": "code",
   "execution_count": null,
   "metadata": {},
   "outputs": [],
   "source": []
  }
 ],
 "metadata": {
  "kernelspec": {
   "display_name": "Python 3",
   "language": "python",
   "name": "python3"
  },
  "language_info": {
   "codemirror_mode": {
    "name": "ipython",
    "version": 3
   },
   "file_extension": ".py",
   "mimetype": "text/x-python",
   "name": "python",
   "nbconvert_exporter": "python",
   "pygments_lexer": "ipython3",
   "version": "3.7.3"
  }
 },
 "nbformat": 4,
 "nbformat_minor": 2
}
